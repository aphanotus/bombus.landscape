{
 "cells": [
  {
   "cell_type": "markdown",
   "metadata": {},
   "source": [
    "**Third notebook in analysis** \n",
    "\n",
    "**Creates OTU feature table**"
   ]
  },
  {
   "cell_type": "code",
   "execution_count": 1,
   "metadata": {},
   "outputs": [],
   "source": [
    "import os\n",
    "from qiime2.plugins import feature_table,alignment, phylogeny, diversity\n",
    "from qiime2.plugins.vsearch.methods import cluster_features_de_novo\n",
    "from qiime2.plugins.feature_classifier.methods import classify_sklearn\n",
    "from qiime2.plugins.taxa.methods import filter_table\n",
    "from qiime2 import Artifact, Metadata, Visualization\n",
    "import pandas as pd\n",
    "from qiime2.plugins.feature_table.methods import filter_samples\n",
    "import seaborn as sns\n",
    "import matplotlib.pyplot as plt\n",
    "%matplotlib inline\n",
    "datapath = '../data'"
   ]
  },
  {
   "cell_type": "markdown",
   "metadata": {},
   "source": [
    "# QIIME Processing"
   ]
  },
  {
   "cell_type": "markdown",
   "metadata": {},
   "source": [
    "The feature table, representative sequences, and taxonomy were all calculated separately on the Colby HPC cluster. \n",
    "\n",
    "1. Read the feature table, metadata, rep seqs and taxonomy\n",
    "\n",
    "2. Filter feature table to exclude things not in the metadata\n",
    "\n",
    "3. Use mafft to align the representative sequences \n",
    "\n",
    "4. Use fasttree to make an unrooted tree from the alignment, then midpoint root it "
   ]
  },
  {
   "cell_type": "code",
   "execution_count": null,
   "metadata": {},
   "outputs": [],
   "source": []
  },
  {
   "cell_type": "code",
   "execution_count": 10,
   "metadata": {},
   "outputs": [
    {
     "name": "stderr",
     "output_type": "stream",
     "text": [
      "/Users/markyoung/miniforge3/envs/bombus/lib/python3.10/site-packages/qiime2/metadata/metadata.py:610: FutureWarning: Setting an item of incompatible dtype is deprecated and will raise an error in a future version of pandas. Value '[nan nan nan nan nan nan nan nan nan nan nan nan nan nan nan nan nan nan\n",
      " nan nan nan nan nan nan nan nan nan nan nan nan nan nan nan nan nan nan\n",
      " nan nan nan nan nan nan nan nan nan nan nan nan nan nan nan nan nan nan\n",
      " nan nan nan nan nan nan nan nan nan nan nan nan nan nan nan nan nan nan\n",
      " nan nan nan]' has dtype incompatible with float64, please explicitly cast to a compatible dtype first.\n",
      "  series[missing.index] = missing\n",
      "/Users/markyoung/miniforge3/envs/bombus/lib/python3.10/site-packages/qiime2/metadata/metadata.py:610: FutureWarning: Setting an item of incompatible dtype is deprecated and will raise an error in a future version of pandas. Value '[nan nan nan nan nan nan nan nan nan nan nan nan nan nan nan nan nan nan\n",
      " nan nan nan nan nan nan nan nan nan nan nan nan nan nan nan nan nan nan\n",
      " nan nan nan nan nan nan nan nan nan nan nan nan nan nan nan nan nan nan\n",
      " nan nan nan nan nan nan nan nan nan nan nan nan nan nan nan nan nan nan\n",
      " nan nan nan]' has dtype incompatible with float64, please explicitly cast to a compatible dtype first.\n",
      "  series[missing.index] = missing\n",
      "/Users/markyoung/miniforge3/envs/bombus/lib/python3.10/site-packages/qiime2/metadata/metadata.py:610: FutureWarning: Setting an item of incompatible dtype is deprecated and will raise an error in a future version of pandas. Value '[nan nan nan nan nan nan nan nan nan nan nan nan nan nan nan nan nan nan\n",
      " nan nan nan nan nan nan nan nan nan nan nan nan nan nan nan nan nan nan\n",
      " nan nan nan nan nan nan nan nan nan nan nan nan nan nan nan nan nan nan\n",
      " nan nan nan nan nan nan nan nan nan nan nan nan nan nan nan nan nan nan\n",
      " nan nan nan nan nan nan nan nan nan nan nan nan nan nan nan nan nan nan\n",
      " nan nan nan nan nan nan nan nan nan nan nan nan nan nan nan nan nan nan\n",
      " nan nan nan nan nan nan nan nan nan nan nan nan nan nan nan nan nan nan\n",
      " nan nan nan nan nan nan nan nan nan nan nan nan nan nan nan nan nan nan\n",
      " nan nan nan nan nan nan nan nan nan nan nan nan nan nan nan nan nan nan\n",
      " nan nan nan nan nan nan nan nan nan nan nan nan nan nan nan nan nan nan\n",
      " nan nan nan nan nan nan nan nan nan nan nan nan nan nan nan nan nan nan\n",
      " nan nan nan nan nan nan nan nan nan nan nan nan nan nan nan nan nan nan\n",
      " nan nan nan nan nan nan nan nan nan nan nan nan nan nan nan nan nan nan\n",
      " nan nan nan nan nan nan nan nan nan nan nan nan nan nan nan nan nan nan\n",
      " nan nan nan nan nan nan nan nan nan nan nan nan nan nan nan nan nan nan\n",
      " nan nan nan nan nan nan nan nan nan nan nan nan nan nan nan nan nan nan\n",
      " nan nan nan nan nan nan nan nan nan nan nan nan nan nan nan nan nan nan\n",
      " nan nan nan nan nan nan nan nan nan nan nan nan nan nan nan nan nan nan\n",
      " nan nan nan nan nan nan nan nan nan nan nan nan nan nan nan nan nan nan\n",
      " nan nan nan nan nan nan]' has dtype incompatible with float64, please explicitly cast to a compatible dtype first.\n",
      "  series[missing.index] = missing\n",
      "/Users/markyoung/miniforge3/envs/bombus/lib/python3.10/site-packages/qiime2/metadata/metadata.py:610: FutureWarning: Setting an item of incompatible dtype is deprecated and will raise an error in a future version of pandas. Value '[nan nan nan nan nan nan nan nan nan nan nan nan nan nan nan nan nan nan\n",
      " nan nan nan nan nan nan nan nan nan nan nan nan nan nan nan nan nan nan\n",
      " nan nan nan nan nan nan nan nan nan nan nan nan nan nan nan nan nan nan\n",
      " nan nan nan nan nan nan nan nan nan nan nan nan nan nan nan nan nan nan\n",
      " nan nan nan nan nan nan nan nan nan nan nan nan nan nan nan nan nan nan\n",
      " nan nan nan nan nan nan nan nan nan nan nan nan nan nan nan nan nan nan\n",
      " nan nan nan nan nan nan nan nan nan nan nan nan nan nan nan nan nan nan\n",
      " nan nan nan nan nan nan nan nan nan nan nan nan nan nan nan nan nan nan\n",
      " nan nan nan nan nan nan nan nan nan nan nan nan nan nan nan nan nan nan\n",
      " nan nan nan nan nan nan nan nan nan nan nan nan nan nan nan nan nan nan\n",
      " nan nan nan nan nan nan nan nan nan nan nan nan nan nan nan nan nan nan\n",
      " nan nan nan nan nan nan nan nan nan nan nan nan nan nan nan nan nan nan\n",
      " nan nan nan nan nan nan nan nan nan nan nan nan nan nan nan nan nan nan\n",
      " nan nan nan nan nan nan nan nan nan nan nan nan nan nan nan nan nan nan\n",
      " nan nan nan nan nan nan nan nan nan nan nan nan nan nan nan nan nan nan\n",
      " nan nan nan nan nan nan nan nan nan nan nan nan nan nan nan nan nan nan\n",
      " nan nan nan nan nan nan nan nan nan nan nan nan nan nan nan nan nan nan\n",
      " nan nan nan nan nan nan nan nan nan nan nan nan nan nan nan nan nan nan\n",
      " nan nan nan nan nan nan nan nan nan nan nan nan nan nan nan nan nan nan\n",
      " nan nan nan nan nan nan nan nan nan nan nan nan nan nan nan nan nan nan\n",
      " nan nan nan nan nan nan nan nan nan nan nan nan nan]' has dtype incompatible with float64, please explicitly cast to a compatible dtype first.\n",
      "  series[missing.index] = missing\n",
      "/Users/markyoung/miniforge3/envs/bombus/lib/python3.10/site-packages/qiime2/metadata/metadata.py:610: FutureWarning: Setting an item of incompatible dtype is deprecated and will raise an error in a future version of pandas. Value '[nan nan nan nan nan nan nan nan nan nan nan nan nan nan nan nan nan nan\n",
      " nan nan nan nan nan nan nan nan nan nan nan nan nan nan nan nan nan nan\n",
      " nan nan nan nan nan nan nan nan nan nan nan nan nan nan nan nan nan nan\n",
      " nan nan nan nan nan nan nan nan nan nan nan nan nan nan nan nan nan nan\n",
      " nan nan nan nan nan nan nan nan nan nan nan nan nan nan nan nan nan nan\n",
      " nan nan nan nan nan nan nan nan nan nan nan nan nan nan nan nan nan nan\n",
      " nan nan nan nan nan nan nan nan nan nan nan nan nan nan nan nan nan nan\n",
      " nan nan nan nan nan nan nan nan nan nan nan nan nan nan nan nan nan nan\n",
      " nan nan nan nan nan nan nan nan nan nan nan nan nan nan nan nan nan nan\n",
      " nan nan nan nan nan nan nan nan nan nan nan nan nan nan nan nan nan nan\n",
      " nan nan nan nan nan nan nan nan nan nan nan nan nan nan nan nan nan nan\n",
      " nan nan nan nan nan nan nan nan nan nan nan nan nan nan nan nan nan nan\n",
      " nan nan nan nan nan nan nan nan nan nan nan nan nan nan nan nan nan nan\n",
      " nan nan nan nan nan nan nan nan nan nan nan nan nan nan nan nan nan nan\n",
      " nan nan nan nan nan nan nan nan nan nan nan nan nan nan nan nan nan nan\n",
      " nan nan nan nan nan nan nan nan nan nan nan nan nan nan nan nan nan nan\n",
      " nan nan nan nan nan nan nan nan nan nan nan nan nan nan nan nan nan nan\n",
      " nan nan nan nan nan nan nan nan nan nan nan nan nan nan nan nan nan nan\n",
      " nan nan nan nan nan nan nan nan nan nan nan nan nan nan nan nan nan nan\n",
      " nan nan nan nan nan nan nan nan nan nan nan nan nan nan nan nan nan nan\n",
      " nan nan nan nan nan nan nan nan nan nan nan nan nan nan nan nan nan nan\n",
      " nan nan nan nan nan nan nan nan nan nan nan nan nan nan nan nan nan nan\n",
      " nan nan nan nan nan nan nan nan nan nan nan nan nan nan nan nan nan nan\n",
      " nan nan nan nan nan nan nan nan nan nan nan nan nan nan nan nan nan nan\n",
      " nan nan nan nan nan nan nan nan nan nan nan nan nan nan nan nan nan nan\n",
      " nan nan nan nan nan nan nan nan nan nan nan nan nan nan nan nan nan nan\n",
      " nan nan nan nan nan nan nan nan nan nan nan nan nan nan nan nan nan nan\n",
      " nan nan nan nan nan nan nan nan nan nan nan nan nan nan nan nan nan nan\n",
      " nan nan nan nan nan nan nan nan nan nan nan nan nan nan nan nan nan nan\n",
      " nan nan nan nan nan nan nan nan nan nan nan nan nan nan nan nan nan nan\n",
      " nan nan nan nan nan nan nan nan nan nan nan nan nan nan nan nan nan nan\n",
      " nan nan nan nan nan nan nan nan nan nan nan nan nan nan nan nan nan nan\n",
      " nan nan nan nan nan]' has dtype incompatible with float64, please explicitly cast to a compatible dtype first.\n",
      "  series[missing.index] = missing\n",
      "/Users/markyoung/miniforge3/envs/bombus/lib/python3.10/site-packages/qiime2/metadata/metadata.py:610: FutureWarning: Setting an item of incompatible dtype is deprecated and will raise an error in a future version of pandas. Value '[nan nan nan nan nan nan nan nan nan nan nan nan nan nan nan nan nan nan\n",
      " nan nan nan nan nan nan nan nan nan nan nan nan nan nan nan nan nan nan\n",
      " nan nan nan nan nan nan nan nan nan nan nan nan nan nan nan nan nan nan\n",
      " nan nan nan nan nan nan nan nan nan nan nan nan nan nan nan nan nan nan\n",
      " nan nan nan nan nan nan nan nan nan nan nan nan nan nan nan nan nan nan\n",
      " nan nan nan nan nan nan nan nan nan nan nan nan nan nan nan nan nan nan\n",
      " nan nan nan nan nan nan nan nan nan nan nan nan nan nan nan nan nan nan\n",
      " nan nan nan nan nan nan nan nan nan nan nan nan nan nan nan nan nan nan\n",
      " nan nan nan nan nan nan nan nan nan nan nan nan nan nan nan nan nan nan\n",
      " nan nan nan nan nan nan nan nan nan nan nan nan nan nan nan nan nan nan\n",
      " nan nan nan nan nan nan nan nan nan nan nan nan nan nan nan nan nan nan\n",
      " nan nan nan nan nan nan nan nan nan nan nan nan nan nan nan nan nan nan\n",
      " nan nan nan nan nan nan nan nan nan nan nan nan nan nan nan nan nan nan\n",
      " nan nan nan nan nan nan nan nan nan nan nan nan nan nan nan nan nan nan\n",
      " nan nan nan nan nan nan nan nan nan nan nan nan nan nan nan nan nan nan\n",
      " nan nan nan nan nan nan nan nan nan nan nan nan nan nan nan nan nan nan\n",
      " nan nan nan nan nan nan nan nan nan nan nan nan nan nan nan nan nan nan\n",
      " nan nan nan nan nan nan nan nan nan nan nan nan nan nan nan nan nan nan\n",
      " nan nan nan nan nan nan nan nan nan nan nan nan nan nan nan nan nan nan\n",
      " nan nan nan nan nan nan nan nan nan nan nan nan nan nan nan nan nan nan\n",
      " nan nan nan nan nan nan nan nan nan nan nan nan nan nan nan nan nan nan\n",
      " nan nan nan nan nan nan nan nan nan nan nan nan nan nan nan nan nan nan\n",
      " nan nan nan nan nan nan nan nan nan nan nan nan nan nan nan nan nan nan\n",
      " nan nan nan nan nan nan nan nan nan nan nan nan nan nan nan nan nan nan\n",
      " nan nan nan nan nan nan nan nan nan nan nan nan nan nan nan nan nan nan\n",
      " nan nan nan nan nan nan nan nan nan nan nan nan nan nan nan nan nan nan\n",
      " nan nan nan nan nan nan nan nan nan nan nan nan nan nan nan nan nan nan\n",
      " nan nan nan nan nan nan nan nan nan nan nan nan nan nan nan nan nan nan\n",
      " nan nan nan nan nan nan nan nan nan nan nan nan nan nan nan nan nan nan\n",
      " nan nan nan nan nan nan nan nan nan nan nan nan nan nan nan nan nan nan\n",
      " nan nan nan nan nan nan nan nan nan nan nan nan nan nan nan nan nan nan\n",
      " nan nan nan nan nan nan nan nan nan nan nan nan nan nan nan nan nan nan\n",
      " nan nan nan nan nan]' has dtype incompatible with float64, please explicitly cast to a compatible dtype first.\n",
      "  series[missing.index] = missing\n",
      "/Users/markyoung/miniforge3/envs/bombus/lib/python3.10/site-packages/qiime2/metadata/metadata.py:610: FutureWarning: Setting an item of incompatible dtype is deprecated and will raise an error in a future version of pandas. Value '[nan nan nan nan nan nan nan nan nan nan nan nan nan nan nan nan nan nan\n",
      " nan nan nan nan nan nan nan nan nan nan nan nan nan nan nan nan nan nan\n",
      " nan nan nan nan nan nan nan nan nan nan nan nan nan nan nan nan nan nan\n",
      " nan nan nan nan nan nan nan nan nan nan nan nan nan nan nan nan nan nan\n",
      " nan nan nan nan nan nan nan nan nan nan nan nan nan nan nan nan nan nan\n",
      " nan nan nan nan nan nan nan nan nan nan nan nan nan nan nan nan nan nan\n",
      " nan nan nan nan nan nan nan nan nan nan nan nan nan nan nan nan nan nan\n",
      " nan nan nan nan nan nan nan nan nan nan nan nan nan nan nan nan nan nan\n",
      " nan nan nan nan nan nan nan nan nan nan]' has dtype incompatible with float64, please explicitly cast to a compatible dtype first.\n",
      "  series[missing.index] = missing\n",
      "/Users/markyoung/miniforge3/envs/bombus/lib/python3.10/site-packages/qiime2/metadata/metadata.py:610: FutureWarning: Setting an item of incompatible dtype is deprecated and will raise an error in a future version of pandas. Value '[nan nan nan nan nan nan nan nan nan nan nan nan nan nan nan nan nan nan\n",
      " nan nan nan nan nan nan nan nan nan nan nan nan nan nan nan nan nan nan\n",
      " nan nan nan nan nan nan nan nan nan nan nan nan nan nan nan nan nan nan\n",
      " nan nan nan nan nan nan nan nan nan nan nan nan nan nan nan nan nan nan\n",
      " nan nan nan nan nan nan nan nan nan nan nan nan nan nan nan nan nan nan\n",
      " nan nan nan nan nan nan nan nan nan nan nan nan nan nan nan nan nan nan\n",
      " nan nan nan nan nan nan nan nan nan nan nan nan nan nan nan nan nan nan\n",
      " nan nan nan nan nan nan nan nan nan nan nan nan nan nan nan nan nan nan]' has dtype incompatible with float64, please explicitly cast to a compatible dtype first.\n",
      "  series[missing.index] = missing\n",
      "/Users/markyoung/miniforge3/envs/bombus/lib/python3.10/site-packages/qiime2/metadata/metadata.py:610: FutureWarning: Setting an item of incompatible dtype is deprecated and will raise an error in a future version of pandas. Value '[nan nan nan nan nan nan nan]' has dtype incompatible with float64, please explicitly cast to a compatible dtype first.\n",
      "  series[missing.index] = missing\n"
     ]
    }
   ],
   "source": [
    "merged_table = Artifact.load(os.path.join(datapath, 'qiime/merged_table.qza'))\n",
    "### fix sample ids\n",
    "mt = merged_table.view(pd.DataFrame)\n",
    "# make qiime compliant\n",
    "mt.index = pd.Series(mt.index).apply(lambda x: str(x).replace(\"-\",\"_\"))\n",
    "# Fix mistakes on 2019 Submission Sheet\n",
    "mt.index = pd.Series(mt.index).apply(lambda x: 'FJ190628_006' if x == 'Fj190628_006' else x )\n",
    "mt.index = pd.Series(mt.index).apply(lambda x: 'FJ190827_005' if x == 'FJ190827_005_P3' else x )\n",
    "mt.index = pd.Series(mt.index).apply(lambda x: 'FJ190827_022' if x == 'FJ190827_005_P4' else x )\n",
    "\n",
    "# get metadata\n",
    "bombusMeta = Metadata(pd.read_csv(os.path.join(datapath, 'BombusMetadata.tsv'), \n",
    "            sep = '\\t').rename(columns = {'Unnamed: 0': 'SampleID'}).set_index('SampleID'))\n",
    "mt = Artifact.import_data('FeatureTable[Frequency]', mt)\n",
    "mt = feature_table.methods.filter_samples(table = mt, metadata = bombusMeta).filtered_table\n",
    "# read in ASVs\n",
    "rep_seqs = Artifact.load(os.path.join(datapath, 'qiime/merged_rep-seqs.qza'))\n"
   ]
  },
  {
   "cell_type": "markdown",
   "metadata": {
    "jp-MarkdownHeadingCollapsed": true,
    "tags": []
   },
   "source": [
    "## Collapse ASVs into OTU99s -- **skipping this now**"
   ]
  },
  {
   "cell_type": "code",
   "execution_count": 5,
   "metadata": {
    "tags": []
   },
   "outputs": [
    {
     "name": "stdout",
     "output_type": "stream",
     "text": [
      "Running external command line application. This may print messages to stdout and/or stderr.\n",
      "The command being run is below. This command cannot be manually re-run as it will depend on temporary files that no longer exist.\n",
      "\n",
      "Command: vsearch --cluster_size /var/folders/kk/vx23v0b52wv0sx4vqhls42dw0000gn/T/tmpl8s4xpgt --id 0.99 --centroids /var/folders/kk/vx23v0b52wv0sx4vqhls42dw0000gn/T/q2-DNAFASTAFormat-cefx5knk --uc /var/folders/kk/vx23v0b52wv0sx4vqhls42dw0000gn/T/tmpjmqq0mmq --qmask none --xsize --threads 0 --minseqlength 1 --fasta_width 0\n",
      "\n"
     ]
    },
    {
     "name": "stderr",
     "output_type": "stream",
     "text": [
      "vsearch v2.21.1_macos_x86_64, 8.0GB RAM, 4 cores\n",
      "https://github.com/torognes/vsearch\n",
      "\n",
      "Reading file /var/folders/kk/vx23v0b52wv0sx4vqhls42dw0000gn/T/tmpl8s4xpgt 100%\n",
      "1349183 nt in 3752 seqs, min 241, max 480, avg 360\n",
      "Sorting by abundance 100%\n",
      "Counting k-mers 100%\n",
      "Clustering 100%\n",
      "Sorting clusters 100%\n",
      "Writing clusters 100%\n",
      "Clusters: 2747 Size min 1, max 27, avg 1.4\n",
      "Singletons: 2286, 60.9% of seqs, 83.2% of clusters\n"
     ]
    }
   ],
   "source": [
    "mt_99, rep_seqs_99 = cluster_features_de_novo(sequences = rep_seqs,\n",
    "                                table = Artifact.import_data('FeatureTable[Frequency]', mt),\n",
    "                                perc_identity = .99,threads = 0) "
   ]
  },
  {
   "cell_type": "markdown",
   "metadata": {},
   "source": [
    "**filter samples from metadata** (not everything in the table is a unique sample)"
   ]
  },
  {
   "cell_type": "code",
   "execution_count": 6,
   "metadata": {},
   "outputs": [],
   "source": [
    "mt_99 = feature_table.methods.filter_samples(table = mt_99, metadata = bombusMeta).filtered_table"
   ]
  },
  {
   "cell_type": "markdown",
   "metadata": {},
   "source": [
    "### how much complexity is lost?"
   ]
  },
  {
   "cell_type": "code",
   "execution_count": 14,
   "metadata": {},
   "outputs": [],
   "source": [
    "otutable = mt_99.view(pd.DataFrame)\n",
    "asvtable = mt.loc[otutable.index]\n",
    "asvtable = asvtable[asvtable.sum()[asvtable.sum() >0].index].copy()"
   ]
  },
  {
   "cell_type": "markdown",
   "metadata": {},
   "source": [
    "slightly fewer OTUs per sample "
   ]
  },
  {
   "cell_type": "code",
   "execution_count": 50,
   "metadata": {},
   "outputs": [],
   "source": [
    "sample_diversity = pd.melt(pd.DataFrame({'asv':(asvtable>0).sum(axis=1),\n",
    "              'otu':(otutable >0).sum(axis=1)}),  var_name='feature', value_name='sample_richness')"
   ]
  },
  {
   "cell_type": "code",
   "execution_count": 59,
   "metadata": {},
   "outputs": [
    {
     "data": {
      "text/plain": [
       "feature\n",
       "asv    25.758621\n",
       "otu    21.283699\n",
       "Name: sample_richness, dtype: float64"
      ]
     },
     "execution_count": 59,
     "metadata": {},
     "output_type": "execute_result"
    }
   ],
   "source": [
    "sample_diversity.groupby('feature')['sample_richness'].mean()"
   ]
  },
  {
   "cell_type": "code",
   "execution_count": 55,
   "metadata": {},
   "outputs": [
    {
     "data": {
      "text/plain": [
       "<AxesSubplot: xlabel='sample_richness', ylabel='Count'>"
      ]
     },
     "execution_count": 55,
     "metadata": {},
     "output_type": "execute_result"
    },
    {
     "data": {
      "image/png": "[encoded data removed]",
      "text/plain": [
       "<Figure size 640x480 with 1 Axes>"
      ]
     },
     "metadata": {},
     "output_type": "display_data"
    }
   ],
   "source": [
    "fig, ax = plt.subplots()\n",
    "plt.xscale('log')\n",
    "sns.histplot(data = sample_diversity, x='sample_richness', hue = 'feature')"
   ]
  },
  {
   "cell_type": "markdown",
   "metadata": {},
   "source": [
    "One sample has crazy high OTU diversity! Its also C. bombi positive"
   ]
  },
  {
   "cell_type": "code",
   "execution_count": 49,
   "metadata": {
    "collapsed": true,
    "jupyter": {
     "outputs_hidden": true
    }
   },
   "outputs": [
    {
     "data": {
      "text/plain": [
       "species                                   tern\n",
       "caste                                        W\n",
       "ID_number                         MY180814-014\n",
       "date_of_collection                     8/14/18\n",
       "investigator                                TM\n",
       "collection_site           Allen Island; Garden\n",
       "Region                            Allen Island\n",
       "Latitude                               43.8755\n",
       "Longitude                             -69.3113\n",
       "Forage_Plant                               NaN\n",
       "Temperature                                NaN\n",
       "Wind                                       NaN\n",
       "r.H.                                       NaN\n",
       "H.I.                                       NaN\n",
       "Time_of_Day                                NaN\n",
       "date_of_dissection                     8/16/18\n",
       "date_of_DNA_extraction                10/18/18\n",
       "Concentration                             15.5\n",
       "Purity                                    1.94\n",
       "QPCR_Concentration                        31.3\n",
       "QPCR_Purity                               1.45\n",
       "DNA_Storage                             2018_2\n",
       "QPCR_Order                                89.0\n",
       "Year                                    2018.0\n",
       "CBombiConc                        11892.231857\n",
       "site_collapsed                    Allen_Island\n",
       "site_collapsed_10k                Allen_Island\n",
       "batch_conc                       379731.750838\n",
       "Positive                                   1.0\n",
       "Name: 24, dtype: object"
      ]
     },
     "execution_count": 49,
     "metadata": {},
     "output_type": "execute_result"
    }
   ],
   "source": [
    "bombusMeta.to_dataframe().loc[(asvtable>0).sum(axis=1).sort_values().index[-1]]"
   ]
  },
  {
   "cell_type": "markdown",
   "metadata": {},
   "source": [
    "slightly greater prevalence as well"
   ]
  },
  {
   "cell_type": "code",
   "execution_count": 58,
   "metadata": {},
   "outputs": [
    {
     "data": {
      "text/plain": [
       "feature\n",
       "asv    4.933654\n",
       "otu    5.686348\n",
       "Name: prevalence, dtype: float64"
      ]
     },
     "execution_count": 58,
     "metadata": {},
     "output_type": "execute_result"
    }
   ],
   "source": [
    "feature_prevalence = pd.melt(pd.DataFrame({'asv':(asvtable>0).sum(axis=0),\n",
    "              'otu':(otutable >0).sum(axis=0)}),  var_name='feature', value_name='prevalence')\n",
    "feature_prevalence.groupby('feature')['prevalence'].mean()"
   ]
  },
  {
   "cell_type": "markdown",
   "metadata": {},
   "source": [
    "proportion of weird singletons stayed the same"
   ]
  },
  {
   "cell_type": "code",
   "execution_count": 67,
   "metadata": {},
   "outputs": [
    {
     "name": "stdout",
     "output_type": "stream",
     "text": [
      "asv:  0.763134193935755\n",
      "otu:  0.7634003350083752\n"
     ]
    }
   ],
   "source": [
    "print('asv: ', ((asvtable >0).sum() ==1).sum() / asvtable.shape[1])\n",
    "\n",
    "print('otu: ', ((otutable >0).sum() ==1).sum() / otutable.shape[1])"
   ]
  },
  {
   "cell_type": "markdown",
   "metadata": {},
   "source": [
    "about 1K fewer representative sequences to classify!"
   ]
  },
  {
   "cell_type": "code",
   "execution_count": 69,
   "metadata": {},
   "outputs": [
    {
     "name": "stdout",
     "output_type": "stream",
     "text": [
      "asv:  3331\n",
      "otu:  2388\n"
     ]
    }
   ],
   "source": [
    "print('asv: ', asvtable.shape[1])\n",
    "print('otu: ', otutable.shape[1])"
   ]
  },
  {
   "cell_type": "markdown",
   "metadata": {},
   "source": [
    "## Try fancy bee taxonomy"
   ]
  },
  {
   "cell_type": "markdown",
   "metadata": {},
   "source": [
    "**Note**: we didn't post a copy of the classifier to github. Download one from silva to continue\n",
    "\n",
    "**Note 2**: I downloaded the BEExact full sequences and built a v6v8 classifier"
   ]
  },
  {
   "cell_type": "markdown",
   "metadata": {},
   "source": [
    "homebrew v6:v8 -- not that great"
   ]
  },
  {
   "cell_type": "code",
   "execution_count": 18,
   "metadata": {},
   "outputs": [],
   "source": [
    "classifier = Artifact.load('../full_database/BEEx_v2023.01.30_V6V8_classifier.qza')\n",
    "taxa_ASV = classify_sklearn(reads = rep_seqs, classifier = classifier,  n_jobs = -2, \n",
    "               confidence = 0.7, read_orientation = 'auto').classification"
   ]
  },
  {
   "cell_type": "markdown",
   "metadata": {},
   "source": [
    "**full length classifier** (better version)"
   ]
  },
  {
   "cell_type": "code",
   "execution_count": 4,
   "metadata": {},
   "outputs": [],
   "source": [
    "classifier = Artifact.load('../full_database/BEEx_v2023.01.30___qiime2_naive-bayes-classifier_FL.qza')\n",
    "taxa_ASV = classify_sklearn(reads = rep_seqs, classifier = classifier,  n_jobs = -2, \n",
    "               confidence = 0.7, read_orientation = 'auto').classification\n"
   ]
  },
  {
   "cell_type": "code",
   "execution_count": 11,
   "metadata": {},
   "outputs": [
    {
     "data": {
      "text/plain": [
       "0.7934434968017058"
      ]
     },
     "execution_count": 11,
     "metadata": {},
     "output_type": "execute_result"
    }
   ],
   "source": [
    "# Calculate proportion of rows with species-level classification\n",
    "(taxa_ASV.view(pd.DataFrame)['Taxon'].str.contains('c__')).mean()\n"
   ]
  },
  {
   "cell_type": "markdown",
   "metadata": {
    "jupyter": {
     "outputs_hidden": true
    },
    "tags": []
   },
   "source": [
    "**greengenes version:**"
   ]
  },
  {
   "cell_type": "code",
   "execution_count": null,
   "metadata": {},
   "outputs": [],
   "source": [
    "classifier_green = Artifact.load('../data/other_classifiers/2022.10.backbone.full-length.nb.sklearn-1.4.2.qza')\n",
    "green_taxa = classify_sklearn(reads = rep_seqs, classifier = classifier_green,  n_jobs = 0, \n",
    "               confidence = 0.7, read_orientation = 'auto').classification\n",
    "green_taxa = green_taxa.view(pd.DataFrame)"
   ]
  },
  {
   "cell_type": "markdown",
   "metadata": {},
   "source": [
    "### ensemble classifier\n",
    "- if not classified by full length, try greengenes"
   ]
  },
  {
   "cell_type": "code",
   "execution_count": 453,
   "metadata": {},
   "outputs": [],
   "source": [
    "tax_df = taxa_ASV.view(pd.DataFrame).drop(columns = ['Confidence']).copy()\n",
    "# Split taxonomy string into separate columns\n",
    "tax_df = tax_df['Taxon'].str.split(';', expand=True).drop(columns = [7])\n",
    "tax_df.columns = ['Domain', 'Phylum', 'Class', 'Order', 'Family', 'Genus', 'Species']\n",
    "# Clean up the prefix strings\n",
    "tax_df['Domain'] = tax_df['Domain'].str.replace('d__', '')\n",
    "tax_df['Phylum'] = tax_df['Phylum'].str.replace('p__', '')\n",
    "tax_df['Class'] = tax_df['Class'].str.replace('c__', '') \n",
    "tax_df['Order'] = tax_df['Order'].str.replace('o__', '')\n",
    "tax_df['Family'] = tax_df['Family'].str.replace('f__', '')\n",
    "tax_df['Genus'] = tax_df['Genus'].str.replace('g__', '')\n",
    "tax_df['Species'] = tax_df['Species'].str.replace('s__', '')\n"
   ]
  },
  {
   "cell_type": "code",
   "execution_count": 454,
   "metadata": {},
   "outputs": [],
   "source": [
    "alterations = {}\n",
    "def compare(id):\n",
    "\n",
    "    green = green_taxa.loc[id, 'Taxon'].replace('d__', '').replace('p__',\n",
    "         '').replace('c__', '').replace('o__', '').replace('f__', '').replace('g__',\n",
    "                 '').replace('s__', '').strip(' ;').split('; ')\n",
    "    if len(green) > 6:\n",
    "        green = list(map(lambda x: x.split('_')[0], green[:6])) + [green[6]]\n",
    "    else:\n",
    "        green = list(map(lambda x: x.split('_')[0], green))\n",
    "    if len(green) >1:\n",
    "        green[1] = green[1].replace('Proteobacteria', 'Pseudomonadota')\n",
    "        green[1] = green[1].replace('Firmicutes', 'Bacillota')\n",
    "\n",
    "    if (len(green) > 4) and (green[4]=='Neisseriaceae'):\n",
    "        green[2]='Betaproteobacteria'\n",
    "        green[3]='Neisseriales'\n",
    "    if (len(green) > 4) and (green[4] == 'Saprospiraceae'):\n",
    "        green[3]= 'Saprospirales'\n",
    "        green[2] ='Saprospiria'\n",
    "    if (len(green)> 3):\n",
    "        if green[3]=='Cytophagales':\n",
    "            green[2] = 'Cytophagia'\n",
    "        elif green[3]=='Bdellovibrionales':\n",
    "            green[2]= 'Oligoflexia'\n",
    "        elif green[3] == 'Bradymonadales':\n",
    "            green[2] = 'Deltaproteobacteria'\n",
    "            green[1]='Desulfobacterota'\n",
    "    if (len(green) > 4):\n",
    "        if green[4]== 'Oscillospiraceae':\n",
    "            green[3] = 'Eubacteriales'\n",
    "        elif green[4] == 'Halomonadaceae':\n",
    "            green[3] = 'Oceanospirillales'\n",
    "        elif green[4] == 'Woeseiaceae':\n",
    "            green[3] = 'Chromatiales'\n",
    "        elif green[4] == 'Vibrionaceae':\n",
    "            green[3] = 'Vibrionales'\n",
    "        elif green[4] == 'Lachnospiraceae':\n",
    "            green[3] = 'Eubacteriales'\n",
    "    if len(green) > 5:\n",
    "        if green[5] == 'Pantoea':\n",
    "            green[4] = 'Erwiniaceae' \n",
    "        elif green[5] == 'Peredibacter':\n",
    "            green[4] = 'Bacteriovoracaceae'\n",
    "            green[3] =  'Bacteriovoracales'\n",
    "            green[2] =  'Oligoflexia'\n",
    "        elif green[5] == 'Lonsdalea':\n",
    "            green[4] = 'Pectobacteriaceae'\n",
    "        elif green[5] == 'Udaeobacter':\n",
    "            green[4] = 'Chthoniobacteraceae'\n",
    "            green[3] = 'Chthoniobacterales'\n",
    "            green[2] = 'Spartobacteria'\n",
    "        elif green[5] == 'Acinetobacter':\n",
    "            green[3] = 'Moraxellales'\n",
    "        elif green[5] == 'Sodalis':\n",
    "            green[4] = 'Bruguierivoracaceae'\n",
    "        elif green[5] == 'Eubacterium':\n",
    "            green[4] = 'Eubacteriaceae'\n",
    "            green[3] = 'Eubacteriales'\n",
    "\n",
    "\n",
    "    green_depth = len(green)\n",
    "    bee_depth = tax_df.loc[id].dropna().shape[0]\n",
    "    #return green\n",
    "    ## if more green classification, check for matches, if all, extend\n",
    "    if (green_depth > bee_depth) & (green_depth > 1):\n",
    "        # confirm matching up to depth \n",
    "        if \" \".join(green[:bee_depth])  == \" \".join(tax_df.loc[id, tax_df.columns[:bee_depth]]):\n",
    "            for i in range(bee_depth, green_depth):\n",
    "                tax_df.loc[id, tax_df.columns[i]] = green[i]\n",
    "            alterations[id] = 'match extension'\n",
    "            return 'extension'\n",
    "\n",
    "        else:\n",
    "            # try removing suffixes from greengenes names \n",
    "            for i in range(bee_depth):\n",
    "                if green[i].split('_')[0] != tax_df.loc[id, tax_df.columns[i]]:\n",
    "                    alterations[id] = 'mismatch'\n",
    "                    return 'mismatch!'\n",
    "            # if here, it worked\n",
    "            for i in range(green_depth):\n",
    "                tax_df.loc[id, tax_df.columns[i]] = green[i]\n",
    "            alterations[id] = 'partial match extension'\n",
    "            return 'partial match'\n",
    "    else:\n",
    "        alterations[id] ='match'\n",
    "        return 'match'\n",
    "\n",
    "\n",
    "for i in tax_df.index:\n",
    "    retval = compare(i)\n",
    "\n",
    "\n",
    "\n",
    "\n",
    "#compare('fff2004d10c69842d7e0013fb207317c')"
   ]
  },
  {
   "cell_type": "markdown",
   "metadata": {},
   "source": [
    "96% classified to genus-level!"
   ]
  },
  {
   "cell_type": "code",
   "execution_count": 455,
   "metadata": {},
   "outputs": [
    {
     "data": {
      "text/plain": [
       "{'Phylum': 0.9994344218945426,\n",
       " 'Class': 0.9994231489772224,\n",
       " 'Order': 0.9993795383928977,\n",
       " 'Family': 0.998974763032054,\n",
       " 'Genus': 0.9635284249921544,\n",
       " 'Species': 0.42201762934539294}"
      ]
     },
     "execution_count": 455,
     "metadata": {},
     "output_type": "execute_result"
    }
   ],
   "source": [
    "#temp = (mt.view(pd.DataFrame).transpose() / mt.view(pd.DataFrame\\\n",
    "#    ).transpose().sum()).join(tax_df)\n",
    "\n",
    "temp = (mt.transpose()/mt.sum(axis=1)).join(tax_df)\n",
    "\n",
    "stats = {c: temp[~temp[c].isna()].drop(columns = temp.columns[-7:]).sum().mean() for c in temp.columns[-6:]}\n",
    "\n",
    "del temp\n",
    "stats"
   ]
  },
  {
   "cell_type": "markdown",
   "metadata": {
    "jp-MarkdownHeadingCollapsed": true,
    "tags": []
   },
   "source": [
    "### Remove bumblebee sequences from table \n",
    "\n",
    "**note: this was only an issue with the old classifier. new one doesnt have bee sequences**"
   ]
  },
  {
   "cell_type": "markdown",
   "metadata": {},
   "source": [
    "pull up features classified as insects"
   ]
  },
  {
   "cell_type": "code",
   "execution_count": 16,
   "metadata": {},
   "outputs": [
    {
     "data": {
      "text/html": [
       "<div>\n",
       "<style scoped>\n",
       "    .dataframe tbody tr th:only-of-type {\n",
       "        vertical-align: middle;\n",
       "    }\n",
       "\n",
       "    .dataframe tbody tr th {\n",
       "        vertical-align: top;\n",
       "    }\n",
       "\n",
       "    .dataframe thead th {\n",
       "        text-align: right;\n",
       "    }\n",
       "</style>\n",
       "<table border=\"1\" class=\"dataframe\">\n",
       "  <thead>\n",
       "    <tr style=\"text-align: right;\">\n",
       "      <th></th>\n",
       "      <th>Taxon</th>\n",
       "      <th>Confidence</th>\n",
       "    </tr>\n",
       "    <tr>\n",
       "      <th>Feature ID</th>\n",
       "      <th></th>\n",
       "      <th></th>\n",
       "    </tr>\n",
       "  </thead>\n",
       "  <tbody>\n",
       "  </tbody>\n",
       "</table>\n",
       "</div>"
      ],
      "text/plain": [
       "Empty DataFrame\n",
       "Columns: [Taxon, Confidence]\n",
       "Index: []"
      ]
     },
     "execution_count": 16,
     "metadata": {},
     "output_type": "execute_result"
    }
   ],
   "source": [
    "taxa_99.view(pd.DataFrame)[taxa_99.view(pd.DataFrame)['Taxon'].str.contains('sect')]"
   ]
  },
  {
   "cell_type": "markdown",
   "metadata": {},
   "source": [
    "Grab the representative sequences"
   ]
  },
  {
   "cell_type": "code",
   "execution_count": 46,
   "metadata": {},
   "outputs": [],
   "source": [
    "bombus_seqs = pd.DataFrame(rep_seqs_99.view(pd.Series)).join(taxa_99.view(pd.DataFrame\\\n",
    "        )[taxa_99.view(pd.DataFrame)['Taxon'].str.contains('Insec')])\n",
    "bombus_seqs = bombus_seqs.dropna().copy()\n",
    "bombus_seqs[0] = bombus_seqs[0].apply(str)"
   ]
  },
  {
   "cell_type": "markdown",
   "metadata": {},
   "source": [
    "**I used the blastn web app to verify these sequences as matching bombus**\n",
    "- You can find the app here: https://blast.ncbi.nlm.nih.gov/Blast.cgi?PROGRAM=blastn&BLAST_SPEC=GeoBlast&PAGE_TYPE=BlastSearch\n",
    "- I used the standard nr database, as well as a version of the database excluding Bombus. All four still hit bee references after the Bombus references were removed. I ran the second round of alignments to control for chimeric host:microbe assemblies. "
   ]
  },
  {
   "cell_type": "markdown",
   "metadata": {},
   "source": [
    "Perfect match to multiple bombus"
   ]
  },
  {
   "cell_type": "code",
   "execution_count": 38,
   "metadata": {},
   "outputs": [
    {
     "data": {
      "text/plain": [
       "'GGATTGACAGATTGATAGCTCTTTCTTGATTCGGTGGGTGGTGGTGCATGGCCGTTCTTAGTTGGTGGAGCGATTTGTCTGGTTAATTCCGATAACGAACGAGACTCTAGCCTGCTAAATAGACGTAACTTATGGTATCTCGAAGGCCCCCGGCTTCGGTCGGTGGGTTTTTACTACCAACGTACAAACAAATCTTCTTAGAGGAACAGGCGGCTTCTAGCCGCACGAGATTGAGCAATAACAGGTCTGTGATGCCCTTAGATGTTCTGGGCCGCACGCGCGCTACACTGAAGGAATCAGCGTGTTTTCCCTGGCCGAAAGGCCCGGGTAACCCGCTGAACCTCCTTCGTGCTAGGGATTGGGGCTTGCAATTATTCCCCATGAACGAGGAATTCCCAGTAAGCGCGAGTCATAAGCTCGCGTT'"
      ]
     },
     "execution_count": 38,
     "metadata": {},
     "output_type": "execute_result"
    }
   ],
   "source": [
    "bombus_seqs.loc['adb56f9c8af5f07d15e8a475f2ce03ec', 0]"
   ]
  },
  {
   "cell_type": "markdown",
   "metadata": {},
   "source": [
    "Multiple bombus as well"
   ]
  },
  {
   "cell_type": "code",
   "execution_count": 42,
   "metadata": {},
   "outputs": [
    {
     "data": {
      "text/plain": [
       "'AGTTGTTGCGGTTAAAAAGCTCGTAGTTGAATCTGTGTGTCACAGTGTCGGTTCACCGCTCGCGGTGTTTAACTGGCATTATGTGGTACGTCCTATCGGTGGGCTTAGCTCCTCGCGGGCGGTCCAACTAATATCCCATCGCGGTGCTCTTCACTGAGTGTCGAGGTGGGCCGATACGTTTACTTTGAACAAATTAGAGTGCTTAAAGCAGGCTACCTTCGCCTGAATACTGTGTGCATGGAATAATGGAATAGGACCTCGGTTCTATTTTGTTGGTTTTCGGAGCCCCGAGGTAATGATTAATAGGGACAGATGGGGGCATTCGTATTGCGACGTTAGAGGTGAAATTCTTGGATCGTCGCAAGACGGACAGAAGCGAAAGCATTTGCCAAAAATGTTTTCATTAATCAAGAAC'"
      ]
     },
     "execution_count": 42,
     "metadata": {},
     "output_type": "execute_result"
    }
   ],
   "source": [
    "bombus_seqs.iloc[1][0]"
   ]
  },
  {
   "cell_type": "markdown",
   "metadata": {},
   "source": [
    "Perfect match for the ground bee, Andrena sp., 99% PI for bombus. "
   ]
  },
  {
   "cell_type": "code",
   "execution_count": 48,
   "metadata": {},
   "outputs": [
    {
     "data": {
      "text/plain": [
       "'GGATTGACAGATTTATAGCTCTTTCTTGATTCGGTGGGTGGTGGTGCATGGCCGTTCTTAGTTGGTGGAGCGATTTGTCTGGTTAATTCCGATAACGAACGAGACTCTAGCCTGCTAAATAGACGTAACTTATGGTATCACGAAGGTCCCCGACTTCGGTCGGTGGGTTTTTACTACCAACGTACAAACAAATCTTCTTAGAGGGACAGGCGGCTTCTAGCCGCACGAGATTGAGCAATAACAGGTCTGTGATGCCCTTAGATGTTCTGGGCCGCACGCGCGCTACACTGAAGGAATCAGCGTGTTTTCCCTGGCCGAAAGGCCCGGGTAACCCGCTGAACCTCCTTCGTGCTAGGGATTGGGGCTTGCAATTATTCCCCATGAACGAGGAATTCCCAGTAAGCGCGAGTCATAAGCTCGCGTT'"
      ]
     },
     "execution_count": 48,
     "metadata": {},
     "output_type": "execute_result"
    }
   ],
   "source": [
    "bombus_seqs.iloc[2][0]"
   ]
  },
  {
   "cell_type": "markdown",
   "metadata": {},
   "source": [
    "Perfect match to Mason bees (Osmia sp.), 97% PI for bombus. "
   ]
  },
  {
   "cell_type": "code",
   "execution_count": 45,
   "metadata": {},
   "outputs": [
    {
     "data": {
      "text/plain": [
       "'GGATTGACAGATTGATAGCTCTTTCTTGATTCGGTGGGTGGTGGTGCATGGCCGTTCTTAGTTGGTGGAGCGATTTGTCTGGTTAATTCCGATAACGAACGAGACTCTAGCCTGTTAAATAGACGTAAATTATGGTATCTCGAAGGCCCCCGACTTCGGTCGGTGTGGTTTTTACTACCAACGTACAAACAAATCTTCTTAGAGGGACAAGCGGCTTCTAGTCGCACGAGATTGAGCAATAACAGGTCTGTGATGCCCTTAGATGTTCTGGGCCGCACGCGCGCTACACTGAAGGAATCAACGTGTTTTCCCTGGCCGAAAGGTCCGGGTAACCCGCTGAAACTCCTTCGTGCTAGGGATTGGGGCTTGAAATTATTCCCCATGAACGAGGAATTCCCAGTAAACGCGAGTCATAAGCTCGCGTT'"
      ]
     },
     "execution_count": 45,
     "metadata": {},
     "output_type": "execute_result"
    }
   ],
   "source": [
    "bombus_seqs.iloc[3][0]"
   ]
  },
  {
   "cell_type": "markdown",
   "metadata": {},
   "source": [
    "**There are a few other OTUs classified as Eukaryotic (mostly fungus and plants). Since they're so low abundant, I'm choosing to keep them** "
   ]
  },
  {
   "cell_type": "code",
   "execution_count": 49,
   "metadata": {},
   "outputs": [
    {
     "name": "stdout",
     "output_type": "stream",
     "text": [
      "mean:  0.02205304345292302\n",
      "max:  1.1681608258625373\n"
     ]
    }
   ],
   "source": [
    "euk_inds= taxa_99.view(pd.DataFrame)[taxa_99.view(pd.DataFrame)['Taxon'].str.contains('Euk') & \\\n",
    "    (~taxa_99.view(pd.DataFrame)['Taxon'].str.contains('Ins'))].index\n",
    "\n",
    "print('mean: ', (mt_99.view(pd.DataFrame)[list(set(euk_inds).intersection(set(mt_99.view(pd.DataFrame).columns)))\\\n",
    "].sum(axis=1) / mt_99.view(pd.DataFrame).sum(axis=1)).mean() * 100)\n",
    "\n",
    "print('max: ', (mt_99.view(pd.DataFrame)[list(set(euk_inds).intersection(set(mt_99.view(pd.DataFrame).columns)))\\\n",
    "].sum(axis=1) / mt_99.view(pd.DataFrame).sum(axis=1)).max() * 100)"
   ]
  },
  {
   "cell_type": "markdown",
   "metadata": {},
   "source": [
    "**save the full table for the manuscript**"
   ]
  },
  {
   "cell_type": "code",
   "execution_count": 59,
   "metadata": {},
   "outputs": [],
   "source": [
    "taxa_99.view(pd.DataFrame).join(mt_99.view(pd.DataFrame).transpose()).to_csv(os.path.join(datapath,\n",
    "                        'table/OTU_table_full.tsv'), sep = '\\t')"
   ]
  },
  {
   "cell_type": "markdown",
   "metadata": {},
   "source": [
    "**filter the bees out of the table for the rest of the analysis**"
   ]
  },
  {
   "cell_type": "code",
   "execution_count": 60,
   "metadata": {},
   "outputs": [],
   "source": [
    "mt_99 = filter_table(table = mt_99, taxonomy = taxa_99,\n",
    "                    exclude = 'd__Eukaryota; p__Arthropoda; c__Insecta').filtered_table"
   ]
  },
  {
   "cell_type": "markdown",
   "metadata": {
    "tags": []
   },
   "source": [
    "## Save files \n",
    "(they took too long to make to do it again!)\n",
    "- feature table \n",
    "- representative sequences \n",
    "- taxonomy "
   ]
  },
  {
   "cell_type": "code",
   "execution_count": 385,
   "metadata": {},
   "outputs": [],
   "source": [
    "def printline(x):\n",
    "    cols = tax_df.loc[x].dropna().index\n",
    "    return ';'.join([str.lower(c[0]) +'__' +tax_df.loc[x, c] for c in cols])\n",
    "\n",
    "#list(map(printline, tax_df. index))\n"
   ]
  },
  {
   "cell_type": "code",
   "execution_count": 456,
   "metadata": {},
   "outputs": [],
   "source": [
    "ft = pd.DataFrame(tax_df.apply(lambda x: printline(x.name), axis=1),\n",
    "             columns = ['Taxon']).join(mt.transpose()).dropna()"
   ]
  },
  {
   "cell_type": "code",
   "execution_count": 457,
   "metadata": {},
   "outputs": [],
   "source": [
    "ft.to_csv(os.path.join(datapath,\n",
    "                        'table/OTU_table_full.tsv'), sep = '\\t')\n",
    "tax_df.to_csv(os.path.join(datapath, 'table/ensemble_taxa.tsv'),\n",
    "              sep = '\\t')\n",
    "                "
   ]
  },
  {
   "cell_type": "code",
   "execution_count": 282,
   "metadata": {},
   "outputs": [
    {
     "data": {
      "text/plain": [
       "'../data/qiime/taxonomy_ASV.qza'"
      ]
     },
     "execution_count": 282,
     "metadata": {},
     "output_type": "execute_result"
    }
   ],
   "source": [
    "mt.save(os.path.join(datapath, 'qiime', 'mt.qza'))\n",
    "rep_seqs.save(os.path.join(datapath, 'qiime', 'rep_seqs.qza'))\n",
    "taxa_ASV.save(os.path.join(datapath, 'qiime', 'taxonomy_ASV.qza'))\n"
   ]
  },
  {
   "cell_type": "code",
   "execution_count": 13,
   "metadata": {},
   "outputs": [],
   "source": [
    "beexactclass = Artifact.load(os.path.join(datapath, 'qiime', 'taxonomy_ASV.qza'))"
   ]
  },
  {
   "cell_type": "code",
   "execution_count": 30,
   "metadata": {},
   "outputs": [],
   "source": [
    "beexactclass.view(pd.DataFrame).rename(columns = {'Taxon': 'BeExact Taxon',\n",
    "     'Confidence': 'BeExact Confidence'}).join(green_taxa.rename(columns = {'Taxon':'GreenGenes Taxon',\n",
    "            'Confidence': 'GreenGenes Confidence'})\\\n",
    "     ).join(mt.view(pd.DataFrame).transpose()).fillna(0).to_csv(os.path.join(datapath,'table/all_classification.tsv'), sep = '\\t')"
   ]
  },
  {
   "cell_type": "markdown",
   "metadata": {
    "tags": []
   },
   "source": [
    "## Create a tree\n",
    "\n",
    "important for diversity stuff"
   ]
  },
  {
   "cell_type": "code",
   "execution_count": 202,
   "metadata": {
    "collapsed": true,
    "jupyter": {
     "outputs_hidden": true
    },
    "tags": []
   },
   "outputs": [
    {
     "name": "stdout",
     "output_type": "stream",
     "text": [
      "Running external command line application. This may print messages to stdout and/or stderr.\n",
      "The command being run is below. This command cannot be manually re-run as it will depend on temporary files that no longer exist.\n",
      "\n",
      "Command: mafft --preservecase --inputorder --thread 1 /var/folders/kk/vx23v0b52wv0sx4vqhls42dw0000gn/T/qiime2/Mark/data/7aa4e24b-22ac-43e2-b9df-cc94c0e4ee8e/data/dna-sequences.fasta\n",
      "\n"
     ]
    },
    {
     "name": "stderr",
     "output_type": "stream",
     "text": [
      "inputfile = orig\n",
      "3752 x 480 - 241 d\n",
      "nthread = 1\n",
      "nthreadpair = 1\n",
      "nthreadtb = 1\n",
      "ppenalty_ex = 0\n",
      "stacksize: 8192 kb\n",
      "generating a scoring matrix for nucleotide (dist=200) ... done\n",
      "Gap Penalty = -1.53, +0.00, +0.00\n",
      "\n",
      "\n",
      "\n",
      "Making a distance matrix ..\n",
      " 3701 / 3752 (thread    0)\n",
      "done.\n",
      "\n",
      "Constructing a UPGMA tree (efffree=0) ... \n",
      " 3750 / 3752\n",
      "done.\n",
      "\n",
      "Progressive alignment 1/2... \n",
      "STEP  3301 / 3751 (thread    0)\n",
      "Reallocating..done. *alloclen = 1980\n",
      "STEP  3701 / 3751 (thread    0)\n",
      "Reallocating..done. *alloclen = 3120\n",
      "\n",
      "done.\n",
      "\n",
      "Making a distance matrix from msa.. \n",
      " 3700 / 3752 (thread    0)\n",
      "done.\n",
      "\n",
      "Constructing a UPGMA tree (efffree=1) ... \n",
      " 3750 / 3752\n",
      "done.\n",
      "\n",
      "Progressive alignment 2/2... \n",
      "STEP  3501 / 3751 (thread    0)\n",
      "Reallocating..done. *alloclen = 1989\n",
      "STEP  3701 / 3751 (thread    0)\n",
      "Reallocating..done. *alloclen = 3192\n",
      "\n",
      "done.\n",
      "\n",
      "disttbfast (nuc) Version 7.526\n",
      "alg=A, model=DNA200 (2), 1.53 (4.59), -0.00 (-0.00), noshift, amax=0.0\n",
      "1 thread(s)\n",
      "\n",
      "\n",
      "Strategy:\n",
      " FFT-NS-2 (Fast but rough)\n",
      " Progressive method (guide trees were built 2 times.)\n",
      "\n",
      "If unsure which option to use, try 'mafft --auto input > output'.\n",
      "For more information, see 'mafft --help', 'mafft --man' and the mafft page.\n",
      "\n",
      "The default gap scoring scheme has been changed in version 7.110 (2013 Oct).\n",
      "It tends to insert more gaps into gap-rich regions than previous versions.\n",
      "To disable this change, add the --leavegappyregion option.\n",
      "\n"
     ]
    },
    {
     "name": "stdout",
     "output_type": "stream",
     "text": [
      "Running external command line application. This may print messages to stdout and/or stderr.\n",
      "The command being run is below. This command cannot be manually re-run as it will depend on temporary files that no longer exist.\n",
      "\n",
      "Command: FastTree -quote -nt /var/folders/kk/vx23v0b52wv0sx4vqhls42dw0000gn/T/qiime2/Mark/data/35744a33-6113-4fe1-be37-fff1c1cc264c/data/aligned-dna-sequences.fasta\n",
      "\n"
     ]
    },
    {
     "name": "stderr",
     "output_type": "stream",
     "text": [
      "FastTree Version 2.1.11 Double precision (No SSE3)\n",
      "Alignment: /var/folders/kk/vx23v0b52wv0sx4vqhls42dw0000gn/T/qiime2/Mark/data/35744a33-6113-4fe1-be37-fff1c1cc264c/data/aligned-dna-sequences.fasta\n",
      "Nucleotide distances: Jukes-Cantor Joins: balanced Support: SH-like 1000\n",
      "Search: Normal +NNI +SPR (2 rounds range 10) +ML-NNI opt-each=1\n",
      "TopHits: 1.00*sqrtN close=default refresh=0.80\n",
      "ML Model: Jukes-Cantor, CAT approximation with 20 rate categories\n",
      "      0.54 seconds: Top hits for    938 of   3626 seqs (at seed    100)\n",
      "      0.75 seconds: Top hits for   1291 of   3626 seqs (at seed    200)\n",
      "      0.93 seconds: Top hits for   1695 of   3626 seqs (at seed    300)\n",
      "      1.14 seconds: Top hits for   2133 of   3626 seqs (at seed    400)\n",
      "      1.26 seconds: Top hits for   2328 of   3626 seqs (at seed    600)\n",
      "      1.38 seconds: Top hits for   2578 of   3626 seqs (at seed    700)\n",
      "      1.49 seconds: Top hits for   2697 of   3626 seqs (at seed    900)\n",
      "      1.60 seconds: Top hits for   2827 of   3626 seqs (at seed   1100)\n",
      "      1.70 seconds: Top hits for   2926 of   3626 seqs (at seed   1400)\n",
      "      1.84 seconds: Top hits for   3080 of   3626 seqs (at seed   1700)\n",
      "      1.97 seconds: Top hits for   3165 of   3626 seqs (at seed   2000)\n",
      "      2.07 seconds: Top hits for   3221 of   3626 seqs (at seed   2300)\n",
      "      2.18 seconds: Top hits for   3284 of   3626 seqs (at seed   2500)\n",
      "      2.37 seconds: Top hits for   3325 of   3626 seqs (at seed   3000)\n",
      "      2.47 seconds: Top hits for   3387 of   3626 seqs (at seed   3200)\n",
      "      2.60 seconds: Top hits for   3491 of   3626 seqs (at seed   3400)\n",
      "      3.23 seconds: Joined    100 of   3623\n",
      "      3.74 seconds: Joined    200 of   3623\n",
      "      4.31 seconds: Joined    300 of   3623\n",
      "      4.74 seconds: Joined    400 of   3623\n",
      "      5.14 seconds: Joined    500 of   3623\n",
      "      5.53 seconds: Joined    600 of   3623\n",
      "      5.83 seconds: Joined    700 of   3623\n",
      "      6.09 seconds: Joined    800 of   3623\n",
      "      6.53 seconds: Joined    900 of   3623\n",
      "      7.01 seconds: Joined   1000 of   3623\n",
      "      7.26 seconds: Joined   1100 of   3623\n",
      "      7.65 seconds: Joined   1200 of   3623\n",
      "      7.85 seconds: Joined   1300 of   3623\n",
      "      8.27 seconds: Joined   1400 of   3623\n",
      "      8.60 seconds: Joined   1500 of   3623\n",
      "      8.99 seconds: Joined   1600 of   3623\n",
      "      9.39 seconds: Joined   1700 of   3623\n",
      "      9.74 seconds: Joined   1800 of   3623\n",
      "     10.13 seconds: Joined   1900 of   3623\n",
      "     10.41 seconds: Joined   2000 of   3623\n",
      "     10.63 seconds: Joined   2100 of   3623\n",
      "     10.87 seconds: Joined   2200 of   3623\n",
      "     11.19 seconds: Joined   2300 of   3623\n",
      "     11.59 seconds: Joined   2400 of   3623\n",
      "     11.85 seconds: Joined   2500 of   3623\n",
      "     12.12 seconds: Joined   2600 of   3623\n",
      "     12.34 seconds: Joined   2700 of   3623\n",
      "     12.56 seconds: Joined   2800 of   3623\n",
      "     12.85 seconds: Joined   2900 of   3623\n",
      "     13.12 seconds: Joined   3000 of   3623\n",
      "     13.37 seconds: Joined   3100 of   3623\n",
      "     13.66 seconds: Joined   3200 of   3623\n",
      "     13.93 seconds: Joined   3300 of   3623\n",
      "     14.05 seconds: Joined   3400 of   3623\n",
      "     14.24 seconds: Joined   3500 of   3623\n",
      "     14.38 seconds: Joined   3600 of   3623\n",
      "Initial topology in 14.39 seconds\n",
      "Refining topology: 47 rounds ME-NNIs, 2 rounds ME-SPRs, 24 rounds ML-NNIs\n",
      "     14.48 seconds: ME NNI round 1 of 47, 901 of 3624 splits, 215 changes (max delta 0.131)\n",
      "     14.58 seconds: ME NNI round 1 of 47, 2001 of 3624 splits, 462 changes (max delta 0.283)\n",
      "     14.69 seconds: ME NNI round 1 of 47, 3101 of 3624 splits, 730 changes (max delta 0.283)\n",
      "     14.79 seconds: ME NNI round 2 of 47, 601 of 3624 splits, 95 changes (max delta 0.016)\n",
      "     14.90 seconds: ME NNI round 2 of 47, 1701 of 3624 splits, 225 changes (max delta 0.043)\n",
      "     15.01 seconds: ME NNI round 2 of 47, 2801 of 3624 splits, 349 changes (max delta 0.156)\n",
      "     15.12 seconds: ME NNI round 3 of 47, 301 of 3624 splits, 27 changes (max delta 0.010)\n",
      "     15.22 seconds: ME NNI round 3 of 47, 1401 of 3624 splits, 134 changes (max delta 0.019)\n",
      "     15.32 seconds: ME NNI round 3 of 47, 2501 of 3624 splits, 225 changes (max delta 0.105)\n",
      "     15.43 seconds: ME NNI round 4 of 47, 701 of 3624 splits, 71 changes (max delta 0.022)\n",
      "     15.53 seconds: ME NNI round 4 of 47, 1701 of 3624 splits, 146 changes (max delta 0.057)\n",
      "     15.64 seconds: ME NNI round 5 of 47, 801 of 3624 splits, 62 changes (max delta 0.012)\n",
      "     15.75 seconds: ME NNI round 6 of 47, 501 of 3624 splits, 40 changes (max delta 0.059)\n",
      "     15.86 seconds: ME NNI round 7 of 47, 601 of 3624 splits, 35 changes (max delta 0.028)\n",
      "     15.96 seconds: ME NNI round 11 of 47, 101 of 3624 splits, 12 changes (max delta 0.015)\n",
      "     16.13 seconds: SPR round   1 of   2, 101 of 7250 nodes\n",
      "     16.28 seconds: SPR round   1 of   2, 201 of 7250 nodes\n",
      "     16.40 seconds: SPR round   1 of   2, 301 of 7250 nodes\n",
      "     16.55 seconds: SPR round   1 of   2, 401 of 7250 nodes\n",
      "     16.71 seconds: SPR round   1 of   2, 501 of 7250 nodes\n",
      "     16.86 seconds: SPR round   1 of   2, 601 of 7250 nodes\n",
      "     17.02 seconds: SPR round   1 of   2, 701 of 7250 nodes\n",
      "     17.19 seconds: SPR round   1 of   2, 801 of 7250 nodes\n",
      "     17.34 seconds: SPR round   1 of   2, 901 of 7250 nodes\n",
      "     17.50 seconds: SPR round   1 of   2, 1001 of 7250 nodes\n",
      "     17.66 seconds: SPR round   1 of   2, 1101 of 7250 nodes\n",
      "     17.81 seconds: SPR round   1 of   2, 1201 of 7250 nodes\n",
      "     17.96 seconds: SPR round   1 of   2, 1301 of 7250 nodes\n",
      "     18.11 seconds: SPR round   1 of   2, 1401 of 7250 nodes\n",
      "     18.27 seconds: SPR round   1 of   2, 1501 of 7250 nodes\n",
      "     18.43 seconds: SPR round   1 of   2, 1601 of 7250 nodes\n",
      "     18.58 seconds: SPR round   1 of   2, 1701 of 7250 nodes\n",
      "     18.73 seconds: SPR round   1 of   2, 1801 of 7250 nodes\n",
      "     18.88 seconds: SPR round   1 of   2, 1901 of 7250 nodes\n",
      "     19.03 seconds: SPR round   1 of   2, 2001 of 7250 nodes\n",
      "     19.17 seconds: SPR round   1 of   2, 2101 of 7250 nodes\n",
      "     19.31 seconds: SPR round   1 of   2, 2201 of 7250 nodes\n",
      "     19.46 seconds: SPR round   1 of   2, 2301 of 7250 nodes\n",
      "     19.62 seconds: SPR round   1 of   2, 2401 of 7250 nodes\n",
      "     19.77 seconds: SPR round   1 of   2, 2501 of 7250 nodes\n",
      "     20.02 seconds: SPR round   1 of   2, 2601 of 7250 nodes\n",
      "     20.17 seconds: SPR round   1 of   2, 2701 of 7250 nodes\n",
      "     20.32 seconds: SPR round   1 of   2, 2801 of 7250 nodes\n",
      "     20.48 seconds: SPR round   1 of   2, 2901 of 7250 nodes\n",
      "     20.88 seconds: SPR round   1 of   2, 3001 of 7250 nodes\n",
      "     21.06 seconds: SPR round   1 of   2, 3101 of 7250 nodes\n",
      "     21.22 seconds: SPR round   1 of   2, 3201 of 7250 nodes\n",
      "     21.37 seconds: SPR round   1 of   2, 3301 of 7250 nodes\n",
      "     21.55 seconds: SPR round   1 of   2, 3401 of 7250 nodes\n",
      "     21.71 seconds: SPR round   1 of   2, 3501 of 7250 nodes\n",
      "     21.87 seconds: SPR round   1 of   2, 3601 of 7250 nodes\n",
      "     22.03 seconds: SPR round   1 of   2, 3701 of 7250 nodes\n",
      "     22.20 seconds: SPR round   1 of   2, 3801 of 7250 nodes\n",
      "     22.37 seconds: SPR round   1 of   2, 3901 of 7250 nodes\n",
      "     22.52 seconds: SPR round   1 of   2, 4001 of 7250 nodes\n",
      "     22.71 seconds: SPR round   1 of   2, 4101 of 7250 nodes\n",
      "     22.88 seconds: SPR round   1 of   2, 4201 of 7250 nodes\n",
      "     23.07 seconds: SPR round   1 of   2, 4301 of 7250 nodes\n",
      "     23.21 seconds: SPR round   1 of   2, 4401 of 7250 nodes\n",
      "     23.36 seconds: SPR round   1 of   2, 4501 of 7250 nodes\n",
      "     23.52 seconds: SPR round   1 of   2, 4601 of 7250 nodes\n",
      "     23.65 seconds: SPR round   1 of   2, 4701 of 7250 nodes\n",
      "     23.82 seconds: SPR round   1 of   2, 4801 of 7250 nodes\n",
      "     23.98 seconds: SPR round   1 of   2, 4901 of 7250 nodes\n",
      "     24.18 seconds: SPR round   1 of   2, 5001 of 7250 nodes\n",
      "     24.35 seconds: SPR round   1 of   2, 5101 of 7250 nodes\n",
      "     24.50 seconds: SPR round   1 of   2, 5201 of 7250 nodes\n",
      "     24.64 seconds: SPR round   1 of   2, 5301 of 7250 nodes\n",
      "     24.79 seconds: SPR round   1 of   2, 5401 of 7250 nodes\n",
      "     24.94 seconds: SPR round   1 of   2, 5501 of 7250 nodes\n",
      "     25.13 seconds: SPR round   1 of   2, 5601 of 7250 nodes\n",
      "     25.31 seconds: SPR round   1 of   2, 5701 of 7250 nodes\n",
      "     25.51 seconds: SPR round   1 of   2, 5801 of 7250 nodes\n",
      "     25.68 seconds: SPR round   1 of   2, 5901 of 7250 nodes\n",
      "     25.84 seconds: SPR round   1 of   2, 6001 of 7250 nodes\n",
      "     26.01 seconds: SPR round   1 of   2, 6101 of 7250 nodes\n",
      "     26.20 seconds: SPR round   1 of   2, 6201 of 7250 nodes\n",
      "     26.35 seconds: SPR round   1 of   2, 6301 of 7250 nodes\n",
      "     26.49 seconds: SPR round   1 of   2, 6401 of 7250 nodes\n",
      "     26.63 seconds: SPR round   1 of   2, 6501 of 7250 nodes\n",
      "     26.81 seconds: SPR round   1 of   2, 6601 of 7250 nodes\n",
      "     26.96 seconds: SPR round   1 of   2, 6701 of 7250 nodes\n",
      "     27.12 seconds: SPR round   1 of   2, 6801 of 7250 nodes\n",
      "     27.28 seconds: SPR round   1 of   2, 6901 of 7250 nodes\n",
      "     27.49 seconds: SPR round   1 of   2, 7001 of 7250 nodes\n",
      "     27.62 seconds: SPR round   1 of   2, 7101 of 7250 nodes\n",
      "     27.78 seconds: SPR round   1 of   2, 7201 of 7250 nodes\n",
      "     27.89 seconds: ME NNI round 16 of 47, 101 of 3624 splits, 0 changes\n",
      "     28.00 seconds: ME NNI round 16 of 47, 1301 of 3624 splits, 11 changes (max delta 0.006)\n",
      "     28.10 seconds: ME NNI round 16 of 47, 2401 of 3624 splits, 29 changes (max delta 0.095)\n",
      "     28.20 seconds: ME NNI round 16 of 47, 3501 of 3624 splits, 57 changes (max delta 0.095)\n",
      "     28.31 seconds: ME NNI round 17 of 47, 1001 of 3624 splits, 9 changes (max delta 0.002)\n",
      "     28.41 seconds: ME NNI round 17 of 47, 2101 of 3624 splits, 25 changes (max delta 0.104)\n",
      "     28.52 seconds: ME NNI round 17 of 47, 3201 of 3624 splits, 35 changes (max delta 0.104)\n",
      "     28.62 seconds: ME NNI round 19 of 47, 201 of 3624 splits, 4 changes (max delta 0.011)\n",
      "     28.82 seconds: SPR round   2 of   2, 101 of 7250 nodes\n",
      "     28.94 seconds: SPR round   2 of   2, 201 of 7250 nodes\n",
      "     29.07 seconds: SPR round   2 of   2, 301 of 7250 nodes\n",
      "     29.22 seconds: SPR round   2 of   2, 401 of 7250 nodes\n",
      "     29.37 seconds: SPR round   2 of   2, 501 of 7250 nodes\n",
      "     29.54 seconds: SPR round   2 of   2, 601 of 7250 nodes\n",
      "     29.70 seconds: SPR round   2 of   2, 701 of 7250 nodes\n",
      "     29.85 seconds: SPR round   2 of   2, 801 of 7250 nodes\n",
      "     30.00 seconds: SPR round   2 of   2, 901 of 7250 nodes\n",
      "     30.15 seconds: SPR round   2 of   2, 1001 of 7250 nodes\n",
      "     30.28 seconds: SPR round   2 of   2, 1101 of 7250 nodes\n",
      "     30.44 seconds: SPR round   2 of   2, 1201 of 7250 nodes\n",
      "     30.59 seconds: SPR round   2 of   2, 1301 of 7250 nodes\n",
      "     30.74 seconds: SPR round   2 of   2, 1401 of 7250 nodes\n",
      "     30.87 seconds: SPR round   2 of   2, 1501 of 7250 nodes\n",
      "     31.02 seconds: SPR round   2 of   2, 1601 of 7250 nodes\n",
      "     31.17 seconds: SPR round   2 of   2, 1701 of 7250 nodes\n",
      "     31.35 seconds: SPR round   2 of   2, 1801 of 7250 nodes\n",
      "     31.50 seconds: SPR round   2 of   2, 1901 of 7250 nodes\n",
      "     31.69 seconds: SPR round   2 of   2, 2001 of 7250 nodes\n",
      "     31.85 seconds: SPR round   2 of   2, 2101 of 7250 nodes\n",
      "     32.01 seconds: SPR round   2 of   2, 2201 of 7250 nodes\n",
      "     32.15 seconds: SPR round   2 of   2, 2301 of 7250 nodes\n",
      "     32.29 seconds: SPR round   2 of   2, 2401 of 7250 nodes\n",
      "     32.42 seconds: SPR round   2 of   2, 2501 of 7250 nodes\n",
      "     32.58 seconds: SPR round   2 of   2, 2601 of 7250 nodes\n",
      "     32.75 seconds: SPR round   2 of   2, 2701 of 7250 nodes\n",
      "     32.95 seconds: SPR round   2 of   2, 2801 of 7250 nodes\n",
      "     33.37 seconds: SPR round   2 of   2, 2901 of 7250 nodes\n",
      "     33.60 seconds: SPR round   2 of   2, 3001 of 7250 nodes\n",
      "     33.77 seconds: SPR round   2 of   2, 3101 of 7250 nodes\n",
      "     33.92 seconds: SPR round   2 of   2, 3201 of 7250 nodes\n",
      "     34.06 seconds: SPR round   2 of   2, 3301 of 7250 nodes\n",
      "     34.23 seconds: SPR round   2 of   2, 3401 of 7250 nodes\n",
      "     34.36 seconds: SPR round   2 of   2, 3501 of 7250 nodes\n",
      "     34.50 seconds: SPR round   2 of   2, 3601 of 7250 nodes\n",
      "     34.64 seconds: SPR round   2 of   2, 3701 of 7250 nodes\n",
      "     34.80 seconds: SPR round   2 of   2, 3801 of 7250 nodes\n",
      "     34.94 seconds: SPR round   2 of   2, 3901 of 7250 nodes\n",
      "     35.09 seconds: SPR round   2 of   2, 4001 of 7250 nodes\n",
      "     35.26 seconds: SPR round   2 of   2, 4101 of 7250 nodes\n",
      "     35.40 seconds: SPR round   2 of   2, 4201 of 7250 nodes\n",
      "     35.55 seconds: SPR round   2 of   2, 4301 of 7250 nodes\n",
      "     35.73 seconds: SPR round   2 of   2, 4401 of 7250 nodes\n",
      "     35.89 seconds: SPR round   2 of   2, 4501 of 7250 nodes\n",
      "     36.04 seconds: SPR round   2 of   2, 4601 of 7250 nodes\n",
      "     36.23 seconds: SPR round   2 of   2, 4701 of 7250 nodes\n",
      "     36.39 seconds: SPR round   2 of   2, 4801 of 7250 nodes\n",
      "     36.57 seconds: SPR round   2 of   2, 4901 of 7250 nodes\n",
      "     36.74 seconds: SPR round   2 of   2, 5001 of 7250 nodes\n",
      "     36.90 seconds: SPR round   2 of   2, 5101 of 7250 nodes\n",
      "     37.03 seconds: SPR round   2 of   2, 5201 of 7250 nodes\n",
      "     37.17 seconds: SPR round   2 of   2, 5301 of 7250 nodes\n",
      "     37.33 seconds: SPR round   2 of   2, 5401 of 7250 nodes\n",
      "     37.46 seconds: SPR round   2 of   2, 5501 of 7250 nodes\n",
      "     37.64 seconds: SPR round   2 of   2, 5601 of 7250 nodes\n",
      "     37.78 seconds: SPR round   2 of   2, 5701 of 7250 nodes\n",
      "     37.94 seconds: SPR round   2 of   2, 5801 of 7250 nodes\n",
      "     38.08 seconds: SPR round   2 of   2, 5901 of 7250 nodes\n",
      "     38.23 seconds: SPR round   2 of   2, 6001 of 7250 nodes\n",
      "     38.42 seconds: SPR round   2 of   2, 6101 of 7250 nodes\n",
      "     38.58 seconds: SPR round   2 of   2, 6201 of 7250 nodes\n",
      "     38.73 seconds: SPR round   2 of   2, 6301 of 7250 nodes\n",
      "     38.89 seconds: SPR round   2 of   2, 6401 of 7250 nodes\n",
      "     39.03 seconds: SPR round   2 of   2, 6501 of 7250 nodes\n",
      "     39.18 seconds: SPR round   2 of   2, 6601 of 7250 nodes\n",
      "     39.33 seconds: SPR round   2 of   2, 6701 of 7250 nodes\n",
      "     39.48 seconds: SPR round   2 of   2, 6801 of 7250 nodes\n",
      "     39.63 seconds: SPR round   2 of   2, 6901 of 7250 nodes\n",
      "     39.77 seconds: SPR round   2 of   2, 7001 of 7250 nodes\n",
      "     39.94 seconds: SPR round   2 of   2, 7101 of 7250 nodes\n",
      "     40.09 seconds: SPR round   2 of   2, 7201 of 7250 nodes\n",
      "     40.19 seconds: ME NNI round 31 of 47, 101 of 3624 splits, 0 changes\n",
      "     40.30 seconds: ME NNI round 31 of 47, 1301 of 3624 splits, 10 changes (max delta 0.001)\n",
      "     40.41 seconds: ME NNI round 31 of 47, 2301 of 3624 splits, 17 changes (max delta 0.002)\n",
      "     40.51 seconds: ME NNI round 31 of 47, 3501 of 3624 splits, 21 changes (max delta 0.002)\n",
      "     40.62 seconds: ME NNI round 32 of 47, 1101 of 3624 splits, 3 changes (max delta 0.000)\n",
      "     40.73 seconds: ME NNI round 32 of 47, 2301 of 3624 splits, 3 changes (max delta 0.000)\n",
      "     40.84 seconds: ME NNI round 32 of 47, 3501 of 3624 splits, 5 changes (max delta 0.000)\n",
      "Total branch-length 153.781 after 41.24 sec\n",
      "     41.30 seconds: ML Lengths 1 of 3624 splits\n",
      "     41.43 seconds: ML Lengths 101 of 3624 splits\n",
      "     41.55 seconds: ML Lengths 201 of 3624 splits\n",
      "     41.67 seconds: ML Lengths 301 of 3624 splits\n",
      "     41.79 seconds: ML Lengths 401 of 3624 splits\n",
      "     41.91 seconds: ML Lengths 501 of 3624 splits\n",
      "     42.02 seconds: ML Lengths 601 of 3624 splits\n",
      "     42.15 seconds: ML Lengths 701 of 3624 splits\n",
      "     42.26 seconds: ML Lengths 801 of 3624 splits\n",
      "     42.38 seconds: ML Lengths 901 of 3624 splits\n",
      "     42.57 seconds: ML Lengths 1001 of 3624 splits\n",
      "     42.70 seconds: ML Lengths 1101 of 3624 splits\n",
      "     42.84 seconds: ML Lengths 1201 of 3624 splits\n",
      "     42.94 seconds: ML Lengths 1301 of 3624 splits\n",
      "     43.06 seconds: ML Lengths 1401 of 3624 splits\n",
      "     43.16 seconds: ML Lengths 1501 of 3624 splits\n",
      "     43.27 seconds: ML Lengths 1601 of 3624 splits\n",
      "     43.38 seconds: ML Lengths 1701 of 3624 splits\n",
      "     43.49 seconds: ML Lengths 1801 of 3624 splits\n",
      "     43.61 seconds: ML Lengths 1901 of 3624 splits\n",
      "     43.74 seconds: ML Lengths 2001 of 3624 splits\n",
      "     43.88 seconds: ML Lengths 2101 of 3624 splits\n",
      "     44.02 seconds: ML Lengths 2201 of 3624 splits\n",
      "     44.14 seconds: ML Lengths 2301 of 3624 splits\n",
      "     44.26 seconds: ML Lengths 2401 of 3624 splits\n",
      "     44.38 seconds: ML Lengths 2501 of 3624 splits\n",
      "     44.51 seconds: ML Lengths 2601 of 3624 splits\n",
      "     44.63 seconds: ML Lengths 2701 of 3624 splits\n",
      "     44.90 seconds: ML Lengths 2801 of 3624 splits\n",
      "     45.10 seconds: ML Lengths 2901 of 3624 splits\n",
      "     45.31 seconds: ML Lengths 3001 of 3624 splits\n",
      "     45.49 seconds: ML Lengths 3101 of 3624 splits\n",
      "     45.66 seconds: ML Lengths 3201 of 3624 splits\n",
      "     45.86 seconds: ML Lengths 3301 of 3624 splits\n",
      "     46.03 seconds: ML Lengths 3401 of 3624 splits\n",
      "     46.21 seconds: ML Lengths 3501 of 3624 splits\n",
      "     46.39 seconds: ML Lengths 3601 of 3624 splits\n",
      "     47.14 seconds: ML NNI round 1 of 24, 101 of 3624 splits, 29 changes (max delta 6.063)\n",
      "     47.67 seconds: ML NNI round 1 of 24, 201 of 3624 splits, 54 changes (max delta 6.063)\n",
      "     48.11 seconds: ML NNI round 1 of 24, 301 of 3624 splits, 79 changes (max delta 6.152)\n",
      "     48.55 seconds: ML NNI round 1 of 24, 401 of 3624 splits, 109 changes (max delta 8.991)\n",
      "     48.98 seconds: ML NNI round 1 of 24, 501 of 3624 splits, 142 changes (max delta 9.523)\n",
      "     49.41 seconds: ML NNI round 1 of 24, 601 of 3624 splits, 165 changes (max delta 9.523)\n",
      "     49.84 seconds: ML NNI round 1 of 24, 701 of 3624 splits, 188 changes (max delta 9.523)\n",
      "     50.39 seconds: ML NNI round 1 of 24, 801 of 3624 splits, 204 changes (max delta 9.523)\n",
      "     50.96 seconds: ML NNI round 1 of 24, 901 of 3624 splits, 224 changes (max delta 9.523)\n",
      "     51.48 seconds: ML NNI round 1 of 24, 1001 of 3624 splits, 236 changes (max delta 9.523)\n",
      "     52.36 seconds: ML NNI round 1 of 24, 1101 of 3624 splits, 253 changes (max delta 12.792)\n",
      "     52.81 seconds: ML NNI round 1 of 24, 1201 of 3624 splits, 269 changes (max delta 18.131)\n",
      "     53.25 seconds: ML NNI round 1 of 24, 1301 of 3624 splits, 285 changes (max delta 18.131)\n",
      "     53.69 seconds: ML NNI round 1 of 24, 1401 of 3624 splits, 298 changes (max delta 18.131)\n",
      "     54.17 seconds: ML NNI round 1 of 24, 1501 of 3624 splits, 312 changes (max delta 18.131)\n",
      "     54.61 seconds: ML NNI round 1 of 24, 1601 of 3624 splits, 328 changes (max delta 18.131)\n",
      "     55.15 seconds: ML NNI round 1 of 24, 1701 of 3624 splits, 340 changes (max delta 18.131)\n",
      "     55.72 seconds: ML NNI round 1 of 24, 1801 of 3624 splits, 363 changes (max delta 18.131)\n",
      "     56.23 seconds: ML NNI round 1 of 24, 1901 of 3624 splits, 377 changes (max delta 18.131)\n",
      "     56.75 seconds: ML NNI round 1 of 24, 2001 of 3624 splits, 397 changes (max delta 18.131)\n",
      "     57.27 seconds: ML NNI round 1 of 24, 2101 of 3624 splits, 414 changes (max delta 18.131)\n",
      "     57.75 seconds: ML NNI round 1 of 24, 2201 of 3624 splits, 437 changes (max delta 18.131)\n",
      "     58.18 seconds: ML NNI round 1 of 24, 2301 of 3624 splits, 452 changes (max delta 18.131)\n",
      "     58.57 seconds: ML NNI round 1 of 24, 2401 of 3624 splits, 474 changes (max delta 18.131)\n",
      "     59.02 seconds: ML NNI round 1 of 24, 2501 of 3624 splits, 494 changes (max delta 18.131)\n",
      "     59.43 seconds: ML NNI round 1 of 24, 2601 of 3624 splits, 511 changes (max delta 18.131)\n",
      "     60.18 seconds: ML NNI round 1 of 24, 2701 of 3624 splits, 526 changes (max delta 18.131)\n",
      "     61.05 seconds: ML NNI round 1 of 24, 2801 of 3624 splits, 542 changes (max delta 18.131)\n",
      "     61.85 seconds: ML NNI round 1 of 24, 2901 of 3624 splits, 561 changes (max delta 18.131)\n",
      "     62.55 seconds: ML NNI round 1 of 24, 3001 of 3624 splits, 581 changes (max delta 18.131)\n",
      "     63.38 seconds: ML NNI round 1 of 24, 3101 of 3624 splits, 604 changes (max delta 18.131)\n",
      "     64.20 seconds: ML NNI round 1 of 24, 3201 of 3624 splits, 621 changes (max delta 18.131)\n",
      "     64.63 seconds: ML NNI round 1 of 24, 3301 of 3624 splits, 642 changes (max delta 18.131)\n",
      "     65.42 seconds: ML NNI round 1 of 24, 3401 of 3624 splits, 663 changes (max delta 18.131)\n",
      "     66.22 seconds: ML NNI round 1 of 24, 3501 of 3624 splits, 685 changes (max delta 18.131)\n",
      "     66.72 seconds: ML NNI round 1 of 24, 3601 of 3624 splits, 703 changes (max delta 18.131)\n",
      "ML-NNI round 1: LogLk = -253729.232 NNIs 710 max delta 18.13 Time 66.98\n",
      "     67.21 seconds: Site likelihoods with rate category 1 of 20\n",
      "     67.42 seconds: Site likelihoods with rate category 2 of 20\n",
      "     67.68 seconds: Site likelihoods with rate category 3 of 20\n",
      "     67.94 seconds: Site likelihoods with rate category 4 of 20\n",
      "     68.21 seconds: Site likelihoods with rate category 5 of 20\n",
      "     68.44 seconds: Site likelihoods with rate category 6 of 20\n",
      "     68.74 seconds: Site likelihoods with rate category 7 of 20\n",
      "     69.01 seconds: Site likelihoods with rate category 8 of 20\n",
      "     69.26 seconds: Site likelihoods with rate category 9 of 20\n",
      "     69.59 seconds: Site likelihoods with rate category 10 of 20\n",
      "     70.02 seconds: Site likelihoods with rate category 11 of 20\n",
      "     70.32 seconds: Site likelihoods with rate category 12 of 20\n",
      "     70.99 seconds: Site likelihoods with rate category 13 of 20\n",
      "     71.39 seconds: Site likelihoods with rate category 14 of 20\n",
      "     71.95 seconds: Site likelihoods with rate category 15 of 20\n",
      "     72.45 seconds: Site likelihoods with rate category 16 of 20\n",
      "     72.81 seconds: Site likelihoods with rate category 17 of 20\n",
      "     73.23 seconds: Site likelihoods with rate category 18 of 20\n",
      "     73.49 seconds: Site likelihoods with rate category 19 of 20\n",
      "     73.77 seconds: Site likelihoods with rate category 20 of 20\n",
      "Switched to using 20 rate categories (CAT approximation)\n",
      "Rate categories were divided by 0.972 so that average rate = 1.0\n",
      "CAT-based log-likelihoods may not be comparable across runs\n",
      "Use -gamma for approximate but comparable Gamma(20) log-likelihoods\n",
      "     73.97 seconds: ML NNI round 2 of 24, 1 of 3624 splits\n",
      "     74.36 seconds: ML NNI round 2 of 24, 101 of 3624 splits, 17 changes (max delta 0.316)\n",
      "     74.64 seconds: ML NNI round 2 of 24, 201 of 3624 splits, 29 changes (max delta 1.268)\n",
      "     75.28 seconds: ML NNI round 2 of 24, 301 of 3624 splits, 40 changes (max delta 1.268)\n",
      "     75.60 seconds: ML NNI round 2 of 24, 401 of 3624 splits, 59 changes (max delta 3.789)\n",
      "     76.09 seconds: ML NNI round 2 of 24, 501 of 3624 splits, 67 changes (max delta 3.789)\n",
      "     76.52 seconds: ML NNI round 2 of 24, 601 of 3624 splits, 72 changes (max delta 3.789)\n",
      "     77.42 seconds: ML NNI round 2 of 24, 701 of 3624 splits, 91 changes (max delta 3.789)\n",
      "     78.00 seconds: ML NNI round 2 of 24, 801 of 3624 splits, 102 changes (max delta 8.541)\n",
      "     78.49 seconds: ML NNI round 2 of 24, 901 of 3624 splits, 113 changes (max delta 8.541)\n",
      "     78.92 seconds: ML NNI round 2 of 24, 1001 of 3624 splits, 120 changes (max delta 17.078)\n",
      "     79.49 seconds: ML NNI round 2 of 24, 1101 of 3624 splits, 128 changes (max delta 17.078)\n",
      "     80.49 seconds: ML NNI round 2 of 24, 1201 of 3624 splits, 135 changes (max delta 17.078)\n",
      "     81.08 seconds: ML NNI round 2 of 24, 1301 of 3624 splits, 144 changes (max delta 17.078)\n",
      "     82.06 seconds: ML NNI round 2 of 24, 1401 of 3624 splits, 161 changes (max delta 17.078)\n",
      "     82.57 seconds: ML NNI round 2 of 24, 1501 of 3624 splits, 169 changes (max delta 17.078)\n",
      "     83.07 seconds: ML NNI round 2 of 24, 1601 of 3624 splits, 182 changes (max delta 17.078)\n",
      "     83.51 seconds: ML NNI round 2 of 24, 1701 of 3624 splits, 189 changes (max delta 17.078)\n",
      "     83.98 seconds: ML NNI round 2 of 24, 1801 of 3624 splits, 197 changes (max delta 17.078)\n",
      "     84.72 seconds: ML NNI round 2 of 24, 1901 of 3624 splits, 206 changes (max delta 17.078)\n",
      "     85.19 seconds: ML NNI round 2 of 24, 2001 of 3624 splits, 220 changes (max delta 17.078)\n",
      "     85.65 seconds: ML NNI round 2 of 24, 2101 of 3624 splits, 227 changes (max delta 17.078)\n",
      "     86.07 seconds: ML NNI round 2 of 24, 2201 of 3624 splits, 232 changes (max delta 17.078)\n",
      "     86.38 seconds: ML NNI round 2 of 24, 2301 of 3624 splits, 241 changes (max delta 17.078)\n",
      "     86.75 seconds: ML NNI round 2 of 24, 2401 of 3624 splits, 248 changes (max delta 17.078)\n",
      "     87.09 seconds: ML NNI round 2 of 24, 2501 of 3624 splits, 261 changes (max delta 17.078)\n",
      "     87.43 seconds: ML NNI round 2 of 24, 2601 of 3624 splits, 275 changes (max delta 17.078)\n",
      "     87.72 seconds: ML NNI round 2 of 24, 2701 of 3624 splits, 283 changes (max delta 17.078)\n",
      "     88.08 seconds: ML NNI round 2 of 24, 2801 of 3624 splits, 293 changes (max delta 17.078)\n",
      "     88.38 seconds: ML NNI round 2 of 24, 2901 of 3624 splits, 303 changes (max delta 17.078)\n",
      "     88.70 seconds: ML NNI round 2 of 24, 3001 of 3624 splits, 318 changes (max delta 17.078)\n",
      "     89.02 seconds: ML NNI round 2 of 24, 3101 of 3624 splits, 325 changes (max delta 17.078)\n",
      "     89.34 seconds: ML NNI round 2 of 24, 3201 of 3624 splits, 335 changes (max delta 17.078)\n",
      "     89.61 seconds: ML NNI round 2 of 24, 3301 of 3624 splits, 342 changes (max delta 17.078)\n",
      "     89.91 seconds: ML NNI round 2 of 24, 3401 of 3624 splits, 348 changes (max delta 17.078)\n",
      "     90.22 seconds: ML NNI round 2 of 24, 3501 of 3624 splits, 354 changes (max delta 17.078)\n",
      "     90.50 seconds: ML NNI round 2 of 24, 3601 of 3624 splits, 361 changes (max delta 17.078)\n",
      "ML-NNI round 2: LogLk = -228290.136 NNIs 365 max delta 17.08 Time 90.71\n",
      "     90.71 seconds: ML NNI round 3 of 24, 1 of 3624 splits\n",
      "     90.97 seconds: ML NNI round 3 of 24, 101 of 3624 splits, 4 changes (max delta 0.000)\n",
      "     91.20 seconds: ML NNI round 3 of 24, 201 of 3624 splits, 8 changes (max delta 0.000)\n",
      "     91.51 seconds: ML NNI round 3 of 24, 301 of 3624 splits, 22 changes (max delta 8.851)\n",
      "     91.81 seconds: ML NNI round 3 of 24, 401 of 3624 splits, 28 changes (max delta 8.851)\n",
      "     92.22 seconds: ML NNI round 3 of 24, 501 of 3624 splits, 41 changes (max delta 8.851)\n",
      "     92.67 seconds: ML NNI round 3 of 24, 601 of 3624 splits, 48 changes (max delta 8.851)\n",
      "     93.16 seconds: ML NNI round 3 of 24, 701 of 3624 splits, 57 changes (max delta 8.851)\n",
      "     93.65 seconds: ML NNI round 3 of 24, 801 of 3624 splits, 65 changes (max delta 8.851)\n",
      "     94.29 seconds: ML NNI round 3 of 24, 901 of 3624 splits, 76 changes (max delta 8.851)\n",
      "     94.72 seconds: ML NNI round 3 of 24, 1001 of 3624 splits, 84 changes (max delta 8.851)\n",
      "     94.97 seconds: ML NNI round 3 of 24, 1101 of 3624 splits, 89 changes (max delta 8.851)\n",
      "     95.39 seconds: ML NNI round 3 of 24, 1201 of 3624 splits, 94 changes (max delta 8.851)\n",
      "     95.76 seconds: ML NNI round 3 of 24, 1301 of 3624 splits, 102 changes (max delta 8.851)\n",
      "     96.02 seconds: ML NNI round 3 of 24, 1401 of 3624 splits, 102 changes (max delta 8.851)\n",
      "     96.37 seconds: ML NNI round 3 of 24, 1501 of 3624 splits, 109 changes (max delta 8.851)\n",
      "     96.65 seconds: ML NNI round 3 of 24, 1601 of 3624 splits, 114 changes (max delta 8.851)\n",
      "     96.93 seconds: ML NNI round 3 of 24, 1701 of 3624 splits, 119 changes (max delta 8.851)\n",
      "     97.16 seconds: ML NNI round 3 of 24, 1801 of 3624 splits, 125 changes (max delta 8.851)\n",
      "     97.43 seconds: ML NNI round 3 of 24, 1901 of 3624 splits, 132 changes (max delta 8.851)\n",
      "     97.73 seconds: ML NNI round 3 of 24, 2001 of 3624 splits, 141 changes (max delta 8.851)\n",
      "     98.04 seconds: ML NNI round 3 of 24, 2101 of 3624 splits, 152 changes (max delta 8.851)\n",
      "     98.27 seconds: ML NNI round 3 of 24, 2201 of 3624 splits, 155 changes (max delta 8.851)\n",
      "     98.47 seconds: ML NNI round 3 of 24, 2301 of 3624 splits, 157 changes (max delta 8.851)\n",
      "     98.74 seconds: ML NNI round 3 of 24, 2401 of 3624 splits, 157 changes (max delta 8.851)\n",
      "ML-NNI round 3: LogLk = -228096.350 NNIs 163 max delta 8.85 Time 99.06\n",
      "     99.06 seconds: ML NNI round 4 of 24, 1 of 3624 splits\n",
      "     99.24 seconds: ML NNI round 4 of 24, 101 of 3624 splits, 0 changes\n",
      "     99.55 seconds: ML NNI round 4 of 24, 201 of 3624 splits, 11 changes (max delta 1.896)\n",
      "     99.86 seconds: ML NNI round 4 of 24, 301 of 3624 splits, 16 changes (max delta 5.019)\n",
      "    100.15 seconds: ML NNI round 4 of 24, 401 of 3624 splits, 22 changes (max delta 5.019)\n",
      "    100.61 seconds: ML NNI round 4 of 24, 501 of 3624 splits, 29 changes (max delta 5.019)\n",
      "    100.87 seconds: ML NNI round 4 of 24, 601 of 3624 splits, 31 changes (max delta 5.019)\n",
      "    101.13 seconds: ML NNI round 4 of 24, 701 of 3624 splits, 33 changes (max delta 5.019)\n",
      "    101.40 seconds: ML NNI round 4 of 24, 801 of 3624 splits, 38 changes (max delta 5.019)\n",
      "    101.70 seconds: ML NNI round 4 of 24, 901 of 3624 splits, 45 changes (max delta 6.758)\n",
      "    101.91 seconds: ML NNI round 4 of 24, 1001 of 3624 splits, 48 changes (max delta 6.758)\n",
      "    102.17 seconds: ML NNI round 4 of 24, 1101 of 3624 splits, 51 changes (max delta 6.758)\n",
      "    102.45 seconds: ML NNI round 4 of 24, 1201 of 3624 splits, 53 changes (max delta 6.758)\n",
      "    102.64 seconds: ML NNI round 4 of 24, 1301 of 3624 splits, 53 changes (max delta 6.758)\n",
      "    102.89 seconds: ML NNI round 4 of 24, 1401 of 3624 splits, 55 changes (max delta 6.758)\n",
      "    103.17 seconds: ML NNI round 4 of 24, 1501 of 3624 splits, 63 changes (max delta 6.758)\n",
      "    103.38 seconds: ML NNI round 4 of 24, 1601 of 3624 splits, 65 changes (max delta 6.758)\n",
      "ML-NNI round 4: LogLk = -228007.966 NNIs 65 max delta 6.76 Time 103.53\n",
      "    103.52 seconds: ML NNI round 5 of 24, 1 of 3624 splits\n",
      "    103.81 seconds: ML NNI round 5 of 24, 101 of 3624 splits, 6 changes (max delta 0.087)\n",
      "    104.14 seconds: ML NNI round 5 of 24, 201 of 3624 splits, 11 changes (max delta 5.114)\n",
      "    104.41 seconds: ML NNI round 5 of 24, 301 of 3624 splits, 18 changes (max delta 5.114)\n",
      "    104.62 seconds: ML NNI round 5 of 24, 401 of 3624 splits, 20 changes (max delta 5.114)\n",
      "    104.94 seconds: ML NNI round 5 of 24, 501 of 3624 splits, 23 changes (max delta 5.114)\n",
      "    105.18 seconds: ML NNI round 5 of 24, 601 of 3624 splits, 24 changes (max delta 5.114)\n",
      "    105.53 seconds: ML NNI round 5 of 24, 701 of 3624 splits, 28 changes (max delta 5.114)\n",
      "ML-NNI round 5: LogLk = -227971.327 NNIs 31 max delta 5.11 Time 105.90\n",
      "    105.89 seconds: ML NNI round 6 of 24, 1 of 3624 splits\n",
      "    106.21 seconds: ML NNI round 6 of 24, 101 of 3624 splits, 5 changes (max delta 1.991)\n",
      "    106.54 seconds: ML NNI round 6 of 24, 201 of 3624 splits, 14 changes (max delta 3.082)\n",
      "    106.92 seconds: ML NNI round 6 of 24, 301 of 3624 splits, 17 changes (max delta 3.082)\n",
      "    107.21 seconds: ML NNI round 6 of 24, 401 of 3624 splits, 20 changes (max delta 3.082)\n",
      "ML-NNI round 6: LogLk = -227949.614 NNIs 21 max delta 3.08 Time 107.46\n",
      "    107.46 seconds: ML NNI round 7 of 24, 1 of 3624 splits\n",
      "    107.80 seconds: ML NNI round 7 of 24, 101 of 3624 splits, 6 changes (max delta 0.479)\n",
      "    108.13 seconds: ML NNI round 7 of 24, 201 of 3624 splits, 11 changes (max delta 2.741)\n",
      "ML-NNI round 7: LogLk = -227936.496 NNIs 12 max delta 2.74 Time 108.37\n",
      "    108.37 seconds: ML NNI round 8 of 24, 1 of 3624 splits\n",
      "    108.68 seconds: ML NNI round 8 of 24, 101 of 3624 splits, 6 changes (max delta 4.204)\n",
      "ML-NNI round 8: LogLk = -227901.331 NNIs 10 max delta 4.20 Time 108.99\n",
      "    108.98 seconds: ML NNI round 9 of 24, 1 of 3624 splits\n",
      "    109.30 seconds: ML NNI round 9 of 24, 101 of 3624 splits, 4 changes (max delta 1.124)\n",
      "ML-NNI round 9: LogLk = -227898.900 NNIs 4 max delta 1.12 Time 109.46\n",
      "    109.46 seconds: ML NNI round 10 of 24, 1 of 3624 splits\n",
      "ML-NNI round 10: LogLk = -227898.829 NNIs 0 max delta 0.00 Time 109.78\n",
      "Turning off heuristics for final round of ML NNIs (converged)\n",
      "    109.77 seconds: ML NNI round 11 of 24, 1 of 3624 splits\n",
      "    110.12 seconds: ML NNI round 11 of 24, 101 of 3624 splits, 0 changes\n",
      "    110.51 seconds: ML NNI round 11 of 24, 201 of 3624 splits, 0 changes\n",
      "    110.91 seconds: ML NNI round 11 of 24, 301 of 3624 splits, 3 changes (max delta 3.390)\n",
      "    111.31 seconds: ML NNI round 11 of 24, 401 of 3624 splits, 5 changes (max delta 3.390)\n",
      "    111.73 seconds: ML NNI round 11 of 24, 501 of 3624 splits, 8 changes (max delta 3.390)\n",
      "    112.14 seconds: ML NNI round 11 of 24, 601 of 3624 splits, 8 changes (max delta 3.390)\n",
      "    112.56 seconds: ML NNI round 11 of 24, 701 of 3624 splits, 8 changes (max delta 3.390)\n",
      "    112.97 seconds: ML NNI round 11 of 24, 801 of 3624 splits, 10 changes (max delta 3.390)\n",
      "    113.56 seconds: ML NNI round 11 of 24, 901 of 3624 splits, 10 changes (max delta 3.390)\n",
      "    114.10 seconds: ML NNI round 11 of 24, 1001 of 3624 splits, 12 changes (max delta 3.544)\n",
      "    114.64 seconds: ML NNI round 11 of 24, 1101 of 3624 splits, 15 changes (max delta 3.544)\n",
      "    115.07 seconds: ML NNI round 11 of 24, 1201 of 3624 splits, 17 changes (max delta 3.544)\n",
      "    115.51 seconds: ML NNI round 11 of 24, 1301 of 3624 splits, 17 changes (max delta 3.544)\n",
      "    116.05 seconds: ML NNI round 11 of 24, 1401 of 3624 splits, 21 changes (max delta 3.544)\n",
      "    116.48 seconds: ML NNI round 11 of 24, 1501 of 3624 splits, 22 changes (max delta 3.544)\n",
      "    117.07 seconds: ML NNI round 11 of 24, 1601 of 3624 splits, 22 changes (max delta 3.544)\n",
      "    117.51 seconds: ML NNI round 11 of 24, 1701 of 3624 splits, 22 changes (max delta 3.544)\n",
      "    117.91 seconds: ML NNI round 11 of 24, 1801 of 3624 splits, 25 changes (max delta 4.821)\n",
      "    118.35 seconds: ML NNI round 11 of 24, 1901 of 3624 splits, 25 changes (max delta 4.821)\n",
      "    118.87 seconds: ML NNI round 11 of 24, 2001 of 3624 splits, 25 changes (max delta 4.821)\n",
      "    119.48 seconds: ML NNI round 11 of 24, 2101 of 3624 splits, 33 changes (max delta 5.654)\n",
      "    120.05 seconds: ML NNI round 11 of 24, 2201 of 3624 splits, 36 changes (max delta 7.000)\n",
      "    120.52 seconds: ML NNI round 11 of 24, 2301 of 3624 splits, 39 changes (max delta 7.000)\n",
      "    121.05 seconds: ML NNI round 11 of 24, 2401 of 3624 splits, 42 changes (max delta 7.000)\n",
      "    121.80 seconds: ML NNI round 11 of 24, 2501 of 3624 splits, 46 changes (max delta 7.000)\n",
      "    122.27 seconds: ML NNI round 11 of 24, 2601 of 3624 splits, 47 changes (max delta 7.000)\n",
      "    122.71 seconds: ML NNI round 11 of 24, 2701 of 3624 splits, 49 changes (max delta 7.000)\n",
      "    123.09 seconds: ML NNI round 11 of 24, 2801 of 3624 splits, 50 changes (max delta 7.000)\n",
      "    123.54 seconds: ML NNI round 11 of 24, 2901 of 3624 splits, 52 changes (max delta 7.000)\n",
      "    124.06 seconds: ML NNI round 11 of 24, 3001 of 3624 splits, 52 changes (max delta 7.000)\n",
      "    124.62 seconds: ML NNI round 11 of 24, 3101 of 3624 splits, 55 changes (max delta 15.371)\n",
      "    125.17 seconds: ML NNI round 11 of 24, 3201 of 3624 splits, 56 changes (max delta 15.371)\n",
      "    125.63 seconds: ML NNI round 11 of 24, 3301 of 3624 splits, 57 changes (max delta 15.371)\n",
      "    126.32 seconds: ML NNI round 11 of 24, 3401 of 3624 splits, 60 changes (max delta 15.371)\n",
      "    126.78 seconds: ML NNI round 11 of 24, 3501 of 3624 splits, 65 changes (max delta 15.371)\n",
      "ML-NNI round 11: LogLk = -227701.739 NNIs 70 max delta 15.37 Time 128.22 (final)\n",
      "    128.22 seconds: ML Lengths 1 of 3624 splits\n",
      "    128.34 seconds: ML Lengths 101 of 3624 splits\n",
      "    128.55 seconds: ML Lengths 201 of 3624 splits\n",
      "    128.76 seconds: ML Lengths 301 of 3624 splits\n",
      "    128.87 seconds: ML Lengths 401 of 3624 splits\n",
      "    129.09 seconds: ML Lengths 501 of 3624 splits\n",
      "    129.19 seconds: ML Lengths 601 of 3624 splits\n",
      "    129.33 seconds: ML Lengths 701 of 3624 splits\n",
      "    129.49 seconds: ML Lengths 801 of 3624 splits\n",
      "    129.62 seconds: ML Lengths 901 of 3624 splits\n",
      "    129.96 seconds: ML Lengths 1001 of 3624 splits\n",
      "    130.22 seconds: ML Lengths 1101 of 3624 splits\n",
      "    130.37 seconds: ML Lengths 1201 of 3624 splits\n",
      "    130.58 seconds: ML Lengths 1301 of 3624 splits\n",
      "    130.75 seconds: ML Lengths 1501 of 3624 splits\n",
      "    130.94 seconds: ML Lengths 1701 of 3624 splits\n",
      "    131.07 seconds: ML Lengths 1801 of 3624 splits\n",
      "    131.18 seconds: ML Lengths 1901 of 3624 splits\n",
      "    131.31 seconds: ML Lengths 2001 of 3624 splits\n",
      "    131.41 seconds: ML Lengths 2101 of 3624 splits\n",
      "    131.59 seconds: ML Lengths 2301 of 3624 splits\n",
      "    131.77 seconds: ML Lengths 2501 of 3624 splits\n",
      "    131.94 seconds: ML Lengths 2701 of 3624 splits\n",
      "    132.14 seconds: ML Lengths 2901 of 3624 splits\n",
      "    132.25 seconds: ML Lengths 3001 of 3624 splits\n",
      "    132.35 seconds: ML Lengths 3101 of 3624 splits\n",
      "    132.46 seconds: ML Lengths 3201 of 3624 splits\n",
      "    132.56 seconds: ML Lengths 3301 of 3624 splits\n",
      "    132.68 seconds: ML Lengths 3401 of 3624 splits\n",
      "    132.80 seconds: ML Lengths 3501 of 3624 splits\n",
      "    132.91 seconds: ML Lengths 3601 of 3624 splits\n",
      "Optimize all lengths: LogLk = -227685.997 Time 133.11\n",
      "    133.77 seconds: ML split tests for    100 of   3623 internal splits\n",
      "    134.56 seconds: ML split tests for    200 of   3623 internal splits\n",
      "    135.11 seconds: ML split tests for    300 of   3623 internal splits\n",
      "    135.72 seconds: ML split tests for    400 of   3623 internal splits\n",
      "    136.30 seconds: ML split tests for    500 of   3623 internal splits\n",
      "    136.95 seconds: ML split tests for    600 of   3623 internal splits\n",
      "    137.51 seconds: ML split tests for    700 of   3623 internal splits\n",
      "    138.13 seconds: ML split tests for    800 of   3623 internal splits\n",
      "    138.68 seconds: ML split tests for    900 of   3623 internal splits\n",
      "    139.28 seconds: ML split tests for   1000 of   3623 internal splits\n",
      "    139.82 seconds: ML split tests for   1100 of   3623 internal splits\n",
      "    140.35 seconds: ML split tests for   1200 of   3623 internal splits\n",
      "    140.96 seconds: ML split tests for   1300 of   3623 internal splits\n",
      "    141.48 seconds: ML split tests for   1400 of   3623 internal splits\n",
      "    142.01 seconds: ML split tests for   1500 of   3623 internal splits\n",
      "    142.54 seconds: ML split tests for   1600 of   3623 internal splits\n",
      "    143.09 seconds: ML split tests for   1700 of   3623 internal splits\n",
      "    143.64 seconds: ML split tests for   1800 of   3623 internal splits\n",
      "    144.18 seconds: ML split tests for   1900 of   3623 internal splits\n",
      "    144.74 seconds: ML split tests for   2000 of   3623 internal splits\n",
      "    145.26 seconds: ML split tests for   2100 of   3623 internal splits\n",
      "    145.80 seconds: ML split tests for   2200 of   3623 internal splits\n",
      "    146.34 seconds: ML split tests for   2300 of   3623 internal splits\n",
      "    146.86 seconds: ML split tests for   2400 of   3623 internal splits\n",
      "    147.39 seconds: ML split tests for   2500 of   3623 internal splits\n",
      "    147.92 seconds: ML split tests for   2600 of   3623 internal splits\n",
      "    148.42 seconds: ML split tests for   2700 of   3623 internal splits\n",
      "    148.94 seconds: ML split tests for   2800 of   3623 internal splits\n",
      "    149.48 seconds: ML split tests for   2900 of   3623 internal splits\n",
      "    150.02 seconds: ML split tests for   3000 of   3623 internal splits\n",
      "    150.59 seconds: ML split tests for   3100 of   3623 internal splits\n",
      "    151.13 seconds: ML split tests for   3200 of   3623 internal splits\n",
      "    151.69 seconds: ML split tests for   3300 of   3623 internal splits\n",
      "    152.23 seconds: ML split tests for   3400 of   3623 internal splits\n",
      "    152.76 seconds: ML split tests for   3500 of   3623 internal splits\n",
      "    153.29 seconds: ML split tests for   3600 of   3623 internal splits\n",
      "Total time: 153.41 seconds Unique: 3626/3752 Bad splits: 13/3623 Worst delta-LogLk 3.093\n"
     ]
    },
    {
     "data": {
      "text/plain": [
       "'../data/qiime/rooted_tree.qza'"
      ]
     },
     "execution_count": 202,
     "metadata": {},
     "output_type": "execute_result"
    }
   ],
   "source": [
    "# MSA\n",
    "mafft_alignment = alignment.methods.mafft(rep_seqs)\n",
    "# masked\n",
    "masked_mafft_alignment = alignment.methods.mask(mafft_alignment.alignment)\n",
    "# tree + root\n",
    "unrooted_tree = phylogeny.methods.fasttree(masked_mafft_alignment.masked_alignment)\n",
    "rooted_tree = phylogeny.methods.midpoint_root(unrooted_tree.tree)\n",
    "# save \n",
    "rooted_tree.rooted_tree.save(os.path.join(datapath, 'qiime/rooted_tree.qza'))"
   ]
  },
  {
   "cell_type": "markdown",
   "metadata": {},
   "source": [
    "## Create a rarefied table "
   ]
  },
  {
   "cell_type": "code",
   "execution_count": 203,
   "metadata": {},
   "outputs": [],
   "source": [
    "mt = Artifact.load(os.path.join(datapath, 'qiime', 'mt.qza'))\n",
    "rooted_tree=Artifact.load(os.path.join(datapath, 'qiime/rooted_tree.qza'))\n",
    "bombusMeta = Metadata.load(os.path.join(datapath, 'BombusMetadata.tsv'))"
   ]
  },
  {
   "cell_type": "code",
   "execution_count": 204,
   "metadata": {
    "collapsed": true,
    "jupyter": {
     "outputs_hidden": true
    },
    "tags": []
   },
   "outputs": [
    {
     "name": "stderr",
     "output_type": "stream",
     "text": [
      "/Users/Mark/mambaforge/envs/bombus_toshare/lib/python3.10/site-packages/qiime2/metadata/metadata.py:610: FutureWarning: Setting an item of incompatible dtype is deprecated and will raise an error in a future version of pandas. Value '[nan nan nan nan nan nan nan nan nan nan nan nan nan nan nan nan nan nan\n",
      " nan nan nan nan nan nan nan nan nan nan nan nan nan nan nan nan nan nan\n",
      " nan nan nan nan nan nan nan nan nan nan nan nan nan nan nan nan nan nan\n",
      " nan nan nan nan nan nan nan nan nan nan nan nan nan nan nan nan nan nan\n",
      " nan nan nan nan nan nan nan nan nan nan nan nan nan]' has dtype incompatible with float64, please explicitly cast to a compatible dtype first.\n",
      "  series[missing.index] = missing\n",
      "/Users/Mark/mambaforge/envs/bombus_toshare/lib/python3.10/site-packages/qiime2/metadata/metadata.py:610: FutureWarning: Setting an item of incompatible dtype is deprecated and will raise an error in a future version of pandas. Value '[nan nan nan nan nan nan nan nan nan nan nan nan nan nan nan nan nan nan\n",
      " nan nan nan nan nan nan nan nan nan nan nan nan nan nan nan nan nan nan\n",
      " nan nan nan nan nan nan nan nan nan nan nan nan nan nan nan nan nan nan\n",
      " nan nan nan nan nan nan nan nan nan nan nan nan nan nan nan nan nan nan\n",
      " nan nan nan nan nan nan nan nan nan nan nan nan nan]' has dtype incompatible with float64, please explicitly cast to a compatible dtype first.\n",
      "  series[missing.index] = missing\n",
      "/Users/Mark/mambaforge/envs/bombus_toshare/lib/python3.10/site-packages/qiime2/metadata/metadata.py:610: FutureWarning: Setting an item of incompatible dtype is deprecated and will raise an error in a future version of pandas. Value '[nan nan nan nan nan nan nan nan nan nan nan nan nan nan nan nan nan nan\n",
      " nan nan nan nan nan nan nan nan nan nan nan nan nan nan nan nan nan nan\n",
      " nan nan nan nan nan nan nan nan nan nan nan nan nan nan nan nan nan nan\n",
      " nan nan nan nan nan nan nan nan nan nan nan nan nan nan nan nan nan nan\n",
      " nan nan nan nan nan nan nan nan nan nan nan nan nan nan nan nan nan nan\n",
      " nan nan nan nan nan nan nan nan nan nan nan nan nan nan nan nan nan nan\n",
      " nan nan nan nan nan nan nan nan nan nan nan nan nan nan nan nan nan nan\n",
      " nan nan nan nan nan nan nan nan nan nan nan nan nan nan nan nan nan nan\n",
      " nan nan nan nan nan nan nan nan nan nan nan nan nan nan nan nan nan nan\n",
      " nan nan nan nan nan nan nan nan nan nan nan nan nan nan nan nan nan nan\n",
      " nan nan nan nan nan nan nan nan nan nan nan nan nan nan nan nan nan nan\n",
      " nan nan nan nan nan nan nan nan nan nan nan nan nan nan nan nan nan nan\n",
      " nan nan nan nan nan nan nan nan nan nan nan nan nan nan nan nan nan nan\n",
      " nan nan nan nan nan nan nan nan nan nan nan nan nan nan nan nan nan nan\n",
      " nan nan nan nan nan nan nan nan nan nan nan nan nan nan nan nan nan nan\n",
      " nan nan nan nan nan nan nan nan nan nan nan nan nan nan nan nan nan nan\n",
      " nan nan nan nan nan nan nan nan nan nan nan nan nan nan nan nan nan nan\n",
      " nan nan nan nan nan nan nan nan nan nan nan nan nan nan nan nan nan nan\n",
      " nan nan nan nan nan nan nan nan nan nan nan nan nan nan nan nan nan nan\n",
      " nan nan nan nan nan nan nan nan nan nan nan nan nan nan nan nan nan nan\n",
      " nan nan nan nan nan nan nan nan nan nan nan nan nan nan nan nan nan nan\n",
      " nan nan nan nan nan nan nan nan nan nan nan nan nan]' has dtype incompatible with float64, please explicitly cast to a compatible dtype first.\n",
      "  series[missing.index] = missing\n",
      "/Users/Mark/mambaforge/envs/bombus_toshare/lib/python3.10/site-packages/qiime2/metadata/metadata.py:610: FutureWarning: Setting an item of incompatible dtype is deprecated and will raise an error in a future version of pandas. Value '[nan nan nan nan nan nan nan nan nan nan nan nan nan nan nan nan nan nan\n",
      " nan nan nan nan nan nan nan nan nan nan nan nan nan nan nan nan nan nan\n",
      " nan nan nan nan nan nan nan nan nan nan nan nan nan nan nan nan nan nan\n",
      " nan nan nan nan nan nan nan nan nan nan nan nan nan nan nan nan nan nan\n",
      " nan nan nan nan nan nan nan nan nan nan nan nan nan nan nan nan nan nan\n",
      " nan nan nan nan nan nan nan nan nan nan nan nan nan nan nan nan nan nan\n",
      " nan nan nan nan nan nan nan nan nan nan nan nan nan nan nan nan nan nan\n",
      " nan nan nan nan nan nan nan nan nan nan nan nan nan nan nan nan nan nan\n",
      " nan nan nan nan nan nan nan nan nan nan nan nan nan nan nan nan nan nan\n",
      " nan nan nan nan nan nan nan nan nan nan nan nan nan nan nan nan nan nan\n",
      " nan nan nan nan nan nan nan nan nan nan nan nan nan nan nan nan nan nan\n",
      " nan nan nan nan nan nan nan nan nan nan nan nan nan nan nan nan nan nan\n",
      " nan nan nan nan nan nan nan nan nan nan nan nan nan nan nan nan nan nan\n",
      " nan nan nan nan nan nan nan nan nan nan nan nan nan nan nan nan nan nan\n",
      " nan nan nan nan nan nan nan nan nan nan nan nan nan nan nan nan nan nan\n",
      " nan nan nan nan nan nan nan nan nan nan nan nan nan nan nan nan nan nan\n",
      " nan nan nan nan nan nan nan nan nan nan nan nan nan nan nan nan nan nan\n",
      " nan nan nan nan nan nan nan nan nan nan nan nan nan nan nan nan nan nan\n",
      " nan nan nan nan nan nan nan nan nan nan nan nan nan nan nan nan nan nan\n",
      " nan nan nan nan nan nan nan nan nan nan nan nan nan nan nan nan nan nan\n",
      " nan nan nan nan nan nan nan nan nan nan nan nan nan nan nan nan nan nan\n",
      " nan nan nan nan nan nan nan nan nan nan nan nan nan nan nan nan nan nan\n",
      " nan nan nan nan nan nan nan nan nan nan nan nan nan nan nan nan nan nan\n",
      " nan nan nan nan nan]' has dtype incompatible with float64, please explicitly cast to a compatible dtype first.\n",
      "  series[missing.index] = missing\n",
      "/Users/Mark/mambaforge/envs/bombus_toshare/lib/python3.10/site-packages/qiime2/metadata/metadata.py:610: FutureWarning: Setting an item of incompatible dtype is deprecated and will raise an error in a future version of pandas. Value '[nan nan nan nan nan nan nan nan nan nan nan nan nan nan nan nan nan nan\n",
      " nan nan nan nan nan nan nan nan nan nan nan nan nan nan nan nan nan nan\n",
      " nan nan nan nan nan nan nan nan nan nan nan nan nan nan nan nan nan nan\n",
      " nan nan nan nan nan nan nan nan nan nan nan nan nan nan nan nan nan nan\n",
      " nan nan nan nan nan nan nan nan nan nan nan nan nan nan nan nan nan nan\n",
      " nan nan nan nan nan nan nan nan nan nan nan nan nan nan nan nan nan nan\n",
      " nan nan nan nan nan nan nan nan nan nan nan nan nan nan nan nan nan nan\n",
      " nan nan nan nan nan nan nan nan nan nan nan nan nan nan nan nan nan nan\n",
      " nan nan nan nan nan nan nan nan nan nan nan nan nan nan nan nan nan nan\n",
      " nan nan nan nan nan nan nan nan nan nan nan nan nan nan nan nan nan nan\n",
      " nan nan nan nan nan nan nan nan nan nan nan nan nan nan nan nan nan nan\n",
      " nan nan nan nan nan nan nan nan nan nan nan nan nan nan nan nan nan nan\n",
      " nan nan nan nan nan nan nan nan nan nan nan nan nan nan nan nan nan nan\n",
      " nan nan nan nan nan nan nan nan nan nan nan nan nan nan nan nan nan nan\n",
      " nan nan nan nan nan nan nan nan nan nan nan nan nan nan nan nan nan nan\n",
      " nan nan nan nan nan nan nan nan nan nan nan nan nan nan nan nan nan nan\n",
      " nan nan nan nan nan nan nan nan nan nan nan nan nan nan nan nan nan nan\n",
      " nan nan nan nan nan nan nan nan nan nan nan nan nan nan nan nan nan nan\n",
      " nan nan nan nan nan nan nan nan nan nan nan nan nan nan nan nan nan nan\n",
      " nan nan nan nan nan nan nan nan nan nan nan nan nan nan nan nan nan nan\n",
      " nan nan nan nan nan nan nan nan nan nan nan nan nan nan nan nan nan nan\n",
      " nan nan nan nan nan nan nan nan nan nan nan nan nan nan nan nan nan nan\n",
      " nan nan nan nan nan nan nan nan nan nan nan nan nan nan nan nan nan nan\n",
      " nan nan nan nan nan nan nan nan nan nan nan nan nan nan nan nan nan nan\n",
      " nan nan nan nan nan nan nan nan nan nan nan nan nan nan nan nan nan nan\n",
      " nan nan nan nan nan nan nan nan nan nan nan nan nan nan nan nan nan nan\n",
      " nan nan nan nan nan nan nan nan nan nan nan nan nan nan nan nan nan nan\n",
      " nan nan nan nan nan nan nan nan nan nan nan nan nan nan nan nan nan nan\n",
      " nan nan nan nan nan nan nan nan nan nan nan nan nan nan nan nan nan nan\n",
      " nan nan nan nan nan nan nan nan nan nan nan nan nan nan nan nan nan nan\n",
      " nan nan nan nan nan nan nan nan nan nan nan nan nan nan nan nan nan nan\n",
      " nan nan nan nan nan nan nan nan nan nan nan nan nan nan nan nan nan nan\n",
      " nan nan nan nan nan nan nan nan nan nan nan nan nan nan nan nan nan nan\n",
      " nan nan nan nan nan nan nan nan nan nan nan nan nan nan nan nan nan nan\n",
      " nan nan nan nan nan nan nan nan nan nan nan nan nan nan nan nan nan nan\n",
      " nan nan nan nan nan nan nan nan nan nan nan nan nan nan nan nan nan nan\n",
      " nan nan nan nan nan nan nan nan nan nan nan nan nan nan nan]' has dtype incompatible with float64, please explicitly cast to a compatible dtype first.\n",
      "  series[missing.index] = missing\n",
      "/Users/Mark/mambaforge/envs/bombus_toshare/lib/python3.10/site-packages/qiime2/metadata/metadata.py:610: FutureWarning: Setting an item of incompatible dtype is deprecated and will raise an error in a future version of pandas. Value '[nan nan nan nan nan nan nan nan nan nan nan nan nan nan nan nan nan nan\n",
      " nan nan nan nan nan nan nan nan nan nan nan nan nan nan nan nan nan nan\n",
      " nan nan nan nan nan nan nan nan nan nan nan nan nan nan nan nan nan nan\n",
      " nan nan nan nan nan nan nan nan nan nan nan nan nan nan nan nan nan nan\n",
      " nan nan nan nan nan nan nan nan nan nan nan nan nan nan nan nan nan nan\n",
      " nan nan nan nan nan nan nan nan nan nan nan nan nan nan nan nan nan nan\n",
      " nan nan nan nan nan nan nan nan nan nan nan nan nan nan nan nan nan nan\n",
      " nan nan nan nan nan nan nan nan nan nan nan nan nan nan nan nan nan nan\n",
      " nan nan nan nan nan nan nan nan nan nan nan nan nan nan nan nan nan nan\n",
      " nan nan nan nan nan nan nan nan nan nan nan nan nan nan nan nan nan nan\n",
      " nan nan nan nan nan nan nan nan nan nan nan nan nan nan nan nan nan nan\n",
      " nan nan nan nan nan nan nan nan nan nan nan nan nan nan nan nan nan nan\n",
      " nan nan nan nan nan nan nan nan nan nan nan nan nan nan nan nan nan nan\n",
      " nan nan nan nan nan nan nan nan nan nan nan nan nan nan nan nan nan nan\n",
      " nan nan nan nan nan nan nan nan nan nan nan nan nan nan nan nan nan nan\n",
      " nan nan nan nan nan nan nan nan nan nan nan nan nan nan nan nan nan nan\n",
      " nan nan nan nan nan nan nan nan nan nan nan nan nan nan nan nan nan nan\n",
      " nan nan nan nan nan nan nan nan nan nan nan nan nan nan nan nan nan nan\n",
      " nan nan nan nan nan nan nan nan nan nan nan nan nan nan nan nan nan nan\n",
      " nan nan nan nan nan nan nan nan nan nan nan nan nan nan nan nan nan nan\n",
      " nan nan nan nan nan nan nan nan nan nan nan nan nan nan nan nan nan nan\n",
      " nan nan nan nan nan nan nan nan nan nan nan nan nan nan nan nan nan nan\n",
      " nan nan nan nan nan nan nan nan nan nan nan nan nan nan nan nan nan nan\n",
      " nan nan nan nan nan nan nan nan nan nan nan nan nan nan nan nan nan nan\n",
      " nan nan nan nan nan nan nan nan nan nan nan nan nan nan nan nan nan nan\n",
      " nan nan nan nan nan nan nan nan nan nan nan nan nan nan nan nan nan nan\n",
      " nan nan nan nan nan nan nan nan nan nan nan nan nan nan nan nan nan nan\n",
      " nan nan nan nan nan nan nan nan nan nan nan nan nan nan nan nan nan nan\n",
      " nan nan nan nan nan nan nan nan nan nan nan nan nan nan nan nan nan nan\n",
      " nan nan nan nan nan nan nan nan nan nan nan nan nan nan nan nan nan nan\n",
      " nan nan nan nan nan nan nan nan nan nan nan nan nan nan nan nan nan nan\n",
      " nan nan nan nan nan nan nan nan nan nan nan nan nan nan nan nan nan nan\n",
      " nan nan nan nan nan nan nan nan nan nan nan nan nan nan nan nan nan nan\n",
      " nan nan nan nan nan nan nan nan nan nan nan nan nan nan nan nan nan nan\n",
      " nan nan nan nan nan nan nan nan nan nan nan nan nan nan nan nan nan nan\n",
      " nan nan nan nan nan nan nan nan nan nan nan nan nan nan nan nan nan nan\n",
      " nan nan nan nan nan nan nan nan nan nan nan nan nan nan nan]' has dtype incompatible with float64, please explicitly cast to a compatible dtype first.\n",
      "  series[missing.index] = missing\n",
      "/Users/Mark/mambaforge/envs/bombus_toshare/lib/python3.10/site-packages/qiime2/metadata/metadata.py:610: FutureWarning: Setting an item of incompatible dtype is deprecated and will raise an error in a future version of pandas. Value '[nan nan nan nan nan nan nan nan nan nan nan nan nan nan nan nan nan nan\n",
      " nan nan nan nan nan nan nan nan nan nan nan nan nan nan nan nan nan nan\n",
      " nan nan nan nan nan nan nan nan nan nan nan nan nan nan nan nan nan nan\n",
      " nan nan nan nan nan nan nan nan nan nan nan nan nan nan nan nan nan nan\n",
      " nan nan nan nan nan nan nan nan nan nan nan nan nan nan nan nan nan nan\n",
      " nan nan nan nan nan nan nan nan nan nan nan nan nan nan nan nan nan nan\n",
      " nan nan nan nan nan nan nan nan nan nan nan nan nan nan nan nan nan nan\n",
      " nan nan nan nan nan nan nan nan nan nan nan nan nan nan nan nan nan nan\n",
      " nan nan nan nan nan nan nan nan nan nan nan nan nan nan nan nan nan nan\n",
      " nan nan nan nan nan nan]' has dtype incompatible with float64, please explicitly cast to a compatible dtype first.\n",
      "  series[missing.index] = missing\n",
      "/Users/Mark/mambaforge/envs/bombus_toshare/lib/python3.10/site-packages/qiime2/metadata/metadata.py:610: FutureWarning: Setting an item of incompatible dtype is deprecated and will raise an error in a future version of pandas. Value '[nan nan nan nan nan nan nan nan nan nan nan nan nan nan nan nan nan nan\n",
      " nan nan nan nan nan nan nan nan nan nan nan nan nan nan nan nan nan nan\n",
      " nan nan nan nan nan nan nan nan nan nan nan nan nan nan nan nan nan nan\n",
      " nan nan nan nan nan nan nan nan nan nan nan nan nan nan nan nan nan nan\n",
      " nan nan nan nan nan nan nan nan nan nan nan nan nan nan nan nan nan nan\n",
      " nan nan nan nan nan nan nan nan nan nan nan nan nan nan nan nan nan nan\n",
      " nan nan nan nan nan nan nan nan nan nan nan nan nan nan nan nan nan nan\n",
      " nan nan nan nan nan nan nan nan nan nan nan nan nan nan nan nan nan nan\n",
      " nan nan nan nan nan nan nan nan nan nan nan nan nan nan]' has dtype incompatible with float64, please explicitly cast to a compatible dtype first.\n",
      "  series[missing.index] = missing\n"
     ]
    },
    {
     "name": "stdout",
     "output_type": "stream",
     "text": [
      "Running external command line application. This may print messages to stdout and/or stderr.\n",
      "The command being run is below. This command cannot be manually re-run as it will depend on temporary files that no longer exist.\n",
      "\n",
      "Command:\n",
      "\n",
      "faithpd -i /var/folders/kk/vx23v0b52wv0sx4vqhls42dw0000gn/T/qiime2/Mark/data/608959b3-3ca9-4f87-9bef-3e2d72cfc220/data/feature-table.biom -t /var/folders/kk/vx23v0b52wv0sx4vqhls42dw0000gn/T/qiime2/Mark/data/8ff07e13-3177-4748-b216-aa4b3d591051/data/tree.nwk -o /var/folders/kk/vx23v0b52wv0sx4vqhls42dw0000gn/T/qiime2/Mark/processes/28745-1733069495.838095@Mark/tmp/q2-OutPath-3u5e_wvd\n",
      "\n"
     ]
    },
    {
     "name": "stderr",
     "output_type": "stream",
     "text": [
      "/Users/Mark/mambaforge/envs/bombus_toshare/lib/python3.10/site-packages/q2_types/sample_data/_deferred_setup/_transformers.py:28: FutureWarning: errors='ignore' is deprecated and will raise in a future version. Use to_numeric without passing `errors` and catch exceptions explicitly instead\n",
      "  df[cols] = df[cols].apply(pd.to_numeric, errors='ignore')\n",
      "/Users/Mark/mambaforge/envs/bombus_toshare/lib/python3.10/site-packages/q2_types/sample_data/_deferred_setup/_transformers.py:28: FutureWarning: errors='ignore' is deprecated and will raise in a future version. Use to_numeric without passing `errors` and catch exceptions explicitly instead\n",
      "  df[cols] = df[cols].apply(pd.to_numeric, errors='ignore')\n",
      "/Users/Mark/mambaforge/envs/bombus_toshare/lib/python3.10/site-packages/skbio/util/_warning.py:60: UserWarning: observed_otus is deprecated as of 0.6.0.\n",
      "  warn(f\"{func.__name__} is deprecated as of {ver}.\")\n",
      "/Users/Mark/mambaforge/envs/bombus_toshare/lib/python3.10/site-packages/q2_types/sample_data/_deferred_setup/_transformers.py:28: FutureWarning: errors='ignore' is deprecated and will raise in a future version. Use to_numeric without passing `errors` and catch exceptions explicitly instead\n",
      "  df[cols] = df[cols].apply(pd.to_numeric, errors='ignore')\n"
     ]
    },
    {
     "name": "stdout",
     "output_type": "stream",
     "text": [
      "Running external command line application. This may print messages to stdout and/or stderr.\n",
      "The command being run is below. This command cannot be manually re-run as it will depend on temporary files that no longer exist.\n",
      "\n",
      "Command:\n",
      "\n",
      "faithpd -i /var/folders/kk/vx23v0b52wv0sx4vqhls42dw0000gn/T/qiime2/Mark/data/fbaf84a4-328d-4477-80a9-8492f1285c63/data/feature-table.biom -t /var/folders/kk/vx23v0b52wv0sx4vqhls42dw0000gn/T/qiime2/Mark/data/8ff07e13-3177-4748-b216-aa4b3d591051/data/tree.nwk -o /var/folders/kk/vx23v0b52wv0sx4vqhls42dw0000gn/T/qiime2/Mark/processes/28745-1733069495.838095@Mark/tmp/q2-OutPath-zu2l02fl\n",
      "\n"
     ]
    },
    {
     "name": "stderr",
     "output_type": "stream",
     "text": [
      "/Users/Mark/mambaforge/envs/bombus_toshare/lib/python3.10/site-packages/q2_types/sample_data/_deferred_setup/_transformers.py:28: FutureWarning: errors='ignore' is deprecated and will raise in a future version. Use to_numeric without passing `errors` and catch exceptions explicitly instead\n",
      "  df[cols] = df[cols].apply(pd.to_numeric, errors='ignore')\n",
      "/Users/Mark/mambaforge/envs/bombus_toshare/lib/python3.10/site-packages/q2_types/sample_data/_deferred_setup/_transformers.py:28: FutureWarning: errors='ignore' is deprecated and will raise in a future version. Use to_numeric without passing `errors` and catch exceptions explicitly instead\n",
      "  df[cols] = df[cols].apply(pd.to_numeric, errors='ignore')\n",
      "/Users/Mark/mambaforge/envs/bombus_toshare/lib/python3.10/site-packages/q2_types/sample_data/_deferred_setup/_transformers.py:28: FutureWarning: errors='ignore' is deprecated and will raise in a future version. Use to_numeric without passing `errors` and catch exceptions explicitly instead\n",
      "  df[cols] = df[cols].apply(pd.to_numeric, errors='ignore')\n"
     ]
    },
    {
     "name": "stdout",
     "output_type": "stream",
     "text": [
      "Running external command line application. This may print messages to stdout and/or stderr.\n",
      "The command being run is below. This command cannot be manually re-run as it will depend on temporary files that no longer exist.\n",
      "\n",
      "Command:\n",
      "\n",
      "faithpd -i /var/folders/kk/vx23v0b52wv0sx4vqhls42dw0000gn/T/qiime2/Mark/data/e86f4f80-911e-4e5e-8d5a-b4d5257a1930/data/feature-table.biom -t /var/folders/kk/vx23v0b52wv0sx4vqhls42dw0000gn/T/qiime2/Mark/data/8ff07e13-3177-4748-b216-aa4b3d591051/data/tree.nwk -o /var/folders/kk/vx23v0b52wv0sx4vqhls42dw0000gn/T/qiime2/Mark/processes/28745-1733069495.838095@Mark/tmp/q2-OutPath-pxk0_enm\n",
      "\n"
     ]
    },
    {
     "name": "stderr",
     "output_type": "stream",
     "text": [
      "/Users/Mark/mambaforge/envs/bombus_toshare/lib/python3.10/site-packages/q2_types/sample_data/_deferred_setup/_transformers.py:28: FutureWarning: errors='ignore' is deprecated and will raise in a future version. Use to_numeric without passing `errors` and catch exceptions explicitly instead\n",
      "  df[cols] = df[cols].apply(pd.to_numeric, errors='ignore')\n",
      "/Users/Mark/mambaforge/envs/bombus_toshare/lib/python3.10/site-packages/q2_types/sample_data/_deferred_setup/_transformers.py:28: FutureWarning: errors='ignore' is deprecated and will raise in a future version. Use to_numeric without passing `errors` and catch exceptions explicitly instead\n",
      "  df[cols] = df[cols].apply(pd.to_numeric, errors='ignore')\n",
      "/Users/Mark/mambaforge/envs/bombus_toshare/lib/python3.10/site-packages/q2_types/sample_data/_deferred_setup/_transformers.py:28: FutureWarning: errors='ignore' is deprecated and will raise in a future version. Use to_numeric without passing `errors` and catch exceptions explicitly instead\n",
      "  df[cols] = df[cols].apply(pd.to_numeric, errors='ignore')\n"
     ]
    },
    {
     "name": "stdout",
     "output_type": "stream",
     "text": [
      "Running external command line application. This may print messages to stdout and/or stderr.\n",
      "The command being run is below. This command cannot be manually re-run as it will depend on temporary files that no longer exist.\n",
      "\n",
      "Command:\n",
      "\n",
      "faithpd -i /var/folders/kk/vx23v0b52wv0sx4vqhls42dw0000gn/T/qiime2/Mark/data/eadb9ea9-a4e1-4347-8858-e2103abae071/data/feature-table.biom -t /var/folders/kk/vx23v0b52wv0sx4vqhls42dw0000gn/T/qiime2/Mark/data/8ff07e13-3177-4748-b216-aa4b3d591051/data/tree.nwk -o /var/folders/kk/vx23v0b52wv0sx4vqhls42dw0000gn/T/qiime2/Mark/processes/28745-1733069495.838095@Mark/tmp/q2-OutPath-v1rca898\n",
      "\n"
     ]
    },
    {
     "name": "stderr",
     "output_type": "stream",
     "text": [
      "/Users/Mark/mambaforge/envs/bombus_toshare/lib/python3.10/site-packages/q2_types/sample_data/_deferred_setup/_transformers.py:28: FutureWarning: errors='ignore' is deprecated and will raise in a future version. Use to_numeric without passing `errors` and catch exceptions explicitly instead\n",
      "  df[cols] = df[cols].apply(pd.to_numeric, errors='ignore')\n",
      "/Users/Mark/mambaforge/envs/bombus_toshare/lib/python3.10/site-packages/q2_types/sample_data/_deferred_setup/_transformers.py:28: FutureWarning: errors='ignore' is deprecated and will raise in a future version. Use to_numeric without passing `errors` and catch exceptions explicitly instead\n",
      "  df[cols] = df[cols].apply(pd.to_numeric, errors='ignore')\n",
      "/Users/Mark/mambaforge/envs/bombus_toshare/lib/python3.10/site-packages/q2_types/sample_data/_deferred_setup/_transformers.py:28: FutureWarning: errors='ignore' is deprecated and will raise in a future version. Use to_numeric without passing `errors` and catch exceptions explicitly instead\n",
      "  df[cols] = df[cols].apply(pd.to_numeric, errors='ignore')\n"
     ]
    },
    {
     "name": "stdout",
     "output_type": "stream",
     "text": [
      "Running external command line application. This may print messages to stdout and/or stderr.\n",
      "The command being run is below. This command cannot be manually re-run as it will depend on temporary files that no longer exist.\n",
      "\n",
      "Command:\n",
      "\n",
      "faithpd -i /var/folders/kk/vx23v0b52wv0sx4vqhls42dw0000gn/T/qiime2/Mark/data/cbe89040-6c2b-4129-97f8-7ef63329b1d3/data/feature-table.biom -t /var/folders/kk/vx23v0b52wv0sx4vqhls42dw0000gn/T/qiime2/Mark/data/8ff07e13-3177-4748-b216-aa4b3d591051/data/tree.nwk -o /var/folders/kk/vx23v0b52wv0sx4vqhls42dw0000gn/T/qiime2/Mark/processes/28745-1733069495.838095@Mark/tmp/q2-OutPath-_vpfgsyd\n",
      "\n"
     ]
    },
    {
     "name": "stderr",
     "output_type": "stream",
     "text": [
      "/Users/Mark/mambaforge/envs/bombus_toshare/lib/python3.10/site-packages/q2_types/sample_data/_deferred_setup/_transformers.py:28: FutureWarning: errors='ignore' is deprecated and will raise in a future version. Use to_numeric without passing `errors` and catch exceptions explicitly instead\n",
      "  df[cols] = df[cols].apply(pd.to_numeric, errors='ignore')\n",
      "/Users/Mark/mambaforge/envs/bombus_toshare/lib/python3.10/site-packages/q2_types/sample_data/_deferred_setup/_transformers.py:28: FutureWarning: errors='ignore' is deprecated and will raise in a future version. Use to_numeric without passing `errors` and catch exceptions explicitly instead\n",
      "  df[cols] = df[cols].apply(pd.to_numeric, errors='ignore')\n",
      "/Users/Mark/mambaforge/envs/bombus_toshare/lib/python3.10/site-packages/q2_types/sample_data/_deferred_setup/_transformers.py:28: FutureWarning: errors='ignore' is deprecated and will raise in a future version. Use to_numeric without passing `errors` and catch exceptions explicitly instead\n",
      "  df[cols] = df[cols].apply(pd.to_numeric, errors='ignore')\n"
     ]
    },
    {
     "name": "stdout",
     "output_type": "stream",
     "text": [
      "Running external command line application. This may print messages to stdout and/or stderr.\n",
      "The command being run is below. This command cannot be manually re-run as it will depend on temporary files that no longer exist.\n",
      "\n",
      "Command:\n",
      "\n",
      "faithpd -i /var/folders/kk/vx23v0b52wv0sx4vqhls42dw0000gn/T/qiime2/Mark/data/90fff6d0-5ae5-4ad0-9a07-1834c2681c79/data/feature-table.biom -t /var/folders/kk/vx23v0b52wv0sx4vqhls42dw0000gn/T/qiime2/Mark/data/8ff07e13-3177-4748-b216-aa4b3d591051/data/tree.nwk -o /var/folders/kk/vx23v0b52wv0sx4vqhls42dw0000gn/T/qiime2/Mark/processes/28745-1733069495.838095@Mark/tmp/q2-OutPath-dm8v2ak4\n",
      "\n"
     ]
    },
    {
     "name": "stderr",
     "output_type": "stream",
     "text": [
      "/Users/Mark/mambaforge/envs/bombus_toshare/lib/python3.10/site-packages/q2_types/sample_data/_deferred_setup/_transformers.py:28: FutureWarning: errors='ignore' is deprecated and will raise in a future version. Use to_numeric without passing `errors` and catch exceptions explicitly instead\n",
      "  df[cols] = df[cols].apply(pd.to_numeric, errors='ignore')\n",
      "/Users/Mark/mambaforge/envs/bombus_toshare/lib/python3.10/site-packages/q2_types/sample_data/_deferred_setup/_transformers.py:28: FutureWarning: errors='ignore' is deprecated and will raise in a future version. Use to_numeric without passing `errors` and catch exceptions explicitly instead\n",
      "  df[cols] = df[cols].apply(pd.to_numeric, errors='ignore')\n",
      "/Users/Mark/mambaforge/envs/bombus_toshare/lib/python3.10/site-packages/q2_types/sample_data/_deferred_setup/_transformers.py:28: FutureWarning: errors='ignore' is deprecated and will raise in a future version. Use to_numeric without passing `errors` and catch exceptions explicitly instead\n",
      "  df[cols] = df[cols].apply(pd.to_numeric, errors='ignore')\n"
     ]
    },
    {
     "name": "stdout",
     "output_type": "stream",
     "text": [
      "Running external command line application. This may print messages to stdout and/or stderr.\n",
      "The command being run is below. This command cannot be manually re-run as it will depend on temporary files that no longer exist.\n",
      "\n",
      "Command:\n",
      "\n",
      "faithpd -i /var/folders/kk/vx23v0b52wv0sx4vqhls42dw0000gn/T/qiime2/Mark/data/d7fdec0b-da85-46ce-800e-7d2ea31d72d2/data/feature-table.biom -t /var/folders/kk/vx23v0b52wv0sx4vqhls42dw0000gn/T/qiime2/Mark/data/8ff07e13-3177-4748-b216-aa4b3d591051/data/tree.nwk -o /var/folders/kk/vx23v0b52wv0sx4vqhls42dw0000gn/T/qiime2/Mark/processes/28745-1733069495.838095@Mark/tmp/q2-OutPath-56yg2wbk\n",
      "\n"
     ]
    },
    {
     "name": "stderr",
     "output_type": "stream",
     "text": [
      "/Users/Mark/mambaforge/envs/bombus_toshare/lib/python3.10/site-packages/q2_types/sample_data/_deferred_setup/_transformers.py:28: FutureWarning: errors='ignore' is deprecated and will raise in a future version. Use to_numeric without passing `errors` and catch exceptions explicitly instead\n",
      "  df[cols] = df[cols].apply(pd.to_numeric, errors='ignore')\n",
      "/Users/Mark/mambaforge/envs/bombus_toshare/lib/python3.10/site-packages/q2_types/sample_data/_deferred_setup/_transformers.py:28: FutureWarning: errors='ignore' is deprecated and will raise in a future version. Use to_numeric without passing `errors` and catch exceptions explicitly instead\n",
      "  df[cols] = df[cols].apply(pd.to_numeric, errors='ignore')\n",
      "/Users/Mark/mambaforge/envs/bombus_toshare/lib/python3.10/site-packages/q2_types/sample_data/_deferred_setup/_transformers.py:28: FutureWarning: errors='ignore' is deprecated and will raise in a future version. Use to_numeric without passing `errors` and catch exceptions explicitly instead\n",
      "  df[cols] = df[cols].apply(pd.to_numeric, errors='ignore')\n"
     ]
    },
    {
     "name": "stdout",
     "output_type": "stream",
     "text": [
      "Running external command line application. This may print messages to stdout and/or stderr.\n",
      "The command being run is below. This command cannot be manually re-run as it will depend on temporary files that no longer exist.\n",
      "\n",
      "Command:\n",
      "\n",
      "faithpd -i /var/folders/kk/vx23v0b52wv0sx4vqhls42dw0000gn/T/qiime2/Mark/data/a3b3bb5d-1978-4182-8a7d-abaa0152cb1f/data/feature-table.biom -t /var/folders/kk/vx23v0b52wv0sx4vqhls42dw0000gn/T/qiime2/Mark/data/8ff07e13-3177-4748-b216-aa4b3d591051/data/tree.nwk -o /var/folders/kk/vx23v0b52wv0sx4vqhls42dw0000gn/T/qiime2/Mark/processes/28745-1733069495.838095@Mark/tmp/q2-OutPath-5vzpulzs\n",
      "\n"
     ]
    },
    {
     "name": "stderr",
     "output_type": "stream",
     "text": [
      "/Users/Mark/mambaforge/envs/bombus_toshare/lib/python3.10/site-packages/q2_types/sample_data/_deferred_setup/_transformers.py:28: FutureWarning: errors='ignore' is deprecated and will raise in a future version. Use to_numeric without passing `errors` and catch exceptions explicitly instead\n",
      "  df[cols] = df[cols].apply(pd.to_numeric, errors='ignore')\n",
      "/Users/Mark/mambaforge/envs/bombus_toshare/lib/python3.10/site-packages/q2_types/sample_data/_deferred_setup/_transformers.py:28: FutureWarning: errors='ignore' is deprecated and will raise in a future version. Use to_numeric without passing `errors` and catch exceptions explicitly instead\n",
      "  df[cols] = df[cols].apply(pd.to_numeric, errors='ignore')\n",
      "/Users/Mark/mambaforge/envs/bombus_toshare/lib/python3.10/site-packages/q2_types/sample_data/_deferred_setup/_transformers.py:28: FutureWarning: errors='ignore' is deprecated and will raise in a future version. Use to_numeric without passing `errors` and catch exceptions explicitly instead\n",
      "  df[cols] = df[cols].apply(pd.to_numeric, errors='ignore')\n"
     ]
    },
    {
     "name": "stdout",
     "output_type": "stream",
     "text": [
      "Running external command line application. This may print messages to stdout and/or stderr.\n",
      "The command being run is below. This command cannot be manually re-run as it will depend on temporary files that no longer exist.\n",
      "\n",
      "Command:\n",
      "\n",
      "faithpd -i /var/folders/kk/vx23v0b52wv0sx4vqhls42dw0000gn/T/qiime2/Mark/data/815f1f38-99b0-4e3f-a502-c2cc10b1dfc2/data/feature-table.biom -t /var/folders/kk/vx23v0b52wv0sx4vqhls42dw0000gn/T/qiime2/Mark/data/8ff07e13-3177-4748-b216-aa4b3d591051/data/tree.nwk -o /var/folders/kk/vx23v0b52wv0sx4vqhls42dw0000gn/T/qiime2/Mark/processes/28745-1733069495.838095@Mark/tmp/q2-OutPath-r7ydi8r8\n",
      "\n"
     ]
    },
    {
     "name": "stderr",
     "output_type": "stream",
     "text": [
      "/Users/Mark/mambaforge/envs/bombus_toshare/lib/python3.10/site-packages/q2_types/sample_data/_deferred_setup/_transformers.py:28: FutureWarning: errors='ignore' is deprecated and will raise in a future version. Use to_numeric without passing `errors` and catch exceptions explicitly instead\n",
      "  df[cols] = df[cols].apply(pd.to_numeric, errors='ignore')\n",
      "/Users/Mark/mambaforge/envs/bombus_toshare/lib/python3.10/site-packages/q2_types/sample_data/_deferred_setup/_transformers.py:28: FutureWarning: errors='ignore' is deprecated and will raise in a future version. Use to_numeric without passing `errors` and catch exceptions explicitly instead\n",
      "  df[cols] = df[cols].apply(pd.to_numeric, errors='ignore')\n",
      "/Users/Mark/mambaforge/envs/bombus_toshare/lib/python3.10/site-packages/q2_types/sample_data/_deferred_setup/_transformers.py:28: FutureWarning: errors='ignore' is deprecated and will raise in a future version. Use to_numeric without passing `errors` and catch exceptions explicitly instead\n",
      "  df[cols] = df[cols].apply(pd.to_numeric, errors='ignore')\n"
     ]
    },
    {
     "name": "stdout",
     "output_type": "stream",
     "text": [
      "Running external command line application. This may print messages to stdout and/or stderr.\n",
      "The command being run is below. This command cannot be manually re-run as it will depend on temporary files that no longer exist.\n",
      "\n",
      "Command:\n",
      "\n",
      "faithpd -i /var/folders/kk/vx23v0b52wv0sx4vqhls42dw0000gn/T/qiime2/Mark/data/cb5e2f45-8093-4f8f-832d-7e72a08671e2/data/feature-table.biom -t /var/folders/kk/vx23v0b52wv0sx4vqhls42dw0000gn/T/qiime2/Mark/data/8ff07e13-3177-4748-b216-aa4b3d591051/data/tree.nwk -o /var/folders/kk/vx23v0b52wv0sx4vqhls42dw0000gn/T/qiime2/Mark/processes/28745-1733069495.838095@Mark/tmp/q2-OutPath-hz_39vvs\n",
      "\n"
     ]
    },
    {
     "name": "stderr",
     "output_type": "stream",
     "text": [
      "/Users/Mark/mambaforge/envs/bombus_toshare/lib/python3.10/site-packages/q2_types/sample_data/_deferred_setup/_transformers.py:28: FutureWarning: errors='ignore' is deprecated and will raise in a future version. Use to_numeric without passing `errors` and catch exceptions explicitly instead\n",
      "  df[cols] = df[cols].apply(pd.to_numeric, errors='ignore')\n",
      "/Users/Mark/mambaforge/envs/bombus_toshare/lib/python3.10/site-packages/q2_types/sample_data/_deferred_setup/_transformers.py:28: FutureWarning: errors='ignore' is deprecated and will raise in a future version. Use to_numeric without passing `errors` and catch exceptions explicitly instead\n",
      "  df[cols] = df[cols].apply(pd.to_numeric, errors='ignore')\n",
      "/Users/Mark/mambaforge/envs/bombus_toshare/lib/python3.10/site-packages/q2_types/sample_data/_deferred_setup/_transformers.py:28: FutureWarning: errors='ignore' is deprecated and will raise in a future version. Use to_numeric without passing `errors` and catch exceptions explicitly instead\n",
      "  df[cols] = df[cols].apply(pd.to_numeric, errors='ignore')\n"
     ]
    },
    {
     "name": "stdout",
     "output_type": "stream",
     "text": [
      "Running external command line application. This may print messages to stdout and/or stderr.\n",
      "The command being run is below. This command cannot be manually re-run as it will depend on temporary files that no longer exist.\n",
      "\n",
      "Command:\n",
      "\n",
      "faithpd -i /var/folders/kk/vx23v0b52wv0sx4vqhls42dw0000gn/T/qiime2/Mark/data/91e74895-b0a1-49fc-9fcd-a8d2e8ff6c5c/data/feature-table.biom -t /var/folders/kk/vx23v0b52wv0sx4vqhls42dw0000gn/T/qiime2/Mark/data/8ff07e13-3177-4748-b216-aa4b3d591051/data/tree.nwk -o /var/folders/kk/vx23v0b52wv0sx4vqhls42dw0000gn/T/qiime2/Mark/processes/28745-1733069495.838095@Mark/tmp/q2-OutPath-tsshoujg\n",
      "\n"
     ]
    },
    {
     "name": "stderr",
     "output_type": "stream",
     "text": [
      "/Users/Mark/mambaforge/envs/bombus_toshare/lib/python3.10/site-packages/q2_types/sample_data/_deferred_setup/_transformers.py:28: FutureWarning: errors='ignore' is deprecated and will raise in a future version. Use to_numeric without passing `errors` and catch exceptions explicitly instead\n",
      "  df[cols] = df[cols].apply(pd.to_numeric, errors='ignore')\n",
      "/Users/Mark/mambaforge/envs/bombus_toshare/lib/python3.10/site-packages/q2_types/sample_data/_deferred_setup/_transformers.py:28: FutureWarning: errors='ignore' is deprecated and will raise in a future version. Use to_numeric without passing `errors` and catch exceptions explicitly instead\n",
      "  df[cols] = df[cols].apply(pd.to_numeric, errors='ignore')\n",
      "/Users/Mark/mambaforge/envs/bombus_toshare/lib/python3.10/site-packages/q2_types/sample_data/_deferred_setup/_transformers.py:28: FutureWarning: errors='ignore' is deprecated and will raise in a future version. Use to_numeric without passing `errors` and catch exceptions explicitly instead\n",
      "  df[cols] = df[cols].apply(pd.to_numeric, errors='ignore')\n"
     ]
    },
    {
     "name": "stdout",
     "output_type": "stream",
     "text": [
      "Running external command line application. This may print messages to stdout and/or stderr.\n",
      "The command being run is below. This command cannot be manually re-run as it will depend on temporary files that no longer exist.\n",
      "\n",
      "Command:\n",
      "\n",
      "faithpd -i /var/folders/kk/vx23v0b52wv0sx4vqhls42dw0000gn/T/qiime2/Mark/data/f91a265e-49c1-4a98-88b8-8f576e97c62d/data/feature-table.biom -t /var/folders/kk/vx23v0b52wv0sx4vqhls42dw0000gn/T/qiime2/Mark/data/8ff07e13-3177-4748-b216-aa4b3d591051/data/tree.nwk -o /var/folders/kk/vx23v0b52wv0sx4vqhls42dw0000gn/T/qiime2/Mark/processes/28745-1733069495.838095@Mark/tmp/q2-OutPath-jnv03h54\n",
      "\n"
     ]
    },
    {
     "name": "stderr",
     "output_type": "stream",
     "text": [
      "/Users/Mark/mambaforge/envs/bombus_toshare/lib/python3.10/site-packages/q2_types/sample_data/_deferred_setup/_transformers.py:28: FutureWarning: errors='ignore' is deprecated and will raise in a future version. Use to_numeric without passing `errors` and catch exceptions explicitly instead\n",
      "  df[cols] = df[cols].apply(pd.to_numeric, errors='ignore')\n",
      "/Users/Mark/mambaforge/envs/bombus_toshare/lib/python3.10/site-packages/q2_types/sample_data/_deferred_setup/_transformers.py:28: FutureWarning: errors='ignore' is deprecated and will raise in a future version. Use to_numeric without passing `errors` and catch exceptions explicitly instead\n",
      "  df[cols] = df[cols].apply(pd.to_numeric, errors='ignore')\n",
      "/Users/Mark/mambaforge/envs/bombus_toshare/lib/python3.10/site-packages/q2_types/sample_data/_deferred_setup/_transformers.py:28: FutureWarning: errors='ignore' is deprecated and will raise in a future version. Use to_numeric without passing `errors` and catch exceptions explicitly instead\n",
      "  df[cols] = df[cols].apply(pd.to_numeric, errors='ignore')\n"
     ]
    },
    {
     "name": "stdout",
     "output_type": "stream",
     "text": [
      "Running external command line application. This may print messages to stdout and/or stderr.\n",
      "The command being run is below. This command cannot be manually re-run as it will depend on temporary files that no longer exist.\n",
      "\n",
      "Command:\n",
      "\n",
      "faithpd -i /var/folders/kk/vx23v0b52wv0sx4vqhls42dw0000gn/T/qiime2/Mark/data/55839ea2-74b4-499b-b4d6-ee85eb489a87/data/feature-table.biom -t /var/folders/kk/vx23v0b52wv0sx4vqhls42dw0000gn/T/qiime2/Mark/data/8ff07e13-3177-4748-b216-aa4b3d591051/data/tree.nwk -o /var/folders/kk/vx23v0b52wv0sx4vqhls42dw0000gn/T/qiime2/Mark/processes/28745-1733069495.838095@Mark/tmp/q2-OutPath-fj13okh4\n",
      "\n"
     ]
    },
    {
     "name": "stderr",
     "output_type": "stream",
     "text": [
      "/Users/Mark/mambaforge/envs/bombus_toshare/lib/python3.10/site-packages/q2_types/sample_data/_deferred_setup/_transformers.py:28: FutureWarning: errors='ignore' is deprecated and will raise in a future version. Use to_numeric without passing `errors` and catch exceptions explicitly instead\n",
      "  df[cols] = df[cols].apply(pd.to_numeric, errors='ignore')\n",
      "/Users/Mark/mambaforge/envs/bombus_toshare/lib/python3.10/site-packages/q2_types/sample_data/_deferred_setup/_transformers.py:28: FutureWarning: errors='ignore' is deprecated and will raise in a future version. Use to_numeric without passing `errors` and catch exceptions explicitly instead\n",
      "  df[cols] = df[cols].apply(pd.to_numeric, errors='ignore')\n",
      "/Users/Mark/mambaforge/envs/bombus_toshare/lib/python3.10/site-packages/q2_types/sample_data/_deferred_setup/_transformers.py:28: FutureWarning: errors='ignore' is deprecated and will raise in a future version. Use to_numeric without passing `errors` and catch exceptions explicitly instead\n",
      "  df[cols] = df[cols].apply(pd.to_numeric, errors='ignore')\n"
     ]
    },
    {
     "name": "stdout",
     "output_type": "stream",
     "text": [
      "Running external command line application. This may print messages to stdout and/or stderr.\n",
      "The command being run is below. This command cannot be manually re-run as it will depend on temporary files that no longer exist.\n",
      "\n",
      "Command:\n",
      "\n",
      "faithpd -i /var/folders/kk/vx23v0b52wv0sx4vqhls42dw0000gn/T/qiime2/Mark/data/59d5c4b2-4377-43c7-af1b-200be577ec0e/data/feature-table.biom -t /var/folders/kk/vx23v0b52wv0sx4vqhls42dw0000gn/T/qiime2/Mark/data/8ff07e13-3177-4748-b216-aa4b3d591051/data/tree.nwk -o /var/folders/kk/vx23v0b52wv0sx4vqhls42dw0000gn/T/qiime2/Mark/processes/28745-1733069495.838095@Mark/tmp/q2-OutPath-v0o0h0te\n",
      "\n"
     ]
    },
    {
     "name": "stderr",
     "output_type": "stream",
     "text": [
      "/Users/Mark/mambaforge/envs/bombus_toshare/lib/python3.10/site-packages/q2_types/sample_data/_deferred_setup/_transformers.py:28: FutureWarning: errors='ignore' is deprecated and will raise in a future version. Use to_numeric without passing `errors` and catch exceptions explicitly instead\n",
      "  df[cols] = df[cols].apply(pd.to_numeric, errors='ignore')\n",
      "/Users/Mark/mambaforge/envs/bombus_toshare/lib/python3.10/site-packages/q2_types/sample_data/_deferred_setup/_transformers.py:28: FutureWarning: errors='ignore' is deprecated and will raise in a future version. Use to_numeric without passing `errors` and catch exceptions explicitly instead\n",
      "  df[cols] = df[cols].apply(pd.to_numeric, errors='ignore')\n",
      "/Users/Mark/mambaforge/envs/bombus_toshare/lib/python3.10/site-packages/q2_types/sample_data/_deferred_setup/_transformers.py:28: FutureWarning: errors='ignore' is deprecated and will raise in a future version. Use to_numeric without passing `errors` and catch exceptions explicitly instead\n",
      "  df[cols] = df[cols].apply(pd.to_numeric, errors='ignore')\n"
     ]
    },
    {
     "name": "stdout",
     "output_type": "stream",
     "text": [
      "Running external command line application. This may print messages to stdout and/or stderr.\n",
      "The command being run is below. This command cannot be manually re-run as it will depend on temporary files that no longer exist.\n",
      "\n",
      "Command:\n",
      "\n",
      "faithpd -i /var/folders/kk/vx23v0b52wv0sx4vqhls42dw0000gn/T/qiime2/Mark/data/14eb4cf7-9d45-4e58-be17-fc841098b11d/data/feature-table.biom -t /var/folders/kk/vx23v0b52wv0sx4vqhls42dw0000gn/T/qiime2/Mark/data/8ff07e13-3177-4748-b216-aa4b3d591051/data/tree.nwk -o /var/folders/kk/vx23v0b52wv0sx4vqhls42dw0000gn/T/qiime2/Mark/processes/28745-1733069495.838095@Mark/tmp/q2-OutPath-tx6gllko\n",
      "\n"
     ]
    },
    {
     "name": "stderr",
     "output_type": "stream",
     "text": [
      "/Users/Mark/mambaforge/envs/bombus_toshare/lib/python3.10/site-packages/q2_types/sample_data/_deferred_setup/_transformers.py:28: FutureWarning: errors='ignore' is deprecated and will raise in a future version. Use to_numeric without passing `errors` and catch exceptions explicitly instead\n",
      "  df[cols] = df[cols].apply(pd.to_numeric, errors='ignore')\n",
      "/Users/Mark/mambaforge/envs/bombus_toshare/lib/python3.10/site-packages/q2_types/sample_data/_deferred_setup/_transformers.py:28: FutureWarning: errors='ignore' is deprecated and will raise in a future version. Use to_numeric without passing `errors` and catch exceptions explicitly instead\n",
      "  df[cols] = df[cols].apply(pd.to_numeric, errors='ignore')\n",
      "/Users/Mark/mambaforge/envs/bombus_toshare/lib/python3.10/site-packages/q2_types/sample_data/_deferred_setup/_transformers.py:28: FutureWarning: errors='ignore' is deprecated and will raise in a future version. Use to_numeric without passing `errors` and catch exceptions explicitly instead\n",
      "  df[cols] = df[cols].apply(pd.to_numeric, errors='ignore')\n"
     ]
    },
    {
     "name": "stdout",
     "output_type": "stream",
     "text": [
      "Running external command line application. This may print messages to stdout and/or stderr.\n",
      "The command being run is below. This command cannot be manually re-run as it will depend on temporary files that no longer exist.\n",
      "\n",
      "Command:\n",
      "\n",
      "faithpd -i /var/folders/kk/vx23v0b52wv0sx4vqhls42dw0000gn/T/qiime2/Mark/data/22a94626-08ee-483e-a7c9-0b23065f26b9/data/feature-table.biom -t /var/folders/kk/vx23v0b52wv0sx4vqhls42dw0000gn/T/qiime2/Mark/data/8ff07e13-3177-4748-b216-aa4b3d591051/data/tree.nwk -o /var/folders/kk/vx23v0b52wv0sx4vqhls42dw0000gn/T/qiime2/Mark/processes/28745-1733069495.838095@Mark/tmp/q2-OutPath-_pshnum9\n",
      "\n"
     ]
    },
    {
     "name": "stderr",
     "output_type": "stream",
     "text": [
      "/Users/Mark/mambaforge/envs/bombus_toshare/lib/python3.10/site-packages/q2_types/sample_data/_deferred_setup/_transformers.py:28: FutureWarning: errors='ignore' is deprecated and will raise in a future version. Use to_numeric without passing `errors` and catch exceptions explicitly instead\n",
      "  df[cols] = df[cols].apply(pd.to_numeric, errors='ignore')\n",
      "/Users/Mark/mambaforge/envs/bombus_toshare/lib/python3.10/site-packages/q2_types/sample_data/_deferred_setup/_transformers.py:28: FutureWarning: errors='ignore' is deprecated and will raise in a future version. Use to_numeric without passing `errors` and catch exceptions explicitly instead\n",
      "  df[cols] = df[cols].apply(pd.to_numeric, errors='ignore')\n",
      "/Users/Mark/mambaforge/envs/bombus_toshare/lib/python3.10/site-packages/q2_types/sample_data/_deferred_setup/_transformers.py:28: FutureWarning: errors='ignore' is deprecated and will raise in a future version. Use to_numeric without passing `errors` and catch exceptions explicitly instead\n",
      "  df[cols] = df[cols].apply(pd.to_numeric, errors='ignore')\n"
     ]
    },
    {
     "name": "stdout",
     "output_type": "stream",
     "text": [
      "Running external command line application. This may print messages to stdout and/or stderr.\n",
      "The command being run is below. This command cannot be manually re-run as it will depend on temporary files that no longer exist.\n",
      "\n",
      "Command:\n",
      "\n",
      "faithpd -i /var/folders/kk/vx23v0b52wv0sx4vqhls42dw0000gn/T/qiime2/Mark/data/20a3bf0a-a2d1-47ff-a910-a2afcd1770aa/data/feature-table.biom -t /var/folders/kk/vx23v0b52wv0sx4vqhls42dw0000gn/T/qiime2/Mark/data/8ff07e13-3177-4748-b216-aa4b3d591051/data/tree.nwk -o /var/folders/kk/vx23v0b52wv0sx4vqhls42dw0000gn/T/qiime2/Mark/processes/28745-1733069495.838095@Mark/tmp/q2-OutPath-xoepd8t6\n",
      "\n"
     ]
    },
    {
     "name": "stderr",
     "output_type": "stream",
     "text": [
      "/Users/Mark/mambaforge/envs/bombus_toshare/lib/python3.10/site-packages/q2_types/sample_data/_deferred_setup/_transformers.py:28: FutureWarning: errors='ignore' is deprecated and will raise in a future version. Use to_numeric without passing `errors` and catch exceptions explicitly instead\n",
      "  df[cols] = df[cols].apply(pd.to_numeric, errors='ignore')\n",
      "/Users/Mark/mambaforge/envs/bombus_toshare/lib/python3.10/site-packages/q2_types/sample_data/_deferred_setup/_transformers.py:28: FutureWarning: errors='ignore' is deprecated and will raise in a future version. Use to_numeric without passing `errors` and catch exceptions explicitly instead\n",
      "  df[cols] = df[cols].apply(pd.to_numeric, errors='ignore')\n",
      "/Users/Mark/mambaforge/envs/bombus_toshare/lib/python3.10/site-packages/q2_types/sample_data/_deferred_setup/_transformers.py:28: FutureWarning: errors='ignore' is deprecated and will raise in a future version. Use to_numeric without passing `errors` and catch exceptions explicitly instead\n",
      "  df[cols] = df[cols].apply(pd.to_numeric, errors='ignore')\n"
     ]
    },
    {
     "name": "stdout",
     "output_type": "stream",
     "text": [
      "Running external command line application. This may print messages to stdout and/or stderr.\n",
      "The command being run is below. This command cannot be manually re-run as it will depend on temporary files that no longer exist.\n",
      "\n",
      "Command:\n",
      "\n",
      "faithpd -i /var/folders/kk/vx23v0b52wv0sx4vqhls42dw0000gn/T/qiime2/Mark/data/193493b3-9c1e-4cc4-ab36-ca95dfab8d80/data/feature-table.biom -t /var/folders/kk/vx23v0b52wv0sx4vqhls42dw0000gn/T/qiime2/Mark/data/8ff07e13-3177-4748-b216-aa4b3d591051/data/tree.nwk -o /var/folders/kk/vx23v0b52wv0sx4vqhls42dw0000gn/T/qiime2/Mark/processes/28745-1733069495.838095@Mark/tmp/q2-OutPath-aeegcb5o\n",
      "\n"
     ]
    },
    {
     "name": "stderr",
     "output_type": "stream",
     "text": [
      "/Users/Mark/mambaforge/envs/bombus_toshare/lib/python3.10/site-packages/q2_types/sample_data/_deferred_setup/_transformers.py:28: FutureWarning: errors='ignore' is deprecated and will raise in a future version. Use to_numeric without passing `errors` and catch exceptions explicitly instead\n",
      "  df[cols] = df[cols].apply(pd.to_numeric, errors='ignore')\n",
      "/Users/Mark/mambaforge/envs/bombus_toshare/lib/python3.10/site-packages/q2_types/sample_data/_deferred_setup/_transformers.py:28: FutureWarning: errors='ignore' is deprecated and will raise in a future version. Use to_numeric without passing `errors` and catch exceptions explicitly instead\n",
      "  df[cols] = df[cols].apply(pd.to_numeric, errors='ignore')\n",
      "/Users/Mark/mambaforge/envs/bombus_toshare/lib/python3.10/site-packages/q2_types/sample_data/_deferred_setup/_transformers.py:28: FutureWarning: errors='ignore' is deprecated and will raise in a future version. Use to_numeric without passing `errors` and catch exceptions explicitly instead\n",
      "  df[cols] = df[cols].apply(pd.to_numeric, errors='ignore')\n"
     ]
    },
    {
     "name": "stdout",
     "output_type": "stream",
     "text": [
      "Running external command line application. This may print messages to stdout and/or stderr.\n",
      "The command being run is below. This command cannot be manually re-run as it will depend on temporary files that no longer exist.\n",
      "\n",
      "Command:\n",
      "\n",
      "faithpd -i /var/folders/kk/vx23v0b52wv0sx4vqhls42dw0000gn/T/qiime2/Mark/data/9961c5a2-ce3d-4883-b31a-bf824f3d29ed/data/feature-table.biom -t /var/folders/kk/vx23v0b52wv0sx4vqhls42dw0000gn/T/qiime2/Mark/data/8ff07e13-3177-4748-b216-aa4b3d591051/data/tree.nwk -o /var/folders/kk/vx23v0b52wv0sx4vqhls42dw0000gn/T/qiime2/Mark/processes/28745-1733069495.838095@Mark/tmp/q2-OutPath-_ao_fja0\n",
      "\n"
     ]
    },
    {
     "name": "stderr",
     "output_type": "stream",
     "text": [
      "/Users/Mark/mambaforge/envs/bombus_toshare/lib/python3.10/site-packages/q2_types/sample_data/_deferred_setup/_transformers.py:28: FutureWarning: errors='ignore' is deprecated and will raise in a future version. Use to_numeric without passing `errors` and catch exceptions explicitly instead\n",
      "  df[cols] = df[cols].apply(pd.to_numeric, errors='ignore')\n",
      "/Users/Mark/mambaforge/envs/bombus_toshare/lib/python3.10/site-packages/q2_types/sample_data/_deferred_setup/_transformers.py:28: FutureWarning: errors='ignore' is deprecated and will raise in a future version. Use to_numeric without passing `errors` and catch exceptions explicitly instead\n",
      "  df[cols] = df[cols].apply(pd.to_numeric, errors='ignore')\n",
      "/Users/Mark/mambaforge/envs/bombus_toshare/lib/python3.10/site-packages/q2_types/sample_data/_deferred_setup/_transformers.py:28: FutureWarning: errors='ignore' is deprecated and will raise in a future version. Use to_numeric without passing `errors` and catch exceptions explicitly instead\n",
      "  df[cols] = df[cols].apply(pd.to_numeric, errors='ignore')\n"
     ]
    },
    {
     "name": "stdout",
     "output_type": "stream",
     "text": [
      "Running external command line application. This may print messages to stdout and/or stderr.\n",
      "The command being run is below. This command cannot be manually re-run as it will depend on temporary files that no longer exist.\n",
      "\n",
      "Command:\n",
      "\n",
      "faithpd -i /var/folders/kk/vx23v0b52wv0sx4vqhls42dw0000gn/T/qiime2/Mark/data/3d14c351-aef9-44d5-9e84-b23f38d0fb34/data/feature-table.biom -t /var/folders/kk/vx23v0b52wv0sx4vqhls42dw0000gn/T/qiime2/Mark/data/8ff07e13-3177-4748-b216-aa4b3d591051/data/tree.nwk -o /var/folders/kk/vx23v0b52wv0sx4vqhls42dw0000gn/T/qiime2/Mark/processes/28745-1733069495.838095@Mark/tmp/q2-OutPath-ycfoesil\n",
      "\n"
     ]
    },
    {
     "name": "stderr",
     "output_type": "stream",
     "text": [
      "/Users/Mark/mambaforge/envs/bombus_toshare/lib/python3.10/site-packages/q2_types/sample_data/_deferred_setup/_transformers.py:28: FutureWarning: errors='ignore' is deprecated and will raise in a future version. Use to_numeric without passing `errors` and catch exceptions explicitly instead\n",
      "  df[cols] = df[cols].apply(pd.to_numeric, errors='ignore')\n",
      "/Users/Mark/mambaforge/envs/bombus_toshare/lib/python3.10/site-packages/q2_types/sample_data/_deferred_setup/_transformers.py:28: FutureWarning: errors='ignore' is deprecated and will raise in a future version. Use to_numeric without passing `errors` and catch exceptions explicitly instead\n",
      "  df[cols] = df[cols].apply(pd.to_numeric, errors='ignore')\n",
      "/Users/Mark/mambaforge/envs/bombus_toshare/lib/python3.10/site-packages/q2_types/sample_data/_deferred_setup/_transformers.py:28: FutureWarning: errors='ignore' is deprecated and will raise in a future version. Use to_numeric without passing `errors` and catch exceptions explicitly instead\n",
      "  df[cols] = df[cols].apply(pd.to_numeric, errors='ignore')\n"
     ]
    },
    {
     "name": "stdout",
     "output_type": "stream",
     "text": [
      "Running external command line application. This may print messages to stdout and/or stderr.\n",
      "The command being run is below. This command cannot be manually re-run as it will depend on temporary files that no longer exist.\n",
      "\n",
      "Command:\n",
      "\n",
      "faithpd -i /var/folders/kk/vx23v0b52wv0sx4vqhls42dw0000gn/T/qiime2/Mark/data/b2058c59-c38f-42ed-b5ae-3811505835a3/data/feature-table.biom -t /var/folders/kk/vx23v0b52wv0sx4vqhls42dw0000gn/T/qiime2/Mark/data/8ff07e13-3177-4748-b216-aa4b3d591051/data/tree.nwk -o /var/folders/kk/vx23v0b52wv0sx4vqhls42dw0000gn/T/qiime2/Mark/processes/28745-1733069495.838095@Mark/tmp/q2-OutPath-x8mjmexg\n",
      "\n"
     ]
    },
    {
     "name": "stderr",
     "output_type": "stream",
     "text": [
      "/Users/Mark/mambaforge/envs/bombus_toshare/lib/python3.10/site-packages/q2_types/sample_data/_deferred_setup/_transformers.py:28: FutureWarning: errors='ignore' is deprecated and will raise in a future version. Use to_numeric without passing `errors` and catch exceptions explicitly instead\n",
      "  df[cols] = df[cols].apply(pd.to_numeric, errors='ignore')\n",
      "/Users/Mark/mambaforge/envs/bombus_toshare/lib/python3.10/site-packages/q2_types/sample_data/_deferred_setup/_transformers.py:28: FutureWarning: errors='ignore' is deprecated and will raise in a future version. Use to_numeric without passing `errors` and catch exceptions explicitly instead\n",
      "  df[cols] = df[cols].apply(pd.to_numeric, errors='ignore')\n",
      "/Users/Mark/mambaforge/envs/bombus_toshare/lib/python3.10/site-packages/q2_types/sample_data/_deferred_setup/_transformers.py:28: FutureWarning: errors='ignore' is deprecated and will raise in a future version. Use to_numeric without passing `errors` and catch exceptions explicitly instead\n",
      "  df[cols] = df[cols].apply(pd.to_numeric, errors='ignore')\n"
     ]
    },
    {
     "name": "stdout",
     "output_type": "stream",
     "text": [
      "Running external command line application. This may print messages to stdout and/or stderr.\n",
      "The command being run is below. This command cannot be manually re-run as it will depend on temporary files that no longer exist.\n",
      "\n",
      "Command:\n",
      "\n",
      "faithpd -i /var/folders/kk/vx23v0b52wv0sx4vqhls42dw0000gn/T/qiime2/Mark/data/a84b448e-7738-4aaf-b9a2-2f0a6da904b2/data/feature-table.biom -t /var/folders/kk/vx23v0b52wv0sx4vqhls42dw0000gn/T/qiime2/Mark/data/8ff07e13-3177-4748-b216-aa4b3d591051/data/tree.nwk -o /var/folders/kk/vx23v0b52wv0sx4vqhls42dw0000gn/T/qiime2/Mark/processes/28745-1733069495.838095@Mark/tmp/q2-OutPath-7z8hmh2e\n",
      "\n"
     ]
    },
    {
     "name": "stderr",
     "output_type": "stream",
     "text": [
      "/Users/Mark/mambaforge/envs/bombus_toshare/lib/python3.10/site-packages/q2_types/sample_data/_deferred_setup/_transformers.py:28: FutureWarning: errors='ignore' is deprecated and will raise in a future version. Use to_numeric without passing `errors` and catch exceptions explicitly instead\n",
      "  df[cols] = df[cols].apply(pd.to_numeric, errors='ignore')\n",
      "/Users/Mark/mambaforge/envs/bombus_toshare/lib/python3.10/site-packages/q2_types/sample_data/_deferred_setup/_transformers.py:28: FutureWarning: errors='ignore' is deprecated and will raise in a future version. Use to_numeric without passing `errors` and catch exceptions explicitly instead\n",
      "  df[cols] = df[cols].apply(pd.to_numeric, errors='ignore')\n",
      "/Users/Mark/mambaforge/envs/bombus_toshare/lib/python3.10/site-packages/q2_types/sample_data/_deferred_setup/_transformers.py:28: FutureWarning: errors='ignore' is deprecated and will raise in a future version. Use to_numeric without passing `errors` and catch exceptions explicitly instead\n",
      "  df[cols] = df[cols].apply(pd.to_numeric, errors='ignore')\n"
     ]
    },
    {
     "name": "stdout",
     "output_type": "stream",
     "text": [
      "Running external command line application. This may print messages to stdout and/or stderr.\n",
      "The command being run is below. This command cannot be manually re-run as it will depend on temporary files that no longer exist.\n",
      "\n",
      "Command:\n",
      "\n",
      "faithpd -i /var/folders/kk/vx23v0b52wv0sx4vqhls42dw0000gn/T/qiime2/Mark/data/db6facbf-5d3f-430b-9fc3-bb91a8ebba6c/data/feature-table.biom -t /var/folders/kk/vx23v0b52wv0sx4vqhls42dw0000gn/T/qiime2/Mark/data/8ff07e13-3177-4748-b216-aa4b3d591051/data/tree.nwk -o /var/folders/kk/vx23v0b52wv0sx4vqhls42dw0000gn/T/qiime2/Mark/processes/28745-1733069495.838095@Mark/tmp/q2-OutPath-tj8a3516\n",
      "\n"
     ]
    },
    {
     "name": "stderr",
     "output_type": "stream",
     "text": [
      "/Users/Mark/mambaforge/envs/bombus_toshare/lib/python3.10/site-packages/q2_types/sample_data/_deferred_setup/_transformers.py:28: FutureWarning: errors='ignore' is deprecated and will raise in a future version. Use to_numeric without passing `errors` and catch exceptions explicitly instead\n",
      "  df[cols] = df[cols].apply(pd.to_numeric, errors='ignore')\n",
      "/Users/Mark/mambaforge/envs/bombus_toshare/lib/python3.10/site-packages/q2_types/sample_data/_deferred_setup/_transformers.py:28: FutureWarning: errors='ignore' is deprecated and will raise in a future version. Use to_numeric without passing `errors` and catch exceptions explicitly instead\n",
      "  df[cols] = df[cols].apply(pd.to_numeric, errors='ignore')\n",
      "/Users/Mark/mambaforge/envs/bombus_toshare/lib/python3.10/site-packages/q2_types/sample_data/_deferred_setup/_transformers.py:28: FutureWarning: errors='ignore' is deprecated and will raise in a future version. Use to_numeric without passing `errors` and catch exceptions explicitly instead\n",
      "  df[cols] = df[cols].apply(pd.to_numeric, errors='ignore')\n"
     ]
    },
    {
     "name": "stdout",
     "output_type": "stream",
     "text": [
      "Running external command line application. This may print messages to stdout and/or stderr.\n",
      "The command being run is below. This command cannot be manually re-run as it will depend on temporary files that no longer exist.\n",
      "\n",
      "Command:\n",
      "\n",
      "faithpd -i /var/folders/kk/vx23v0b52wv0sx4vqhls42dw0000gn/T/qiime2/Mark/data/2697354f-b5b8-45ba-a9c6-0c59d92eabb2/data/feature-table.biom -t /var/folders/kk/vx23v0b52wv0sx4vqhls42dw0000gn/T/qiime2/Mark/data/8ff07e13-3177-4748-b216-aa4b3d591051/data/tree.nwk -o /var/folders/kk/vx23v0b52wv0sx4vqhls42dw0000gn/T/qiime2/Mark/processes/28745-1733069495.838095@Mark/tmp/q2-OutPath-th2_sxq6\n",
      "\n"
     ]
    },
    {
     "name": "stderr",
     "output_type": "stream",
     "text": [
      "/Users/Mark/mambaforge/envs/bombus_toshare/lib/python3.10/site-packages/q2_types/sample_data/_deferred_setup/_transformers.py:28: FutureWarning: errors='ignore' is deprecated and will raise in a future version. Use to_numeric without passing `errors` and catch exceptions explicitly instead\n",
      "  df[cols] = df[cols].apply(pd.to_numeric, errors='ignore')\n",
      "/Users/Mark/mambaforge/envs/bombus_toshare/lib/python3.10/site-packages/q2_types/sample_data/_deferred_setup/_transformers.py:28: FutureWarning: errors='ignore' is deprecated and will raise in a future version. Use to_numeric without passing `errors` and catch exceptions explicitly instead\n",
      "  df[cols] = df[cols].apply(pd.to_numeric, errors='ignore')\n",
      "/Users/Mark/mambaforge/envs/bombus_toshare/lib/python3.10/site-packages/q2_types/sample_data/_deferred_setup/_transformers.py:28: FutureWarning: errors='ignore' is deprecated and will raise in a future version. Use to_numeric without passing `errors` and catch exceptions explicitly instead\n",
      "  df[cols] = df[cols].apply(pd.to_numeric, errors='ignore')\n"
     ]
    },
    {
     "name": "stdout",
     "output_type": "stream",
     "text": [
      "Running external command line application. This may print messages to stdout and/or stderr.\n",
      "The command being run is below. This command cannot be manually re-run as it will depend on temporary files that no longer exist.\n",
      "\n",
      "Command:\n",
      "\n",
      "faithpd -i /var/folders/kk/vx23v0b52wv0sx4vqhls42dw0000gn/T/qiime2/Mark/data/e3bf6638-2358-4031-972e-c8c278b40045/data/feature-table.biom -t /var/folders/kk/vx23v0b52wv0sx4vqhls42dw0000gn/T/qiime2/Mark/data/8ff07e13-3177-4748-b216-aa4b3d591051/data/tree.nwk -o /var/folders/kk/vx23v0b52wv0sx4vqhls42dw0000gn/T/qiime2/Mark/processes/28745-1733069495.838095@Mark/tmp/q2-OutPath-h31nronb\n",
      "\n"
     ]
    },
    {
     "name": "stderr",
     "output_type": "stream",
     "text": [
      "/Users/Mark/mambaforge/envs/bombus_toshare/lib/python3.10/site-packages/q2_types/sample_data/_deferred_setup/_transformers.py:28: FutureWarning: errors='ignore' is deprecated and will raise in a future version. Use to_numeric without passing `errors` and catch exceptions explicitly instead\n",
      "  df[cols] = df[cols].apply(pd.to_numeric, errors='ignore')\n",
      "/Users/Mark/mambaforge/envs/bombus_toshare/lib/python3.10/site-packages/q2_types/sample_data/_deferred_setup/_transformers.py:28: FutureWarning: errors='ignore' is deprecated and will raise in a future version. Use to_numeric without passing `errors` and catch exceptions explicitly instead\n",
      "  df[cols] = df[cols].apply(pd.to_numeric, errors='ignore')\n",
      "/Users/Mark/mambaforge/envs/bombus_toshare/lib/python3.10/site-packages/q2_types/sample_data/_deferred_setup/_transformers.py:28: FutureWarning: errors='ignore' is deprecated and will raise in a future version. Use to_numeric without passing `errors` and catch exceptions explicitly instead\n",
      "  df[cols] = df[cols].apply(pd.to_numeric, errors='ignore')\n"
     ]
    },
    {
     "name": "stdout",
     "output_type": "stream",
     "text": [
      "Running external command line application. This may print messages to stdout and/or stderr.\n",
      "The command being run is below. This command cannot be manually re-run as it will depend on temporary files that no longer exist.\n",
      "\n",
      "Command:\n",
      "\n",
      "faithpd -i /var/folders/kk/vx23v0b52wv0sx4vqhls42dw0000gn/T/qiime2/Mark/data/4ec29ea5-6dd1-4e21-9f8b-f87e4d8918c9/data/feature-table.biom -t /var/folders/kk/vx23v0b52wv0sx4vqhls42dw0000gn/T/qiime2/Mark/data/8ff07e13-3177-4748-b216-aa4b3d591051/data/tree.nwk -o /var/folders/kk/vx23v0b52wv0sx4vqhls42dw0000gn/T/qiime2/Mark/processes/28745-1733069495.838095@Mark/tmp/q2-OutPath-6qg8i6vi\n",
      "\n"
     ]
    },
    {
     "name": "stderr",
     "output_type": "stream",
     "text": [
      "/Users/Mark/mambaforge/envs/bombus_toshare/lib/python3.10/site-packages/q2_types/sample_data/_deferred_setup/_transformers.py:28: FutureWarning: errors='ignore' is deprecated and will raise in a future version. Use to_numeric without passing `errors` and catch exceptions explicitly instead\n",
      "  df[cols] = df[cols].apply(pd.to_numeric, errors='ignore')\n",
      "/Users/Mark/mambaforge/envs/bombus_toshare/lib/python3.10/site-packages/q2_types/sample_data/_deferred_setup/_transformers.py:28: FutureWarning: errors='ignore' is deprecated and will raise in a future version. Use to_numeric without passing `errors` and catch exceptions explicitly instead\n",
      "  df[cols] = df[cols].apply(pd.to_numeric, errors='ignore')\n",
      "/Users/Mark/mambaforge/envs/bombus_toshare/lib/python3.10/site-packages/q2_types/sample_data/_deferred_setup/_transformers.py:28: FutureWarning: errors='ignore' is deprecated and will raise in a future version. Use to_numeric without passing `errors` and catch exceptions explicitly instead\n",
      "  df[cols] = df[cols].apply(pd.to_numeric, errors='ignore')\n"
     ]
    },
    {
     "name": "stdout",
     "output_type": "stream",
     "text": [
      "Running external command line application. This may print messages to stdout and/or stderr.\n",
      "The command being run is below. This command cannot be manually re-run as it will depend on temporary files that no longer exist.\n",
      "\n",
      "Command:\n",
      "\n",
      "faithpd -i /var/folders/kk/vx23v0b52wv0sx4vqhls42dw0000gn/T/qiime2/Mark/data/1a755f37-5d7c-450a-b56d-95adc93ec1c3/data/feature-table.biom -t /var/folders/kk/vx23v0b52wv0sx4vqhls42dw0000gn/T/qiime2/Mark/data/8ff07e13-3177-4748-b216-aa4b3d591051/data/tree.nwk -o /var/folders/kk/vx23v0b52wv0sx4vqhls42dw0000gn/T/qiime2/Mark/processes/28745-1733069495.838095@Mark/tmp/q2-OutPath-67j15k2a\n",
      "\n"
     ]
    },
    {
     "name": "stderr",
     "output_type": "stream",
     "text": [
      "/Users/Mark/mambaforge/envs/bombus_toshare/lib/python3.10/site-packages/q2_types/sample_data/_deferred_setup/_transformers.py:28: FutureWarning: errors='ignore' is deprecated and will raise in a future version. Use to_numeric without passing `errors` and catch exceptions explicitly instead\n",
      "  df[cols] = df[cols].apply(pd.to_numeric, errors='ignore')\n",
      "/Users/Mark/mambaforge/envs/bombus_toshare/lib/python3.10/site-packages/q2_types/sample_data/_deferred_setup/_transformers.py:28: FutureWarning: errors='ignore' is deprecated and will raise in a future version. Use to_numeric without passing `errors` and catch exceptions explicitly instead\n",
      "  df[cols] = df[cols].apply(pd.to_numeric, errors='ignore')\n",
      "/Users/Mark/mambaforge/envs/bombus_toshare/lib/python3.10/site-packages/q2_types/sample_data/_deferred_setup/_transformers.py:28: FutureWarning: errors='ignore' is deprecated and will raise in a future version. Use to_numeric without passing `errors` and catch exceptions explicitly instead\n",
      "  df[cols] = df[cols].apply(pd.to_numeric, errors='ignore')\n"
     ]
    },
    {
     "name": "stdout",
     "output_type": "stream",
     "text": [
      "Running external command line application. This may print messages to stdout and/or stderr.\n",
      "The command being run is below. This command cannot be manually re-run as it will depend on temporary files that no longer exist.\n",
      "\n",
      "Command:\n",
      "\n",
      "faithpd -i /var/folders/kk/vx23v0b52wv0sx4vqhls42dw0000gn/T/qiime2/Mark/data/f2f32830-e815-4b9d-8837-ea77b510bb92/data/feature-table.biom -t /var/folders/kk/vx23v0b52wv0sx4vqhls42dw0000gn/T/qiime2/Mark/data/8ff07e13-3177-4748-b216-aa4b3d591051/data/tree.nwk -o /var/folders/kk/vx23v0b52wv0sx4vqhls42dw0000gn/T/qiime2/Mark/processes/28745-1733069495.838095@Mark/tmp/q2-OutPath-shwh8bgh\n",
      "\n"
     ]
    },
    {
     "name": "stderr",
     "output_type": "stream",
     "text": [
      "/Users/Mark/mambaforge/envs/bombus_toshare/lib/python3.10/site-packages/q2_types/sample_data/_deferred_setup/_transformers.py:28: FutureWarning: errors='ignore' is deprecated and will raise in a future version. Use to_numeric without passing `errors` and catch exceptions explicitly instead\n",
      "  df[cols] = df[cols].apply(pd.to_numeric, errors='ignore')\n",
      "/Users/Mark/mambaforge/envs/bombus_toshare/lib/python3.10/site-packages/q2_types/sample_data/_deferred_setup/_transformers.py:28: FutureWarning: errors='ignore' is deprecated and will raise in a future version. Use to_numeric without passing `errors` and catch exceptions explicitly instead\n",
      "  df[cols] = df[cols].apply(pd.to_numeric, errors='ignore')\n",
      "/Users/Mark/mambaforge/envs/bombus_toshare/lib/python3.10/site-packages/q2_types/sample_data/_deferred_setup/_transformers.py:28: FutureWarning: errors='ignore' is deprecated and will raise in a future version. Use to_numeric without passing `errors` and catch exceptions explicitly instead\n",
      "  df[cols] = df[cols].apply(pd.to_numeric, errors='ignore')\n"
     ]
    },
    {
     "name": "stdout",
     "output_type": "stream",
     "text": [
      "Running external command line application. This may print messages to stdout and/or stderr.\n",
      "The command being run is below. This command cannot be manually re-run as it will depend on temporary files that no longer exist.\n",
      "\n",
      "Command:\n",
      "\n",
      "faithpd -i /var/folders/kk/vx23v0b52wv0sx4vqhls42dw0000gn/T/qiime2/Mark/data/8cbf02b0-0495-4eb0-915a-a3a6326ec90f/data/feature-table.biom -t /var/folders/kk/vx23v0b52wv0sx4vqhls42dw0000gn/T/qiime2/Mark/data/8ff07e13-3177-4748-b216-aa4b3d591051/data/tree.nwk -o /var/folders/kk/vx23v0b52wv0sx4vqhls42dw0000gn/T/qiime2/Mark/processes/28745-1733069495.838095@Mark/tmp/q2-OutPath-bbdiwptz\n",
      "\n"
     ]
    },
    {
     "name": "stderr",
     "output_type": "stream",
     "text": [
      "/Users/Mark/mambaforge/envs/bombus_toshare/lib/python3.10/site-packages/q2_types/sample_data/_deferred_setup/_transformers.py:28: FutureWarning: errors='ignore' is deprecated and will raise in a future version. Use to_numeric without passing `errors` and catch exceptions explicitly instead\n",
      "  df[cols] = df[cols].apply(pd.to_numeric, errors='ignore')\n",
      "/Users/Mark/mambaforge/envs/bombus_toshare/lib/python3.10/site-packages/q2_types/sample_data/_deferred_setup/_transformers.py:28: FutureWarning: errors='ignore' is deprecated and will raise in a future version. Use to_numeric without passing `errors` and catch exceptions explicitly instead\n",
      "  df[cols] = df[cols].apply(pd.to_numeric, errors='ignore')\n",
      "/Users/Mark/mambaforge/envs/bombus_toshare/lib/python3.10/site-packages/q2_types/sample_data/_deferred_setup/_transformers.py:28: FutureWarning: errors='ignore' is deprecated and will raise in a future version. Use to_numeric without passing `errors` and catch exceptions explicitly instead\n",
      "  df[cols] = df[cols].apply(pd.to_numeric, errors='ignore')\n"
     ]
    },
    {
     "name": "stdout",
     "output_type": "stream",
     "text": [
      "Running external command line application. This may print messages to stdout and/or stderr.\n",
      "The command being run is below. This command cannot be manually re-run as it will depend on temporary files that no longer exist.\n",
      "\n",
      "Command:\n",
      "\n",
      "faithpd -i /var/folders/kk/vx23v0b52wv0sx4vqhls42dw0000gn/T/qiime2/Mark/data/2dd2f44c-94c6-4f06-a6e4-227f5dfc8b74/data/feature-table.biom -t /var/folders/kk/vx23v0b52wv0sx4vqhls42dw0000gn/T/qiime2/Mark/data/8ff07e13-3177-4748-b216-aa4b3d591051/data/tree.nwk -o /var/folders/kk/vx23v0b52wv0sx4vqhls42dw0000gn/T/qiime2/Mark/processes/28745-1733069495.838095@Mark/tmp/q2-OutPath-tg5rqmvl\n",
      "\n"
     ]
    },
    {
     "name": "stderr",
     "output_type": "stream",
     "text": [
      "/Users/Mark/mambaforge/envs/bombus_toshare/lib/python3.10/site-packages/q2_types/sample_data/_deferred_setup/_transformers.py:28: FutureWarning: errors='ignore' is deprecated and will raise in a future version. Use to_numeric without passing `errors` and catch exceptions explicitly instead\n",
      "  df[cols] = df[cols].apply(pd.to_numeric, errors='ignore')\n",
      "/Users/Mark/mambaforge/envs/bombus_toshare/lib/python3.10/site-packages/q2_types/sample_data/_deferred_setup/_transformers.py:28: FutureWarning: errors='ignore' is deprecated and will raise in a future version. Use to_numeric without passing `errors` and catch exceptions explicitly instead\n",
      "  df[cols] = df[cols].apply(pd.to_numeric, errors='ignore')\n",
      "/Users/Mark/mambaforge/envs/bombus_toshare/lib/python3.10/site-packages/q2_types/sample_data/_deferred_setup/_transformers.py:28: FutureWarning: errors='ignore' is deprecated and will raise in a future version. Use to_numeric without passing `errors` and catch exceptions explicitly instead\n",
      "  df[cols] = df[cols].apply(pd.to_numeric, errors='ignore')\n"
     ]
    },
    {
     "name": "stdout",
     "output_type": "stream",
     "text": [
      "Running external command line application. This may print messages to stdout and/or stderr.\n",
      "The command being run is below. This command cannot be manually re-run as it will depend on temporary files that no longer exist.\n",
      "\n",
      "Command:\n",
      "\n",
      "faithpd -i /var/folders/kk/vx23v0b52wv0sx4vqhls42dw0000gn/T/qiime2/Mark/data/d503845a-abce-4765-87f1-204f896844bb/data/feature-table.biom -t /var/folders/kk/vx23v0b52wv0sx4vqhls42dw0000gn/T/qiime2/Mark/data/8ff07e13-3177-4748-b216-aa4b3d591051/data/tree.nwk -o /var/folders/kk/vx23v0b52wv0sx4vqhls42dw0000gn/T/qiime2/Mark/processes/28745-1733069495.838095@Mark/tmp/q2-OutPath-114tb6r4\n",
      "\n"
     ]
    },
    {
     "name": "stderr",
     "output_type": "stream",
     "text": [
      "/Users/Mark/mambaforge/envs/bombus_toshare/lib/python3.10/site-packages/q2_types/sample_data/_deferred_setup/_transformers.py:28: FutureWarning: errors='ignore' is deprecated and will raise in a future version. Use to_numeric without passing `errors` and catch exceptions explicitly instead\n",
      "  df[cols] = df[cols].apply(pd.to_numeric, errors='ignore')\n",
      "/Users/Mark/mambaforge/envs/bombus_toshare/lib/python3.10/site-packages/q2_types/sample_data/_deferred_setup/_transformers.py:28: FutureWarning: errors='ignore' is deprecated and will raise in a future version. Use to_numeric without passing `errors` and catch exceptions explicitly instead\n",
      "  df[cols] = df[cols].apply(pd.to_numeric, errors='ignore')\n",
      "/Users/Mark/mambaforge/envs/bombus_toshare/lib/python3.10/site-packages/q2_types/sample_data/_deferred_setup/_transformers.py:28: FutureWarning: errors='ignore' is deprecated and will raise in a future version. Use to_numeric without passing `errors` and catch exceptions explicitly instead\n",
      "  df[cols] = df[cols].apply(pd.to_numeric, errors='ignore')\n"
     ]
    },
    {
     "name": "stdout",
     "output_type": "stream",
     "text": [
      "Running external command line application. This may print messages to stdout and/or stderr.\n",
      "The command being run is below. This command cannot be manually re-run as it will depend on temporary files that no longer exist.\n",
      "\n",
      "Command:\n",
      "\n",
      "faithpd -i /var/folders/kk/vx23v0b52wv0sx4vqhls42dw0000gn/T/qiime2/Mark/data/9713a809-86e4-4c57-887a-0a3d6f4a885b/data/feature-table.biom -t /var/folders/kk/vx23v0b52wv0sx4vqhls42dw0000gn/T/qiime2/Mark/data/8ff07e13-3177-4748-b216-aa4b3d591051/data/tree.nwk -o /var/folders/kk/vx23v0b52wv0sx4vqhls42dw0000gn/T/qiime2/Mark/processes/28745-1733069495.838095@Mark/tmp/q2-OutPath-6blku960\n",
      "\n"
     ]
    },
    {
     "name": "stderr",
     "output_type": "stream",
     "text": [
      "/Users/Mark/mambaforge/envs/bombus_toshare/lib/python3.10/site-packages/q2_types/sample_data/_deferred_setup/_transformers.py:28: FutureWarning: errors='ignore' is deprecated and will raise in a future version. Use to_numeric without passing `errors` and catch exceptions explicitly instead\n",
      "  df[cols] = df[cols].apply(pd.to_numeric, errors='ignore')\n",
      "/Users/Mark/mambaforge/envs/bombus_toshare/lib/python3.10/site-packages/q2_types/sample_data/_deferred_setup/_transformers.py:28: FutureWarning: errors='ignore' is deprecated and will raise in a future version. Use to_numeric without passing `errors` and catch exceptions explicitly instead\n",
      "  df[cols] = df[cols].apply(pd.to_numeric, errors='ignore')\n",
      "/Users/Mark/mambaforge/envs/bombus_toshare/lib/python3.10/site-packages/q2_types/sample_data/_deferred_setup/_transformers.py:28: FutureWarning: errors='ignore' is deprecated and will raise in a future version. Use to_numeric without passing `errors` and catch exceptions explicitly instead\n",
      "  df[cols] = df[cols].apply(pd.to_numeric, errors='ignore')\n"
     ]
    },
    {
     "name": "stdout",
     "output_type": "stream",
     "text": [
      "Running external command line application. This may print messages to stdout and/or stderr.\n",
      "The command being run is below. This command cannot be manually re-run as it will depend on temporary files that no longer exist.\n",
      "\n",
      "Command:\n",
      "\n",
      "faithpd -i /var/folders/kk/vx23v0b52wv0sx4vqhls42dw0000gn/T/qiime2/Mark/data/beff29d5-e514-4864-8db5-a8bb38bd988b/data/feature-table.biom -t /var/folders/kk/vx23v0b52wv0sx4vqhls42dw0000gn/T/qiime2/Mark/data/8ff07e13-3177-4748-b216-aa4b3d591051/data/tree.nwk -o /var/folders/kk/vx23v0b52wv0sx4vqhls42dw0000gn/T/qiime2/Mark/processes/28745-1733069495.838095@Mark/tmp/q2-OutPath-4fmbccw6\n",
      "\n"
     ]
    },
    {
     "name": "stderr",
     "output_type": "stream",
     "text": [
      "/Users/Mark/mambaforge/envs/bombus_toshare/lib/python3.10/site-packages/q2_types/sample_data/_deferred_setup/_transformers.py:28: FutureWarning: errors='ignore' is deprecated and will raise in a future version. Use to_numeric without passing `errors` and catch exceptions explicitly instead\n",
      "  df[cols] = df[cols].apply(pd.to_numeric, errors='ignore')\n",
      "/Users/Mark/mambaforge/envs/bombus_toshare/lib/python3.10/site-packages/q2_types/sample_data/_deferred_setup/_transformers.py:28: FutureWarning: errors='ignore' is deprecated and will raise in a future version. Use to_numeric without passing `errors` and catch exceptions explicitly instead\n",
      "  df[cols] = df[cols].apply(pd.to_numeric, errors='ignore')\n",
      "/Users/Mark/mambaforge/envs/bombus_toshare/lib/python3.10/site-packages/q2_types/sample_data/_deferred_setup/_transformers.py:28: FutureWarning: errors='ignore' is deprecated and will raise in a future version. Use to_numeric without passing `errors` and catch exceptions explicitly instead\n",
      "  df[cols] = df[cols].apply(pd.to_numeric, errors='ignore')\n"
     ]
    },
    {
     "name": "stdout",
     "output_type": "stream",
     "text": [
      "Running external command line application. This may print messages to stdout and/or stderr.\n",
      "The command being run is below. This command cannot be manually re-run as it will depend on temporary files that no longer exist.\n",
      "\n",
      "Command:\n",
      "\n",
      "faithpd -i /var/folders/kk/vx23v0b52wv0sx4vqhls42dw0000gn/T/qiime2/Mark/data/e4f1999b-b169-4903-af7d-4e24cb1b95e9/data/feature-table.biom -t /var/folders/kk/vx23v0b52wv0sx4vqhls42dw0000gn/T/qiime2/Mark/data/8ff07e13-3177-4748-b216-aa4b3d591051/data/tree.nwk -o /var/folders/kk/vx23v0b52wv0sx4vqhls42dw0000gn/T/qiime2/Mark/processes/28745-1733069495.838095@Mark/tmp/q2-OutPath-2zjxcant\n",
      "\n"
     ]
    },
    {
     "name": "stderr",
     "output_type": "stream",
     "text": [
      "/Users/Mark/mambaforge/envs/bombus_toshare/lib/python3.10/site-packages/q2_types/sample_data/_deferred_setup/_transformers.py:28: FutureWarning: errors='ignore' is deprecated and will raise in a future version. Use to_numeric without passing `errors` and catch exceptions explicitly instead\n",
      "  df[cols] = df[cols].apply(pd.to_numeric, errors='ignore')\n",
      "/Users/Mark/mambaforge/envs/bombus_toshare/lib/python3.10/site-packages/q2_types/sample_data/_deferred_setup/_transformers.py:28: FutureWarning: errors='ignore' is deprecated and will raise in a future version. Use to_numeric without passing `errors` and catch exceptions explicitly instead\n",
      "  df[cols] = df[cols].apply(pd.to_numeric, errors='ignore')\n",
      "/Users/Mark/mambaforge/envs/bombus_toshare/lib/python3.10/site-packages/q2_types/sample_data/_deferred_setup/_transformers.py:28: FutureWarning: errors='ignore' is deprecated and will raise in a future version. Use to_numeric without passing `errors` and catch exceptions explicitly instead\n",
      "  df[cols] = df[cols].apply(pd.to_numeric, errors='ignore')\n"
     ]
    },
    {
     "name": "stdout",
     "output_type": "stream",
     "text": [
      "Running external command line application. This may print messages to stdout and/or stderr.\n",
      "The command being run is below. This command cannot be manually re-run as it will depend on temporary files that no longer exist.\n",
      "\n",
      "Command:\n",
      "\n",
      "faithpd -i /var/folders/kk/vx23v0b52wv0sx4vqhls42dw0000gn/T/qiime2/Mark/data/f3681a3a-29df-48c3-8a4a-68817524c086/data/feature-table.biom -t /var/folders/kk/vx23v0b52wv0sx4vqhls42dw0000gn/T/qiime2/Mark/data/8ff07e13-3177-4748-b216-aa4b3d591051/data/tree.nwk -o /var/folders/kk/vx23v0b52wv0sx4vqhls42dw0000gn/T/qiime2/Mark/processes/28745-1733069495.838095@Mark/tmp/q2-OutPath-ui7o8v6k\n",
      "\n"
     ]
    },
    {
     "name": "stderr",
     "output_type": "stream",
     "text": [
      "/Users/Mark/mambaforge/envs/bombus_toshare/lib/python3.10/site-packages/q2_types/sample_data/_deferred_setup/_transformers.py:28: FutureWarning: errors='ignore' is deprecated and will raise in a future version. Use to_numeric without passing `errors` and catch exceptions explicitly instead\n",
      "  df[cols] = df[cols].apply(pd.to_numeric, errors='ignore')\n",
      "/Users/Mark/mambaforge/envs/bombus_toshare/lib/python3.10/site-packages/q2_types/sample_data/_deferred_setup/_transformers.py:28: FutureWarning: errors='ignore' is deprecated and will raise in a future version. Use to_numeric without passing `errors` and catch exceptions explicitly instead\n",
      "  df[cols] = df[cols].apply(pd.to_numeric, errors='ignore')\n",
      "/Users/Mark/mambaforge/envs/bombus_toshare/lib/python3.10/site-packages/q2_types/sample_data/_deferred_setup/_transformers.py:28: FutureWarning: errors='ignore' is deprecated and will raise in a future version. Use to_numeric without passing `errors` and catch exceptions explicitly instead\n",
      "  df[cols] = df[cols].apply(pd.to_numeric, errors='ignore')\n"
     ]
    },
    {
     "name": "stdout",
     "output_type": "stream",
     "text": [
      "Running external command line application. This may print messages to stdout and/or stderr.\n",
      "The command being run is below. This command cannot be manually re-run as it will depend on temporary files that no longer exist.\n",
      "\n",
      "Command:\n",
      "\n",
      "faithpd -i /var/folders/kk/vx23v0b52wv0sx4vqhls42dw0000gn/T/qiime2/Mark/data/2610f4f6-919c-4982-afbd-05c50213d207/data/feature-table.biom -t /var/folders/kk/vx23v0b52wv0sx4vqhls42dw0000gn/T/qiime2/Mark/data/8ff07e13-3177-4748-b216-aa4b3d591051/data/tree.nwk -o /var/folders/kk/vx23v0b52wv0sx4vqhls42dw0000gn/T/qiime2/Mark/processes/28745-1733069495.838095@Mark/tmp/q2-OutPath-cyyt7svt\n",
      "\n"
     ]
    },
    {
     "name": "stderr",
     "output_type": "stream",
     "text": [
      "/Users/Mark/mambaforge/envs/bombus_toshare/lib/python3.10/site-packages/q2_types/sample_data/_deferred_setup/_transformers.py:28: FutureWarning: errors='ignore' is deprecated and will raise in a future version. Use to_numeric without passing `errors` and catch exceptions explicitly instead\n",
      "  df[cols] = df[cols].apply(pd.to_numeric, errors='ignore')\n",
      "/Users/Mark/mambaforge/envs/bombus_toshare/lib/python3.10/site-packages/q2_types/sample_data/_deferred_setup/_transformers.py:28: FutureWarning: errors='ignore' is deprecated and will raise in a future version. Use to_numeric without passing `errors` and catch exceptions explicitly instead\n",
      "  df[cols] = df[cols].apply(pd.to_numeric, errors='ignore')\n",
      "/Users/Mark/mambaforge/envs/bombus_toshare/lib/python3.10/site-packages/q2_types/sample_data/_deferred_setup/_transformers.py:28: FutureWarning: errors='ignore' is deprecated and will raise in a future version. Use to_numeric without passing `errors` and catch exceptions explicitly instead\n",
      "  df[cols] = df[cols].apply(pd.to_numeric, errors='ignore')\n"
     ]
    },
    {
     "name": "stdout",
     "output_type": "stream",
     "text": [
      "Running external command line application. This may print messages to stdout and/or stderr.\n",
      "The command being run is below. This command cannot be manually re-run as it will depend on temporary files that no longer exist.\n",
      "\n",
      "Command:\n",
      "\n",
      "faithpd -i /var/folders/kk/vx23v0b52wv0sx4vqhls42dw0000gn/T/qiime2/Mark/data/c1d21716-acd8-4a1a-a0c8-efcd61099200/data/feature-table.biom -t /var/folders/kk/vx23v0b52wv0sx4vqhls42dw0000gn/T/qiime2/Mark/data/8ff07e13-3177-4748-b216-aa4b3d591051/data/tree.nwk -o /var/folders/kk/vx23v0b52wv0sx4vqhls42dw0000gn/T/qiime2/Mark/processes/28745-1733069495.838095@Mark/tmp/q2-OutPath-cqjvyzxj\n",
      "\n"
     ]
    },
    {
     "name": "stderr",
     "output_type": "stream",
     "text": [
      "/Users/Mark/mambaforge/envs/bombus_toshare/lib/python3.10/site-packages/q2_types/sample_data/_deferred_setup/_transformers.py:28: FutureWarning: errors='ignore' is deprecated and will raise in a future version. Use to_numeric without passing `errors` and catch exceptions explicitly instead\n",
      "  df[cols] = df[cols].apply(pd.to_numeric, errors='ignore')\n",
      "/Users/Mark/mambaforge/envs/bombus_toshare/lib/python3.10/site-packages/q2_types/sample_data/_deferred_setup/_transformers.py:28: FutureWarning: errors='ignore' is deprecated and will raise in a future version. Use to_numeric without passing `errors` and catch exceptions explicitly instead\n",
      "  df[cols] = df[cols].apply(pd.to_numeric, errors='ignore')\n",
      "/Users/Mark/mambaforge/envs/bombus_toshare/lib/python3.10/site-packages/q2_types/sample_data/_deferred_setup/_transformers.py:28: FutureWarning: errors='ignore' is deprecated and will raise in a future version. Use to_numeric without passing `errors` and catch exceptions explicitly instead\n",
      "  df[cols] = df[cols].apply(pd.to_numeric, errors='ignore')\n"
     ]
    },
    {
     "name": "stdout",
     "output_type": "stream",
     "text": [
      "Running external command line application. This may print messages to stdout and/or stderr.\n",
      "The command being run is below. This command cannot be manually re-run as it will depend on temporary files that no longer exist.\n",
      "\n",
      "Command:\n",
      "\n",
      "faithpd -i /var/folders/kk/vx23v0b52wv0sx4vqhls42dw0000gn/T/qiime2/Mark/data/bfc05bcf-a634-4a6d-8f2c-79d17f26f516/data/feature-table.biom -t /var/folders/kk/vx23v0b52wv0sx4vqhls42dw0000gn/T/qiime2/Mark/data/8ff07e13-3177-4748-b216-aa4b3d591051/data/tree.nwk -o /var/folders/kk/vx23v0b52wv0sx4vqhls42dw0000gn/T/qiime2/Mark/processes/28745-1733069495.838095@Mark/tmp/q2-OutPath-_7jm6w1e\n",
      "\n"
     ]
    },
    {
     "name": "stderr",
     "output_type": "stream",
     "text": [
      "/Users/Mark/mambaforge/envs/bombus_toshare/lib/python3.10/site-packages/q2_types/sample_data/_deferred_setup/_transformers.py:28: FutureWarning: errors='ignore' is deprecated and will raise in a future version. Use to_numeric without passing `errors` and catch exceptions explicitly instead\n",
      "  df[cols] = df[cols].apply(pd.to_numeric, errors='ignore')\n",
      "/Users/Mark/mambaforge/envs/bombus_toshare/lib/python3.10/site-packages/q2_types/sample_data/_deferred_setup/_transformers.py:28: FutureWarning: errors='ignore' is deprecated and will raise in a future version. Use to_numeric without passing `errors` and catch exceptions explicitly instead\n",
      "  df[cols] = df[cols].apply(pd.to_numeric, errors='ignore')\n",
      "/Users/Mark/mambaforge/envs/bombus_toshare/lib/python3.10/site-packages/q2_types/sample_data/_deferred_setup/_transformers.py:28: FutureWarning: errors='ignore' is deprecated and will raise in a future version. Use to_numeric without passing `errors` and catch exceptions explicitly instead\n",
      "  df[cols] = df[cols].apply(pd.to_numeric, errors='ignore')\n"
     ]
    },
    {
     "name": "stdout",
     "output_type": "stream",
     "text": [
      "Running external command line application. This may print messages to stdout and/or stderr.\n",
      "The command being run is below. This command cannot be manually re-run as it will depend on temporary files that no longer exist.\n",
      "\n",
      "Command:\n",
      "\n",
      "faithpd -i /var/folders/kk/vx23v0b52wv0sx4vqhls42dw0000gn/T/qiime2/Mark/data/a8f3766d-e1fc-4f17-961b-4d253b07bcab/data/feature-table.biom -t /var/folders/kk/vx23v0b52wv0sx4vqhls42dw0000gn/T/qiime2/Mark/data/8ff07e13-3177-4748-b216-aa4b3d591051/data/tree.nwk -o /var/folders/kk/vx23v0b52wv0sx4vqhls42dw0000gn/T/qiime2/Mark/processes/28745-1733069495.838095@Mark/tmp/q2-OutPath-ybdr_r1l\n",
      "\n"
     ]
    },
    {
     "name": "stderr",
     "output_type": "stream",
     "text": [
      "/Users/Mark/mambaforge/envs/bombus_toshare/lib/python3.10/site-packages/q2_types/sample_data/_deferred_setup/_transformers.py:28: FutureWarning: errors='ignore' is deprecated and will raise in a future version. Use to_numeric without passing `errors` and catch exceptions explicitly instead\n",
      "  df[cols] = df[cols].apply(pd.to_numeric, errors='ignore')\n",
      "/Users/Mark/mambaforge/envs/bombus_toshare/lib/python3.10/site-packages/q2_types/sample_data/_deferred_setup/_transformers.py:28: FutureWarning: errors='ignore' is deprecated and will raise in a future version. Use to_numeric without passing `errors` and catch exceptions explicitly instead\n",
      "  df[cols] = df[cols].apply(pd.to_numeric, errors='ignore')\n",
      "/Users/Mark/mambaforge/envs/bombus_toshare/lib/python3.10/site-packages/q2_types/sample_data/_deferred_setup/_transformers.py:28: FutureWarning: errors='ignore' is deprecated and will raise in a future version. Use to_numeric without passing `errors` and catch exceptions explicitly instead\n",
      "  df[cols] = df[cols].apply(pd.to_numeric, errors='ignore')\n"
     ]
    },
    {
     "name": "stdout",
     "output_type": "stream",
     "text": [
      "Running external command line application. This may print messages to stdout and/or stderr.\n",
      "The command being run is below. This command cannot be manually re-run as it will depend on temporary files that no longer exist.\n",
      "\n",
      "Command:\n",
      "\n",
      "faithpd -i /var/folders/kk/vx23v0b52wv0sx4vqhls42dw0000gn/T/qiime2/Mark/data/8955db0a-7f56-4d8d-8632-aa154362fcac/data/feature-table.biom -t /var/folders/kk/vx23v0b52wv0sx4vqhls42dw0000gn/T/qiime2/Mark/data/8ff07e13-3177-4748-b216-aa4b3d591051/data/tree.nwk -o /var/folders/kk/vx23v0b52wv0sx4vqhls42dw0000gn/T/qiime2/Mark/processes/28745-1733069495.838095@Mark/tmp/q2-OutPath-i2h0bhyn\n",
      "\n"
     ]
    },
    {
     "name": "stderr",
     "output_type": "stream",
     "text": [
      "/Users/Mark/mambaforge/envs/bombus_toshare/lib/python3.10/site-packages/q2_types/sample_data/_deferred_setup/_transformers.py:28: FutureWarning: errors='ignore' is deprecated and will raise in a future version. Use to_numeric without passing `errors` and catch exceptions explicitly instead\n",
      "  df[cols] = df[cols].apply(pd.to_numeric, errors='ignore')\n",
      "/Users/Mark/mambaforge/envs/bombus_toshare/lib/python3.10/site-packages/q2_types/sample_data/_deferred_setup/_transformers.py:28: FutureWarning: errors='ignore' is deprecated and will raise in a future version. Use to_numeric without passing `errors` and catch exceptions explicitly instead\n",
      "  df[cols] = df[cols].apply(pd.to_numeric, errors='ignore')\n",
      "/Users/Mark/mambaforge/envs/bombus_toshare/lib/python3.10/site-packages/q2_types/sample_data/_deferred_setup/_transformers.py:28: FutureWarning: errors='ignore' is deprecated and will raise in a future version. Use to_numeric without passing `errors` and catch exceptions explicitly instead\n",
      "  df[cols] = df[cols].apply(pd.to_numeric, errors='ignore')\n"
     ]
    },
    {
     "name": "stdout",
     "output_type": "stream",
     "text": [
      "Running external command line application. This may print messages to stdout and/or stderr.\n",
      "The command being run is below. This command cannot be manually re-run as it will depend on temporary files that no longer exist.\n",
      "\n",
      "Command:\n",
      "\n",
      "faithpd -i /var/folders/kk/vx23v0b52wv0sx4vqhls42dw0000gn/T/qiime2/Mark/data/5be1166b-aeea-4bc8-adf8-992f3e595f28/data/feature-table.biom -t /var/folders/kk/vx23v0b52wv0sx4vqhls42dw0000gn/T/qiime2/Mark/data/8ff07e13-3177-4748-b216-aa4b3d591051/data/tree.nwk -o /var/folders/kk/vx23v0b52wv0sx4vqhls42dw0000gn/T/qiime2/Mark/processes/28745-1733069495.838095@Mark/tmp/q2-OutPath-r267uozk\n",
      "\n"
     ]
    },
    {
     "name": "stderr",
     "output_type": "stream",
     "text": [
      "/Users/Mark/mambaforge/envs/bombus_toshare/lib/python3.10/site-packages/q2_types/sample_data/_deferred_setup/_transformers.py:28: FutureWarning: errors='ignore' is deprecated and will raise in a future version. Use to_numeric without passing `errors` and catch exceptions explicitly instead\n",
      "  df[cols] = df[cols].apply(pd.to_numeric, errors='ignore')\n",
      "/Users/Mark/mambaforge/envs/bombus_toshare/lib/python3.10/site-packages/q2_types/sample_data/_deferred_setup/_transformers.py:28: FutureWarning: errors='ignore' is deprecated and will raise in a future version. Use to_numeric without passing `errors` and catch exceptions explicitly instead\n",
      "  df[cols] = df[cols].apply(pd.to_numeric, errors='ignore')\n",
      "/Users/Mark/mambaforge/envs/bombus_toshare/lib/python3.10/site-packages/q2_types/sample_data/_deferred_setup/_transformers.py:28: FutureWarning: errors='ignore' is deprecated and will raise in a future version. Use to_numeric without passing `errors` and catch exceptions explicitly instead\n",
      "  df[cols] = df[cols].apply(pd.to_numeric, errors='ignore')\n"
     ]
    },
    {
     "name": "stdout",
     "output_type": "stream",
     "text": [
      "Running external command line application. This may print messages to stdout and/or stderr.\n",
      "The command being run is below. This command cannot be manually re-run as it will depend on temporary files that no longer exist.\n",
      "\n",
      "Command:\n",
      "\n",
      "faithpd -i /var/folders/kk/vx23v0b52wv0sx4vqhls42dw0000gn/T/qiime2/Mark/data/15a9a413-e365-49ea-b60b-bea826e38f5b/data/feature-table.biom -t /var/folders/kk/vx23v0b52wv0sx4vqhls42dw0000gn/T/qiime2/Mark/data/8ff07e13-3177-4748-b216-aa4b3d591051/data/tree.nwk -o /var/folders/kk/vx23v0b52wv0sx4vqhls42dw0000gn/T/qiime2/Mark/processes/28745-1733069495.838095@Mark/tmp/q2-OutPath-nbflanxy\n",
      "\n"
     ]
    },
    {
     "name": "stderr",
     "output_type": "stream",
     "text": [
      "/Users/Mark/mambaforge/envs/bombus_toshare/lib/python3.10/site-packages/q2_types/sample_data/_deferred_setup/_transformers.py:28: FutureWarning: errors='ignore' is deprecated and will raise in a future version. Use to_numeric without passing `errors` and catch exceptions explicitly instead\n",
      "  df[cols] = df[cols].apply(pd.to_numeric, errors='ignore')\n",
      "/Users/Mark/mambaforge/envs/bombus_toshare/lib/python3.10/site-packages/q2_types/sample_data/_deferred_setup/_transformers.py:28: FutureWarning: errors='ignore' is deprecated and will raise in a future version. Use to_numeric without passing `errors` and catch exceptions explicitly instead\n",
      "  df[cols] = df[cols].apply(pd.to_numeric, errors='ignore')\n",
      "/Users/Mark/mambaforge/envs/bombus_toshare/lib/python3.10/site-packages/q2_types/sample_data/_deferred_setup/_transformers.py:28: FutureWarning: errors='ignore' is deprecated and will raise in a future version. Use to_numeric without passing `errors` and catch exceptions explicitly instead\n",
      "  df[cols] = df[cols].apply(pd.to_numeric, errors='ignore')\n"
     ]
    },
    {
     "name": "stdout",
     "output_type": "stream",
     "text": [
      "Running external command line application. This may print messages to stdout and/or stderr.\n",
      "The command being run is below. This command cannot be manually re-run as it will depend on temporary files that no longer exist.\n",
      "\n",
      "Command:\n",
      "\n",
      "faithpd -i /var/folders/kk/vx23v0b52wv0sx4vqhls42dw0000gn/T/qiime2/Mark/data/a54c723c-2873-45c8-a293-9b8efac68899/data/feature-table.biom -t /var/folders/kk/vx23v0b52wv0sx4vqhls42dw0000gn/T/qiime2/Mark/data/8ff07e13-3177-4748-b216-aa4b3d591051/data/tree.nwk -o /var/folders/kk/vx23v0b52wv0sx4vqhls42dw0000gn/T/qiime2/Mark/processes/28745-1733069495.838095@Mark/tmp/q2-OutPath-b0rw97_x\n",
      "\n"
     ]
    },
    {
     "name": "stderr",
     "output_type": "stream",
     "text": [
      "/Users/Mark/mambaforge/envs/bombus_toshare/lib/python3.10/site-packages/q2_types/sample_data/_deferred_setup/_transformers.py:28: FutureWarning: errors='ignore' is deprecated and will raise in a future version. Use to_numeric without passing `errors` and catch exceptions explicitly instead\n",
      "  df[cols] = df[cols].apply(pd.to_numeric, errors='ignore')\n",
      "/Users/Mark/mambaforge/envs/bombus_toshare/lib/python3.10/site-packages/q2_types/sample_data/_deferred_setup/_transformers.py:28: FutureWarning: errors='ignore' is deprecated and will raise in a future version. Use to_numeric without passing `errors` and catch exceptions explicitly instead\n",
      "  df[cols] = df[cols].apply(pd.to_numeric, errors='ignore')\n",
      "/Users/Mark/mambaforge/envs/bombus_toshare/lib/python3.10/site-packages/q2_types/sample_data/_deferred_setup/_transformers.py:28: FutureWarning: errors='ignore' is deprecated and will raise in a future version. Use to_numeric without passing `errors` and catch exceptions explicitly instead\n",
      "  df[cols] = df[cols].apply(pd.to_numeric, errors='ignore')\n"
     ]
    },
    {
     "name": "stdout",
     "output_type": "stream",
     "text": [
      "Running external command line application. This may print messages to stdout and/or stderr.\n",
      "The command being run is below. This command cannot be manually re-run as it will depend on temporary files that no longer exist.\n",
      "\n",
      "Command:\n",
      "\n",
      "faithpd -i /var/folders/kk/vx23v0b52wv0sx4vqhls42dw0000gn/T/qiime2/Mark/data/e83fdc9d-c8f1-4634-8e3e-430027d28634/data/feature-table.biom -t /var/folders/kk/vx23v0b52wv0sx4vqhls42dw0000gn/T/qiime2/Mark/data/8ff07e13-3177-4748-b216-aa4b3d591051/data/tree.nwk -o /var/folders/kk/vx23v0b52wv0sx4vqhls42dw0000gn/T/qiime2/Mark/processes/28745-1733069495.838095@Mark/tmp/q2-OutPath-8ig3fstv\n",
      "\n"
     ]
    },
    {
     "name": "stderr",
     "output_type": "stream",
     "text": [
      "/Users/Mark/mambaforge/envs/bombus_toshare/lib/python3.10/site-packages/q2_types/sample_data/_deferred_setup/_transformers.py:28: FutureWarning: errors='ignore' is deprecated and will raise in a future version. Use to_numeric without passing `errors` and catch exceptions explicitly instead\n",
      "  df[cols] = df[cols].apply(pd.to_numeric, errors='ignore')\n",
      "/Users/Mark/mambaforge/envs/bombus_toshare/lib/python3.10/site-packages/q2_types/sample_data/_deferred_setup/_transformers.py:28: FutureWarning: errors='ignore' is deprecated and will raise in a future version. Use to_numeric without passing `errors` and catch exceptions explicitly instead\n",
      "  df[cols] = df[cols].apply(pd.to_numeric, errors='ignore')\n",
      "/Users/Mark/mambaforge/envs/bombus_toshare/lib/python3.10/site-packages/q2_types/sample_data/_deferred_setup/_transformers.py:28: FutureWarning: errors='ignore' is deprecated and will raise in a future version. Use to_numeric without passing `errors` and catch exceptions explicitly instead\n",
      "  df[cols] = df[cols].apply(pd.to_numeric, errors='ignore')\n"
     ]
    },
    {
     "name": "stdout",
     "output_type": "stream",
     "text": [
      "Running external command line application. This may print messages to stdout and/or stderr.\n",
      "The command being run is below. This command cannot be manually re-run as it will depend on temporary files that no longer exist.\n",
      "\n",
      "Command:\n",
      "\n",
      "faithpd -i /var/folders/kk/vx23v0b52wv0sx4vqhls42dw0000gn/T/qiime2/Mark/data/a1e6e0d2-551a-4a1c-82b6-d762698843c9/data/feature-table.biom -t /var/folders/kk/vx23v0b52wv0sx4vqhls42dw0000gn/T/qiime2/Mark/data/8ff07e13-3177-4748-b216-aa4b3d591051/data/tree.nwk -o /var/folders/kk/vx23v0b52wv0sx4vqhls42dw0000gn/T/qiime2/Mark/processes/28745-1733069495.838095@Mark/tmp/q2-OutPath-h253zhth\n",
      "\n"
     ]
    },
    {
     "name": "stderr",
     "output_type": "stream",
     "text": [
      "/Users/Mark/mambaforge/envs/bombus_toshare/lib/python3.10/site-packages/q2_types/sample_data/_deferred_setup/_transformers.py:28: FutureWarning: errors='ignore' is deprecated and will raise in a future version. Use to_numeric without passing `errors` and catch exceptions explicitly instead\n",
      "  df[cols] = df[cols].apply(pd.to_numeric, errors='ignore')\n",
      "/Users/Mark/mambaforge/envs/bombus_toshare/lib/python3.10/site-packages/q2_types/sample_data/_deferred_setup/_transformers.py:28: FutureWarning: errors='ignore' is deprecated and will raise in a future version. Use to_numeric without passing `errors` and catch exceptions explicitly instead\n",
      "  df[cols] = df[cols].apply(pd.to_numeric, errors='ignore')\n",
      "/Users/Mark/mambaforge/envs/bombus_toshare/lib/python3.10/site-packages/q2_types/sample_data/_deferred_setup/_transformers.py:28: FutureWarning: errors='ignore' is deprecated and will raise in a future version. Use to_numeric without passing `errors` and catch exceptions explicitly instead\n",
      "  df[cols] = df[cols].apply(pd.to_numeric, errors='ignore')\n"
     ]
    },
    {
     "name": "stdout",
     "output_type": "stream",
     "text": [
      "Running external command line application. This may print messages to stdout and/or stderr.\n",
      "The command being run is below. This command cannot be manually re-run as it will depend on temporary files that no longer exist.\n",
      "\n",
      "Command:\n",
      "\n",
      "faithpd -i /var/folders/kk/vx23v0b52wv0sx4vqhls42dw0000gn/T/qiime2/Mark/data/37745174-8162-49e8-987c-3682998d02f9/data/feature-table.biom -t /var/folders/kk/vx23v0b52wv0sx4vqhls42dw0000gn/T/qiime2/Mark/data/8ff07e13-3177-4748-b216-aa4b3d591051/data/tree.nwk -o /var/folders/kk/vx23v0b52wv0sx4vqhls42dw0000gn/T/qiime2/Mark/processes/28745-1733069495.838095@Mark/tmp/q2-OutPath-xws5r2d9\n",
      "\n"
     ]
    },
    {
     "name": "stderr",
     "output_type": "stream",
     "text": [
      "/Users/Mark/mambaforge/envs/bombus_toshare/lib/python3.10/site-packages/q2_types/sample_data/_deferred_setup/_transformers.py:28: FutureWarning: errors='ignore' is deprecated and will raise in a future version. Use to_numeric without passing `errors` and catch exceptions explicitly instead\n",
      "  df[cols] = df[cols].apply(pd.to_numeric, errors='ignore')\n",
      "/Users/Mark/mambaforge/envs/bombus_toshare/lib/python3.10/site-packages/q2_types/sample_data/_deferred_setup/_transformers.py:28: FutureWarning: errors='ignore' is deprecated and will raise in a future version. Use to_numeric without passing `errors` and catch exceptions explicitly instead\n",
      "  df[cols] = df[cols].apply(pd.to_numeric, errors='ignore')\n",
      "/Users/Mark/mambaforge/envs/bombus_toshare/lib/python3.10/site-packages/q2_types/sample_data/_deferred_setup/_transformers.py:28: FutureWarning: errors='ignore' is deprecated and will raise in a future version. Use to_numeric without passing `errors` and catch exceptions explicitly instead\n",
      "  df[cols] = df[cols].apply(pd.to_numeric, errors='ignore')\n"
     ]
    },
    {
     "name": "stdout",
     "output_type": "stream",
     "text": [
      "Running external command line application. This may print messages to stdout and/or stderr.\n",
      "The command being run is below. This command cannot be manually re-run as it will depend on temporary files that no longer exist.\n",
      "\n",
      "Command:\n",
      "\n",
      "faithpd -i /var/folders/kk/vx23v0b52wv0sx4vqhls42dw0000gn/T/qiime2/Mark/data/36bdd25b-2ecd-40ab-b469-98e6485b68cf/data/feature-table.biom -t /var/folders/kk/vx23v0b52wv0sx4vqhls42dw0000gn/T/qiime2/Mark/data/8ff07e13-3177-4748-b216-aa4b3d591051/data/tree.nwk -o /var/folders/kk/vx23v0b52wv0sx4vqhls42dw0000gn/T/qiime2/Mark/processes/28745-1733069495.838095@Mark/tmp/q2-OutPath-d1wan8pg\n",
      "\n"
     ]
    },
    {
     "name": "stderr",
     "output_type": "stream",
     "text": [
      "/Users/Mark/mambaforge/envs/bombus_toshare/lib/python3.10/site-packages/q2_types/sample_data/_deferred_setup/_transformers.py:28: FutureWarning: errors='ignore' is deprecated and will raise in a future version. Use to_numeric without passing `errors` and catch exceptions explicitly instead\n",
      "  df[cols] = df[cols].apply(pd.to_numeric, errors='ignore')\n",
      "/Users/Mark/mambaforge/envs/bombus_toshare/lib/python3.10/site-packages/q2_types/sample_data/_deferred_setup/_transformers.py:28: FutureWarning: errors='ignore' is deprecated and will raise in a future version. Use to_numeric without passing `errors` and catch exceptions explicitly instead\n",
      "  df[cols] = df[cols].apply(pd.to_numeric, errors='ignore')\n",
      "/Users/Mark/mambaforge/envs/bombus_toshare/lib/python3.10/site-packages/q2_types/sample_data/_deferred_setup/_transformers.py:28: FutureWarning: errors='ignore' is deprecated and will raise in a future version. Use to_numeric without passing `errors` and catch exceptions explicitly instead\n",
      "  df[cols] = df[cols].apply(pd.to_numeric, errors='ignore')\n"
     ]
    },
    {
     "name": "stdout",
     "output_type": "stream",
     "text": [
      "Running external command line application. This may print messages to stdout and/or stderr.\n",
      "The command being run is below. This command cannot be manually re-run as it will depend on temporary files that no longer exist.\n",
      "\n",
      "Command:\n",
      "\n",
      "faithpd -i /var/folders/kk/vx23v0b52wv0sx4vqhls42dw0000gn/T/qiime2/Mark/data/583d7494-84d2-447f-9b23-855afbd5e798/data/feature-table.biom -t /var/folders/kk/vx23v0b52wv0sx4vqhls42dw0000gn/T/qiime2/Mark/data/8ff07e13-3177-4748-b216-aa4b3d591051/data/tree.nwk -o /var/folders/kk/vx23v0b52wv0sx4vqhls42dw0000gn/T/qiime2/Mark/processes/28745-1733069495.838095@Mark/tmp/q2-OutPath-nyn00ldd\n",
      "\n"
     ]
    },
    {
     "name": "stderr",
     "output_type": "stream",
     "text": [
      "/Users/Mark/mambaforge/envs/bombus_toshare/lib/python3.10/site-packages/q2_types/sample_data/_deferred_setup/_transformers.py:28: FutureWarning: errors='ignore' is deprecated and will raise in a future version. Use to_numeric without passing `errors` and catch exceptions explicitly instead\n",
      "  df[cols] = df[cols].apply(pd.to_numeric, errors='ignore')\n",
      "/Users/Mark/mambaforge/envs/bombus_toshare/lib/python3.10/site-packages/q2_types/sample_data/_deferred_setup/_transformers.py:28: FutureWarning: errors='ignore' is deprecated and will raise in a future version. Use to_numeric without passing `errors` and catch exceptions explicitly instead\n",
      "  df[cols] = df[cols].apply(pd.to_numeric, errors='ignore')\n",
      "/Users/Mark/mambaforge/envs/bombus_toshare/lib/python3.10/site-packages/q2_types/sample_data/_deferred_setup/_transformers.py:28: FutureWarning: errors='ignore' is deprecated and will raise in a future version. Use to_numeric without passing `errors` and catch exceptions explicitly instead\n",
      "  df[cols] = df[cols].apply(pd.to_numeric, errors='ignore')\n"
     ]
    },
    {
     "name": "stdout",
     "output_type": "stream",
     "text": [
      "Running external command line application. This may print messages to stdout and/or stderr.\n",
      "The command being run is below. This command cannot be manually re-run as it will depend on temporary files that no longer exist.\n",
      "\n",
      "Command:\n",
      "\n",
      "faithpd -i /var/folders/kk/vx23v0b52wv0sx4vqhls42dw0000gn/T/qiime2/Mark/data/48735278-82c4-4814-a70d-8e0ec6d7801c/data/feature-table.biom -t /var/folders/kk/vx23v0b52wv0sx4vqhls42dw0000gn/T/qiime2/Mark/data/8ff07e13-3177-4748-b216-aa4b3d591051/data/tree.nwk -o /var/folders/kk/vx23v0b52wv0sx4vqhls42dw0000gn/T/qiime2/Mark/processes/28745-1733069495.838095@Mark/tmp/q2-OutPath-mv5atoss\n",
      "\n"
     ]
    },
    {
     "name": "stderr",
     "output_type": "stream",
     "text": [
      "/Users/Mark/mambaforge/envs/bombus_toshare/lib/python3.10/site-packages/q2_types/sample_data/_deferred_setup/_transformers.py:28: FutureWarning: errors='ignore' is deprecated and will raise in a future version. Use to_numeric without passing `errors` and catch exceptions explicitly instead\n",
      "  df[cols] = df[cols].apply(pd.to_numeric, errors='ignore')\n",
      "/Users/Mark/mambaforge/envs/bombus_toshare/lib/python3.10/site-packages/q2_types/sample_data/_deferred_setup/_transformers.py:28: FutureWarning: errors='ignore' is deprecated and will raise in a future version. Use to_numeric without passing `errors` and catch exceptions explicitly instead\n",
      "  df[cols] = df[cols].apply(pd.to_numeric, errors='ignore')\n",
      "/Users/Mark/mambaforge/envs/bombus_toshare/lib/python3.10/site-packages/q2_types/sample_data/_deferred_setup/_transformers.py:28: FutureWarning: errors='ignore' is deprecated and will raise in a future version. Use to_numeric without passing `errors` and catch exceptions explicitly instead\n",
      "  df[cols] = df[cols].apply(pd.to_numeric, errors='ignore')\n"
     ]
    },
    {
     "name": "stdout",
     "output_type": "stream",
     "text": [
      "Running external command line application. This may print messages to stdout and/or stderr.\n",
      "The command being run is below. This command cannot be manually re-run as it will depend on temporary files that no longer exist.\n",
      "\n",
      "Command:\n",
      "\n",
      "faithpd -i /var/folders/kk/vx23v0b52wv0sx4vqhls42dw0000gn/T/qiime2/Mark/data/04b84668-fc95-4ba8-b4e7-4e9ef17953f8/data/feature-table.biom -t /var/folders/kk/vx23v0b52wv0sx4vqhls42dw0000gn/T/qiime2/Mark/data/8ff07e13-3177-4748-b216-aa4b3d591051/data/tree.nwk -o /var/folders/kk/vx23v0b52wv0sx4vqhls42dw0000gn/T/qiime2/Mark/processes/28745-1733069495.838095@Mark/tmp/q2-OutPath-dsnfeumz\n",
      "\n"
     ]
    },
    {
     "name": "stderr",
     "output_type": "stream",
     "text": [
      "/Users/Mark/mambaforge/envs/bombus_toshare/lib/python3.10/site-packages/q2_types/sample_data/_deferred_setup/_transformers.py:28: FutureWarning: errors='ignore' is deprecated and will raise in a future version. Use to_numeric without passing `errors` and catch exceptions explicitly instead\n",
      "  df[cols] = df[cols].apply(pd.to_numeric, errors='ignore')\n",
      "/Users/Mark/mambaforge/envs/bombus_toshare/lib/python3.10/site-packages/q2_types/sample_data/_deferred_setup/_transformers.py:28: FutureWarning: errors='ignore' is deprecated and will raise in a future version. Use to_numeric without passing `errors` and catch exceptions explicitly instead\n",
      "  df[cols] = df[cols].apply(pd.to_numeric, errors='ignore')\n",
      "/Users/Mark/mambaforge/envs/bombus_toshare/lib/python3.10/site-packages/q2_types/sample_data/_deferred_setup/_transformers.py:28: FutureWarning: errors='ignore' is deprecated and will raise in a future version. Use to_numeric without passing `errors` and catch exceptions explicitly instead\n",
      "  df[cols] = df[cols].apply(pd.to_numeric, errors='ignore')\n"
     ]
    },
    {
     "name": "stdout",
     "output_type": "stream",
     "text": [
      "Running external command line application. This may print messages to stdout and/or stderr.\n",
      "The command being run is below. This command cannot be manually re-run as it will depend on temporary files that no longer exist.\n",
      "\n",
      "Command:\n",
      "\n",
      "faithpd -i /var/folders/kk/vx23v0b52wv0sx4vqhls42dw0000gn/T/qiime2/Mark/data/e5acecff-a0f5-4cbf-ac2e-b6acc6f18d48/data/feature-table.biom -t /var/folders/kk/vx23v0b52wv0sx4vqhls42dw0000gn/T/qiime2/Mark/data/8ff07e13-3177-4748-b216-aa4b3d591051/data/tree.nwk -o /var/folders/kk/vx23v0b52wv0sx4vqhls42dw0000gn/T/qiime2/Mark/processes/28745-1733069495.838095@Mark/tmp/q2-OutPath-5ylznwue\n",
      "\n"
     ]
    },
    {
     "name": "stderr",
     "output_type": "stream",
     "text": [
      "/Users/Mark/mambaforge/envs/bombus_toshare/lib/python3.10/site-packages/q2_types/sample_data/_deferred_setup/_transformers.py:28: FutureWarning: errors='ignore' is deprecated and will raise in a future version. Use to_numeric without passing `errors` and catch exceptions explicitly instead\n",
      "  df[cols] = df[cols].apply(pd.to_numeric, errors='ignore')\n",
      "/Users/Mark/mambaforge/envs/bombus_toshare/lib/python3.10/site-packages/q2_types/sample_data/_deferred_setup/_transformers.py:28: FutureWarning: errors='ignore' is deprecated and will raise in a future version. Use to_numeric without passing `errors` and catch exceptions explicitly instead\n",
      "  df[cols] = df[cols].apply(pd.to_numeric, errors='ignore')\n",
      "/Users/Mark/mambaforge/envs/bombus_toshare/lib/python3.10/site-packages/q2_types/sample_data/_deferred_setup/_transformers.py:28: FutureWarning: errors='ignore' is deprecated and will raise in a future version. Use to_numeric without passing `errors` and catch exceptions explicitly instead\n",
      "  df[cols] = df[cols].apply(pd.to_numeric, errors='ignore')\n"
     ]
    },
    {
     "name": "stdout",
     "output_type": "stream",
     "text": [
      "Running external command line application. This may print messages to stdout and/or stderr.\n",
      "The command being run is below. This command cannot be manually re-run as it will depend on temporary files that no longer exist.\n",
      "\n",
      "Command:\n",
      "\n",
      "faithpd -i /var/folders/kk/vx23v0b52wv0sx4vqhls42dw0000gn/T/qiime2/Mark/data/ef5ecd99-3706-4d78-9199-2adac40db93c/data/feature-table.biom -t /var/folders/kk/vx23v0b52wv0sx4vqhls42dw0000gn/T/qiime2/Mark/data/8ff07e13-3177-4748-b216-aa4b3d591051/data/tree.nwk -o /var/folders/kk/vx23v0b52wv0sx4vqhls42dw0000gn/T/qiime2/Mark/processes/28745-1733069495.838095@Mark/tmp/q2-OutPath-p_1cohf9\n",
      "\n"
     ]
    },
    {
     "name": "stderr",
     "output_type": "stream",
     "text": [
      "/Users/Mark/mambaforge/envs/bombus_toshare/lib/python3.10/site-packages/q2_types/sample_data/_deferred_setup/_transformers.py:28: FutureWarning: errors='ignore' is deprecated and will raise in a future version. Use to_numeric without passing `errors` and catch exceptions explicitly instead\n",
      "  df[cols] = df[cols].apply(pd.to_numeric, errors='ignore')\n",
      "/Users/Mark/mambaforge/envs/bombus_toshare/lib/python3.10/site-packages/q2_types/sample_data/_deferred_setup/_transformers.py:28: FutureWarning: errors='ignore' is deprecated and will raise in a future version. Use to_numeric without passing `errors` and catch exceptions explicitly instead\n",
      "  df[cols] = df[cols].apply(pd.to_numeric, errors='ignore')\n",
      "/Users/Mark/mambaforge/envs/bombus_toshare/lib/python3.10/site-packages/q2_types/sample_data/_deferred_setup/_transformers.py:28: FutureWarning: errors='ignore' is deprecated and will raise in a future version. Use to_numeric without passing `errors` and catch exceptions explicitly instead\n",
      "  df[cols] = df[cols].apply(pd.to_numeric, errors='ignore')\n"
     ]
    },
    {
     "name": "stdout",
     "output_type": "stream",
     "text": [
      "Running external command line application. This may print messages to stdout and/or stderr.\n",
      "The command being run is below. This command cannot be manually re-run as it will depend on temporary files that no longer exist.\n",
      "\n",
      "Command:\n",
      "\n",
      "faithpd -i /var/folders/kk/vx23v0b52wv0sx4vqhls42dw0000gn/T/qiime2/Mark/data/bbc7297d-0286-4678-87bb-8a4b224b557f/data/feature-table.biom -t /var/folders/kk/vx23v0b52wv0sx4vqhls42dw0000gn/T/qiime2/Mark/data/8ff07e13-3177-4748-b216-aa4b3d591051/data/tree.nwk -o /var/folders/kk/vx23v0b52wv0sx4vqhls42dw0000gn/T/qiime2/Mark/processes/28745-1733069495.838095@Mark/tmp/q2-OutPath-0byno1fm\n",
      "\n"
     ]
    },
    {
     "name": "stderr",
     "output_type": "stream",
     "text": [
      "/Users/Mark/mambaforge/envs/bombus_toshare/lib/python3.10/site-packages/q2_types/sample_data/_deferred_setup/_transformers.py:28: FutureWarning: errors='ignore' is deprecated and will raise in a future version. Use to_numeric without passing `errors` and catch exceptions explicitly instead\n",
      "  df[cols] = df[cols].apply(pd.to_numeric, errors='ignore')\n",
      "/Users/Mark/mambaforge/envs/bombus_toshare/lib/python3.10/site-packages/q2_types/sample_data/_deferred_setup/_transformers.py:28: FutureWarning: errors='ignore' is deprecated and will raise in a future version. Use to_numeric without passing `errors` and catch exceptions explicitly instead\n",
      "  df[cols] = df[cols].apply(pd.to_numeric, errors='ignore')\n",
      "/Users/Mark/mambaforge/envs/bombus_toshare/lib/python3.10/site-packages/q2_types/sample_data/_deferred_setup/_transformers.py:28: FutureWarning: errors='ignore' is deprecated and will raise in a future version. Use to_numeric without passing `errors` and catch exceptions explicitly instead\n",
      "  df[cols] = df[cols].apply(pd.to_numeric, errors='ignore')\n"
     ]
    },
    {
     "name": "stdout",
     "output_type": "stream",
     "text": [
      "Running external command line application. This may print messages to stdout and/or stderr.\n",
      "The command being run is below. This command cannot be manually re-run as it will depend on temporary files that no longer exist.\n",
      "\n",
      "Command:\n",
      "\n",
      "faithpd -i /var/folders/kk/vx23v0b52wv0sx4vqhls42dw0000gn/T/qiime2/Mark/data/2183bd6f-3dd6-480b-93d2-ec58da7ecb23/data/feature-table.biom -t /var/folders/kk/vx23v0b52wv0sx4vqhls42dw0000gn/T/qiime2/Mark/data/8ff07e13-3177-4748-b216-aa4b3d591051/data/tree.nwk -o /var/folders/kk/vx23v0b52wv0sx4vqhls42dw0000gn/T/qiime2/Mark/processes/28745-1733069495.838095@Mark/tmp/q2-OutPath-mshp4f8q\n",
      "\n"
     ]
    },
    {
     "name": "stderr",
     "output_type": "stream",
     "text": [
      "/Users/Mark/mambaforge/envs/bombus_toshare/lib/python3.10/site-packages/q2_types/sample_data/_deferred_setup/_transformers.py:28: FutureWarning: errors='ignore' is deprecated and will raise in a future version. Use to_numeric without passing `errors` and catch exceptions explicitly instead\n",
      "  df[cols] = df[cols].apply(pd.to_numeric, errors='ignore')\n",
      "/Users/Mark/mambaforge/envs/bombus_toshare/lib/python3.10/site-packages/q2_types/sample_data/_deferred_setup/_transformers.py:28: FutureWarning: errors='ignore' is deprecated and will raise in a future version. Use to_numeric without passing `errors` and catch exceptions explicitly instead\n",
      "  df[cols] = df[cols].apply(pd.to_numeric, errors='ignore')\n",
      "/Users/Mark/mambaforge/envs/bombus_toshare/lib/python3.10/site-packages/q2_types/sample_data/_deferred_setup/_transformers.py:28: FutureWarning: errors='ignore' is deprecated and will raise in a future version. Use to_numeric without passing `errors` and catch exceptions explicitly instead\n",
      "  df[cols] = df[cols].apply(pd.to_numeric, errors='ignore')\n"
     ]
    },
    {
     "name": "stdout",
     "output_type": "stream",
     "text": [
      "Running external command line application. This may print messages to stdout and/or stderr.\n",
      "The command being run is below. This command cannot be manually re-run as it will depend on temporary files that no longer exist.\n",
      "\n",
      "Command:\n",
      "\n",
      "faithpd -i /var/folders/kk/vx23v0b52wv0sx4vqhls42dw0000gn/T/qiime2/Mark/data/41a24795-749a-477b-b1f4-516101e8acc5/data/feature-table.biom -t /var/folders/kk/vx23v0b52wv0sx4vqhls42dw0000gn/T/qiime2/Mark/data/8ff07e13-3177-4748-b216-aa4b3d591051/data/tree.nwk -o /var/folders/kk/vx23v0b52wv0sx4vqhls42dw0000gn/T/qiime2/Mark/processes/28745-1733069495.838095@Mark/tmp/q2-OutPath-um8e5wb5\n",
      "\n"
     ]
    },
    {
     "name": "stderr",
     "output_type": "stream",
     "text": [
      "/Users/Mark/mambaforge/envs/bombus_toshare/lib/python3.10/site-packages/q2_types/sample_data/_deferred_setup/_transformers.py:28: FutureWarning: errors='ignore' is deprecated and will raise in a future version. Use to_numeric without passing `errors` and catch exceptions explicitly instead\n",
      "  df[cols] = df[cols].apply(pd.to_numeric, errors='ignore')\n",
      "/Users/Mark/mambaforge/envs/bombus_toshare/lib/python3.10/site-packages/q2_types/sample_data/_deferred_setup/_transformers.py:28: FutureWarning: errors='ignore' is deprecated and will raise in a future version. Use to_numeric without passing `errors` and catch exceptions explicitly instead\n",
      "  df[cols] = df[cols].apply(pd.to_numeric, errors='ignore')\n",
      "/Users/Mark/mambaforge/envs/bombus_toshare/lib/python3.10/site-packages/q2_types/sample_data/_deferred_setup/_transformers.py:28: FutureWarning: errors='ignore' is deprecated and will raise in a future version. Use to_numeric without passing `errors` and catch exceptions explicitly instead\n",
      "  df[cols] = df[cols].apply(pd.to_numeric, errors='ignore')\n"
     ]
    },
    {
     "name": "stdout",
     "output_type": "stream",
     "text": [
      "Running external command line application. This may print messages to stdout and/or stderr.\n",
      "The command being run is below. This command cannot be manually re-run as it will depend on temporary files that no longer exist.\n",
      "\n",
      "Command:\n",
      "\n",
      "faithpd -i /var/folders/kk/vx23v0b52wv0sx4vqhls42dw0000gn/T/qiime2/Mark/data/97ee162c-fab0-4686-838c-e6c5958bf624/data/feature-table.biom -t /var/folders/kk/vx23v0b52wv0sx4vqhls42dw0000gn/T/qiime2/Mark/data/8ff07e13-3177-4748-b216-aa4b3d591051/data/tree.nwk -o /var/folders/kk/vx23v0b52wv0sx4vqhls42dw0000gn/T/qiime2/Mark/processes/28745-1733069495.838095@Mark/tmp/q2-OutPath-y6dzsu_c\n",
      "\n"
     ]
    },
    {
     "name": "stderr",
     "output_type": "stream",
     "text": [
      "/Users/Mark/mambaforge/envs/bombus_toshare/lib/python3.10/site-packages/q2_types/sample_data/_deferred_setup/_transformers.py:28: FutureWarning: errors='ignore' is deprecated and will raise in a future version. Use to_numeric without passing `errors` and catch exceptions explicitly instead\n",
      "  df[cols] = df[cols].apply(pd.to_numeric, errors='ignore')\n",
      "/Users/Mark/mambaforge/envs/bombus_toshare/lib/python3.10/site-packages/q2_types/sample_data/_deferred_setup/_transformers.py:28: FutureWarning: errors='ignore' is deprecated and will raise in a future version. Use to_numeric without passing `errors` and catch exceptions explicitly instead\n",
      "  df[cols] = df[cols].apply(pd.to_numeric, errors='ignore')\n",
      "/Users/Mark/mambaforge/envs/bombus_toshare/lib/python3.10/site-packages/q2_types/sample_data/_deferred_setup/_transformers.py:28: FutureWarning: errors='ignore' is deprecated and will raise in a future version. Use to_numeric without passing `errors` and catch exceptions explicitly instead\n",
      "  df[cols] = df[cols].apply(pd.to_numeric, errors='ignore')\n"
     ]
    },
    {
     "name": "stdout",
     "output_type": "stream",
     "text": [
      "Running external command line application. This may print messages to stdout and/or stderr.\n",
      "The command being run is below. This command cannot be manually re-run as it will depend on temporary files that no longer exist.\n",
      "\n",
      "Command:\n",
      "\n",
      "faithpd -i /var/folders/kk/vx23v0b52wv0sx4vqhls42dw0000gn/T/qiime2/Mark/data/871c36f8-9c59-4fa9-bb3e-83f4d64c99ad/data/feature-table.biom -t /var/folders/kk/vx23v0b52wv0sx4vqhls42dw0000gn/T/qiime2/Mark/data/8ff07e13-3177-4748-b216-aa4b3d591051/data/tree.nwk -o /var/folders/kk/vx23v0b52wv0sx4vqhls42dw0000gn/T/qiime2/Mark/processes/28745-1733069495.838095@Mark/tmp/q2-OutPath-1txg2c0h\n",
      "\n"
     ]
    },
    {
     "name": "stderr",
     "output_type": "stream",
     "text": [
      "/Users/Mark/mambaforge/envs/bombus_toshare/lib/python3.10/site-packages/q2_types/sample_data/_deferred_setup/_transformers.py:28: FutureWarning: errors='ignore' is deprecated and will raise in a future version. Use to_numeric without passing `errors` and catch exceptions explicitly instead\n",
      "  df[cols] = df[cols].apply(pd.to_numeric, errors='ignore')\n",
      "/Users/Mark/mambaforge/envs/bombus_toshare/lib/python3.10/site-packages/q2_types/sample_data/_deferred_setup/_transformers.py:28: FutureWarning: errors='ignore' is deprecated and will raise in a future version. Use to_numeric without passing `errors` and catch exceptions explicitly instead\n",
      "  df[cols] = df[cols].apply(pd.to_numeric, errors='ignore')\n",
      "/Users/Mark/mambaforge/envs/bombus_toshare/lib/python3.10/site-packages/q2_types/sample_data/_deferred_setup/_transformers.py:28: FutureWarning: errors='ignore' is deprecated and will raise in a future version. Use to_numeric without passing `errors` and catch exceptions explicitly instead\n",
      "  df[cols] = df[cols].apply(pd.to_numeric, errors='ignore')\n"
     ]
    },
    {
     "name": "stdout",
     "output_type": "stream",
     "text": [
      "Running external command line application. This may print messages to stdout and/or stderr.\n",
      "The command being run is below. This command cannot be manually re-run as it will depend on temporary files that no longer exist.\n",
      "\n",
      "Command:\n",
      "\n",
      "faithpd -i /var/folders/kk/vx23v0b52wv0sx4vqhls42dw0000gn/T/qiime2/Mark/data/a49d9805-bb98-48dd-9671-0697b23170c3/data/feature-table.biom -t /var/folders/kk/vx23v0b52wv0sx4vqhls42dw0000gn/T/qiime2/Mark/data/8ff07e13-3177-4748-b216-aa4b3d591051/data/tree.nwk -o /var/folders/kk/vx23v0b52wv0sx4vqhls42dw0000gn/T/qiime2/Mark/processes/28745-1733069495.838095@Mark/tmp/q2-OutPath-zvsgr_uy\n",
      "\n"
     ]
    },
    {
     "name": "stderr",
     "output_type": "stream",
     "text": [
      "/Users/Mark/mambaforge/envs/bombus_toshare/lib/python3.10/site-packages/q2_types/sample_data/_deferred_setup/_transformers.py:28: FutureWarning: errors='ignore' is deprecated and will raise in a future version. Use to_numeric without passing `errors` and catch exceptions explicitly instead\n",
      "  df[cols] = df[cols].apply(pd.to_numeric, errors='ignore')\n",
      "/Users/Mark/mambaforge/envs/bombus_toshare/lib/python3.10/site-packages/q2_types/sample_data/_deferred_setup/_transformers.py:28: FutureWarning: errors='ignore' is deprecated and will raise in a future version. Use to_numeric without passing `errors` and catch exceptions explicitly instead\n",
      "  df[cols] = df[cols].apply(pd.to_numeric, errors='ignore')\n",
      "/Users/Mark/mambaforge/envs/bombus_toshare/lib/python3.10/site-packages/q2_types/sample_data/_deferred_setup/_transformers.py:28: FutureWarning: errors='ignore' is deprecated and will raise in a future version. Use to_numeric without passing `errors` and catch exceptions explicitly instead\n",
      "  df[cols] = df[cols].apply(pd.to_numeric, errors='ignore')\n"
     ]
    },
    {
     "name": "stdout",
     "output_type": "stream",
     "text": [
      "Running external command line application. This may print messages to stdout and/or stderr.\n",
      "The command being run is below. This command cannot be manually re-run as it will depend on temporary files that no longer exist.\n",
      "\n",
      "Command:\n",
      "\n",
      "faithpd -i /var/folders/kk/vx23v0b52wv0sx4vqhls42dw0000gn/T/qiime2/Mark/data/534efdaa-669c-4ede-a2ca-dcc351d3700e/data/feature-table.biom -t /var/folders/kk/vx23v0b52wv0sx4vqhls42dw0000gn/T/qiime2/Mark/data/8ff07e13-3177-4748-b216-aa4b3d591051/data/tree.nwk -o /var/folders/kk/vx23v0b52wv0sx4vqhls42dw0000gn/T/qiime2/Mark/processes/28745-1733069495.838095@Mark/tmp/q2-OutPath-zdlgl97b\n",
      "\n"
     ]
    },
    {
     "name": "stderr",
     "output_type": "stream",
     "text": [
      "/Users/Mark/mambaforge/envs/bombus_toshare/lib/python3.10/site-packages/q2_types/sample_data/_deferred_setup/_transformers.py:28: FutureWarning: errors='ignore' is deprecated and will raise in a future version. Use to_numeric without passing `errors` and catch exceptions explicitly instead\n",
      "  df[cols] = df[cols].apply(pd.to_numeric, errors='ignore')\n",
      "/Users/Mark/mambaforge/envs/bombus_toshare/lib/python3.10/site-packages/q2_types/sample_data/_deferred_setup/_transformers.py:28: FutureWarning: errors='ignore' is deprecated and will raise in a future version. Use to_numeric without passing `errors` and catch exceptions explicitly instead\n",
      "  df[cols] = df[cols].apply(pd.to_numeric, errors='ignore')\n",
      "/Users/Mark/mambaforge/envs/bombus_toshare/lib/python3.10/site-packages/q2_types/sample_data/_deferred_setup/_transformers.py:28: FutureWarning: errors='ignore' is deprecated and will raise in a future version. Use to_numeric without passing `errors` and catch exceptions explicitly instead\n",
      "  df[cols] = df[cols].apply(pd.to_numeric, errors='ignore')\n"
     ]
    },
    {
     "name": "stdout",
     "output_type": "stream",
     "text": [
      "Running external command line application. This may print messages to stdout and/or stderr.\n",
      "The command being run is below. This command cannot be manually re-run as it will depend on temporary files that no longer exist.\n",
      "\n",
      "Command:\n",
      "\n",
      "faithpd -i /var/folders/kk/vx23v0b52wv0sx4vqhls42dw0000gn/T/qiime2/Mark/data/7f769bf3-127e-4970-b680-b4277b173856/data/feature-table.biom -t /var/folders/kk/vx23v0b52wv0sx4vqhls42dw0000gn/T/qiime2/Mark/data/8ff07e13-3177-4748-b216-aa4b3d591051/data/tree.nwk -o /var/folders/kk/vx23v0b52wv0sx4vqhls42dw0000gn/T/qiime2/Mark/processes/28745-1733069495.838095@Mark/tmp/q2-OutPath-qm6s8uls\n",
      "\n"
     ]
    },
    {
     "name": "stderr",
     "output_type": "stream",
     "text": [
      "/Users/Mark/mambaforge/envs/bombus_toshare/lib/python3.10/site-packages/q2_types/sample_data/_deferred_setup/_transformers.py:28: FutureWarning: errors='ignore' is deprecated and will raise in a future version. Use to_numeric without passing `errors` and catch exceptions explicitly instead\n",
      "  df[cols] = df[cols].apply(pd.to_numeric, errors='ignore')\n",
      "/Users/Mark/mambaforge/envs/bombus_toshare/lib/python3.10/site-packages/q2_types/sample_data/_deferred_setup/_transformers.py:28: FutureWarning: errors='ignore' is deprecated and will raise in a future version. Use to_numeric without passing `errors` and catch exceptions explicitly instead\n",
      "  df[cols] = df[cols].apply(pd.to_numeric, errors='ignore')\n",
      "/Users/Mark/mambaforge/envs/bombus_toshare/lib/python3.10/site-packages/q2_types/sample_data/_deferred_setup/_transformers.py:28: FutureWarning: errors='ignore' is deprecated and will raise in a future version. Use to_numeric without passing `errors` and catch exceptions explicitly instead\n",
      "  df[cols] = df[cols].apply(pd.to_numeric, errors='ignore')\n"
     ]
    },
    {
     "name": "stdout",
     "output_type": "stream",
     "text": [
      "Running external command line application. This may print messages to stdout and/or stderr.\n",
      "The command being run is below. This command cannot be manually re-run as it will depend on temporary files that no longer exist.\n",
      "\n",
      "Command:\n",
      "\n",
      "faithpd -i /var/folders/kk/vx23v0b52wv0sx4vqhls42dw0000gn/T/qiime2/Mark/data/db8ba6dd-fe55-452a-98a5-abbe1835695e/data/feature-table.biom -t /var/folders/kk/vx23v0b52wv0sx4vqhls42dw0000gn/T/qiime2/Mark/data/8ff07e13-3177-4748-b216-aa4b3d591051/data/tree.nwk -o /var/folders/kk/vx23v0b52wv0sx4vqhls42dw0000gn/T/qiime2/Mark/processes/28745-1733069495.838095@Mark/tmp/q2-OutPath-clm42yrh\n",
      "\n"
     ]
    },
    {
     "name": "stderr",
     "output_type": "stream",
     "text": [
      "/Users/Mark/mambaforge/envs/bombus_toshare/lib/python3.10/site-packages/q2_types/sample_data/_deferred_setup/_transformers.py:28: FutureWarning: errors='ignore' is deprecated and will raise in a future version. Use to_numeric without passing `errors` and catch exceptions explicitly instead\n",
      "  df[cols] = df[cols].apply(pd.to_numeric, errors='ignore')\n",
      "/Users/Mark/mambaforge/envs/bombus_toshare/lib/python3.10/site-packages/q2_types/sample_data/_deferred_setup/_transformers.py:28: FutureWarning: errors='ignore' is deprecated and will raise in a future version. Use to_numeric without passing `errors` and catch exceptions explicitly instead\n",
      "  df[cols] = df[cols].apply(pd.to_numeric, errors='ignore')\n",
      "/Users/Mark/mambaforge/envs/bombus_toshare/lib/python3.10/site-packages/q2_types/sample_data/_deferred_setup/_transformers.py:28: FutureWarning: errors='ignore' is deprecated and will raise in a future version. Use to_numeric without passing `errors` and catch exceptions explicitly instead\n",
      "  df[cols] = df[cols].apply(pd.to_numeric, errors='ignore')\n"
     ]
    },
    {
     "name": "stdout",
     "output_type": "stream",
     "text": [
      "Running external command line application. This may print messages to stdout and/or stderr.\n",
      "The command being run is below. This command cannot be manually re-run as it will depend on temporary files that no longer exist.\n",
      "\n",
      "Command:\n",
      "\n",
      "faithpd -i /var/folders/kk/vx23v0b52wv0sx4vqhls42dw0000gn/T/qiime2/Mark/data/0c3383ca-8689-4efe-a997-cb87495a570c/data/feature-table.biom -t /var/folders/kk/vx23v0b52wv0sx4vqhls42dw0000gn/T/qiime2/Mark/data/8ff07e13-3177-4748-b216-aa4b3d591051/data/tree.nwk -o /var/folders/kk/vx23v0b52wv0sx4vqhls42dw0000gn/T/qiime2/Mark/processes/28745-1733069495.838095@Mark/tmp/q2-OutPath-qx216h1w\n",
      "\n"
     ]
    },
    {
     "name": "stderr",
     "output_type": "stream",
     "text": [
      "/Users/Mark/mambaforge/envs/bombus_toshare/lib/python3.10/site-packages/q2_types/sample_data/_deferred_setup/_transformers.py:28: FutureWarning: errors='ignore' is deprecated and will raise in a future version. Use to_numeric without passing `errors` and catch exceptions explicitly instead\n",
      "  df[cols] = df[cols].apply(pd.to_numeric, errors='ignore')\n",
      "/Users/Mark/mambaforge/envs/bombus_toshare/lib/python3.10/site-packages/q2_types/sample_data/_deferred_setup/_transformers.py:28: FutureWarning: errors='ignore' is deprecated and will raise in a future version. Use to_numeric without passing `errors` and catch exceptions explicitly instead\n",
      "  df[cols] = df[cols].apply(pd.to_numeric, errors='ignore')\n",
      "/Users/Mark/mambaforge/envs/bombus_toshare/lib/python3.10/site-packages/q2_types/sample_data/_deferred_setup/_transformers.py:28: FutureWarning: errors='ignore' is deprecated and will raise in a future version. Use to_numeric without passing `errors` and catch exceptions explicitly instead\n",
      "  df[cols] = df[cols].apply(pd.to_numeric, errors='ignore')\n"
     ]
    },
    {
     "name": "stdout",
     "output_type": "stream",
     "text": [
      "Running external command line application. This may print messages to stdout and/or stderr.\n",
      "The command being run is below. This command cannot be manually re-run as it will depend on temporary files that no longer exist.\n",
      "\n",
      "Command:\n",
      "\n",
      "faithpd -i /var/folders/kk/vx23v0b52wv0sx4vqhls42dw0000gn/T/qiime2/Mark/data/26d1c73f-272c-49b0-8ab9-a816e1d907ee/data/feature-table.biom -t /var/folders/kk/vx23v0b52wv0sx4vqhls42dw0000gn/T/qiime2/Mark/data/8ff07e13-3177-4748-b216-aa4b3d591051/data/tree.nwk -o /var/folders/kk/vx23v0b52wv0sx4vqhls42dw0000gn/T/qiime2/Mark/processes/28745-1733069495.838095@Mark/tmp/q2-OutPath-3gwmua1a\n",
      "\n"
     ]
    },
    {
     "name": "stderr",
     "output_type": "stream",
     "text": [
      "/Users/Mark/mambaforge/envs/bombus_toshare/lib/python3.10/site-packages/q2_types/sample_data/_deferred_setup/_transformers.py:28: FutureWarning: errors='ignore' is deprecated and will raise in a future version. Use to_numeric without passing `errors` and catch exceptions explicitly instead\n",
      "  df[cols] = df[cols].apply(pd.to_numeric, errors='ignore')\n",
      "/Users/Mark/mambaforge/envs/bombus_toshare/lib/python3.10/site-packages/q2_types/sample_data/_deferred_setup/_transformers.py:28: FutureWarning: errors='ignore' is deprecated and will raise in a future version. Use to_numeric without passing `errors` and catch exceptions explicitly instead\n",
      "  df[cols] = df[cols].apply(pd.to_numeric, errors='ignore')\n",
      "/Users/Mark/mambaforge/envs/bombus_toshare/lib/python3.10/site-packages/q2_types/sample_data/_deferred_setup/_transformers.py:28: FutureWarning: errors='ignore' is deprecated and will raise in a future version. Use to_numeric without passing `errors` and catch exceptions explicitly instead\n",
      "  df[cols] = df[cols].apply(pd.to_numeric, errors='ignore')\n"
     ]
    },
    {
     "name": "stdout",
     "output_type": "stream",
     "text": [
      "Running external command line application. This may print messages to stdout and/or stderr.\n",
      "The command being run is below. This command cannot be manually re-run as it will depend on temporary files that no longer exist.\n",
      "\n",
      "Command:\n",
      "\n",
      "faithpd -i /var/folders/kk/vx23v0b52wv0sx4vqhls42dw0000gn/T/qiime2/Mark/data/b2180bf3-5401-4a95-ad5d-b75a465601df/data/feature-table.biom -t /var/folders/kk/vx23v0b52wv0sx4vqhls42dw0000gn/T/qiime2/Mark/data/8ff07e13-3177-4748-b216-aa4b3d591051/data/tree.nwk -o /var/folders/kk/vx23v0b52wv0sx4vqhls42dw0000gn/T/qiime2/Mark/processes/28745-1733069495.838095@Mark/tmp/q2-OutPath-3cou7o0h\n",
      "\n"
     ]
    },
    {
     "name": "stderr",
     "output_type": "stream",
     "text": [
      "/Users/Mark/mambaforge/envs/bombus_toshare/lib/python3.10/site-packages/q2_types/sample_data/_deferred_setup/_transformers.py:28: FutureWarning: errors='ignore' is deprecated and will raise in a future version. Use to_numeric without passing `errors` and catch exceptions explicitly instead\n",
      "  df[cols] = df[cols].apply(pd.to_numeric, errors='ignore')\n",
      "/Users/Mark/mambaforge/envs/bombus_toshare/lib/python3.10/site-packages/q2_types/sample_data/_deferred_setup/_transformers.py:28: FutureWarning: errors='ignore' is deprecated and will raise in a future version. Use to_numeric without passing `errors` and catch exceptions explicitly instead\n",
      "  df[cols] = df[cols].apply(pd.to_numeric, errors='ignore')\n",
      "/Users/Mark/mambaforge/envs/bombus_toshare/lib/python3.10/site-packages/q2_types/sample_data/_deferred_setup/_transformers.py:28: FutureWarning: errors='ignore' is deprecated and will raise in a future version. Use to_numeric without passing `errors` and catch exceptions explicitly instead\n",
      "  df[cols] = df[cols].apply(pd.to_numeric, errors='ignore')\n"
     ]
    },
    {
     "name": "stdout",
     "output_type": "stream",
     "text": [
      "Running external command line application. This may print messages to stdout and/or stderr.\n",
      "The command being run is below. This command cannot be manually re-run as it will depend on temporary files that no longer exist.\n",
      "\n",
      "Command:\n",
      "\n",
      "faithpd -i /var/folders/kk/vx23v0b52wv0sx4vqhls42dw0000gn/T/qiime2/Mark/data/188f58e9-568d-4102-99e6-6c630b939933/data/feature-table.biom -t /var/folders/kk/vx23v0b52wv0sx4vqhls42dw0000gn/T/qiime2/Mark/data/8ff07e13-3177-4748-b216-aa4b3d591051/data/tree.nwk -o /var/folders/kk/vx23v0b52wv0sx4vqhls42dw0000gn/T/qiime2/Mark/processes/28745-1733069495.838095@Mark/tmp/q2-OutPath-npq2la47\n",
      "\n"
     ]
    },
    {
     "name": "stderr",
     "output_type": "stream",
     "text": [
      "/Users/Mark/mambaforge/envs/bombus_toshare/lib/python3.10/site-packages/q2_types/sample_data/_deferred_setup/_transformers.py:28: FutureWarning: errors='ignore' is deprecated and will raise in a future version. Use to_numeric without passing `errors` and catch exceptions explicitly instead\n",
      "  df[cols] = df[cols].apply(pd.to_numeric, errors='ignore')\n",
      "/Users/Mark/mambaforge/envs/bombus_toshare/lib/python3.10/site-packages/q2_types/sample_data/_deferred_setup/_transformers.py:28: FutureWarning: errors='ignore' is deprecated and will raise in a future version. Use to_numeric without passing `errors` and catch exceptions explicitly instead\n",
      "  df[cols] = df[cols].apply(pd.to_numeric, errors='ignore')\n",
      "/Users/Mark/mambaforge/envs/bombus_toshare/lib/python3.10/site-packages/q2_types/sample_data/_deferred_setup/_transformers.py:28: FutureWarning: errors='ignore' is deprecated and will raise in a future version. Use to_numeric without passing `errors` and catch exceptions explicitly instead\n",
      "  df[cols] = df[cols].apply(pd.to_numeric, errors='ignore')\n"
     ]
    },
    {
     "name": "stdout",
     "output_type": "stream",
     "text": [
      "Running external command line application. This may print messages to stdout and/or stderr.\n",
      "The command being run is below. This command cannot be manually re-run as it will depend on temporary files that no longer exist.\n",
      "\n",
      "Command:\n",
      "\n",
      "faithpd -i /var/folders/kk/vx23v0b52wv0sx4vqhls42dw0000gn/T/qiime2/Mark/data/ba2903b4-ba1f-493a-bf0b-f27b30225914/data/feature-table.biom -t /var/folders/kk/vx23v0b52wv0sx4vqhls42dw0000gn/T/qiime2/Mark/data/8ff07e13-3177-4748-b216-aa4b3d591051/data/tree.nwk -o /var/folders/kk/vx23v0b52wv0sx4vqhls42dw0000gn/T/qiime2/Mark/processes/28745-1733069495.838095@Mark/tmp/q2-OutPath-se68o79e\n",
      "\n"
     ]
    },
    {
     "name": "stderr",
     "output_type": "stream",
     "text": [
      "/Users/Mark/mambaforge/envs/bombus_toshare/lib/python3.10/site-packages/q2_types/sample_data/_deferred_setup/_transformers.py:28: FutureWarning: errors='ignore' is deprecated and will raise in a future version. Use to_numeric without passing `errors` and catch exceptions explicitly instead\n",
      "  df[cols] = df[cols].apply(pd.to_numeric, errors='ignore')\n",
      "/Users/Mark/mambaforge/envs/bombus_toshare/lib/python3.10/site-packages/q2_types/sample_data/_deferred_setup/_transformers.py:28: FutureWarning: errors='ignore' is deprecated and will raise in a future version. Use to_numeric without passing `errors` and catch exceptions explicitly instead\n",
      "  df[cols] = df[cols].apply(pd.to_numeric, errors='ignore')\n",
      "/Users/Mark/mambaforge/envs/bombus_toshare/lib/python3.10/site-packages/q2_types/sample_data/_deferred_setup/_transformers.py:28: FutureWarning: errors='ignore' is deprecated and will raise in a future version. Use to_numeric without passing `errors` and catch exceptions explicitly instead\n",
      "  df[cols] = df[cols].apply(pd.to_numeric, errors='ignore')\n"
     ]
    },
    {
     "name": "stdout",
     "output_type": "stream",
     "text": [
      "Running external command line application. This may print messages to stdout and/or stderr.\n",
      "The command being run is below. This command cannot be manually re-run as it will depend on temporary files that no longer exist.\n",
      "\n",
      "Command:\n",
      "\n",
      "faithpd -i /var/folders/kk/vx23v0b52wv0sx4vqhls42dw0000gn/T/qiime2/Mark/data/537937ec-82cf-4850-a43b-08e479574215/data/feature-table.biom -t /var/folders/kk/vx23v0b52wv0sx4vqhls42dw0000gn/T/qiime2/Mark/data/8ff07e13-3177-4748-b216-aa4b3d591051/data/tree.nwk -o /var/folders/kk/vx23v0b52wv0sx4vqhls42dw0000gn/T/qiime2/Mark/processes/28745-1733069495.838095@Mark/tmp/q2-OutPath-4oh_04eb\n",
      "\n"
     ]
    },
    {
     "name": "stderr",
     "output_type": "stream",
     "text": [
      "/Users/Mark/mambaforge/envs/bombus_toshare/lib/python3.10/site-packages/q2_types/sample_data/_deferred_setup/_transformers.py:28: FutureWarning: errors='ignore' is deprecated and will raise in a future version. Use to_numeric without passing `errors` and catch exceptions explicitly instead\n",
      "  df[cols] = df[cols].apply(pd.to_numeric, errors='ignore')\n",
      "/Users/Mark/mambaforge/envs/bombus_toshare/lib/python3.10/site-packages/q2_types/sample_data/_deferred_setup/_transformers.py:28: FutureWarning: errors='ignore' is deprecated and will raise in a future version. Use to_numeric without passing `errors` and catch exceptions explicitly instead\n",
      "  df[cols] = df[cols].apply(pd.to_numeric, errors='ignore')\n",
      "/Users/Mark/mambaforge/envs/bombus_toshare/lib/python3.10/site-packages/q2_types/sample_data/_deferred_setup/_transformers.py:28: FutureWarning: errors='ignore' is deprecated and will raise in a future version. Use to_numeric without passing `errors` and catch exceptions explicitly instead\n",
      "  df[cols] = df[cols].apply(pd.to_numeric, errors='ignore')\n"
     ]
    },
    {
     "name": "stdout",
     "output_type": "stream",
     "text": [
      "Running external command line application. This may print messages to stdout and/or stderr.\n",
      "The command being run is below. This command cannot be manually re-run as it will depend on temporary files that no longer exist.\n",
      "\n",
      "Command:\n",
      "\n",
      "faithpd -i /var/folders/kk/vx23v0b52wv0sx4vqhls42dw0000gn/T/qiime2/Mark/data/788f5bb2-d5b7-4d58-b0e3-9dfe7163c3aa/data/feature-table.biom -t /var/folders/kk/vx23v0b52wv0sx4vqhls42dw0000gn/T/qiime2/Mark/data/8ff07e13-3177-4748-b216-aa4b3d591051/data/tree.nwk -o /var/folders/kk/vx23v0b52wv0sx4vqhls42dw0000gn/T/qiime2/Mark/processes/28745-1733069495.838095@Mark/tmp/q2-OutPath-93kv39_w\n",
      "\n"
     ]
    },
    {
     "name": "stderr",
     "output_type": "stream",
     "text": [
      "/Users/Mark/mambaforge/envs/bombus_toshare/lib/python3.10/site-packages/q2_types/sample_data/_deferred_setup/_transformers.py:28: FutureWarning: errors='ignore' is deprecated and will raise in a future version. Use to_numeric without passing `errors` and catch exceptions explicitly instead\n",
      "  df[cols] = df[cols].apply(pd.to_numeric, errors='ignore')\n",
      "/Users/Mark/mambaforge/envs/bombus_toshare/lib/python3.10/site-packages/q2_types/sample_data/_deferred_setup/_transformers.py:28: FutureWarning: errors='ignore' is deprecated and will raise in a future version. Use to_numeric without passing `errors` and catch exceptions explicitly instead\n",
      "  df[cols] = df[cols].apply(pd.to_numeric, errors='ignore')\n",
      "/Users/Mark/mambaforge/envs/bombus_toshare/lib/python3.10/site-packages/q2_types/sample_data/_deferred_setup/_transformers.py:28: FutureWarning: errors='ignore' is deprecated and will raise in a future version. Use to_numeric without passing `errors` and catch exceptions explicitly instead\n",
      "  df[cols] = df[cols].apply(pd.to_numeric, errors='ignore')\n"
     ]
    },
    {
     "name": "stdout",
     "output_type": "stream",
     "text": [
      "Running external command line application. This may print messages to stdout and/or stderr.\n",
      "The command being run is below. This command cannot be manually re-run as it will depend on temporary files that no longer exist.\n",
      "\n",
      "Command:\n",
      "\n",
      "faithpd -i /var/folders/kk/vx23v0b52wv0sx4vqhls42dw0000gn/T/qiime2/Mark/data/faeb3ffb-8e03-4996-9b28-46103fbf8c8f/data/feature-table.biom -t /var/folders/kk/vx23v0b52wv0sx4vqhls42dw0000gn/T/qiime2/Mark/data/8ff07e13-3177-4748-b216-aa4b3d591051/data/tree.nwk -o /var/folders/kk/vx23v0b52wv0sx4vqhls42dw0000gn/T/qiime2/Mark/processes/28745-1733069495.838095@Mark/tmp/q2-OutPath-9tprg8xy\n",
      "\n"
     ]
    },
    {
     "name": "stderr",
     "output_type": "stream",
     "text": [
      "/Users/Mark/mambaforge/envs/bombus_toshare/lib/python3.10/site-packages/q2_types/sample_data/_deferred_setup/_transformers.py:28: FutureWarning: errors='ignore' is deprecated and will raise in a future version. Use to_numeric without passing `errors` and catch exceptions explicitly instead\n",
      "  df[cols] = df[cols].apply(pd.to_numeric, errors='ignore')\n",
      "/Users/Mark/mambaforge/envs/bombus_toshare/lib/python3.10/site-packages/q2_types/sample_data/_deferred_setup/_transformers.py:28: FutureWarning: errors='ignore' is deprecated and will raise in a future version. Use to_numeric without passing `errors` and catch exceptions explicitly instead\n",
      "  df[cols] = df[cols].apply(pd.to_numeric, errors='ignore')\n",
      "/Users/Mark/mambaforge/envs/bombus_toshare/lib/python3.10/site-packages/q2_types/sample_data/_deferred_setup/_transformers.py:28: FutureWarning: errors='ignore' is deprecated and will raise in a future version. Use to_numeric without passing `errors` and catch exceptions explicitly instead\n",
      "  df[cols] = df[cols].apply(pd.to_numeric, errors='ignore')\n"
     ]
    },
    {
     "name": "stdout",
     "output_type": "stream",
     "text": [
      "Running external command line application. This may print messages to stdout and/or stderr.\n",
      "The command being run is below. This command cannot be manually re-run as it will depend on temporary files that no longer exist.\n",
      "\n",
      "Command:\n",
      "\n",
      "faithpd -i /var/folders/kk/vx23v0b52wv0sx4vqhls42dw0000gn/T/qiime2/Mark/data/8aa241a8-7428-4d79-ab02-3b88190eb980/data/feature-table.biom -t /var/folders/kk/vx23v0b52wv0sx4vqhls42dw0000gn/T/qiime2/Mark/data/8ff07e13-3177-4748-b216-aa4b3d591051/data/tree.nwk -o /var/folders/kk/vx23v0b52wv0sx4vqhls42dw0000gn/T/qiime2/Mark/processes/28745-1733069495.838095@Mark/tmp/q2-OutPath-s_58saao\n",
      "\n"
     ]
    },
    {
     "name": "stderr",
     "output_type": "stream",
     "text": [
      "/Users/Mark/mambaforge/envs/bombus_toshare/lib/python3.10/site-packages/q2_types/sample_data/_deferred_setup/_transformers.py:28: FutureWarning: errors='ignore' is deprecated and will raise in a future version. Use to_numeric without passing `errors` and catch exceptions explicitly instead\n",
      "  df[cols] = df[cols].apply(pd.to_numeric, errors='ignore')\n",
      "/Users/Mark/mambaforge/envs/bombus_toshare/lib/python3.10/site-packages/q2_types/sample_data/_deferred_setup/_transformers.py:28: FutureWarning: errors='ignore' is deprecated and will raise in a future version. Use to_numeric without passing `errors` and catch exceptions explicitly instead\n",
      "  df[cols] = df[cols].apply(pd.to_numeric, errors='ignore')\n",
      "/Users/Mark/mambaforge/envs/bombus_toshare/lib/python3.10/site-packages/q2_types/sample_data/_deferred_setup/_transformers.py:28: FutureWarning: errors='ignore' is deprecated and will raise in a future version. Use to_numeric without passing `errors` and catch exceptions explicitly instead\n",
      "  df[cols] = df[cols].apply(pd.to_numeric, errors='ignore')\n"
     ]
    },
    {
     "name": "stdout",
     "output_type": "stream",
     "text": [
      "Running external command line application. This may print messages to stdout and/or stderr.\n",
      "The command being run is below. This command cannot be manually re-run as it will depend on temporary files that no longer exist.\n",
      "\n",
      "Command:\n",
      "\n",
      "faithpd -i /var/folders/kk/vx23v0b52wv0sx4vqhls42dw0000gn/T/qiime2/Mark/data/7e4db5c8-9598-4f91-ac6a-c0aeedc74277/data/feature-table.biom -t /var/folders/kk/vx23v0b52wv0sx4vqhls42dw0000gn/T/qiime2/Mark/data/8ff07e13-3177-4748-b216-aa4b3d591051/data/tree.nwk -o /var/folders/kk/vx23v0b52wv0sx4vqhls42dw0000gn/T/qiime2/Mark/processes/28745-1733069495.838095@Mark/tmp/q2-OutPath-og7ookcd\n",
      "\n"
     ]
    },
    {
     "name": "stderr",
     "output_type": "stream",
     "text": [
      "/Users/Mark/mambaforge/envs/bombus_toshare/lib/python3.10/site-packages/q2_types/sample_data/_deferred_setup/_transformers.py:28: FutureWarning: errors='ignore' is deprecated and will raise in a future version. Use to_numeric without passing `errors` and catch exceptions explicitly instead\n",
      "  df[cols] = df[cols].apply(pd.to_numeric, errors='ignore')\n",
      "/Users/Mark/mambaforge/envs/bombus_toshare/lib/python3.10/site-packages/q2_types/sample_data/_deferred_setup/_transformers.py:28: FutureWarning: errors='ignore' is deprecated and will raise in a future version. Use to_numeric without passing `errors` and catch exceptions explicitly instead\n",
      "  df[cols] = df[cols].apply(pd.to_numeric, errors='ignore')\n",
      "/Users/Mark/mambaforge/envs/bombus_toshare/lib/python3.10/site-packages/q2_types/sample_data/_deferred_setup/_transformers.py:28: FutureWarning: errors='ignore' is deprecated and will raise in a future version. Use to_numeric without passing `errors` and catch exceptions explicitly instead\n",
      "  df[cols] = df[cols].apply(pd.to_numeric, errors='ignore')\n"
     ]
    },
    {
     "name": "stdout",
     "output_type": "stream",
     "text": [
      "Running external command line application. This may print messages to stdout and/or stderr.\n",
      "The command being run is below. This command cannot be manually re-run as it will depend on temporary files that no longer exist.\n",
      "\n",
      "Command:\n",
      "\n",
      "faithpd -i /var/folders/kk/vx23v0b52wv0sx4vqhls42dw0000gn/T/qiime2/Mark/data/7f05b5b2-1871-42a2-8341-f7ccf454faa0/data/feature-table.biom -t /var/folders/kk/vx23v0b52wv0sx4vqhls42dw0000gn/T/qiime2/Mark/data/8ff07e13-3177-4748-b216-aa4b3d591051/data/tree.nwk -o /var/folders/kk/vx23v0b52wv0sx4vqhls42dw0000gn/T/qiime2/Mark/processes/28745-1733069495.838095@Mark/tmp/q2-OutPath-lzvomnbs\n",
      "\n"
     ]
    },
    {
     "name": "stderr",
     "output_type": "stream",
     "text": [
      "/Users/Mark/mambaforge/envs/bombus_toshare/lib/python3.10/site-packages/q2_types/sample_data/_deferred_setup/_transformers.py:28: FutureWarning: errors='ignore' is deprecated and will raise in a future version. Use to_numeric without passing `errors` and catch exceptions explicitly instead\n",
      "  df[cols] = df[cols].apply(pd.to_numeric, errors='ignore')\n",
      "/Users/Mark/mambaforge/envs/bombus_toshare/lib/python3.10/site-packages/q2_types/sample_data/_deferred_setup/_transformers.py:28: FutureWarning: errors='ignore' is deprecated and will raise in a future version. Use to_numeric without passing `errors` and catch exceptions explicitly instead\n",
      "  df[cols] = df[cols].apply(pd.to_numeric, errors='ignore')\n",
      "/Users/Mark/mambaforge/envs/bombus_toshare/lib/python3.10/site-packages/q2_types/sample_data/_deferred_setup/_transformers.py:28: FutureWarning: errors='ignore' is deprecated and will raise in a future version. Use to_numeric without passing `errors` and catch exceptions explicitly instead\n",
      "  df[cols] = df[cols].apply(pd.to_numeric, errors='ignore')\n"
     ]
    },
    {
     "name": "stdout",
     "output_type": "stream",
     "text": [
      "Running external command line application. This may print messages to stdout and/or stderr.\n",
      "The command being run is below. This command cannot be manually re-run as it will depend on temporary files that no longer exist.\n",
      "\n",
      "Command:\n",
      "\n",
      "faithpd -i /var/folders/kk/vx23v0b52wv0sx4vqhls42dw0000gn/T/qiime2/Mark/data/8fabb232-463c-45da-83dc-19c5b42a1c36/data/feature-table.biom -t /var/folders/kk/vx23v0b52wv0sx4vqhls42dw0000gn/T/qiime2/Mark/data/8ff07e13-3177-4748-b216-aa4b3d591051/data/tree.nwk -o /var/folders/kk/vx23v0b52wv0sx4vqhls42dw0000gn/T/qiime2/Mark/processes/28745-1733069495.838095@Mark/tmp/q2-OutPath-0wp2ybco\n",
      "\n"
     ]
    },
    {
     "name": "stderr",
     "output_type": "stream",
     "text": [
      "/Users/Mark/mambaforge/envs/bombus_toshare/lib/python3.10/site-packages/q2_types/sample_data/_deferred_setup/_transformers.py:28: FutureWarning: errors='ignore' is deprecated and will raise in a future version. Use to_numeric without passing `errors` and catch exceptions explicitly instead\n",
      "  df[cols] = df[cols].apply(pd.to_numeric, errors='ignore')\n",
      "/Users/Mark/mambaforge/envs/bombus_toshare/lib/python3.10/site-packages/q2_types/sample_data/_deferred_setup/_transformers.py:28: FutureWarning: errors='ignore' is deprecated and will raise in a future version. Use to_numeric without passing `errors` and catch exceptions explicitly instead\n",
      "  df[cols] = df[cols].apply(pd.to_numeric, errors='ignore')\n",
      "/Users/Mark/mambaforge/envs/bombus_toshare/lib/python3.10/site-packages/q2_types/sample_data/_deferred_setup/_transformers.py:28: FutureWarning: errors='ignore' is deprecated and will raise in a future version. Use to_numeric without passing `errors` and catch exceptions explicitly instead\n",
      "  df[cols] = df[cols].apply(pd.to_numeric, errors='ignore')\n"
     ]
    },
    {
     "name": "stdout",
     "output_type": "stream",
     "text": [
      "Running external command line application. This may print messages to stdout and/or stderr.\n",
      "The command being run is below. This command cannot be manually re-run as it will depend on temporary files that no longer exist.\n",
      "\n",
      "Command:\n",
      "\n",
      "faithpd -i /var/folders/kk/vx23v0b52wv0sx4vqhls42dw0000gn/T/qiime2/Mark/data/70156eee-47f3-4a09-9eea-16ffdffe9a1c/data/feature-table.biom -t /var/folders/kk/vx23v0b52wv0sx4vqhls42dw0000gn/T/qiime2/Mark/data/8ff07e13-3177-4748-b216-aa4b3d591051/data/tree.nwk -o /var/folders/kk/vx23v0b52wv0sx4vqhls42dw0000gn/T/qiime2/Mark/processes/28745-1733069495.838095@Mark/tmp/q2-OutPath-18ft6f3n\n",
      "\n"
     ]
    },
    {
     "name": "stderr",
     "output_type": "stream",
     "text": [
      "/Users/Mark/mambaforge/envs/bombus_toshare/lib/python3.10/site-packages/q2_types/sample_data/_deferred_setup/_transformers.py:28: FutureWarning: errors='ignore' is deprecated and will raise in a future version. Use to_numeric without passing `errors` and catch exceptions explicitly instead\n",
      "  df[cols] = df[cols].apply(pd.to_numeric, errors='ignore')\n",
      "/Users/Mark/mambaforge/envs/bombus_toshare/lib/python3.10/site-packages/q2_types/sample_data/_deferred_setup/_transformers.py:28: FutureWarning: errors='ignore' is deprecated and will raise in a future version. Use to_numeric without passing `errors` and catch exceptions explicitly instead\n",
      "  df[cols] = df[cols].apply(pd.to_numeric, errors='ignore')\n",
      "/Users/Mark/mambaforge/envs/bombus_toshare/lib/python3.10/site-packages/q2_types/sample_data/_deferred_setup/_transformers.py:28: FutureWarning: errors='ignore' is deprecated and will raise in a future version. Use to_numeric without passing `errors` and catch exceptions explicitly instead\n",
      "  df[cols] = df[cols].apply(pd.to_numeric, errors='ignore')\n"
     ]
    },
    {
     "name": "stdout",
     "output_type": "stream",
     "text": [
      "Running external command line application. This may print messages to stdout and/or stderr.\n",
      "The command being run is below. This command cannot be manually re-run as it will depend on temporary files that no longer exist.\n",
      "\n",
      "Command:\n",
      "\n",
      "faithpd -i /var/folders/kk/vx23v0b52wv0sx4vqhls42dw0000gn/T/qiime2/Mark/data/144c171f-b9cf-4376-b76a-8ba77244a163/data/feature-table.biom -t /var/folders/kk/vx23v0b52wv0sx4vqhls42dw0000gn/T/qiime2/Mark/data/8ff07e13-3177-4748-b216-aa4b3d591051/data/tree.nwk -o /var/folders/kk/vx23v0b52wv0sx4vqhls42dw0000gn/T/qiime2/Mark/processes/28745-1733069495.838095@Mark/tmp/q2-OutPath-cmqta6_d\n",
      "\n"
     ]
    },
    {
     "name": "stderr",
     "output_type": "stream",
     "text": [
      "/Users/Mark/mambaforge/envs/bombus_toshare/lib/python3.10/site-packages/q2_types/sample_data/_deferred_setup/_transformers.py:28: FutureWarning: errors='ignore' is deprecated and will raise in a future version. Use to_numeric without passing `errors` and catch exceptions explicitly instead\n",
      "  df[cols] = df[cols].apply(pd.to_numeric, errors='ignore')\n",
      "/Users/Mark/mambaforge/envs/bombus_toshare/lib/python3.10/site-packages/q2_types/sample_data/_deferred_setup/_transformers.py:28: FutureWarning: errors='ignore' is deprecated and will raise in a future version. Use to_numeric without passing `errors` and catch exceptions explicitly instead\n",
      "  df[cols] = df[cols].apply(pd.to_numeric, errors='ignore')\n",
      "/Users/Mark/mambaforge/envs/bombus_toshare/lib/python3.10/site-packages/q2_types/sample_data/_deferred_setup/_transformers.py:28: FutureWarning: errors='ignore' is deprecated and will raise in a future version. Use to_numeric without passing `errors` and catch exceptions explicitly instead\n",
      "  df[cols] = df[cols].apply(pd.to_numeric, errors='ignore')\n"
     ]
    },
    {
     "name": "stdout",
     "output_type": "stream",
     "text": [
      "Running external command line application. This may print messages to stdout and/or stderr.\n",
      "The command being run is below. This command cannot be manually re-run as it will depend on temporary files that no longer exist.\n",
      "\n",
      "Command:\n",
      "\n",
      "faithpd -i /var/folders/kk/vx23v0b52wv0sx4vqhls42dw0000gn/T/qiime2/Mark/data/59978059-31cb-4949-b03c-03cdbbd8e88d/data/feature-table.biom -t /var/folders/kk/vx23v0b52wv0sx4vqhls42dw0000gn/T/qiime2/Mark/data/8ff07e13-3177-4748-b216-aa4b3d591051/data/tree.nwk -o /var/folders/kk/vx23v0b52wv0sx4vqhls42dw0000gn/T/qiime2/Mark/processes/28745-1733069495.838095@Mark/tmp/q2-OutPath-uf81u7_7\n",
      "\n"
     ]
    },
    {
     "name": "stderr",
     "output_type": "stream",
     "text": [
      "/Users/Mark/mambaforge/envs/bombus_toshare/lib/python3.10/site-packages/q2_types/sample_data/_deferred_setup/_transformers.py:28: FutureWarning: errors='ignore' is deprecated and will raise in a future version. Use to_numeric without passing `errors` and catch exceptions explicitly instead\n",
      "  df[cols] = df[cols].apply(pd.to_numeric, errors='ignore')\n",
      "/Users/Mark/mambaforge/envs/bombus_toshare/lib/python3.10/site-packages/q2_types/sample_data/_deferred_setup/_transformers.py:28: FutureWarning: errors='ignore' is deprecated and will raise in a future version. Use to_numeric without passing `errors` and catch exceptions explicitly instead\n",
      "  df[cols] = df[cols].apply(pd.to_numeric, errors='ignore')\n",
      "/Users/Mark/mambaforge/envs/bombus_toshare/lib/python3.10/site-packages/q2_types/sample_data/_deferred_setup/_transformers.py:28: FutureWarning: errors='ignore' is deprecated and will raise in a future version. Use to_numeric without passing `errors` and catch exceptions explicitly instead\n",
      "  df[cols] = df[cols].apply(pd.to_numeric, errors='ignore')\n"
     ]
    },
    {
     "name": "stdout",
     "output_type": "stream",
     "text": [
      "Running external command line application. This may print messages to stdout and/or stderr.\n",
      "The command being run is below. This command cannot be manually re-run as it will depend on temporary files that no longer exist.\n",
      "\n",
      "Command:\n",
      "\n",
      "faithpd -i /var/folders/kk/vx23v0b52wv0sx4vqhls42dw0000gn/T/qiime2/Mark/data/ee2d33c5-15b1-496b-a299-8992effe0747/data/feature-table.biom -t /var/folders/kk/vx23v0b52wv0sx4vqhls42dw0000gn/T/qiime2/Mark/data/8ff07e13-3177-4748-b216-aa4b3d591051/data/tree.nwk -o /var/folders/kk/vx23v0b52wv0sx4vqhls42dw0000gn/T/qiime2/Mark/processes/28745-1733069495.838095@Mark/tmp/q2-OutPath-__5k_3r3\n",
      "\n"
     ]
    },
    {
     "name": "stderr",
     "output_type": "stream",
     "text": [
      "/Users/Mark/mambaforge/envs/bombus_toshare/lib/python3.10/site-packages/q2_types/sample_data/_deferred_setup/_transformers.py:28: FutureWarning: errors='ignore' is deprecated and will raise in a future version. Use to_numeric without passing `errors` and catch exceptions explicitly instead\n",
      "  df[cols] = df[cols].apply(pd.to_numeric, errors='ignore')\n",
      "/Users/Mark/mambaforge/envs/bombus_toshare/lib/python3.10/site-packages/q2_types/sample_data/_deferred_setup/_transformers.py:28: FutureWarning: errors='ignore' is deprecated and will raise in a future version. Use to_numeric without passing `errors` and catch exceptions explicitly instead\n",
      "  df[cols] = df[cols].apply(pd.to_numeric, errors='ignore')\n",
      "/Users/Mark/mambaforge/envs/bombus_toshare/lib/python3.10/site-packages/q2_types/sample_data/_deferred_setup/_transformers.py:28: FutureWarning: errors='ignore' is deprecated and will raise in a future version. Use to_numeric without passing `errors` and catch exceptions explicitly instead\n",
      "  df[cols] = df[cols].apply(pd.to_numeric, errors='ignore')\n"
     ]
    },
    {
     "name": "stdout",
     "output_type": "stream",
     "text": [
      "Running external command line application. This may print messages to stdout and/or stderr.\n",
      "The command being run is below. This command cannot be manually re-run as it will depend on temporary files that no longer exist.\n",
      "\n",
      "Command:\n",
      "\n",
      "faithpd -i /var/folders/kk/vx23v0b52wv0sx4vqhls42dw0000gn/T/qiime2/Mark/data/79c7261c-61fe-4be3-ac59-7ec25937f739/data/feature-table.biom -t /var/folders/kk/vx23v0b52wv0sx4vqhls42dw0000gn/T/qiime2/Mark/data/8ff07e13-3177-4748-b216-aa4b3d591051/data/tree.nwk -o /var/folders/kk/vx23v0b52wv0sx4vqhls42dw0000gn/T/qiime2/Mark/processes/28745-1733069495.838095@Mark/tmp/q2-OutPath-_6d0anyc\n",
      "\n"
     ]
    },
    {
     "name": "stderr",
     "output_type": "stream",
     "text": [
      "/Users/Mark/mambaforge/envs/bombus_toshare/lib/python3.10/site-packages/q2_types/sample_data/_deferred_setup/_transformers.py:28: FutureWarning: errors='ignore' is deprecated and will raise in a future version. Use to_numeric without passing `errors` and catch exceptions explicitly instead\n",
      "  df[cols] = df[cols].apply(pd.to_numeric, errors='ignore')\n",
      "/Users/Mark/mambaforge/envs/bombus_toshare/lib/python3.10/site-packages/q2_types/sample_data/_deferred_setup/_transformers.py:28: FutureWarning: errors='ignore' is deprecated and will raise in a future version. Use to_numeric without passing `errors` and catch exceptions explicitly instead\n",
      "  df[cols] = df[cols].apply(pd.to_numeric, errors='ignore')\n",
      "/Users/Mark/mambaforge/envs/bombus_toshare/lib/python3.10/site-packages/q2_types/sample_data/_deferred_setup/_transformers.py:28: FutureWarning: errors='ignore' is deprecated and will raise in a future version. Use to_numeric without passing `errors` and catch exceptions explicitly instead\n",
      "  df[cols] = df[cols].apply(pd.to_numeric, errors='ignore')\n"
     ]
    },
    {
     "name": "stdout",
     "output_type": "stream",
     "text": [
      "Running external command line application. This may print messages to stdout and/or stderr.\n",
      "The command being run is below. This command cannot be manually re-run as it will depend on temporary files that no longer exist.\n",
      "\n",
      "Command:\n",
      "\n",
      "faithpd -i /var/folders/kk/vx23v0b52wv0sx4vqhls42dw0000gn/T/qiime2/Mark/data/218f7be0-8765-4493-bdc3-dac26e59a6c5/data/feature-table.biom -t /var/folders/kk/vx23v0b52wv0sx4vqhls42dw0000gn/T/qiime2/Mark/data/8ff07e13-3177-4748-b216-aa4b3d591051/data/tree.nwk -o /var/folders/kk/vx23v0b52wv0sx4vqhls42dw0000gn/T/qiime2/Mark/processes/28745-1733069495.838095@Mark/tmp/q2-OutPath-ppwsbnu_\n",
      "\n"
     ]
    },
    {
     "name": "stderr",
     "output_type": "stream",
     "text": [
      "/Users/Mark/mambaforge/envs/bombus_toshare/lib/python3.10/site-packages/q2_types/sample_data/_deferred_setup/_transformers.py:28: FutureWarning: errors='ignore' is deprecated and will raise in a future version. Use to_numeric without passing `errors` and catch exceptions explicitly instead\n",
      "  df[cols] = df[cols].apply(pd.to_numeric, errors='ignore')\n",
      "/Users/Mark/mambaforge/envs/bombus_toshare/lib/python3.10/site-packages/q2_types/sample_data/_deferred_setup/_transformers.py:28: FutureWarning: errors='ignore' is deprecated and will raise in a future version. Use to_numeric without passing `errors` and catch exceptions explicitly instead\n",
      "  df[cols] = df[cols].apply(pd.to_numeric, errors='ignore')\n",
      "/Users/Mark/mambaforge/envs/bombus_toshare/lib/python3.10/site-packages/q2_types/sample_data/_deferred_setup/_transformers.py:28: FutureWarning: errors='ignore' is deprecated and will raise in a future version. Use to_numeric without passing `errors` and catch exceptions explicitly instead\n",
      "  df[cols] = df[cols].apply(pd.to_numeric, errors='ignore')\n"
     ]
    },
    {
     "name": "stdout",
     "output_type": "stream",
     "text": [
      "Running external command line application. This may print messages to stdout and/or stderr.\n",
      "The command being run is below. This command cannot be manually re-run as it will depend on temporary files that no longer exist.\n",
      "\n",
      "Command:\n",
      "\n",
      "faithpd -i /var/folders/kk/vx23v0b52wv0sx4vqhls42dw0000gn/T/qiime2/Mark/data/abdf01cf-e0f3-4316-b73d-65ca612e19ab/data/feature-table.biom -t /var/folders/kk/vx23v0b52wv0sx4vqhls42dw0000gn/T/qiime2/Mark/data/8ff07e13-3177-4748-b216-aa4b3d591051/data/tree.nwk -o /var/folders/kk/vx23v0b52wv0sx4vqhls42dw0000gn/T/qiime2/Mark/processes/28745-1733069495.838095@Mark/tmp/q2-OutPath-qo7pzloz\n",
      "\n"
     ]
    },
    {
     "name": "stderr",
     "output_type": "stream",
     "text": [
      "/Users/Mark/mambaforge/envs/bombus_toshare/lib/python3.10/site-packages/q2_types/sample_data/_deferred_setup/_transformers.py:28: FutureWarning: errors='ignore' is deprecated and will raise in a future version. Use to_numeric without passing `errors` and catch exceptions explicitly instead\n",
      "  df[cols] = df[cols].apply(pd.to_numeric, errors='ignore')\n",
      "/Users/Mark/mambaforge/envs/bombus_toshare/lib/python3.10/site-packages/q2_types/sample_data/_deferred_setup/_transformers.py:28: FutureWarning: errors='ignore' is deprecated and will raise in a future version. Use to_numeric without passing `errors` and catch exceptions explicitly instead\n",
      "  df[cols] = df[cols].apply(pd.to_numeric, errors='ignore')\n",
      "/Users/Mark/mambaforge/envs/bombus_toshare/lib/python3.10/site-packages/q2_types/sample_data/_deferred_setup/_transformers.py:28: FutureWarning: errors='ignore' is deprecated and will raise in a future version. Use to_numeric without passing `errors` and catch exceptions explicitly instead\n",
      "  df[cols] = df[cols].apply(pd.to_numeric, errors='ignore')\n"
     ]
    },
    {
     "name": "stdout",
     "output_type": "stream",
     "text": [
      "Running external command line application. This may print messages to stdout and/or stderr.\n",
      "The command being run is below. This command cannot be manually re-run as it will depend on temporary files that no longer exist.\n",
      "\n",
      "Command:\n",
      "\n",
      "faithpd -i /var/folders/kk/vx23v0b52wv0sx4vqhls42dw0000gn/T/qiime2/Mark/data/5b00f396-b3d2-4f20-b5ff-af01208a6a20/data/feature-table.biom -t /var/folders/kk/vx23v0b52wv0sx4vqhls42dw0000gn/T/qiime2/Mark/data/8ff07e13-3177-4748-b216-aa4b3d591051/data/tree.nwk -o /var/folders/kk/vx23v0b52wv0sx4vqhls42dw0000gn/T/qiime2/Mark/processes/28745-1733069495.838095@Mark/tmp/q2-OutPath-0bhlvo8b\n",
      "\n"
     ]
    },
    {
     "name": "stderr",
     "output_type": "stream",
     "text": [
      "/Users/Mark/mambaforge/envs/bombus_toshare/lib/python3.10/site-packages/q2_types/sample_data/_deferred_setup/_transformers.py:28: FutureWarning: errors='ignore' is deprecated and will raise in a future version. Use to_numeric without passing `errors` and catch exceptions explicitly instead\n",
      "  df[cols] = df[cols].apply(pd.to_numeric, errors='ignore')\n",
      "/Users/Mark/mambaforge/envs/bombus_toshare/lib/python3.10/site-packages/q2_types/sample_data/_deferred_setup/_transformers.py:28: FutureWarning: errors='ignore' is deprecated and will raise in a future version. Use to_numeric without passing `errors` and catch exceptions explicitly instead\n",
      "  df[cols] = df[cols].apply(pd.to_numeric, errors='ignore')\n",
      "/Users/Mark/mambaforge/envs/bombus_toshare/lib/python3.10/site-packages/q2_types/sample_data/_deferred_setup/_transformers.py:28: FutureWarning: errors='ignore' is deprecated and will raise in a future version. Use to_numeric without passing `errors` and catch exceptions explicitly instead\n",
      "  df[cols] = df[cols].apply(pd.to_numeric, errors='ignore')\n"
     ]
    },
    {
     "name": "stdout",
     "output_type": "stream",
     "text": [
      "Running external command line application. This may print messages to stdout and/or stderr.\n",
      "The command being run is below. This command cannot be manually re-run as it will depend on temporary files that no longer exist.\n",
      "\n",
      "Command:\n",
      "\n",
      "faithpd -i /var/folders/kk/vx23v0b52wv0sx4vqhls42dw0000gn/T/qiime2/Mark/data/431d505a-136f-4d2d-8dc1-401381a109cb/data/feature-table.biom -t /var/folders/kk/vx23v0b52wv0sx4vqhls42dw0000gn/T/qiime2/Mark/data/8ff07e13-3177-4748-b216-aa4b3d591051/data/tree.nwk -o /var/folders/kk/vx23v0b52wv0sx4vqhls42dw0000gn/T/qiime2/Mark/processes/28745-1733069495.838095@Mark/tmp/q2-OutPath-5ozwe44f\n",
      "\n"
     ]
    },
    {
     "name": "stderr",
     "output_type": "stream",
     "text": [
      "/Users/Mark/mambaforge/envs/bombus_toshare/lib/python3.10/site-packages/q2_types/sample_data/_deferred_setup/_transformers.py:28: FutureWarning: errors='ignore' is deprecated and will raise in a future version. Use to_numeric without passing `errors` and catch exceptions explicitly instead\n",
      "  df[cols] = df[cols].apply(pd.to_numeric, errors='ignore')\n",
      "/Users/Mark/mambaforge/envs/bombus_toshare/lib/python3.10/site-packages/q2_types/sample_data/_deferred_setup/_transformers.py:28: FutureWarning: errors='ignore' is deprecated and will raise in a future version. Use to_numeric without passing `errors` and catch exceptions explicitly instead\n",
      "  df[cols] = df[cols].apply(pd.to_numeric, errors='ignore')\n",
      "/Users/Mark/mambaforge/envs/bombus_toshare/lib/python3.10/site-packages/q2_types/sample_data/_deferred_setup/_transformers.py:28: FutureWarning: errors='ignore' is deprecated and will raise in a future version. Use to_numeric without passing `errors` and catch exceptions explicitly instead\n",
      "  df[cols] = df[cols].apply(pd.to_numeric, errors='ignore')\n"
     ]
    },
    {
     "name": "stdout",
     "output_type": "stream",
     "text": [
      "Running external command line application. This may print messages to stdout and/or stderr.\n",
      "The command being run is below. This command cannot be manually re-run as it will depend on temporary files that no longer exist.\n",
      "\n",
      "Command:\n",
      "\n",
      "faithpd -i /var/folders/kk/vx23v0b52wv0sx4vqhls42dw0000gn/T/qiime2/Mark/data/522a1640-2613-4bb2-bf57-9eb0f9f35e8d/data/feature-table.biom -t /var/folders/kk/vx23v0b52wv0sx4vqhls42dw0000gn/T/qiime2/Mark/data/8ff07e13-3177-4748-b216-aa4b3d591051/data/tree.nwk -o /var/folders/kk/vx23v0b52wv0sx4vqhls42dw0000gn/T/qiime2/Mark/processes/28745-1733069495.838095@Mark/tmp/q2-OutPath-1qiov70j\n",
      "\n"
     ]
    },
    {
     "name": "stderr",
     "output_type": "stream",
     "text": [
      "/Users/Mark/mambaforge/envs/bombus_toshare/lib/python3.10/site-packages/q2_types/sample_data/_deferred_setup/_transformers.py:28: FutureWarning: errors='ignore' is deprecated and will raise in a future version. Use to_numeric without passing `errors` and catch exceptions explicitly instead\n",
      "  df[cols] = df[cols].apply(pd.to_numeric, errors='ignore')\n",
      "/Users/Mark/mambaforge/envs/bombus_toshare/lib/python3.10/site-packages/q2_types/sample_data/_deferred_setup/_transformers.py:28: FutureWarning: errors='ignore' is deprecated and will raise in a future version. Use to_numeric without passing `errors` and catch exceptions explicitly instead\n",
      "  df[cols] = df[cols].apply(pd.to_numeric, errors='ignore')\n",
      "/Users/Mark/mambaforge/envs/bombus_toshare/lib/python3.10/site-packages/q2_types/sample_data/_deferred_setup/_transformers.py:28: FutureWarning: errors='ignore' is deprecated and will raise in a future version. Use to_numeric without passing `errors` and catch exceptions explicitly instead\n",
      "  df[cols] = df[cols].apply(pd.to_numeric, errors='ignore')\n"
     ]
    },
    {
     "name": "stdout",
     "output_type": "stream",
     "text": [
      "Running external command line application. This may print messages to stdout and/or stderr.\n",
      "The command being run is below. This command cannot be manually re-run as it will depend on temporary files that no longer exist.\n",
      "\n",
      "Command:\n",
      "\n",
      "faithpd -i /var/folders/kk/vx23v0b52wv0sx4vqhls42dw0000gn/T/qiime2/Mark/data/813d544e-39b8-44ed-8c5a-32264ec568d2/data/feature-table.biom -t /var/folders/kk/vx23v0b52wv0sx4vqhls42dw0000gn/T/qiime2/Mark/data/8ff07e13-3177-4748-b216-aa4b3d591051/data/tree.nwk -o /var/folders/kk/vx23v0b52wv0sx4vqhls42dw0000gn/T/qiime2/Mark/processes/28745-1733069495.838095@Mark/tmp/q2-OutPath-xph7qw9i\n",
      "\n"
     ]
    },
    {
     "name": "stderr",
     "output_type": "stream",
     "text": [
      "/Users/Mark/mambaforge/envs/bombus_toshare/lib/python3.10/site-packages/q2_types/sample_data/_deferred_setup/_transformers.py:28: FutureWarning: errors='ignore' is deprecated and will raise in a future version. Use to_numeric without passing `errors` and catch exceptions explicitly instead\n",
      "  df[cols] = df[cols].apply(pd.to_numeric, errors='ignore')\n",
      "/Users/Mark/mambaforge/envs/bombus_toshare/lib/python3.10/site-packages/q2_types/sample_data/_deferred_setup/_transformers.py:28: FutureWarning: errors='ignore' is deprecated and will raise in a future version. Use to_numeric without passing `errors` and catch exceptions explicitly instead\n",
      "  df[cols] = df[cols].apply(pd.to_numeric, errors='ignore')\n",
      "/Users/Mark/mambaforge/envs/bombus_toshare/lib/python3.10/site-packages/q2_types/sample_data/_deferred_setup/_transformers.py:28: FutureWarning: errors='ignore' is deprecated and will raise in a future version. Use to_numeric without passing `errors` and catch exceptions explicitly instead\n",
      "  df[cols] = df[cols].apply(pd.to_numeric, errors='ignore')\n"
     ]
    },
    {
     "name": "stdout",
     "output_type": "stream",
     "text": [
      "Running external command line application. This may print messages to stdout and/or stderr.\n",
      "The command being run is below. This command cannot be manually re-run as it will depend on temporary files that no longer exist.\n",
      "\n",
      "Command:\n",
      "\n",
      "faithpd -i /var/folders/kk/vx23v0b52wv0sx4vqhls42dw0000gn/T/qiime2/Mark/data/0fb7843f-140a-4786-a06c-d210994f7900/data/feature-table.biom -t /var/folders/kk/vx23v0b52wv0sx4vqhls42dw0000gn/T/qiime2/Mark/data/8ff07e13-3177-4748-b216-aa4b3d591051/data/tree.nwk -o /var/folders/kk/vx23v0b52wv0sx4vqhls42dw0000gn/T/qiime2/Mark/processes/28745-1733069495.838095@Mark/tmp/q2-OutPath-iqaz0md1\n",
      "\n"
     ]
    },
    {
     "name": "stderr",
     "output_type": "stream",
     "text": [
      "/Users/Mark/mambaforge/envs/bombus_toshare/lib/python3.10/site-packages/q2_types/sample_data/_deferred_setup/_transformers.py:28: FutureWarning: errors='ignore' is deprecated and will raise in a future version. Use to_numeric without passing `errors` and catch exceptions explicitly instead\n",
      "  df[cols] = df[cols].apply(pd.to_numeric, errors='ignore')\n",
      "/Users/Mark/mambaforge/envs/bombus_toshare/lib/python3.10/site-packages/q2_types/sample_data/_deferred_setup/_transformers.py:28: FutureWarning: errors='ignore' is deprecated and will raise in a future version. Use to_numeric without passing `errors` and catch exceptions explicitly instead\n",
      "  df[cols] = df[cols].apply(pd.to_numeric, errors='ignore')\n",
      "/Users/Mark/mambaforge/envs/bombus_toshare/lib/python3.10/site-packages/q2_types/sample_data/_deferred_setup/_transformers.py:28: FutureWarning: errors='ignore' is deprecated and will raise in a future version. Use to_numeric without passing `errors` and catch exceptions explicitly instead\n",
      "  df[cols] = df[cols].apply(pd.to_numeric, errors='ignore')\n"
     ]
    },
    {
     "name": "stdout",
     "output_type": "stream",
     "text": [
      "Running external command line application. This may print messages to stdout and/or stderr.\n",
      "The command being run is below. This command cannot be manually re-run as it will depend on temporary files that no longer exist.\n",
      "\n",
      "Command:\n",
      "\n",
      "faithpd -i /var/folders/kk/vx23v0b52wv0sx4vqhls42dw0000gn/T/qiime2/Mark/data/7f71fd26-158b-4159-a4d7-dba7795335c6/data/feature-table.biom -t /var/folders/kk/vx23v0b52wv0sx4vqhls42dw0000gn/T/qiime2/Mark/data/8ff07e13-3177-4748-b216-aa4b3d591051/data/tree.nwk -o /var/folders/kk/vx23v0b52wv0sx4vqhls42dw0000gn/T/qiime2/Mark/processes/28745-1733069495.838095@Mark/tmp/q2-OutPath-48l71rmn\n",
      "\n"
     ]
    },
    {
     "name": "stderr",
     "output_type": "stream",
     "text": [
      "/Users/Mark/mambaforge/envs/bombus_toshare/lib/python3.10/site-packages/q2_types/sample_data/_deferred_setup/_transformers.py:28: FutureWarning: errors='ignore' is deprecated and will raise in a future version. Use to_numeric without passing `errors` and catch exceptions explicitly instead\n",
      "  df[cols] = df[cols].apply(pd.to_numeric, errors='ignore')\n",
      "/Users/Mark/mambaforge/envs/bombus_toshare/lib/python3.10/site-packages/q2_types/sample_data/_deferred_setup/_transformers.py:28: FutureWarning: errors='ignore' is deprecated and will raise in a future version. Use to_numeric without passing `errors` and catch exceptions explicitly instead\n",
      "  df[cols] = df[cols].apply(pd.to_numeric, errors='ignore')\n",
      "/Users/Mark/mambaforge/envs/bombus_toshare/lib/python3.10/site-packages/q2_types/sample_data/_deferred_setup/_transformers.py:28: FutureWarning: errors='ignore' is deprecated and will raise in a future version. Use to_numeric without passing `errors` and catch exceptions explicitly instead\n",
      "  df[cols] = df[cols].apply(pd.to_numeric, errors='ignore')\n"
     ]
    },
    {
     "name": "stdout",
     "output_type": "stream",
     "text": [
      "Running external command line application. This may print messages to stdout and/or stderr.\n",
      "The command being run is below. This command cannot be manually re-run as it will depend on temporary files that no longer exist.\n",
      "\n",
      "Command:\n",
      "\n",
      "faithpd -i /var/folders/kk/vx23v0b52wv0sx4vqhls42dw0000gn/T/qiime2/Mark/data/576d5347-2504-4aeb-b671-388aa2343866/data/feature-table.biom -t /var/folders/kk/vx23v0b52wv0sx4vqhls42dw0000gn/T/qiime2/Mark/data/8ff07e13-3177-4748-b216-aa4b3d591051/data/tree.nwk -o /var/folders/kk/vx23v0b52wv0sx4vqhls42dw0000gn/T/qiime2/Mark/processes/28745-1733069495.838095@Mark/tmp/q2-OutPath-w0w9z4ts\n",
      "\n"
     ]
    },
    {
     "name": "stderr",
     "output_type": "stream",
     "text": [
      "/Users/Mark/mambaforge/envs/bombus_toshare/lib/python3.10/site-packages/q2_types/sample_data/_deferred_setup/_transformers.py:28: FutureWarning: errors='ignore' is deprecated and will raise in a future version. Use to_numeric without passing `errors` and catch exceptions explicitly instead\n",
      "  df[cols] = df[cols].apply(pd.to_numeric, errors='ignore')\n",
      "/Users/Mark/mambaforge/envs/bombus_toshare/lib/python3.10/site-packages/q2_types/sample_data/_deferred_setup/_transformers.py:28: FutureWarning: errors='ignore' is deprecated and will raise in a future version. Use to_numeric without passing `errors` and catch exceptions explicitly instead\n",
      "  df[cols] = df[cols].apply(pd.to_numeric, errors='ignore')\n",
      "/Users/Mark/mambaforge/envs/bombus_toshare/lib/python3.10/site-packages/q2_types/sample_data/_deferred_setup/_transformers.py:28: FutureWarning: errors='ignore' is deprecated and will raise in a future version. Use to_numeric without passing `errors` and catch exceptions explicitly instead\n",
      "  df[cols] = df[cols].apply(pd.to_numeric, errors='ignore')\n"
     ]
    },
    {
     "name": "stdout",
     "output_type": "stream",
     "text": [
      "Running external command line application. This may print messages to stdout and/or stderr.\n",
      "The command being run is below. This command cannot be manually re-run as it will depend on temporary files that no longer exist.\n",
      "\n",
      "Command:\n",
      "\n",
      "faithpd -i /var/folders/kk/vx23v0b52wv0sx4vqhls42dw0000gn/T/qiime2/Mark/data/987bb8a4-2cf2-404b-94b1-744e0ff39e10/data/feature-table.biom -t /var/folders/kk/vx23v0b52wv0sx4vqhls42dw0000gn/T/qiime2/Mark/data/8ff07e13-3177-4748-b216-aa4b3d591051/data/tree.nwk -o /var/folders/kk/vx23v0b52wv0sx4vqhls42dw0000gn/T/qiime2/Mark/processes/28745-1733069495.838095@Mark/tmp/q2-OutPath-akcslc7o\n",
      "\n"
     ]
    },
    {
     "name": "stderr",
     "output_type": "stream",
     "text": [
      "/Users/Mark/mambaforge/envs/bombus_toshare/lib/python3.10/site-packages/q2_types/sample_data/_deferred_setup/_transformers.py:28: FutureWarning: errors='ignore' is deprecated and will raise in a future version. Use to_numeric without passing `errors` and catch exceptions explicitly instead\n",
      "  df[cols] = df[cols].apply(pd.to_numeric, errors='ignore')\n",
      "/Users/Mark/mambaforge/envs/bombus_toshare/lib/python3.10/site-packages/q2_types/sample_data/_deferred_setup/_transformers.py:28: FutureWarning: errors='ignore' is deprecated and will raise in a future version. Use to_numeric without passing `errors` and catch exceptions explicitly instead\n",
      "  df[cols] = df[cols].apply(pd.to_numeric, errors='ignore')\n",
      "/Users/Mark/mambaforge/envs/bombus_toshare/lib/python3.10/site-packages/q2_types/sample_data/_deferred_setup/_transformers.py:28: FutureWarning: errors='ignore' is deprecated and will raise in a future version. Use to_numeric without passing `errors` and catch exceptions explicitly instead\n",
      "  df[cols] = df[cols].apply(pd.to_numeric, errors='ignore')\n"
     ]
    },
    {
     "name": "stdout",
     "output_type": "stream",
     "text": [
      "Running external command line application. This may print messages to stdout and/or stderr.\n",
      "The command being run is below. This command cannot be manually re-run as it will depend on temporary files that no longer exist.\n",
      "\n",
      "Command:\n",
      "\n",
      "faithpd -i /var/folders/kk/vx23v0b52wv0sx4vqhls42dw0000gn/T/qiime2/Mark/data/b6dda065-5def-4bcb-a7f6-9a57fe015e9b/data/feature-table.biom -t /var/folders/kk/vx23v0b52wv0sx4vqhls42dw0000gn/T/qiime2/Mark/data/8ff07e13-3177-4748-b216-aa4b3d591051/data/tree.nwk -o /var/folders/kk/vx23v0b52wv0sx4vqhls42dw0000gn/T/qiime2/Mark/processes/28745-1733069495.838095@Mark/tmp/q2-OutPath-zk11qqxa\n",
      "\n"
     ]
    },
    {
     "name": "stderr",
     "output_type": "stream",
     "text": [
      "/Users/Mark/mambaforge/envs/bombus_toshare/lib/python3.10/site-packages/q2_types/sample_data/_deferred_setup/_transformers.py:28: FutureWarning: errors='ignore' is deprecated and will raise in a future version. Use to_numeric without passing `errors` and catch exceptions explicitly instead\n",
      "  df[cols] = df[cols].apply(pd.to_numeric, errors='ignore')\n",
      "/Users/Mark/mambaforge/envs/bombus_toshare/lib/python3.10/site-packages/q2_types/sample_data/_deferred_setup/_transformers.py:28: FutureWarning: errors='ignore' is deprecated and will raise in a future version. Use to_numeric without passing `errors` and catch exceptions explicitly instead\n",
      "  df[cols] = df[cols].apply(pd.to_numeric, errors='ignore')\n",
      "/Users/Mark/mambaforge/envs/bombus_toshare/lib/python3.10/site-packages/q2_types/sample_data/_deferred_setup/_transformers.py:28: FutureWarning: errors='ignore' is deprecated and will raise in a future version. Use to_numeric without passing `errors` and catch exceptions explicitly instead\n",
      "  df[cols] = df[cols].apply(pd.to_numeric, errors='ignore')\n"
     ]
    },
    {
     "name": "stdout",
     "output_type": "stream",
     "text": [
      "Running external command line application. This may print messages to stdout and/or stderr.\n",
      "The command being run is below. This command cannot be manually re-run as it will depend on temporary files that no longer exist.\n",
      "\n",
      "Command:\n",
      "\n",
      "faithpd -i /var/folders/kk/vx23v0b52wv0sx4vqhls42dw0000gn/T/qiime2/Mark/data/2bf513fc-44b1-460a-8bb2-4142917eb7ca/data/feature-table.biom -t /var/folders/kk/vx23v0b52wv0sx4vqhls42dw0000gn/T/qiime2/Mark/data/8ff07e13-3177-4748-b216-aa4b3d591051/data/tree.nwk -o /var/folders/kk/vx23v0b52wv0sx4vqhls42dw0000gn/T/qiime2/Mark/processes/28745-1733069495.838095@Mark/tmp/q2-OutPath-pkt6oakq\n",
      "\n"
     ]
    },
    {
     "name": "stderr",
     "output_type": "stream",
     "text": [
      "/Users/Mark/mambaforge/envs/bombus_toshare/lib/python3.10/site-packages/q2_types/sample_data/_deferred_setup/_transformers.py:28: FutureWarning: errors='ignore' is deprecated and will raise in a future version. Use to_numeric without passing `errors` and catch exceptions explicitly instead\n",
      "  df[cols] = df[cols].apply(pd.to_numeric, errors='ignore')\n",
      "/Users/Mark/mambaforge/envs/bombus_toshare/lib/python3.10/site-packages/q2_types/sample_data/_deferred_setup/_transformers.py:28: FutureWarning: errors='ignore' is deprecated and will raise in a future version. Use to_numeric without passing `errors` and catch exceptions explicitly instead\n",
      "  df[cols] = df[cols].apply(pd.to_numeric, errors='ignore')\n",
      "/Users/Mark/mambaforge/envs/bombus_toshare/lib/python3.10/site-packages/q2_types/sample_data/_deferred_setup/_transformers.py:28: FutureWarning: errors='ignore' is deprecated and will raise in a future version. Use to_numeric without passing `errors` and catch exceptions explicitly instead\n",
      "  df[cols] = df[cols].apply(pd.to_numeric, errors='ignore')\n"
     ]
    },
    {
     "name": "stdout",
     "output_type": "stream",
     "text": [
      "Running external command line application. This may print messages to stdout and/or stderr.\n",
      "The command being run is below. This command cannot be manually re-run as it will depend on temporary files that no longer exist.\n",
      "\n",
      "Command:\n",
      "\n",
      "faithpd -i /var/folders/kk/vx23v0b52wv0sx4vqhls42dw0000gn/T/qiime2/Mark/data/eea97826-98af-4b0c-8566-d98252aee30a/data/feature-table.biom -t /var/folders/kk/vx23v0b52wv0sx4vqhls42dw0000gn/T/qiime2/Mark/data/8ff07e13-3177-4748-b216-aa4b3d591051/data/tree.nwk -o /var/folders/kk/vx23v0b52wv0sx4vqhls42dw0000gn/T/qiime2/Mark/processes/28745-1733069495.838095@Mark/tmp/q2-OutPath-9e_7h_02\n",
      "\n"
     ]
    },
    {
     "name": "stderr",
     "output_type": "stream",
     "text": [
      "/Users/Mark/mambaforge/envs/bombus_toshare/lib/python3.10/site-packages/q2_types/sample_data/_deferred_setup/_transformers.py:28: FutureWarning: errors='ignore' is deprecated and will raise in a future version. Use to_numeric without passing `errors` and catch exceptions explicitly instead\n",
      "  df[cols] = df[cols].apply(pd.to_numeric, errors='ignore')\n",
      "/Users/Mark/mambaforge/envs/bombus_toshare/lib/python3.10/site-packages/q2_types/sample_data/_deferred_setup/_transformers.py:28: FutureWarning: errors='ignore' is deprecated and will raise in a future version. Use to_numeric without passing `errors` and catch exceptions explicitly instead\n",
      "  df[cols] = df[cols].apply(pd.to_numeric, errors='ignore')\n",
      "/Users/Mark/mambaforge/envs/bombus_toshare/lib/python3.10/site-packages/q2_types/sample_data/_deferred_setup/_transformers.py:28: FutureWarning: errors='ignore' is deprecated and will raise in a future version. Use to_numeric without passing `errors` and catch exceptions explicitly instead\n",
      "  df[cols] = df[cols].apply(pd.to_numeric, errors='ignore')\n"
     ]
    },
    {
     "name": "stdout",
     "output_type": "stream",
     "text": [
      "Running external command line application. This may print messages to stdout and/or stderr.\n",
      "The command being run is below. This command cannot be manually re-run as it will depend on temporary files that no longer exist.\n",
      "\n",
      "Command:\n",
      "\n",
      "faithpd -i /var/folders/kk/vx23v0b52wv0sx4vqhls42dw0000gn/T/qiime2/Mark/data/b55c0d3b-1fb1-4ca9-849c-190e30ef3603/data/feature-table.biom -t /var/folders/kk/vx23v0b52wv0sx4vqhls42dw0000gn/T/qiime2/Mark/data/8ff07e13-3177-4748-b216-aa4b3d591051/data/tree.nwk -o /var/folders/kk/vx23v0b52wv0sx4vqhls42dw0000gn/T/qiime2/Mark/processes/28745-1733069495.838095@Mark/tmp/q2-OutPath-5w1x18vb\n",
      "\n"
     ]
    },
    {
     "name": "stderr",
     "output_type": "stream",
     "text": [
      "/Users/Mark/mambaforge/envs/bombus_toshare/lib/python3.10/site-packages/q2_types/sample_data/_deferred_setup/_transformers.py:28: FutureWarning: errors='ignore' is deprecated and will raise in a future version. Use to_numeric without passing `errors` and catch exceptions explicitly instead\n",
      "  df[cols] = df[cols].apply(pd.to_numeric, errors='ignore')\n",
      "/Users/Mark/mambaforge/envs/bombus_toshare/lib/python3.10/site-packages/q2_types/sample_data/_deferred_setup/_transformers.py:28: FutureWarning: errors='ignore' is deprecated and will raise in a future version. Use to_numeric without passing `errors` and catch exceptions explicitly instead\n",
      "  df[cols] = df[cols].apply(pd.to_numeric, errors='ignore')\n",
      "/Users/Mark/mambaforge/envs/bombus_toshare/lib/python3.10/site-packages/q2_types/sample_data/_deferred_setup/_transformers.py:28: FutureWarning: errors='ignore' is deprecated and will raise in a future version. Use to_numeric without passing `errors` and catch exceptions explicitly instead\n",
      "  df[cols] = df[cols].apply(pd.to_numeric, errors='ignore')\n"
     ]
    },
    {
     "name": "stdout",
     "output_type": "stream",
     "text": [
      "Running external command line application. This may print messages to stdout and/or stderr.\n",
      "The command being run is below. This command cannot be manually re-run as it will depend on temporary files that no longer exist.\n",
      "\n",
      "Command:\n",
      "\n",
      "faithpd -i /var/folders/kk/vx23v0b52wv0sx4vqhls42dw0000gn/T/qiime2/Mark/data/a3319b61-1cd2-48b8-9ef4-ccd45caa1c81/data/feature-table.biom -t /var/folders/kk/vx23v0b52wv0sx4vqhls42dw0000gn/T/qiime2/Mark/data/8ff07e13-3177-4748-b216-aa4b3d591051/data/tree.nwk -o /var/folders/kk/vx23v0b52wv0sx4vqhls42dw0000gn/T/qiime2/Mark/processes/28745-1733069495.838095@Mark/tmp/q2-OutPath-a8i7grn0\n",
      "\n"
     ]
    },
    {
     "name": "stderr",
     "output_type": "stream",
     "text": [
      "/Users/Mark/mambaforge/envs/bombus_toshare/lib/python3.10/site-packages/q2_types/sample_data/_deferred_setup/_transformers.py:28: FutureWarning: errors='ignore' is deprecated and will raise in a future version. Use to_numeric without passing `errors` and catch exceptions explicitly instead\n",
      "  df[cols] = df[cols].apply(pd.to_numeric, errors='ignore')\n",
      "/Users/Mark/mambaforge/envs/bombus_toshare/lib/python3.10/site-packages/q2_types/sample_data/_deferred_setup/_transformers.py:28: FutureWarning: errors='ignore' is deprecated and will raise in a future version. Use to_numeric without passing `errors` and catch exceptions explicitly instead\n",
      "  df[cols] = df[cols].apply(pd.to_numeric, errors='ignore')\n",
      "/Users/Mark/mambaforge/envs/bombus_toshare/lib/python3.10/site-packages/q2_types/sample_data/_deferred_setup/_transformers.py:28: FutureWarning: errors='ignore' is deprecated and will raise in a future version. Use to_numeric without passing `errors` and catch exceptions explicitly instead\n",
      "  df[cols] = df[cols].apply(pd.to_numeric, errors='ignore')\n"
     ]
    },
    {
     "name": "stdout",
     "output_type": "stream",
     "text": [
      "Running external command line application. This may print messages to stdout and/or stderr.\n",
      "The command being run is below. This command cannot be manually re-run as it will depend on temporary files that no longer exist.\n",
      "\n",
      "Command:\n",
      "\n",
      "faithpd -i /var/folders/kk/vx23v0b52wv0sx4vqhls42dw0000gn/T/qiime2/Mark/data/d83fa656-a18b-4ac0-b94b-99c2c7873b90/data/feature-table.biom -t /var/folders/kk/vx23v0b52wv0sx4vqhls42dw0000gn/T/qiime2/Mark/data/8ff07e13-3177-4748-b216-aa4b3d591051/data/tree.nwk -o /var/folders/kk/vx23v0b52wv0sx4vqhls42dw0000gn/T/qiime2/Mark/processes/28745-1733069495.838095@Mark/tmp/q2-OutPath-p0rgi_2l\n",
      "\n"
     ]
    },
    {
     "name": "stderr",
     "output_type": "stream",
     "text": [
      "/Users/Mark/mambaforge/envs/bombus_toshare/lib/python3.10/site-packages/q2_types/sample_data/_deferred_setup/_transformers.py:28: FutureWarning: errors='ignore' is deprecated and will raise in a future version. Use to_numeric without passing `errors` and catch exceptions explicitly instead\n",
      "  df[cols] = df[cols].apply(pd.to_numeric, errors='ignore')\n",
      "/Users/Mark/mambaforge/envs/bombus_toshare/lib/python3.10/site-packages/q2_types/sample_data/_deferred_setup/_transformers.py:28: FutureWarning: errors='ignore' is deprecated and will raise in a future version. Use to_numeric without passing `errors` and catch exceptions explicitly instead\n",
      "  df[cols] = df[cols].apply(pd.to_numeric, errors='ignore')\n",
      "/Users/Mark/mambaforge/envs/bombus_toshare/lib/python3.10/site-packages/q2_types/sample_data/_deferred_setup/_transformers.py:28: FutureWarning: errors='ignore' is deprecated and will raise in a future version. Use to_numeric without passing `errors` and catch exceptions explicitly instead\n",
      "  df[cols] = df[cols].apply(pd.to_numeric, errors='ignore')\n"
     ]
    },
    {
     "name": "stdout",
     "output_type": "stream",
     "text": [
      "Running external command line application. This may print messages to stdout and/or stderr.\n",
      "The command being run is below. This command cannot be manually re-run as it will depend on temporary files that no longer exist.\n",
      "\n",
      "Command:\n",
      "\n",
      "faithpd -i /var/folders/kk/vx23v0b52wv0sx4vqhls42dw0000gn/T/qiime2/Mark/data/539d7055-3922-4621-acec-7cbfc383c723/data/feature-table.biom -t /var/folders/kk/vx23v0b52wv0sx4vqhls42dw0000gn/T/qiime2/Mark/data/8ff07e13-3177-4748-b216-aa4b3d591051/data/tree.nwk -o /var/folders/kk/vx23v0b52wv0sx4vqhls42dw0000gn/T/qiime2/Mark/processes/28745-1733069495.838095@Mark/tmp/q2-OutPath-b493begc\n",
      "\n"
     ]
    },
    {
     "name": "stderr",
     "output_type": "stream",
     "text": [
      "/Users/Mark/mambaforge/envs/bombus_toshare/lib/python3.10/site-packages/q2_types/sample_data/_deferred_setup/_transformers.py:28: FutureWarning: errors='ignore' is deprecated and will raise in a future version. Use to_numeric without passing `errors` and catch exceptions explicitly instead\n",
      "  df[cols] = df[cols].apply(pd.to_numeric, errors='ignore')\n",
      "/Users/Mark/mambaforge/envs/bombus_toshare/lib/python3.10/site-packages/q2_types/sample_data/_deferred_setup/_transformers.py:28: FutureWarning: errors='ignore' is deprecated and will raise in a future version. Use to_numeric without passing `errors` and catch exceptions explicitly instead\n",
      "  df[cols] = df[cols].apply(pd.to_numeric, errors='ignore')\n",
      "/Users/Mark/mambaforge/envs/bombus_toshare/lib/python3.10/site-packages/q2_types/sample_data/_deferred_setup/_transformers.py:28: FutureWarning: errors='ignore' is deprecated and will raise in a future version. Use to_numeric without passing `errors` and catch exceptions explicitly instead\n",
      "  df[cols] = df[cols].apply(pd.to_numeric, errors='ignore')\n"
     ]
    },
    {
     "name": "stdout",
     "output_type": "stream",
     "text": [
      "Running external command line application. This may print messages to stdout and/or stderr.\n",
      "The command being run is below. This command cannot be manually re-run as it will depend on temporary files that no longer exist.\n",
      "\n",
      "Command:\n",
      "\n",
      "faithpd -i /var/folders/kk/vx23v0b52wv0sx4vqhls42dw0000gn/T/qiime2/Mark/data/0b125cbd-b5d7-4ca8-9a85-aec3d7b2aaa9/data/feature-table.biom -t /var/folders/kk/vx23v0b52wv0sx4vqhls42dw0000gn/T/qiime2/Mark/data/8ff07e13-3177-4748-b216-aa4b3d591051/data/tree.nwk -o /var/folders/kk/vx23v0b52wv0sx4vqhls42dw0000gn/T/qiime2/Mark/processes/28745-1733069495.838095@Mark/tmp/q2-OutPath-25e90phe\n",
      "\n"
     ]
    },
    {
     "name": "stderr",
     "output_type": "stream",
     "text": [
      "/Users/Mark/mambaforge/envs/bombus_toshare/lib/python3.10/site-packages/q2_types/sample_data/_deferred_setup/_transformers.py:28: FutureWarning: errors='ignore' is deprecated and will raise in a future version. Use to_numeric without passing `errors` and catch exceptions explicitly instead\n",
      "  df[cols] = df[cols].apply(pd.to_numeric, errors='ignore')\n",
      "/Users/Mark/mambaforge/envs/bombus_toshare/lib/python3.10/site-packages/q2_types/sample_data/_deferred_setup/_transformers.py:28: FutureWarning: errors='ignore' is deprecated and will raise in a future version. Use to_numeric without passing `errors` and catch exceptions explicitly instead\n",
      "  df[cols] = df[cols].apply(pd.to_numeric, errors='ignore')\n",
      "/Users/Mark/mambaforge/envs/bombus_toshare/lib/python3.10/site-packages/q2_types/sample_data/_deferred_setup/_transformers.py:28: FutureWarning: errors='ignore' is deprecated and will raise in a future version. Use to_numeric without passing `errors` and catch exceptions explicitly instead\n",
      "  df[cols] = df[cols].apply(pd.to_numeric, errors='ignore')\n"
     ]
    },
    {
     "name": "stdout",
     "output_type": "stream",
     "text": [
      "Running external command line application. This may print messages to stdout and/or stderr.\n",
      "The command being run is below. This command cannot be manually re-run as it will depend on temporary files that no longer exist.\n",
      "\n",
      "Command:\n",
      "\n",
      "faithpd -i /var/folders/kk/vx23v0b52wv0sx4vqhls42dw0000gn/T/qiime2/Mark/data/51f57bcc-9ef8-4446-8318-51f042b31e4a/data/feature-table.biom -t /var/folders/kk/vx23v0b52wv0sx4vqhls42dw0000gn/T/qiime2/Mark/data/8ff07e13-3177-4748-b216-aa4b3d591051/data/tree.nwk -o /var/folders/kk/vx23v0b52wv0sx4vqhls42dw0000gn/T/qiime2/Mark/processes/28745-1733069495.838095@Mark/tmp/q2-OutPath-orwfyzka\n",
      "\n"
     ]
    },
    {
     "name": "stderr",
     "output_type": "stream",
     "text": [
      "/Users/Mark/mambaforge/envs/bombus_toshare/lib/python3.10/site-packages/q2_types/sample_data/_deferred_setup/_transformers.py:28: FutureWarning: errors='ignore' is deprecated and will raise in a future version. Use to_numeric without passing `errors` and catch exceptions explicitly instead\n",
      "  df[cols] = df[cols].apply(pd.to_numeric, errors='ignore')\n",
      "/Users/Mark/mambaforge/envs/bombus_toshare/lib/python3.10/site-packages/q2_types/sample_data/_deferred_setup/_transformers.py:28: FutureWarning: errors='ignore' is deprecated and will raise in a future version. Use to_numeric without passing `errors` and catch exceptions explicitly instead\n",
      "  df[cols] = df[cols].apply(pd.to_numeric, errors='ignore')\n",
      "/Users/Mark/mambaforge/envs/bombus_toshare/lib/python3.10/site-packages/q2_types/sample_data/_deferred_setup/_transformers.py:28: FutureWarning: errors='ignore' is deprecated and will raise in a future version. Use to_numeric without passing `errors` and catch exceptions explicitly instead\n",
      "  df[cols] = df[cols].apply(pd.to_numeric, errors='ignore')\n"
     ]
    },
    {
     "name": "stdout",
     "output_type": "stream",
     "text": [
      "Running external command line application. This may print messages to stdout and/or stderr.\n",
      "The command being run is below. This command cannot be manually re-run as it will depend on temporary files that no longer exist.\n",
      "\n",
      "Command:\n",
      "\n",
      "faithpd -i /var/folders/kk/vx23v0b52wv0sx4vqhls42dw0000gn/T/qiime2/Mark/data/510e0d94-1a7b-4a90-80f0-40c3db0cab7a/data/feature-table.biom -t /var/folders/kk/vx23v0b52wv0sx4vqhls42dw0000gn/T/qiime2/Mark/data/8ff07e13-3177-4748-b216-aa4b3d591051/data/tree.nwk -o /var/folders/kk/vx23v0b52wv0sx4vqhls42dw0000gn/T/qiime2/Mark/processes/28745-1733069495.838095@Mark/tmp/q2-OutPath-0phhg_7o\n",
      "\n"
     ]
    },
    {
     "name": "stderr",
     "output_type": "stream",
     "text": [
      "/Users/Mark/mambaforge/envs/bombus_toshare/lib/python3.10/site-packages/q2_types/sample_data/_deferred_setup/_transformers.py:28: FutureWarning: errors='ignore' is deprecated and will raise in a future version. Use to_numeric without passing `errors` and catch exceptions explicitly instead\n",
      "  df[cols] = df[cols].apply(pd.to_numeric, errors='ignore')\n",
      "/Users/Mark/mambaforge/envs/bombus_toshare/lib/python3.10/site-packages/q2_types/sample_data/_deferred_setup/_transformers.py:28: FutureWarning: errors='ignore' is deprecated and will raise in a future version. Use to_numeric without passing `errors` and catch exceptions explicitly instead\n",
      "  df[cols] = df[cols].apply(pd.to_numeric, errors='ignore')\n",
      "/Users/Mark/mambaforge/envs/bombus_toshare/lib/python3.10/site-packages/q2_types/sample_data/_deferred_setup/_transformers.py:28: FutureWarning: errors='ignore' is deprecated and will raise in a future version. Use to_numeric without passing `errors` and catch exceptions explicitly instead\n",
      "  df[cols] = df[cols].apply(pd.to_numeric, errors='ignore')\n"
     ]
    },
    {
     "name": "stdout",
     "output_type": "stream",
     "text": [
      "Running external command line application. This may print messages to stdout and/or stderr.\n",
      "The command being run is below. This command cannot be manually re-run as it will depend on temporary files that no longer exist.\n",
      "\n",
      "Command:\n",
      "\n",
      "faithpd -i /var/folders/kk/vx23v0b52wv0sx4vqhls42dw0000gn/T/qiime2/Mark/data/b8a2e93b-8294-48eb-b9d0-a4b1e5ab6489/data/feature-table.biom -t /var/folders/kk/vx23v0b52wv0sx4vqhls42dw0000gn/T/qiime2/Mark/data/8ff07e13-3177-4748-b216-aa4b3d591051/data/tree.nwk -o /var/folders/kk/vx23v0b52wv0sx4vqhls42dw0000gn/T/qiime2/Mark/processes/28745-1733069495.838095@Mark/tmp/q2-OutPath-hy08vnbl\n",
      "\n"
     ]
    },
    {
     "name": "stderr",
     "output_type": "stream",
     "text": [
      "/Users/Mark/mambaforge/envs/bombus_toshare/lib/python3.10/site-packages/q2_types/sample_data/_deferred_setup/_transformers.py:28: FutureWarning: errors='ignore' is deprecated and will raise in a future version. Use to_numeric without passing `errors` and catch exceptions explicitly instead\n",
      "  df[cols] = df[cols].apply(pd.to_numeric, errors='ignore')\n",
      "/Users/Mark/mambaforge/envs/bombus_toshare/lib/python3.10/site-packages/q2_types/sample_data/_deferred_setup/_transformers.py:28: FutureWarning: errors='ignore' is deprecated and will raise in a future version. Use to_numeric without passing `errors` and catch exceptions explicitly instead\n",
      "  df[cols] = df[cols].apply(pd.to_numeric, errors='ignore')\n",
      "/Users/Mark/mambaforge/envs/bombus_toshare/lib/python3.10/site-packages/q2_types/sample_data/_deferred_setup/_transformers.py:28: FutureWarning: errors='ignore' is deprecated and will raise in a future version. Use to_numeric without passing `errors` and catch exceptions explicitly instead\n",
      "  df[cols] = df[cols].apply(pd.to_numeric, errors='ignore')\n"
     ]
    },
    {
     "name": "stdout",
     "output_type": "stream",
     "text": [
      "Running external command line application. This may print messages to stdout and/or stderr.\n",
      "The command being run is below. This command cannot be manually re-run as it will depend on temporary files that no longer exist.\n",
      "\n",
      "Command:\n",
      "\n",
      "faithpd -i /var/folders/kk/vx23v0b52wv0sx4vqhls42dw0000gn/T/qiime2/Mark/data/bed5aabf-10c3-4547-b2ca-f75a2ce0b275/data/feature-table.biom -t /var/folders/kk/vx23v0b52wv0sx4vqhls42dw0000gn/T/qiime2/Mark/data/8ff07e13-3177-4748-b216-aa4b3d591051/data/tree.nwk -o /var/folders/kk/vx23v0b52wv0sx4vqhls42dw0000gn/T/qiime2/Mark/processes/28745-1733069495.838095@Mark/tmp/q2-OutPath-xs3e329h\n",
      "\n"
     ]
    },
    {
     "name": "stderr",
     "output_type": "stream",
     "text": [
      "/Users/Mark/mambaforge/envs/bombus_toshare/lib/python3.10/site-packages/q2_types/sample_data/_deferred_setup/_transformers.py:28: FutureWarning: errors='ignore' is deprecated and will raise in a future version. Use to_numeric without passing `errors` and catch exceptions explicitly instead\n",
      "  df[cols] = df[cols].apply(pd.to_numeric, errors='ignore')\n",
      "/Users/Mark/mambaforge/envs/bombus_toshare/lib/python3.10/site-packages/q2_types/sample_data/_deferred_setup/_transformers.py:28: FutureWarning: errors='ignore' is deprecated and will raise in a future version. Use to_numeric without passing `errors` and catch exceptions explicitly instead\n",
      "  df[cols] = df[cols].apply(pd.to_numeric, errors='ignore')\n",
      "/Users/Mark/mambaforge/envs/bombus_toshare/lib/python3.10/site-packages/q2_types/sample_data/_deferred_setup/_transformers.py:28: FutureWarning: errors='ignore' is deprecated and will raise in a future version. Use to_numeric without passing `errors` and catch exceptions explicitly instead\n",
      "  df[cols] = df[cols].apply(pd.to_numeric, errors='ignore')\n",
      "/Users/Mark/mambaforge/envs/bombus_toshare/lib/python3.10/site-packages/q2_diversity/_alpha/_visualizer.py:260: FutureWarning: The previous implementation of stack is deprecated and will be removed in a future version of pandas. See the What's New notes for pandas 2.1.0 for details. Specify future_stack=True to adopt the new implementation and silence this warning.\n",
      "  summary_df = data.stack(level=0)\n",
      "/Users/Mark/mambaforge/envs/bombus_toshare/lib/python3.10/site-packages/q2_diversity/_alpha/_visualizer.py:265: FutureWarning: The previous implementation of stack is deprecated and will be removed in a future version of pandas. See the What's New notes for pandas 2.1.0 for details. Specify future_stack=True to adopt the new implementation and silence this warning.\n",
      "  stacked_counts = counts.stack(level=0)\n",
      "/Users/Mark/mambaforge/envs/bombus_toshare/lib/python3.10/site-packages/q2_diversity/_alpha/_visualizer.py:260: FutureWarning: The previous implementation of stack is deprecated and will be removed in a future version of pandas. See the What's New notes for pandas 2.1.0 for details. Specify future_stack=True to adopt the new implementation and silence this warning.\n",
      "  summary_df = data.stack(level=0)\n",
      "/Users/Mark/mambaforge/envs/bombus_toshare/lib/python3.10/site-packages/q2_diversity/_alpha/_visualizer.py:265: FutureWarning: The previous implementation of stack is deprecated and will be removed in a future version of pandas. See the What's New notes for pandas 2.1.0 for details. Specify future_stack=True to adopt the new implementation and silence this warning.\n",
      "  stacked_counts = counts.stack(level=0)\n",
      "/Users/Mark/mambaforge/envs/bombus_toshare/lib/python3.10/site-packages/q2_diversity/_alpha/_visualizer.py:260: FutureWarning: The previous implementation of stack is deprecated and will be removed in a future version of pandas. See the What's New notes for pandas 2.1.0 for details. Specify future_stack=True to adopt the new implementation and silence this warning.\n",
      "  summary_df = data.stack(level=0)\n",
      "/Users/Mark/mambaforge/envs/bombus_toshare/lib/python3.10/site-packages/q2_diversity/_alpha/_visualizer.py:265: FutureWarning: The previous implementation of stack is deprecated and will be removed in a future version of pandas. See the What's New notes for pandas 2.1.0 for details. Specify future_stack=True to adopt the new implementation and silence this warning.\n",
      "  stacked_counts = counts.stack(level=0)\n",
      "/Users/Mark/mambaforge/envs/bombus_toshare/lib/python3.10/site-packages/q2_diversity/_alpha/_visualizer.py:260: FutureWarning: The previous implementation of stack is deprecated and will be removed in a future version of pandas. See the What's New notes for pandas 2.1.0 for details. Specify future_stack=True to adopt the new implementation and silence this warning.\n",
      "  summary_df = data.stack(level=0)\n",
      "/Users/Mark/mambaforge/envs/bombus_toshare/lib/python3.10/site-packages/q2_diversity/_alpha/_visualizer.py:265: FutureWarning: The previous implementation of stack is deprecated and will be removed in a future version of pandas. See the What's New notes for pandas 2.1.0 for details. Specify future_stack=True to adopt the new implementation and silence this warning.\n",
      "  stacked_counts = counts.stack(level=0)\n",
      "/Users/Mark/mambaforge/envs/bombus_toshare/lib/python3.10/site-packages/q2_diversity/_alpha/_visualizer.py:260: FutureWarning: The previous implementation of stack is deprecated and will be removed in a future version of pandas. See the What's New notes for pandas 2.1.0 for details. Specify future_stack=True to adopt the new implementation and silence this warning.\n",
      "  summary_df = data.stack(level=0)\n",
      "/Users/Mark/mambaforge/envs/bombus_toshare/lib/python3.10/site-packages/q2_diversity/_alpha/_visualizer.py:265: FutureWarning: The previous implementation of stack is deprecated and will be removed in a future version of pandas. See the What's New notes for pandas 2.1.0 for details. Specify future_stack=True to adopt the new implementation and silence this warning.\n",
      "  stacked_counts = counts.stack(level=0)\n",
      "/Users/Mark/mambaforge/envs/bombus_toshare/lib/python3.10/site-packages/q2_diversity/_alpha/_visualizer.py:260: FutureWarning: The previous implementation of stack is deprecated and will be removed in a future version of pandas. See the What's New notes for pandas 2.1.0 for details. Specify future_stack=True to adopt the new implementation and silence this warning.\n",
      "  summary_df = data.stack(level=0)\n",
      "/Users/Mark/mambaforge/envs/bombus_toshare/lib/python3.10/site-packages/q2_diversity/_alpha/_visualizer.py:265: FutureWarning: The previous implementation of stack is deprecated and will be removed in a future version of pandas. See the What's New notes for pandas 2.1.0 for details. Specify future_stack=True to adopt the new implementation and silence this warning.\n",
      "  stacked_counts = counts.stack(level=0)\n",
      "/Users/Mark/mambaforge/envs/bombus_toshare/lib/python3.10/site-packages/q2_diversity/_alpha/_visualizer.py:260: FutureWarning: The previous implementation of stack is deprecated and will be removed in a future version of pandas. See the What's New notes for pandas 2.1.0 for details. Specify future_stack=True to adopt the new implementation and silence this warning.\n",
      "  summary_df = data.stack(level=0)\n",
      "/Users/Mark/mambaforge/envs/bombus_toshare/lib/python3.10/site-packages/q2_diversity/_alpha/_visualizer.py:265: FutureWarning: The previous implementation of stack is deprecated and will be removed in a future version of pandas. See the What's New notes for pandas 2.1.0 for details. Specify future_stack=True to adopt the new implementation and silence this warning.\n",
      "  stacked_counts = counts.stack(level=0)\n",
      "/Users/Mark/mambaforge/envs/bombus_toshare/lib/python3.10/site-packages/q2_diversity/_alpha/_visualizer.py:260: FutureWarning: The previous implementation of stack is deprecated and will be removed in a future version of pandas. See the What's New notes for pandas 2.1.0 for details. Specify future_stack=True to adopt the new implementation and silence this warning.\n",
      "  summary_df = data.stack(level=0)\n",
      "/Users/Mark/mambaforge/envs/bombus_toshare/lib/python3.10/site-packages/q2_diversity/_alpha/_visualizer.py:265: FutureWarning: The previous implementation of stack is deprecated and will be removed in a future version of pandas. See the What's New notes for pandas 2.1.0 for details. Specify future_stack=True to adopt the new implementation and silence this warning.\n",
      "  stacked_counts = counts.stack(level=0)\n",
      "/Users/Mark/mambaforge/envs/bombus_toshare/lib/python3.10/site-packages/q2_diversity/_alpha/_visualizer.py:260: FutureWarning: The previous implementation of stack is deprecated and will be removed in a future version of pandas. See the What's New notes for pandas 2.1.0 for details. Specify future_stack=True to adopt the new implementation and silence this warning.\n",
      "  summary_df = data.stack(level=0)\n",
      "/Users/Mark/mambaforge/envs/bombus_toshare/lib/python3.10/site-packages/q2_diversity/_alpha/_visualizer.py:265: FutureWarning: The previous implementation of stack is deprecated and will be removed in a future version of pandas. See the What's New notes for pandas 2.1.0 for details. Specify future_stack=True to adopt the new implementation and silence this warning.\n",
      "  stacked_counts = counts.stack(level=0)\n",
      "/Users/Mark/mambaforge/envs/bombus_toshare/lib/python3.10/site-packages/q2_diversity/_alpha/_visualizer.py:260: FutureWarning: The previous implementation of stack is deprecated and will be removed in a future version of pandas. See the What's New notes for pandas 2.1.0 for details. Specify future_stack=True to adopt the new implementation and silence this warning.\n",
      "  summary_df = data.stack(level=0)\n",
      "/Users/Mark/mambaforge/envs/bombus_toshare/lib/python3.10/site-packages/q2_diversity/_alpha/_visualizer.py:265: FutureWarning: The previous implementation of stack is deprecated and will be removed in a future version of pandas. See the What's New notes for pandas 2.1.0 for details. Specify future_stack=True to adopt the new implementation and silence this warning.\n",
      "  stacked_counts = counts.stack(level=0)\n",
      "/Users/Mark/mambaforge/envs/bombus_toshare/lib/python3.10/site-packages/q2_diversity/_alpha/_visualizer.py:260: FutureWarning: The previous implementation of stack is deprecated and will be removed in a future version of pandas. See the What's New notes for pandas 2.1.0 for details. Specify future_stack=True to adopt the new implementation and silence this warning.\n",
      "  summary_df = data.stack(level=0)\n",
      "/Users/Mark/mambaforge/envs/bombus_toshare/lib/python3.10/site-packages/q2_diversity/_alpha/_visualizer.py:265: FutureWarning: The previous implementation of stack is deprecated and will be removed in a future version of pandas. See the What's New notes for pandas 2.1.0 for details. Specify future_stack=True to adopt the new implementation and silence this warning.\n",
      "  stacked_counts = counts.stack(level=0)\n",
      "/Users/Mark/mambaforge/envs/bombus_toshare/lib/python3.10/site-packages/q2_diversity/_alpha/_visualizer.py:260: FutureWarning: The previous implementation of stack is deprecated and will be removed in a future version of pandas. See the What's New notes for pandas 2.1.0 for details. Specify future_stack=True to adopt the new implementation and silence this warning.\n",
      "  summary_df = data.stack(level=0)\n",
      "/Users/Mark/mambaforge/envs/bombus_toshare/lib/python3.10/site-packages/q2_diversity/_alpha/_visualizer.py:265: FutureWarning: The previous implementation of stack is deprecated and will be removed in a future version of pandas. See the What's New notes for pandas 2.1.0 for details. Specify future_stack=True to adopt the new implementation and silence this warning.\n",
      "  stacked_counts = counts.stack(level=0)\n",
      "/Users/Mark/mambaforge/envs/bombus_toshare/lib/python3.10/site-packages/q2_diversity/_alpha/_visualizer.py:260: FutureWarning: The previous implementation of stack is deprecated and will be removed in a future version of pandas. See the What's New notes for pandas 2.1.0 for details. Specify future_stack=True to adopt the new implementation and silence this warning.\n",
      "  summary_df = data.stack(level=0)\n",
      "/Users/Mark/mambaforge/envs/bombus_toshare/lib/python3.10/site-packages/q2_diversity/_alpha/_visualizer.py:265: FutureWarning: The previous implementation of stack is deprecated and will be removed in a future version of pandas. See the What's New notes for pandas 2.1.0 for details. Specify future_stack=True to adopt the new implementation and silence this warning.\n",
      "  stacked_counts = counts.stack(level=0)\n",
      "/Users/Mark/mambaforge/envs/bombus_toshare/lib/python3.10/site-packages/q2_diversity/_alpha/_visualizer.py:260: FutureWarning: The previous implementation of stack is deprecated and will be removed in a future version of pandas. See the What's New notes for pandas 2.1.0 for details. Specify future_stack=True to adopt the new implementation and silence this warning.\n",
      "  summary_df = data.stack(level=0)\n",
      "/Users/Mark/mambaforge/envs/bombus_toshare/lib/python3.10/site-packages/q2_diversity/_alpha/_visualizer.py:265: FutureWarning: The previous implementation of stack is deprecated and will be removed in a future version of pandas. See the What's New notes for pandas 2.1.0 for details. Specify future_stack=True to adopt the new implementation and silence this warning.\n",
      "  stacked_counts = counts.stack(level=0)\n",
      "/Users/Mark/mambaforge/envs/bombus_toshare/lib/python3.10/site-packages/q2_diversity/_alpha/_visualizer.py:260: FutureWarning: The previous implementation of stack is deprecated and will be removed in a future version of pandas. See the What's New notes for pandas 2.1.0 for details. Specify future_stack=True to adopt the new implementation and silence this warning.\n",
      "  summary_df = data.stack(level=0)\n",
      "/Users/Mark/mambaforge/envs/bombus_toshare/lib/python3.10/site-packages/q2_diversity/_alpha/_visualizer.py:265: FutureWarning: The previous implementation of stack is deprecated and will be removed in a future version of pandas. See the What's New notes for pandas 2.1.0 for details. Specify future_stack=True to adopt the new implementation and silence this warning.\n",
      "  stacked_counts = counts.stack(level=0)\n",
      "/Users/Mark/mambaforge/envs/bombus_toshare/lib/python3.10/site-packages/q2_diversity/_alpha/_visualizer.py:260: FutureWarning: The previous implementation of stack is deprecated and will be removed in a future version of pandas. See the What's New notes for pandas 2.1.0 for details. Specify future_stack=True to adopt the new implementation and silence this warning.\n",
      "  summary_df = data.stack(level=0)\n",
      "/Users/Mark/mambaforge/envs/bombus_toshare/lib/python3.10/site-packages/q2_diversity/_alpha/_visualizer.py:265: FutureWarning: The previous implementation of stack is deprecated and will be removed in a future version of pandas. See the What's New notes for pandas 2.1.0 for details. Specify future_stack=True to adopt the new implementation and silence this warning.\n",
      "  stacked_counts = counts.stack(level=0)\n",
      "/Users/Mark/mambaforge/envs/bombus_toshare/lib/python3.10/site-packages/q2_diversity/_alpha/_visualizer.py:260: FutureWarning: The previous implementation of stack is deprecated and will be removed in a future version of pandas. See the What's New notes for pandas 2.1.0 for details. Specify future_stack=True to adopt the new implementation and silence this warning.\n",
      "  summary_df = data.stack(level=0)\n",
      "/Users/Mark/mambaforge/envs/bombus_toshare/lib/python3.10/site-packages/q2_diversity/_alpha/_visualizer.py:265: FutureWarning: The previous implementation of stack is deprecated and will be removed in a future version of pandas. See the What's New notes for pandas 2.1.0 for details. Specify future_stack=True to adopt the new implementation and silence this warning.\n",
      "  stacked_counts = counts.stack(level=0)\n",
      "/Users/Mark/mambaforge/envs/bombus_toshare/lib/python3.10/site-packages/q2_diversity/_alpha/_visualizer.py:260: FutureWarning: The previous implementation of stack is deprecated and will be removed in a future version of pandas. See the What's New notes for pandas 2.1.0 for details. Specify future_stack=True to adopt the new implementation and silence this warning.\n",
      "  summary_df = data.stack(level=0)\n",
      "/Users/Mark/mambaforge/envs/bombus_toshare/lib/python3.10/site-packages/q2_diversity/_alpha/_visualizer.py:265: FutureWarning: The previous implementation of stack is deprecated and will be removed in a future version of pandas. See the What's New notes for pandas 2.1.0 for details. Specify future_stack=True to adopt the new implementation and silence this warning.\n",
      "  stacked_counts = counts.stack(level=0)\n",
      "/Users/Mark/mambaforge/envs/bombus_toshare/lib/python3.10/site-packages/q2_diversity/_alpha/_visualizer.py:260: FutureWarning: The previous implementation of stack is deprecated and will be removed in a future version of pandas. See the What's New notes for pandas 2.1.0 for details. Specify future_stack=True to adopt the new implementation and silence this warning.\n",
      "  summary_df = data.stack(level=0)\n",
      "/Users/Mark/mambaforge/envs/bombus_toshare/lib/python3.10/site-packages/q2_diversity/_alpha/_visualizer.py:265: FutureWarning: The previous implementation of stack is deprecated and will be removed in a future version of pandas. See the What's New notes for pandas 2.1.0 for details. Specify future_stack=True to adopt the new implementation and silence this warning.\n",
      "  stacked_counts = counts.stack(level=0)\n",
      "/Users/Mark/mambaforge/envs/bombus_toshare/lib/python3.10/site-packages/q2_diversity/_alpha/_visualizer.py:260: FutureWarning: The previous implementation of stack is deprecated and will be removed in a future version of pandas. See the What's New notes for pandas 2.1.0 for details. Specify future_stack=True to adopt the new implementation and silence this warning.\n",
      "  summary_df = data.stack(level=0)\n",
      "/Users/Mark/mambaforge/envs/bombus_toshare/lib/python3.10/site-packages/q2_diversity/_alpha/_visualizer.py:265: FutureWarning: The previous implementation of stack is deprecated and will be removed in a future version of pandas. See the What's New notes for pandas 2.1.0 for details. Specify future_stack=True to adopt the new implementation and silence this warning.\n",
      "  stacked_counts = counts.stack(level=0)\n",
      "/Users/Mark/mambaforge/envs/bombus_toshare/lib/python3.10/site-packages/q2_diversity/_alpha/_visualizer.py:260: FutureWarning: The previous implementation of stack is deprecated and will be removed in a future version of pandas. See the What's New notes for pandas 2.1.0 for details. Specify future_stack=True to adopt the new implementation and silence this warning.\n",
      "  summary_df = data.stack(level=0)\n",
      "/Users/Mark/mambaforge/envs/bombus_toshare/lib/python3.10/site-packages/q2_diversity/_alpha/_visualizer.py:265: FutureWarning: The previous implementation of stack is deprecated and will be removed in a future version of pandas. See the What's New notes for pandas 2.1.0 for details. Specify future_stack=True to adopt the new implementation and silence this warning.\n",
      "  stacked_counts = counts.stack(level=0)\n",
      "/Users/Mark/mambaforge/envs/bombus_toshare/lib/python3.10/site-packages/q2_diversity/_alpha/_visualizer.py:260: FutureWarning: The previous implementation of stack is deprecated and will be removed in a future version of pandas. See the What's New notes for pandas 2.1.0 for details. Specify future_stack=True to adopt the new implementation and silence this warning.\n",
      "  summary_df = data.stack(level=0)\n",
      "/Users/Mark/mambaforge/envs/bombus_toshare/lib/python3.10/site-packages/q2_diversity/_alpha/_visualizer.py:265: FutureWarning: The previous implementation of stack is deprecated and will be removed in a future version of pandas. See the What's New notes for pandas 2.1.0 for details. Specify future_stack=True to adopt the new implementation and silence this warning.\n",
      "  stacked_counts = counts.stack(level=0)\n",
      "/Users/Mark/mambaforge/envs/bombus_toshare/lib/python3.10/site-packages/q2_diversity/_alpha/_visualizer.py:260: FutureWarning: The previous implementation of stack is deprecated and will be removed in a future version of pandas. See the What's New notes for pandas 2.1.0 for details. Specify future_stack=True to adopt the new implementation and silence this warning.\n",
      "  summary_df = data.stack(level=0)\n",
      "/Users/Mark/mambaforge/envs/bombus_toshare/lib/python3.10/site-packages/q2_diversity/_alpha/_visualizer.py:265: FutureWarning: The previous implementation of stack is deprecated and will be removed in a future version of pandas. See the What's New notes for pandas 2.1.0 for details. Specify future_stack=True to adopt the new implementation and silence this warning.\n",
      "  stacked_counts = counts.stack(level=0)\n",
      "/Users/Mark/mambaforge/envs/bombus_toshare/lib/python3.10/site-packages/q2_diversity/_alpha/_visualizer.py:260: FutureWarning: The previous implementation of stack is deprecated and will be removed in a future version of pandas. See the What's New notes for pandas 2.1.0 for details. Specify future_stack=True to adopt the new implementation and silence this warning.\n",
      "  summary_df = data.stack(level=0)\n",
      "/Users/Mark/mambaforge/envs/bombus_toshare/lib/python3.10/site-packages/q2_diversity/_alpha/_visualizer.py:265: FutureWarning: The previous implementation of stack is deprecated and will be removed in a future version of pandas. See the What's New notes for pandas 2.1.0 for details. Specify future_stack=True to adopt the new implementation and silence this warning.\n",
      "  stacked_counts = counts.stack(level=0)\n",
      "/Users/Mark/mambaforge/envs/bombus_toshare/lib/python3.10/site-packages/q2_diversity/_alpha/_visualizer.py:260: FutureWarning: The previous implementation of stack is deprecated and will be removed in a future version of pandas. See the What's New notes for pandas 2.1.0 for details. Specify future_stack=True to adopt the new implementation and silence this warning.\n",
      "  summary_df = data.stack(level=0)\n",
      "/Users/Mark/mambaforge/envs/bombus_toshare/lib/python3.10/site-packages/q2_diversity/_alpha/_visualizer.py:265: FutureWarning: The previous implementation of stack is deprecated and will be removed in a future version of pandas. See the What's New notes for pandas 2.1.0 for details. Specify future_stack=True to adopt the new implementation and silence this warning.\n",
      "  stacked_counts = counts.stack(level=0)\n",
      "/Users/Mark/mambaforge/envs/bombus_toshare/lib/python3.10/site-packages/q2_diversity/_alpha/_visualizer.py:260: FutureWarning: The previous implementation of stack is deprecated and will be removed in a future version of pandas. See the What's New notes for pandas 2.1.0 for details. Specify future_stack=True to adopt the new implementation and silence this warning.\n",
      "  summary_df = data.stack(level=0)\n",
      "/Users/Mark/mambaforge/envs/bombus_toshare/lib/python3.10/site-packages/q2_diversity/_alpha/_visualizer.py:265: FutureWarning: The previous implementation of stack is deprecated and will be removed in a future version of pandas. See the What's New notes for pandas 2.1.0 for details. Specify future_stack=True to adopt the new implementation and silence this warning.\n",
      "  stacked_counts = counts.stack(level=0)\n",
      "/Users/Mark/mambaforge/envs/bombus_toshare/lib/python3.10/site-packages/q2_diversity/_alpha/_visualizer.py:260: FutureWarning: The previous implementation of stack is deprecated and will be removed in a future version of pandas. See the What's New notes for pandas 2.1.0 for details. Specify future_stack=True to adopt the new implementation and silence this warning.\n",
      "  summary_df = data.stack(level=0)\n",
      "/Users/Mark/mambaforge/envs/bombus_toshare/lib/python3.10/site-packages/q2_diversity/_alpha/_visualizer.py:265: FutureWarning: The previous implementation of stack is deprecated and will be removed in a future version of pandas. See the What's New notes for pandas 2.1.0 for details. Specify future_stack=True to adopt the new implementation and silence this warning.\n",
      "  stacked_counts = counts.stack(level=0)\n",
      "/Users/Mark/mambaforge/envs/bombus_toshare/lib/python3.10/site-packages/q2_diversity/_alpha/_visualizer.py:260: FutureWarning: The previous implementation of stack is deprecated and will be removed in a future version of pandas. See the What's New notes for pandas 2.1.0 for details. Specify future_stack=True to adopt the new implementation and silence this warning.\n",
      "  summary_df = data.stack(level=0)\n",
      "/Users/Mark/mambaforge/envs/bombus_toshare/lib/python3.10/site-packages/q2_diversity/_alpha/_visualizer.py:265: FutureWarning: The previous implementation of stack is deprecated and will be removed in a future version of pandas. See the What's New notes for pandas 2.1.0 for details. Specify future_stack=True to adopt the new implementation and silence this warning.\n",
      "  stacked_counts = counts.stack(level=0)\n",
      "/Users/Mark/mambaforge/envs/bombus_toshare/lib/python3.10/site-packages/q2_diversity/_alpha/_visualizer.py:260: FutureWarning: The previous implementation of stack is deprecated and will be removed in a future version of pandas. See the What's New notes for pandas 2.1.0 for details. Specify future_stack=True to adopt the new implementation and silence this warning.\n",
      "  summary_df = data.stack(level=0)\n",
      "/Users/Mark/mambaforge/envs/bombus_toshare/lib/python3.10/site-packages/q2_diversity/_alpha/_visualizer.py:265: FutureWarning: The previous implementation of stack is deprecated and will be removed in a future version of pandas. See the What's New notes for pandas 2.1.0 for details. Specify future_stack=True to adopt the new implementation and silence this warning.\n",
      "  stacked_counts = counts.stack(level=0)\n",
      "/Users/Mark/mambaforge/envs/bombus_toshare/lib/python3.10/site-packages/q2_diversity/_alpha/_visualizer.py:260: FutureWarning: The previous implementation of stack is deprecated and will be removed in a future version of pandas. See the What's New notes for pandas 2.1.0 for details. Specify future_stack=True to adopt the new implementation and silence this warning.\n",
      "  summary_df = data.stack(level=0)\n",
      "/Users/Mark/mambaforge/envs/bombus_toshare/lib/python3.10/site-packages/q2_diversity/_alpha/_visualizer.py:265: FutureWarning: The previous implementation of stack is deprecated and will be removed in a future version of pandas. See the What's New notes for pandas 2.1.0 for details. Specify future_stack=True to adopt the new implementation and silence this warning.\n",
      "  stacked_counts = counts.stack(level=0)\n",
      "/Users/Mark/mambaforge/envs/bombus_toshare/lib/python3.10/site-packages/q2_diversity/_alpha/_visualizer.py:260: FutureWarning: The previous implementation of stack is deprecated and will be removed in a future version of pandas. See the What's New notes for pandas 2.1.0 for details. Specify future_stack=True to adopt the new implementation and silence this warning.\n",
      "  summary_df = data.stack(level=0)\n",
      "/Users/Mark/mambaforge/envs/bombus_toshare/lib/python3.10/site-packages/q2_diversity/_alpha/_visualizer.py:265: FutureWarning: The previous implementation of stack is deprecated and will be removed in a future version of pandas. See the What's New notes for pandas 2.1.0 for details. Specify future_stack=True to adopt the new implementation and silence this warning.\n",
      "  stacked_counts = counts.stack(level=0)\n",
      "/Users/Mark/mambaforge/envs/bombus_toshare/lib/python3.10/site-packages/q2_diversity/_alpha/_visualizer.py:260: FutureWarning: The previous implementation of stack is deprecated and will be removed in a future version of pandas. See the What's New notes for pandas 2.1.0 for details. Specify future_stack=True to adopt the new implementation and silence this warning.\n",
      "  summary_df = data.stack(level=0)\n",
      "/Users/Mark/mambaforge/envs/bombus_toshare/lib/python3.10/site-packages/q2_diversity/_alpha/_visualizer.py:265: FutureWarning: The previous implementation of stack is deprecated and will be removed in a future version of pandas. See the What's New notes for pandas 2.1.0 for details. Specify future_stack=True to adopt the new implementation and silence this warning.\n",
      "  stacked_counts = counts.stack(level=0)\n",
      "/Users/Mark/mambaforge/envs/bombus_toshare/lib/python3.10/site-packages/q2_diversity/_alpha/_visualizer.py:260: FutureWarning: The previous implementation of stack is deprecated and will be removed in a future version of pandas. See the What's New notes for pandas 2.1.0 for details. Specify future_stack=True to adopt the new implementation and silence this warning.\n",
      "  summary_df = data.stack(level=0)\n",
      "/Users/Mark/mambaforge/envs/bombus_toshare/lib/python3.10/site-packages/q2_diversity/_alpha/_visualizer.py:265: FutureWarning: The previous implementation of stack is deprecated and will be removed in a future version of pandas. See the What's New notes for pandas 2.1.0 for details. Specify future_stack=True to adopt the new implementation and silence this warning.\n",
      "  stacked_counts = counts.stack(level=0)\n",
      "/Users/Mark/mambaforge/envs/bombus_toshare/lib/python3.10/site-packages/q2_diversity/_alpha/_visualizer.py:260: FutureWarning: The previous implementation of stack is deprecated and will be removed in a future version of pandas. See the What's New notes for pandas 2.1.0 for details. Specify future_stack=True to adopt the new implementation and silence this warning.\n",
      "  summary_df = data.stack(level=0)\n",
      "/Users/Mark/mambaforge/envs/bombus_toshare/lib/python3.10/site-packages/q2_diversity/_alpha/_visualizer.py:265: FutureWarning: The previous implementation of stack is deprecated and will be removed in a future version of pandas. See the What's New notes for pandas 2.1.0 for details. Specify future_stack=True to adopt the new implementation and silence this warning.\n",
      "  stacked_counts = counts.stack(level=0)\n",
      "/Users/Mark/mambaforge/envs/bombus_toshare/lib/python3.10/site-packages/q2_diversity/_alpha/_visualizer.py:260: FutureWarning: The previous implementation of stack is deprecated and will be removed in a future version of pandas. See the What's New notes for pandas 2.1.0 for details. Specify future_stack=True to adopt the new implementation and silence this warning.\n",
      "  summary_df = data.stack(level=0)\n",
      "/Users/Mark/mambaforge/envs/bombus_toshare/lib/python3.10/site-packages/q2_diversity/_alpha/_visualizer.py:265: FutureWarning: The previous implementation of stack is deprecated and will be removed in a future version of pandas. See the What's New notes for pandas 2.1.0 for details. Specify future_stack=True to adopt the new implementation and silence this warning.\n",
      "  stacked_counts = counts.stack(level=0)\n",
      "/Users/Mark/mambaforge/envs/bombus_toshare/lib/python3.10/site-packages/q2_diversity/_alpha/_visualizer.py:260: FutureWarning: The previous implementation of stack is deprecated and will be removed in a future version of pandas. See the What's New notes for pandas 2.1.0 for details. Specify future_stack=True to adopt the new implementation and silence this warning.\n",
      "  summary_df = data.stack(level=0)\n",
      "/Users/Mark/mambaforge/envs/bombus_toshare/lib/python3.10/site-packages/q2_diversity/_alpha/_visualizer.py:265: FutureWarning: The previous implementation of stack is deprecated and will be removed in a future version of pandas. See the What's New notes for pandas 2.1.0 for details. Specify future_stack=True to adopt the new implementation and silence this warning.\n",
      "  stacked_counts = counts.stack(level=0)\n",
      "/Users/Mark/mambaforge/envs/bombus_toshare/lib/python3.10/site-packages/q2_diversity/_alpha/_visualizer.py:260: FutureWarning: The previous implementation of stack is deprecated and will be removed in a future version of pandas. See the What's New notes for pandas 2.1.0 for details. Specify future_stack=True to adopt the new implementation and silence this warning.\n",
      "  summary_df = data.stack(level=0)\n",
      "/Users/Mark/mambaforge/envs/bombus_toshare/lib/python3.10/site-packages/q2_diversity/_alpha/_visualizer.py:265: FutureWarning: The previous implementation of stack is deprecated and will be removed in a future version of pandas. See the What's New notes for pandas 2.1.0 for details. Specify future_stack=True to adopt the new implementation and silence this warning.\n",
      "  stacked_counts = counts.stack(level=0)\n",
      "/Users/Mark/mambaforge/envs/bombus_toshare/lib/python3.10/site-packages/q2_diversity/_alpha/_visualizer.py:260: FutureWarning: The previous implementation of stack is deprecated and will be removed in a future version of pandas. See the What's New notes for pandas 2.1.0 for details. Specify future_stack=True to adopt the new implementation and silence this warning.\n",
      "  summary_df = data.stack(level=0)\n",
      "/Users/Mark/mambaforge/envs/bombus_toshare/lib/python3.10/site-packages/q2_diversity/_alpha/_visualizer.py:265: FutureWarning: The previous implementation of stack is deprecated and will be removed in a future version of pandas. See the What's New notes for pandas 2.1.0 for details. Specify future_stack=True to adopt the new implementation and silence this warning.\n",
      "  stacked_counts = counts.stack(level=0)\n",
      "/Users/Mark/mambaforge/envs/bombus_toshare/lib/python3.10/site-packages/q2_diversity/_alpha/_visualizer.py:260: FutureWarning: The previous implementation of stack is deprecated and will be removed in a future version of pandas. See the What's New notes for pandas 2.1.0 for details. Specify future_stack=True to adopt the new implementation and silence this warning.\n",
      "  summary_df = data.stack(level=0)\n",
      "/Users/Mark/mambaforge/envs/bombus_toshare/lib/python3.10/site-packages/q2_diversity/_alpha/_visualizer.py:265: FutureWarning: The previous implementation of stack is deprecated and will be removed in a future version of pandas. See the What's New notes for pandas 2.1.0 for details. Specify future_stack=True to adopt the new implementation and silence this warning.\n",
      "  stacked_counts = counts.stack(level=0)\n",
      "/Users/Mark/mambaforge/envs/bombus_toshare/lib/python3.10/site-packages/q2_diversity/_alpha/_visualizer.py:260: FutureWarning: The previous implementation of stack is deprecated and will be removed in a future version of pandas. See the What's New notes for pandas 2.1.0 for details. Specify future_stack=True to adopt the new implementation and silence this warning.\n",
      "  summary_df = data.stack(level=0)\n",
      "/Users/Mark/mambaforge/envs/bombus_toshare/lib/python3.10/site-packages/q2_diversity/_alpha/_visualizer.py:265: FutureWarning: The previous implementation of stack is deprecated and will be removed in a future version of pandas. See the What's New notes for pandas 2.1.0 for details. Specify future_stack=True to adopt the new implementation and silence this warning.\n",
      "  stacked_counts = counts.stack(level=0)\n",
      "/Users/Mark/mambaforge/envs/bombus_toshare/lib/python3.10/site-packages/q2_diversity/_alpha/_visualizer.py:260: FutureWarning: The previous implementation of stack is deprecated and will be removed in a future version of pandas. See the What's New notes for pandas 2.1.0 for details. Specify future_stack=True to adopt the new implementation and silence this warning.\n",
      "  summary_df = data.stack(level=0)\n",
      "/Users/Mark/mambaforge/envs/bombus_toshare/lib/python3.10/site-packages/q2_diversity/_alpha/_visualizer.py:265: FutureWarning: The previous implementation of stack is deprecated and will be removed in a future version of pandas. See the What's New notes for pandas 2.1.0 for details. Specify future_stack=True to adopt the new implementation and silence this warning.\n",
      "  stacked_counts = counts.stack(level=0)\n",
      "/Users/Mark/mambaforge/envs/bombus_toshare/lib/python3.10/site-packages/q2_diversity/_alpha/_visualizer.py:260: FutureWarning: The previous implementation of stack is deprecated and will be removed in a future version of pandas. See the What's New notes for pandas 2.1.0 for details. Specify future_stack=True to adopt the new implementation and silence this warning.\n",
      "  summary_df = data.stack(level=0)\n",
      "/Users/Mark/mambaforge/envs/bombus_toshare/lib/python3.10/site-packages/q2_diversity/_alpha/_visualizer.py:265: FutureWarning: The previous implementation of stack is deprecated and will be removed in a future version of pandas. See the What's New notes for pandas 2.1.0 for details. Specify future_stack=True to adopt the new implementation and silence this warning.\n",
      "  stacked_counts = counts.stack(level=0)\n"
     ]
    },
    {
     "data": {
      "text/plain": [
       "'../data/qiime/rarefaction.qzv'"
      ]
     },
     "execution_count": 204,
     "metadata": {},
     "output_type": "execute_result"
    }
   ],
   "source": [
    "rarefaction = diversity.actions.alpha_rarefaction(table = mt,\n",
    "                                                 max_depth = 15000,\n",
    "                                                 phylogeny = rooted_tree,\n",
    "                                                 metadata = bombusMeta)\n",
    "rarefaction.visualization.save(os.path.join(datapath, 'qiime/rarefaction.qzv'))\n"
   ]
  },
  {
   "cell_type": "markdown",
   "metadata": {},
   "source": [
    "**4k looks good**\n",
    "- shannon plateaus, total features still increases for a bit, but assuming that theyre fringe otus"
   ]
  },
  {
   "cell_type": "code",
   "execution_count": 225,
   "metadata": {},
   "outputs": [
    {
     "name": "stdout",
     "output_type": "stream",
     "text": [
      "<visualization: Visualization uuid: 10fda7ff-003d-44db-bf3c-13482f546660>\n"
     ]
    }
   ],
   "source": [
    "print(rarefaction.result())"
   ]
  },
  {
   "cell_type": "code",
   "execution_count": 206,
   "metadata": {},
   "outputs": [
    {
     "data": {
      "text/html": [
       "<div><img onload=\"(function(div, url){\n",
       "if (typeof require !== 'undefined') {\n",
       "    var baseURL = require.toUrl('').split('/').slice(0, -2).join('/');\n",
       "} else {\n",
       "    var baseURL = JSON.parse(\n",
       "        document.getElementById('jupyter-config-data').innerHTML\n",
       "    ).baseUrl.slice(0, -1);\n",
       "}\n",
       "url = baseURL + url;\n",
       "fetch(url).then(function(res) {\n",
       "    if (res.status === 404) {\n",
       "        div.innerHTML = 'Install QIIME 2 Jupyter extension with:<br />' +\n",
       "                        '<code>jupyter server extension enable --py qiime2' +\n",
       "                        ' --sys-prefix</code><br />then restart your server.' +\n",
       "                        '<br /><br />(Interactive output not available on ' +\n",
       "                        'static notebook viewer services like nbviewer.)';\n",
       "    } else if (res.status === 409) {\n",
       "        div.innerHTML = 'Visualization no longer in scope. Re-run this cell' +\n",
       "                        ' to see the visualization.';\n",
       "    } else if (res.ok) {\n",
       "        url = res.url;\n",
       "        div.innerHTML = '<iframe src=\\'' + url + '\\' style=\\'' +\n",
       "                        'width: 100%; height: 700px; border: 0;\\'>' +\n",
       "                        '</iframe><hr />Open in a: <a href=\\'' + url + '\\'' +\n",
       "                        ' target=\\'_blank\\'>new window</a>'\n",
       "    } else {\n",
       "        div.innerHTML = 'Something has gone wrong. Check notebook server for' +\n",
       "                        ' errors.';\n",
       "    }\n",
       "});\n",
       "})(this.parentElement, '/qiime2/redirect?location=/var/folders/kk/vx23v0b52wv0sx4vqhls42dw0000gn/T/qiime2/Mark/data/10fda7ff-003d-44db-bf3c-13482f546660')\" src=\"data:image/gif;base64,R0lGODlhAQABAIAAAP///wAAACH5BAEAAAAALAAAAAABAAEAAAICRAEAOw==\" /></div>"
      ],
      "text/plain": [
       "<visualization: Visualization uuid: 10fda7ff-003d-44db-bf3c-13482f546660>"
      ]
     },
     "execution_count": 206,
     "metadata": {},
     "output_type": "execute_result"
    }
   ],
   "source": [
    "rarefaction = Visualization.load(os.path.join(datapath, 'qiime/rarefaction.qzv'))\n",
    "rarefaction"
   ]
  },
  {
   "cell_type": "code",
   "execution_count": 222,
   "metadata": {},
   "outputs": [
    {
     "data": {
      "text/html": [
       "<div><img onload=\"(function(div, url){\n",
       "if (typeof require !== 'undefined') {\n",
       "    var baseURL = require.toUrl('').split('/').slice(0, -2).join('/');\n",
       "} else {\n",
       "    var baseURL = JSON.parse(\n",
       "        document.getElementById('jupyter-config-data').innerHTML\n",
       "    ).baseUrl.slice(0, -1);\n",
       "}\n",
       "url = baseURL + url;\n",
       "fetch(url).then(function(res) {\n",
       "    if (res.status === 404) {\n",
       "        div.innerHTML = 'Install QIIME 2 Jupyter extension with:<br />' +\n",
       "                        '<code>jupyter server extension enable --py qiime2' +\n",
       "                        ' --sys-prefix</code><br />then restart your server.' +\n",
       "                        '<br /><br />(Interactive output not available on ' +\n",
       "                        'static notebook viewer services like nbviewer.)';\n",
       "    } else if (res.status === 409) {\n",
       "        div.innerHTML = 'Visualization no longer in scope. Re-run this cell' +\n",
       "                        ' to see the visualization.';\n",
       "    } else if (res.ok) {\n",
       "        url = res.url;\n",
       "        div.innerHTML = '<iframe src=\\'' + url + '\\' style=\\'' +\n",
       "                        'width: 100%; height: 700px; border: 0;\\'>' +\n",
       "                        '</iframe><hr />Open in a: <a href=\\'' + url + '\\'' +\n",
       "                        ' target=\\'_blank\\'>new window</a>'\n",
       "    } else {\n",
       "        div.innerHTML = 'Something has gone wrong. Check notebook server for' +\n",
       "                        ' errors.';\n",
       "    }\n",
       "});\n",
       "})(this.parentElement, '/qiime2/redirect?location=/var/folders/kk/vx23v0b52wv0sx4vqhls42dw0000gn/T/qiime2/Mark/data/10fda7ff-003d-44db-bf3c-13482f546660')\" src=\"data:image/gif;base64,R0lGODlhAQABAIAAAP///wAAACH5BAEAAAAALAAAAAABAAEAAAICRAEAOw==\" /></div>"
      ],
      "text/plain": [
       "<visualization: Visualization uuid: 10fda7ff-003d-44db-bf3c-13482f546660>"
      ]
     },
     "execution_count": 222,
     "metadata": {},
     "output_type": "execute_result"
    }
   ],
   "source": [
    "rarefaction"
   ]
  },
  {
   "cell_type": "code",
   "execution_count": 231,
   "metadata": {},
   "outputs": [],
   "source": [
    "mt_rare = feature_table.methods.rarefy(table = mt,\n",
    "                                          sampling_depth = 4000)"
   ]
  },
  {
   "cell_type": "code",
   "execution_count": 232,
   "metadata": {},
   "outputs": [
    {
     "data": {
      "text/plain": [
       "(631, 2216)"
      ]
     },
     "execution_count": 232,
     "metadata": {},
     "output_type": "execute_result"
    }
   ],
   "source": [
    "mt_rare.rarefied_table.view(pd.DataFrame).shape"
   ]
  },
  {
   "cell_type": "code",
   "execution_count": 233,
   "metadata": {},
   "outputs": [
    {
     "data": {
      "text/plain": [
       "(638, 3331)"
      ]
     },
     "execution_count": 233,
     "metadata": {},
     "output_type": "execute_result"
    }
   ],
   "source": [
    "mt.view(pd.DataFrame).shape"
   ]
  },
  {
   "cell_type": "code",
   "execution_count": 234,
   "metadata": {},
   "outputs": [
    {
     "data": {
      "text/plain": [
       "'../data/qiime/mt_rare.qza'"
      ]
     },
     "execution_count": 234,
     "metadata": {},
     "output_type": "execute_result"
    }
   ],
   "source": [
    "mt_rare.rarefied_table.save(os.path.join(datapath, 'qiime', 'mt_rare.qza'))"
   ]
  },
  {
   "cell_type": "markdown",
   "metadata": {},
   "source": [
    "## Create level-6 and level-3 taxonomy tables\n",
    "\n",
    "for genus and class-level DA testing later on"
   ]
  },
  {
   "cell_type": "code",
   "execution_count": 447,
   "metadata": {},
   "outputs": [],
   "source": [
    "mt = Artifact.load(os.path.join(datapath, 'qiime', 'mt.qza')).view(pd.DataFrame)\n",
    "ft = pd.read_csv(os.path.join(datapath,\n",
    "                        'table/OTU_table_full.tsv'), sep = '\\t', index_col = 0)"
   ]
  },
  {
   "cell_type": "markdown",
   "metadata": {},
   "source": [
    "Homebrew taxonomy -> homebrew collapse methods"
   ]
  },
  {
   "cell_type": "code",
   "execution_count": 458,
   "metadata": {},
   "outputs": [],
   "source": [
    "def collapse(level):\n",
    "    collapsed = ft.copy()\n",
    "    delim = ';' + str.lower(level[0]) + '__'\n",
    "    collapsed['Taxon'] = collapsed['Taxon'].apply(lambda x: x.split(delim))\n",
    "    ## len == 1: not classified to level\n",
    "    collapsed['Taxon'] = collapsed['Taxon'].apply(lambda x: x[0] if len(x)==1 else \\\n",
    "                                            x[0] + delim + x[1].split(';')[0])\n",
    "    collapsed= collapsed.groupby('Taxon').sum()\n",
    "    return collapsed\n",
    "\n",
    "collapse('Class').to_csv(os.path.join(datapath,\n",
    "                        'table/class_table.tsv'), sep = '\\t')\n",
    "collapse('Genus').to_csv(os.path.join(datapath,\n",
    "                        'table/genus_table.tsv'), sep = '\\t')"
   ]
  },
  {
   "cell_type": "code",
   "execution_count": 452,
   "metadata": {},
   "outputs": [
    {
     "data": {
      "text/plain": [
       "array(['d__Bacteria; p__Firmicutes_A; c__Clostridia_258483; o__Lachnospirales; f__Lachnospiraceae; g__Eubacterium_F; s__Eubacterium_F sp000687695'],\n",
       "      dtype=object)"
      ]
     },
     "execution_count": 452,
     "metadata": {},
     "output_type": "execute_result"
    }
   ],
   "source": [
    "green_taxa[green_taxa['Taxon'].str.contains('g__Eubacterium')]['Taxon'].unique()"
   ]
  },
  {
   "cell_type": "code",
   "execution_count": null,
   "metadata": {},
   "outputs": [],
   "source": []
  },
  {
   "cell_type": "code",
   "execution_count": 451,
   "metadata": {},
   "outputs": [
    {
     "data": {
      "text/plain": [
       "array(['d__Bacteria;p__Bacillota;c__Clostridia;o__Eubacteriales;f__Eubacteriaceae;g__Eubacterium;s__Eubacterium_rectale;'],\n",
       "      dtype=object)"
      ]
     },
     "execution_count": 451,
     "metadata": {},
     "output_type": "execute_result"
    }
   ],
   "source": [
    "taxa_ASV.view(pd.DataFrame)[taxa_ASV.view(pd.DataFrame)['Taxon'\\\n",
    "        ].str.contains('g__Eubacterium')]['Taxon'].unique()"
   ]
  },
  {
   "cell_type": "code",
   "execution_count": 463,
   "metadata": {},
   "outputs": [
    {
     "data": {
      "text/plain": [
       "p__Pseudomonadota       1\n",
       "p__Spirochaetota        1\n",
       "p__Fusobacteriota       1\n",
       "p__Gemmatimonadota      1\n",
       "p__Verrucomicrobiota    1\n",
       "Name: count, dtype: int64"
      ]
     },
     "execution_count": 463,
     "metadata": {},
     "output_type": "execute_result"
    }
   ],
   "source": [
    "allg = collapse('Phylum').index\n",
    "pd.Series(list(map(lambda x: x.split(';')[-1], allg))).value_counts().sort_values()[-5:]"
   ]
  },
  {
   "cell_type": "code",
   "execution_count": 429,
   "metadata": {},
   "outputs": [
    {
     "data": {
      "text/plain": [
       "['d__Bacteria;p__Bdellovibrionota;c__Oligoflexia;o__Bdellovibrionales',\n",
       " 'd__Bacteria;p__Bdellovibrionota;c__Oligoflexia;o__Bdellovibrionales;f__Bdellovibrionaceae;g__Bdellovibrio;s__Bdellovibrio_bacteriovorus']"
      ]
     },
     "execution_count": 429,
     "metadata": {},
     "output_type": "execute_result"
    }
   ],
   "source": [
    "[x for x in collapse('Species').index if 'Bdellovibrionales' in x]"
   ]
  }
 ],
 "metadata": {
  "kernelspec": {
   "display_name": "bombus",
   "language": "python",
   "name": "python3"
  },
  "language_info": {
   "codemirror_mode": {
    "name": "ipython",
    "version": 3
   },
   "file_extension": ".py",
   "mimetype": "text/x-python",
   "name": "python",
   "nbconvert_exporter": "python",
   "pygments_lexer": "ipython3",
   "version": "3.10.14"
  },
  "toc": {
   "base_numbering": 1,
   "nav_menu": {},
   "number_sections": true,
   "sideBar": true,
   "skip_h1_title": false,
   "title_cell": "Table of Contents",
   "title_sidebar": "Contents",
   "toc_cell": true,
   "toc_position": {},
   "toc_section_display": true,
   "toc_window_display": false
  },
  "varInspector": {
   "cols": {
    "lenName": 16,
    "lenType": 16,
    "lenVar": 40
   },
   "kernels_config": {
    "python": {
     "delete_cmd_postfix": "",
     "delete_cmd_prefix": "del ",
     "library": "var_list.py",
     "varRefreshCmd": "print(var_dic_list())"
    },
    "r": {
     "delete_cmd_postfix": ") ",
     "delete_cmd_prefix": "rm(",
     "library": "var_list.r",
     "varRefreshCmd": "cat(var_dic_list()) "
    }
   },
   "types_to_exclude": [
    "module",
    "function",
    "builtin_function_or_method",
    "instance",
    "_Feature"
   ],
   "window_display": false
  }
 },
 "nbformat": 4,
 "nbformat_minor": 4
}
