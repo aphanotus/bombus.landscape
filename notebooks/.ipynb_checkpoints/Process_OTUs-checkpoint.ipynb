{
 "cells": [
  {
   "cell_type": "markdown",
   "metadata": {},
   "source": [
    "**Third notebook in analysis** \n",
    "\n",
    "**Creates OTU feature table**"
   ]
  },
  {
   "cell_type": "code",
   "execution_count": 30,
   "metadata": {},
   "outputs": [],
   "source": [
    "import os\n",
    "from qiime2.plugins import feature_table, taxa,alignment, phylogeny, diversity\n",
    "from qiime2.plugins.vsearch.methods import cluster_features_de_novo\n",
    "from qiime2.plugins.feature_classifier.methods import classify_sklearn\n",
    "from qiime2.plugins.taxa.methods import filter_table\n",
    "from qiime2 import Artifact, Metadata, Visualization\n",
    "import pandas as pd\n",
    "import numpy as np\n",
    "from qiime2.plugins.feature_table.methods import filter_samples\n",
    "from qiime2.plugins.taxa.methods import collapse\n",
    "import seaborn as sns\n",
    "import matplotlib.pyplot as plt\n",
    "%matplotlib inline\n",
    "datapath = '../data'"
   ]
  },
  {
   "cell_type": "markdown",
   "metadata": {},
   "source": [
    "# QIIME Processing"
   ]
  },
  {
   "cell_type": "markdown",
   "metadata": {},
   "source": [
    "The feature table, representative sequences, and taxonomy were all calculated separately on the Colby HPC cluster. \n",
    "\n",
    "1. Read the feature table, metadata, rep seqs and taxonomy\n",
    "\n",
    "2. Filter feature table to exclude things not in the metadata\n",
    "\n",
    "3. Use mafft to align the representative sequences \n",
    "\n",
    "4. Use fasttree to make an unrooted tree from the alignment, then midpoint root it "
   ]
  },
  {
   "cell_type": "code",
   "execution_count": 7,
   "metadata": {},
   "outputs": [],
   "source": [
    "merged_table = Artifact.load(os.path.join(datapath, 'qiime/merged_table.qza'))\n",
    "### fix sample ids\n",
    "mt = merged_table.view(pd.DataFrame)\n",
    "# make qiime compliant\n",
    "mt.index = pd.Series(mt.index).apply(lambda x: str(x).replace(\"-\",\"_\"))\n",
    "# Fix mistakes on 2019 Submission Sheet\n",
    "mt.index = pd.Series(mt.index).apply(lambda x: 'FJ190628_006' if x == 'Fj190628_006' else x )\n",
    "mt.index = pd.Series(mt.index).apply(lambda x: 'FJ190827_005' if x == 'FJ190827_005_P3' else x )\n",
    "mt.index = pd.Series(mt.index).apply(lambda x: 'FJ190827_022' if x == 'FJ190827_005_P4' else x )\n",
    "\n",
    "# get metadata\n",
    "bombusMeta = Metadata.load(os.path.join(datapath, 'BombusMetadata.tsv'))\n",
    "\n",
    "# read in ASVs\n",
    "rep_seqs = Artifact.load(os.path.join(datapath, 'qiime/merged_rep-seqs.qza'))\n"
   ]
  },
  {
   "cell_type": "markdown",
   "metadata": {},
   "source": [
    "## Collapse ASVs into OTU99s"
   ]
  },
  {
   "cell_type": "code",
   "execution_count": 6,
   "metadata": {
    "collapsed": true,
    "jupyter": {
     "outputs_hidden": true
    }
   },
   "outputs": [
    {
     "name": "stdout",
     "output_type": "stream",
     "text": [
      "Running external command line application. This may print messages to stdout and/or stderr.\n",
      "The command being run is below. This command cannot be manually re-run as it will depend on temporary files that no longer exist.\n",
      "\n",
      "Command: vsearch --cluster_size /var/folders/hd/67t7954n4_bd9_fw90jxq_l00000gp/T/tmp36qe95id --id 0.99 --centroids /var/folders/hd/67t7954n4_bd9_fw90jxq_l00000gp/T/q2-DNAFASTAFormat-_tln6cix --uc /var/folders/hd/67t7954n4_bd9_fw90jxq_l00000gp/T/tmph7xnk2mn --qmask none --xsize --threads 0 --minseqlength 1 --fasta_width 0\n",
      "\n"
     ]
    },
    {
     "name": "stderr",
     "output_type": "stream",
     "text": [
      "vsearch v2.22.1_macos_x86_64, 16.0GB RAM, 8 cores\n",
      "https://github.com/torognes/vsearch\n",
      "\n",
      "Reading file /var/folders/hd/67t7954n4_bd9_fw90jxq_l00000gp/T/tmp36qe95id 100%\n",
      "1349183 nt in 3752 seqs, min 241, max 480, avg 360\n",
      "Sorting by abundance 100%\n",
      "Counting k-mers 100%\n",
      "Clustering 100%\n",
      "Sorting clusters 100%\n",
      "Writing clusters 100%\n",
      "Clusters: 2747 Size min 1, max 27, avg 1.4\n",
      "Singletons: 2286, 60.9% of seqs, 83.2% of clusters\n"
     ]
    }
   ],
   "source": [
    "mt_99, rep_seqs_99 = cluster_features_de_novo(sequences = rep_seqs,\n",
    "                                table = Artifact.import_data('FeatureTable[Frequency]', mt),\n",
    "                                perc_identity = .99,threads = 0) "
   ]
  },
  {
   "cell_type": "markdown",
   "metadata": {},
   "source": [
    "**filter samples from metadata** (not everything in the table is a unique sample)"
   ]
  },
  {
   "cell_type": "code",
   "execution_count": 12,
   "metadata": {},
   "outputs": [],
   "source": [
    "mt_99 = feature_table.methods.filter_samples(table = mt_99, metadata = bombusMeta).filtered_table"
   ]
  },
  {
   "cell_type": "markdown",
   "metadata": {},
   "source": [
    "### how much complexity is lost?"
   ]
  },
  {
   "cell_type": "code",
   "execution_count": 14,
   "metadata": {},
   "outputs": [],
   "source": [
    "otutable = mt_99.view(pd.DataFrame)\n",
    "asvtable = mt.loc[otutable.index]\n",
    "asvtable = asvtable[asvtable.sum()[asvtable.sum() >0].index].copy()"
   ]
  },
  {
   "cell_type": "markdown",
   "metadata": {},
   "source": [
    "slightly fewer OTUs per sample "
   ]
  },
  {
   "cell_type": "code",
   "execution_count": 50,
   "metadata": {},
   "outputs": [],
   "source": [
    "sample_diversity = pd.melt(pd.DataFrame({'asv':(asvtable>0).sum(axis=1),\n",
    "              'otu':(otutable >0).sum(axis=1)}),  var_name='feature', value_name='sample_richness')"
   ]
  },
  {
   "cell_type": "code",
   "execution_count": 59,
   "metadata": {},
   "outputs": [
    {
     "data": {
      "text/plain": [
       "feature\n",
       "asv    25.758621\n",
       "otu    21.283699\n",
       "Name: sample_richness, dtype: float64"
      ]
     },
     "execution_count": 59,
     "metadata": {},
     "output_type": "execute_result"
    }
   ],
   "source": [
    "sample_diversity.groupby('feature')['sample_richness'].mean()"
   ]
  },
  {
   "cell_type": "code",
   "execution_count": 55,
   "metadata": {},
   "outputs": [
    {
     "data": {
      "text/plain": [
       "<AxesSubplot: xlabel='sample_richness', ylabel='Count'>"
      ]
     },
     "execution_count": 55,
     "metadata": {},
     "output_type": "execute_result"
    },
    {
     "data": {
      "image/png": "[encoded data removed]",
      "text/plain": [
       "<Figure size 640x480 with 1 Axes>"
      ]
     },
     "metadata": {},
     "output_type": "display_data"
    }
   ],
   "source": [
    "fig, ax = plt.subplots()\n",
    "plt.xscale('log')\n",
    "sns.histplot(data = sample_diversity, x='sample_richness', hue = 'feature')"
   ]
  },
  {
   "cell_type": "markdown",
   "metadata": {},
   "source": [
    "One sample has crazy high OTU diversity! Its also C. bombi positive"
   ]
  },
  {
   "cell_type": "code",
   "execution_count": 49,
   "metadata": {
    "collapsed": true,
    "jupyter": {
     "outputs_hidden": true
    }
   },
   "outputs": [
    {
     "data": {
      "text/plain": [
       "species                                   tern\n",
       "caste                                        W\n",
       "ID_number                         MY180814-014\n",
       "date_of_collection                     8/14/18\n",
       "investigator                                TM\n",
       "collection_site           Allen Island; Garden\n",
       "Region                            Allen Island\n",
       "Latitude                               43.8755\n",
       "Longitude                             -69.3113\n",
       "Forage_Plant                               NaN\n",
       "Temperature                                NaN\n",
       "Wind                                       NaN\n",
       "r.H.                                       NaN\n",
       "H.I.                                       NaN\n",
       "Time_of_Day                                NaN\n",
       "date_of_dissection                     8/16/18\n",
       "date_of_DNA_extraction                10/18/18\n",
       "Concentration                             15.5\n",
       "Purity                                    1.94\n",
       "QPCR_Concentration                        31.3\n",
       "QPCR_Purity                               1.45\n",
       "DNA_Storage                             2018_2\n",
       "QPCR_Order                                89.0\n",
       "Year                                    2018.0\n",
       "CBombiConc                        11892.231857\n",
       "site_collapsed                    Allen_Island\n",
       "site_collapsed_10k                Allen_Island\n",
       "batch_conc                       379731.750838\n",
       "Positive                                   1.0\n",
       "Name: 24, dtype: object"
      ]
     },
     "execution_count": 49,
     "metadata": {},
     "output_type": "execute_result"
    }
   ],
   "source": [
    "bombusMeta.to_dataframe().loc[(asvtable>0).sum(axis=1).sort_values().index[-1]]"
   ]
  },
  {
   "cell_type": "markdown",
   "metadata": {},
   "source": [
    "slightly greater prevalence as well"
   ]
  },
  {
   "cell_type": "code",
   "execution_count": 58,
   "metadata": {},
   "outputs": [
    {
     "data": {
      "text/plain": [
       "feature\n",
       "asv    4.933654\n",
       "otu    5.686348\n",
       "Name: prevalence, dtype: float64"
      ]
     },
     "execution_count": 58,
     "metadata": {},
     "output_type": "execute_result"
    }
   ],
   "source": [
    "feature_prevalence = pd.melt(pd.DataFrame({'asv':(asvtable>0).sum(axis=0),\n",
    "              'otu':(otutable >0).sum(axis=0)}),  var_name='feature', value_name='prevalence')\n",
    "feature_prevalence.groupby('feature')['prevalence'].mean()"
   ]
  },
  {
   "cell_type": "markdown",
   "metadata": {},
   "source": [
    "proportion of weird singletons stayed the same"
   ]
  },
  {
   "cell_type": "code",
   "execution_count": 67,
   "metadata": {},
   "outputs": [
    {
     "name": "stdout",
     "output_type": "stream",
     "text": [
      "asv:  0.763134193935755\n",
      "otu:  0.7634003350083752\n"
     ]
    }
   ],
   "source": [
    "print('asv: ', ((asvtable >0).sum() ==1).sum() / asvtable.shape[1])\n",
    "\n",
    "print('otu: ', ((otutable >0).sum() ==1).sum() / otutable.shape[1])"
   ]
  },
  {
   "cell_type": "markdown",
   "metadata": {},
   "source": [
    "about 1K fewer representative sequences to classify!"
   ]
  },
  {
   "cell_type": "code",
   "execution_count": 69,
   "metadata": {},
   "outputs": [
    {
     "name": "stdout",
     "output_type": "stream",
     "text": [
      "asv:  3331\n",
      "otu:  2388\n"
     ]
    }
   ],
   "source": [
    "print('asv: ', asvtable.shape[1])\n",
    "print('otu: ', otutable.shape[1])"
   ]
  },
  {
   "cell_type": "markdown",
   "metadata": {},
   "source": [
    "## Create a new taxonomy"
   ]
  },
  {
   "cell_type": "markdown",
   "metadata": {},
   "source": [
    "**Note**: we didn't post a copy of the classifier to github. Download one from silva to continue"
   ]
  },
  {
   "cell_type": "code",
   "execution_count": 15,
   "metadata": {},
   "outputs": [],
   "source": [
    "classifier = Artifact.load(os.path.join(datapath, 'qiime/silva-138-99-nb-classifier.qza'))\n",
    "taxa_99 = classify_sklearn(reads = rep_seqs_99, classifier = classifier,  n_jobs = -2, \n",
    "               confidence = 0.7, read_orientation = 'auto').classification"
   ]
  },
  {
   "cell_type": "markdown",
   "metadata": {},
   "source": [
    "### Remove bumblebee sequences from table "
   ]
  },
  {
   "cell_type": "markdown",
   "metadata": {},
   "source": [
    "pull up features classified as insects"
   ]
  },
  {
   "cell_type": "code",
   "execution_count": 45,
   "metadata": {},
   "outputs": [
    {
     "data": {
      "text/html": [
       "<div>\n",
       "<style scoped>\n",
       "    .dataframe tbody tr th:only-of-type {\n",
       "        vertical-align: middle;\n",
       "    }\n",
       "\n",
       "    .dataframe tbody tr th {\n",
       "        vertical-align: top;\n",
       "    }\n",
       "\n",
       "    .dataframe thead th {\n",
       "        text-align: right;\n",
       "    }\n",
       "</style>\n",
       "<table border=\"1\" class=\"dataframe\">\n",
       "  <thead>\n",
       "    <tr style=\"text-align: right;\">\n",
       "      <th></th>\n",
       "      <th>Taxon</th>\n",
       "      <th>Confidence</th>\n",
       "    </tr>\n",
       "    <tr>\n",
       "      <th>Feature ID</th>\n",
       "      <th></th>\n",
       "      <th></th>\n",
       "    </tr>\n",
       "  </thead>\n",
       "  <tbody>\n",
       "    <tr>\n",
       "      <th>adb56f9c8af5f07d15e8a475f2ce03ec</th>\n",
       "      <td>d__Eukaryota; p__Arthropoda; c__Insecta; o__Hy...</td>\n",
       "      <td>0.9705258651997525</td>\n",
       "    </tr>\n",
       "    <tr>\n",
       "      <th>f6c9d40bde4db43a0620dad7bc17c4d3</th>\n",
       "      <td>d__Eukaryota; p__Arthropoda; c__Insecta; o__Hy...</td>\n",
       "      <td>0.9125041159664535</td>\n",
       "    </tr>\n",
       "    <tr>\n",
       "      <th>47b1736403fb15c85e00e56c837c9c8b</th>\n",
       "      <td>d__Eukaryota; p__Arthropoda; c__Insecta; o__Hy...</td>\n",
       "      <td>0.9082495495730497</td>\n",
       "    </tr>\n",
       "    <tr>\n",
       "      <th>1c0daf378005442f7b897b1c8b96d48d</th>\n",
       "      <td>d__Eukaryota; p__Arthropoda; c__Insecta; o__Hy...</td>\n",
       "      <td>0.9987674506937081</td>\n",
       "    </tr>\n",
       "  </tbody>\n",
       "</table>\n",
       "</div>"
      ],
      "text/plain": [
       "                                                                              Taxon  \\\n",
       "Feature ID                                                                            \n",
       "adb56f9c8af5f07d15e8a475f2ce03ec  d__Eukaryota; p__Arthropoda; c__Insecta; o__Hy...   \n",
       "f6c9d40bde4db43a0620dad7bc17c4d3  d__Eukaryota; p__Arthropoda; c__Insecta; o__Hy...   \n",
       "47b1736403fb15c85e00e56c837c9c8b  d__Eukaryota; p__Arthropoda; c__Insecta; o__Hy...   \n",
       "1c0daf378005442f7b897b1c8b96d48d  d__Eukaryota; p__Arthropoda; c__Insecta; o__Hy...   \n",
       "\n",
       "                                          Confidence  \n",
       "Feature ID                                            \n",
       "adb56f9c8af5f07d15e8a475f2ce03ec  0.9705258651997525  \n",
       "f6c9d40bde4db43a0620dad7bc17c4d3  0.9125041159664535  \n",
       "47b1736403fb15c85e00e56c837c9c8b  0.9082495495730497  \n",
       "1c0daf378005442f7b897b1c8b96d48d  0.9987674506937081  "
      ]
     },
     "execution_count": 45,
     "metadata": {},
     "output_type": "execute_result"
    }
   ],
   "source": [
    "taxa_99.view(pd.DataFrame)[taxa_99.view(pd.DataFrame)['Taxon'].str.contains('Insec')]"
   ]
  },
  {
   "cell_type": "markdown",
   "metadata": {},
   "source": [
    "Grab the representative sequences"
   ]
  },
  {
   "cell_type": "code",
   "execution_count": 46,
   "metadata": {},
   "outputs": [],
   "source": [
    "bombus_seqs = pd.DataFrame(rep_seqs_99.view(pd.Series)).join(taxa_99.view(pd.DataFrame\\\n",
    "        )[taxa_99.view(pd.DataFrame)['Taxon'].str.contains('Insec')])\n",
    "bombus_seqs = bombus_seqs.dropna().copy()\n",
    "bombus_seqs[0] = bombus_seqs[0].apply(str)"
   ]
  },
  {
   "cell_type": "markdown",
   "metadata": {},
   "source": [
    "**I used the blastn web app to verify these sequences as matching bombus**\n",
    "- You can find the app here: https://blast.ncbi.nlm.nih.gov/Blast.cgi?PROGRAM=blastn&BLAST_SPEC=GeoBlast&PAGE_TYPE=BlastSearch\n",
    "- I used the standard nr database, as well as a version of the database excluding Bombus. All four still hit bee references after the Bombus references were removed. I ran the second round of alignments to control for chimeric host:microbe assemblies. "
   ]
  },
  {
   "cell_type": "markdown",
   "metadata": {},
   "source": [
    "Perfect match to multiple bombus"
   ]
  },
  {
   "cell_type": "code",
   "execution_count": 38,
   "metadata": {},
   "outputs": [
    {
     "data": {
      "text/plain": [
       "'GGATTGACAGATTGATAGCTCTTTCTTGATTCGGTGGGTGGTGGTGCATGGCCGTTCTTAGTTGGTGGAGCGATTTGTCTGGTTAATTCCGATAACGAACGAGACTCTAGCCTGCTAAATAGACGTAACTTATGGTATCTCGAAGGCCCCCGGCTTCGGTCGGTGGGTTTTTACTACCAACGTACAAACAAATCTTCTTAGAGGAACAGGCGGCTTCTAGCCGCACGAGATTGAGCAATAACAGGTCTGTGATGCCCTTAGATGTTCTGGGCCGCACGCGCGCTACACTGAAGGAATCAGCGTGTTTTCCCTGGCCGAAAGGCCCGGGTAACCCGCTGAACCTCCTTCGTGCTAGGGATTGGGGCTTGCAATTATTCCCCATGAACGAGGAATTCCCAGTAAGCGCGAGTCATAAGCTCGCGTT'"
      ]
     },
     "execution_count": 38,
     "metadata": {},
     "output_type": "execute_result"
    }
   ],
   "source": [
    "bombus_seqs.loc['adb56f9c8af5f07d15e8a475f2ce03ec', 0]"
   ]
  },
  {
   "cell_type": "markdown",
   "metadata": {},
   "source": [
    "Multiple bombus as well"
   ]
  },
  {
   "cell_type": "code",
   "execution_count": 42,
   "metadata": {},
   "outputs": [
    {
     "data": {
      "text/plain": [
       "'AGTTGTTGCGGTTAAAAAGCTCGTAGTTGAATCTGTGTGTCACAGTGTCGGTTCACCGCTCGCGGTGTTTAACTGGCATTATGTGGTACGTCCTATCGGTGGGCTTAGCTCCTCGCGGGCGGTCCAACTAATATCCCATCGCGGTGCTCTTCACTGAGTGTCGAGGTGGGCCGATACGTTTACTTTGAACAAATTAGAGTGCTTAAAGCAGGCTACCTTCGCCTGAATACTGTGTGCATGGAATAATGGAATAGGACCTCGGTTCTATTTTGTTGGTTTTCGGAGCCCCGAGGTAATGATTAATAGGGACAGATGGGGGCATTCGTATTGCGACGTTAGAGGTGAAATTCTTGGATCGTCGCAAGACGGACAGAAGCGAAAGCATTTGCCAAAAATGTTTTCATTAATCAAGAAC'"
      ]
     },
     "execution_count": 42,
     "metadata": {},
     "output_type": "execute_result"
    }
   ],
   "source": [
    "bombus_seqs.iloc[1][0]"
   ]
  },
  {
   "cell_type": "markdown",
   "metadata": {},
   "source": [
    "Perfect match for the ground bee, Andrena sp., 99% PI for bombus. "
   ]
  },
  {
   "cell_type": "code",
   "execution_count": 48,
   "metadata": {},
   "outputs": [
    {
     "data": {
      "text/plain": [
       "'GGATTGACAGATTTATAGCTCTTTCTTGATTCGGTGGGTGGTGGTGCATGGCCGTTCTTAGTTGGTGGAGCGATTTGTCTGGTTAATTCCGATAACGAACGAGACTCTAGCCTGCTAAATAGACGTAACTTATGGTATCACGAAGGTCCCCGACTTCGGTCGGTGGGTTTTTACTACCAACGTACAAACAAATCTTCTTAGAGGGACAGGCGGCTTCTAGCCGCACGAGATTGAGCAATAACAGGTCTGTGATGCCCTTAGATGTTCTGGGCCGCACGCGCGCTACACTGAAGGAATCAGCGTGTTTTCCCTGGCCGAAAGGCCCGGGTAACCCGCTGAACCTCCTTCGTGCTAGGGATTGGGGCTTGCAATTATTCCCCATGAACGAGGAATTCCCAGTAAGCGCGAGTCATAAGCTCGCGTT'"
      ]
     },
     "execution_count": 48,
     "metadata": {},
     "output_type": "execute_result"
    }
   ],
   "source": [
    "bombus_seqs.iloc[2][0]"
   ]
  },
  {
   "cell_type": "markdown",
   "metadata": {},
   "source": [
    "Perfect match to Mason bees (Osmia sp.), 97% PI for bombus. "
   ]
  },
  {
   "cell_type": "code",
   "execution_count": 45,
   "metadata": {},
   "outputs": [
    {
     "data": {
      "text/plain": [
       "'GGATTGACAGATTGATAGCTCTTTCTTGATTCGGTGGGTGGTGGTGCATGGCCGTTCTTAGTTGGTGGAGCGATTTGTCTGGTTAATTCCGATAACGAACGAGACTCTAGCCTGTTAAATAGACGTAAATTATGGTATCTCGAAGGCCCCCGACTTCGGTCGGTGTGGTTTTTACTACCAACGTACAAACAAATCTTCTTAGAGGGACAAGCGGCTTCTAGTCGCACGAGATTGAGCAATAACAGGTCTGTGATGCCCTTAGATGTTCTGGGCCGCACGCGCGCTACACTGAAGGAATCAACGTGTTTTCCCTGGCCGAAAGGTCCGGGTAACCCGCTGAAACTCCTTCGTGCTAGGGATTGGGGCTTGAAATTATTCCCCATGAACGAGGAATTCCCAGTAAACGCGAGTCATAAGCTCGCGTT'"
      ]
     },
     "execution_count": 45,
     "metadata": {},
     "output_type": "execute_result"
    }
   ],
   "source": [
    "bombus_seqs.iloc[3][0]"
   ]
  },
  {
   "cell_type": "markdown",
   "metadata": {},
   "source": [
    "**There are a few other OTUs classified as Eukaryotic (mostly fungus and plants). Since they're so low abundant, I'm choosing to keep them** "
   ]
  },
  {
   "cell_type": "code",
   "execution_count": 49,
   "metadata": {},
   "outputs": [
    {
     "name": "stdout",
     "output_type": "stream",
     "text": [
      "mean:  0.02205304345292302\n",
      "max:  1.1681608258625373\n"
     ]
    }
   ],
   "source": [
    "euk_inds= taxa_99.view(pd.DataFrame)[taxa_99.view(pd.DataFrame)['Taxon'].str.contains('Euk') & \\\n",
    "    (~taxa_99.view(pd.DataFrame)['Taxon'].str.contains('Ins'))].index\n",
    "\n",
    "print('mean: ', (mt_99.view(pd.DataFrame)[list(set(euk_inds).intersection(set(mt_99.view(pd.DataFrame).columns)))\\\n",
    "].sum(axis=1) / mt_99.view(pd.DataFrame).sum(axis=1)).mean() * 100)\n",
    "\n",
    "print('max: ', (mt_99.view(pd.DataFrame)[list(set(euk_inds).intersection(set(mt_99.view(pd.DataFrame).columns)))\\\n",
    "].sum(axis=1) / mt_99.view(pd.DataFrame).sum(axis=1)).max() * 100)"
   ]
  },
  {
   "cell_type": "markdown",
   "metadata": {},
   "source": [
    "**save the full table for the manuscript**"
   ]
  },
  {
   "cell_type": "code",
   "execution_count": 59,
   "metadata": {},
   "outputs": [],
   "source": [
    "taxa_99.view(pd.DataFrame).join(mt_99.view(pd.DataFrame).transpose()).to_csv(os.path.join(datapath,\n",
    "                        'table/OTU_table_full.tsv'), sep = '\\t')"
   ]
  },
  {
   "cell_type": "markdown",
   "metadata": {},
   "source": [
    "**filter the bees out of the table for the rest of the analysis**"
   ]
  },
  {
   "cell_type": "code",
   "execution_count": 60,
   "metadata": {},
   "outputs": [],
   "source": [
    "mt_99 = filter_table(table = mt_99, taxonomy = taxa_99,\n",
    "                    exclude = 'd__Eukaryota; p__Arthropoda; c__Insecta').filtered_table"
   ]
  },
  {
   "cell_type": "markdown",
   "metadata": {
    "tags": []
   },
   "source": [
    "## Save files \n",
    "(they took too long to make to do it again!)\n",
    "- feature table \n",
    "- representative sequences \n",
    "- taxonomy "
   ]
  },
  {
   "cell_type": "code",
   "execution_count": 64,
   "metadata": {},
   "outputs": [
    {
     "data": {
      "text/plain": [
       "'../data/qiime/taxonomy_99.qza'"
      ]
     },
     "execution_count": 64,
     "metadata": {},
     "output_type": "execute_result"
    }
   ],
   "source": [
    "mt_99.save(os.path.join(datapath, 'qiime', 'mt_99.qza'))\n",
    "rep_seqs_99.save(os.path.join(datapath, 'qiime', 'rep_seqs_99.qza'))\n",
    "taxa_99.save(os.path.join(datapath, 'qiime', 'taxonomy_99.qza'))\n"
   ]
  },
  {
   "cell_type": "markdown",
   "metadata": {},
   "source": [
    "## Create a tree\n",
    "\n",
    "important for diversity stuff"
   ]
  },
  {
   "cell_type": "code",
   "execution_count": 65,
   "metadata": {
    "collapsed": true,
    "jupyter": {
     "outputs_hidden": true
    },
    "tags": []
   },
   "outputs": [
    {
     "name": "stdout",
     "output_type": "stream",
     "text": [
      "Running external command line application. This may print messages to stdout and/or stderr.\n",
      "The command being run is below. This command cannot be manually re-run as it will depend on temporary files that no longer exist.\n",
      "\n",
      "Command: mafft --preservecase --inputorder --thread 1 /var/folders/hd/67t7954n4_bd9_fw90jxq_l00000gp/T/qiime2/youngm/data/b7bccd84-c690-4714-b30b-aaa64e5b31e0/data/dna-sequences.fasta\n",
      "\n"
     ]
    },
    {
     "name": "stderr",
     "output_type": "stream",
     "text": [
      "inputfile = orig\n",
      "2747 x 480 - 241 d\n",
      "nthread = 1\n",
      "nthreadpair = 1\n",
      "nthreadtb = 1\n",
      "ppenalty_ex = 0\n",
      "stacksize: 8192 kb\n",
      "generating a scoring matrix for nucleotide (dist=200) ... done\n",
      "Gap Penalty = -1.53, +0.00, +0.00\n",
      "\n",
      "\n",
      "\n",
      "Making a distance matrix ..\n",
      " 2701 / 2747 (thread    0)\n",
      "done.\n",
      "\n",
      "Constructing a UPGMA tree (efffree=0) ... \n",
      " 2740 / 2747\n",
      "done.\n",
      "\n",
      "Progressive alignment 1/2... \n",
      "STEP  2501 / 2746 (thread    0) h\n",
      "Reallocating..done. *alloclen = 1999\n",
      "STEP  2701 / 2746 (thread    0)\n",
      "Reallocating..done. *alloclen = 3387\n",
      "\n",
      "done.\n",
      "\n",
      "Making a distance matrix from msa.. \n",
      " 2700 / 2747 (thread    0)\n",
      "done.\n",
      "\n",
      "Constructing a UPGMA tree (efffree=1) ... \n",
      " 2740 / 2747\n",
      "done.\n",
      "\n",
      "Progressive alignment 2/2... \n",
      "STEP  2501 / 2746 (thread    0)\n",
      "Reallocating..done. *alloclen = 1982\n",
      "STEP  2701 / 2746 (thread    0)\n",
      "Reallocating..done. *alloclen = 3825\n",
      "\n",
      "done.\n",
      "\n",
      "disttbfast (nuc) Version 7.520\n",
      "alg=A, model=DNA200 (2), 1.53 (4.59), -0.00 (-0.00), noshift, amax=0.0\n",
      "1 thread(s)\n",
      "\n",
      "\n",
      "Strategy:\n",
      " FFT-NS-2 (Fast but rough)\n",
      " Progressive method (guide trees were built 2 times.)\n",
      "\n",
      "If unsure which option to use, try 'mafft --auto input > output'.\n",
      "For more information, see 'mafft --help', 'mafft --man' and the mafft page.\n",
      "\n",
      "The default gap scoring scheme has been changed in version 7.110 (2013 Oct).\n",
      "It tends to insert more gaps into gap-rich regions than previous versions.\n",
      "To disable this change, add the --leavegappyregion option.\n",
      "\n"
     ]
    },
    {
     "name": "stdout",
     "output_type": "stream",
     "text": [
      "Running external command line application. This may print messages to stdout and/or stderr.\n",
      "The command being run is below. This command cannot be manually re-run as it will depend on temporary files that no longer exist.\n",
      "\n",
      "Command: FastTree -quote -nt /var/folders/hd/67t7954n4_bd9_fw90jxq_l00000gp/T/qiime2/youngm/data/986c1c90-8930-4fb3-b339-bd33080ed7b3/data/aligned-dna-sequences.fasta\n",
      "\n"
     ]
    },
    {
     "name": "stderr",
     "output_type": "stream",
     "text": [
      "FastTree Version 2.1.11 Double precision (No SSE3)\n",
      "Alignment: /var/folders/hd/67t7954n4_bd9_fw90jxq_l00000gp/T/qiime2/youngm/data/986c1c90-8930-4fb3-b339-bd33080ed7b3/data/aligned-dna-sequences.fasta\n",
      "Nucleotide distances: Jukes-Cantor Joins: balanced Support: SH-like 1000\n",
      "Search: Normal +NNI +SPR (2 rounds range 10) +ML-NNI opt-each=1\n",
      "TopHits: 1.00*sqrtN close=default refresh=0.80\n",
      "ML Model: Jukes-Cantor, CAT approximation with 20 rate categories\n",
      "      0.30 seconds: Top hits for    640 of   2745 seqs (at seed    100)\n",
      "      0.41 seconds: Top hits for   1001 of   2745 seqs (at seed    200)\n",
      "      0.55 seconds: Top hits for   1340 of   2745 seqs (at seed    400)\n",
      "      0.71 seconds: Top hits for   1701 of   2745 seqs (at seed    600)\n",
      "      0.83 seconds: Top hits for   1928 of   2745 seqs (at seed    900)\n",
      "      0.94 seconds: Top hits for   2102 of   2745 seqs (at seed   1200)\n",
      "      1.07 seconds: Top hits for   2289 of   2745 seqs (at seed   1600)\n",
      "      1.20 seconds: Top hits for   2387 of   2745 seqs (at seed   2000)\n",
      "      1.31 seconds: Top hits for   2496 of   2745 seqs (at seed   2400)\n",
      "      1.43 seconds: Top hits for   2698 of   2745 seqs (at seed   2600)\n",
      "      1.86 seconds: Joined    100 of   2742\n",
      "      2.17 seconds: Joined    200 of   2742\n",
      "      2.44 seconds: Joined    300 of   2742\n",
      "      2.73 seconds: Joined    400 of   2742\n",
      "      2.90 seconds: Joined    500 of   2742\n",
      "      3.12 seconds: Joined    600 of   2742\n",
      "      3.33 seconds: Joined    700 of   2742\n",
      "      3.54 seconds: Joined    800 of   2742\n",
      "      3.73 seconds: Joined    900 of   2742\n",
      "      3.86 seconds: Joined   1000 of   2742\n",
      "      4.03 seconds: Joined   1100 of   2742\n",
      "      4.25 seconds: Joined   1200 of   2742\n",
      "      4.40 seconds: Joined   1300 of   2742\n",
      "      4.67 seconds: Joined   1400 of   2742\n",
      "      4.83 seconds: Joined   1500 of   2742\n",
      "      5.02 seconds: Joined   1600 of   2742\n",
      "      5.26 seconds: Joined   1700 of   2742\n",
      "      5.46 seconds: Joined   1800 of   2742\n",
      "      5.65 seconds: Joined   1900 of   2742\n",
      "      5.77 seconds: Joined   2000 of   2742\n",
      "      5.95 seconds: Joined   2100 of   2742\n",
      "      6.15 seconds: Joined   2200 of   2742\n",
      "      6.28 seconds: Joined   2300 of   2742\n",
      "      6.42 seconds: Joined   2400 of   2742\n",
      "      6.59 seconds: Joined   2500 of   2742\n",
      "      6.75 seconds: Joined   2600 of   2742\n",
      "      6.88 seconds: Joined   2700 of   2742\n",
      "Initial topology in 6.91 seconds\n",
      "Refining topology: 46 rounds ME-NNIs, 2 rounds ME-SPRs, 23 rounds ML-NNIs\n",
      "      6.98 seconds: ME NNI round 1 of 46, 1001 of 2743 splits, 209 changes (max delta 0.396)\n",
      "      7.09 seconds: ME NNI round 1 of 46, 2401 of 2743 splits, 532 changes (max delta 0.449)\n",
      "      7.19 seconds: ME NNI round 2 of 46, 1001 of 2743 splits, 113 changes (max delta 0.331)\n",
      "      7.30 seconds: ME NNI round 2 of 46, 2401 of 2743 splits, 301 changes (max delta 0.331)\n",
      "      7.40 seconds: ME NNI round 3 of 46, 901 of 2743 splits, 84 changes (max delta 0.244)\n",
      "      7.50 seconds: ME NNI round 4 of 46, 201 of 2743 splits, 10 changes (max delta 0.057)\n",
      "      7.60 seconds: ME NNI round 5 of 46, 1 of 2743 splits\n",
      "      7.71 seconds: ME NNI round 6 of 46, 101 of 2743 splits, 6 changes (max delta 0.034)\n",
      "      7.81 seconds: ME NNI round 8 of 46, 201 of 2743 splits, 6 changes (max delta 0.018)\n",
      "      7.98 seconds: SPR round   1 of   2, 101 of 5488 nodes\n",
      "      8.09 seconds: SPR round   1 of   2, 201 of 5488 nodes\n",
      "      8.19 seconds: SPR round   1 of   2, 301 of 5488 nodes\n",
      "      8.33 seconds: SPR round   1 of   2, 401 of 5488 nodes\n",
      "      8.46 seconds: SPR round   1 of   2, 501 of 5488 nodes\n",
      "      8.58 seconds: SPR round   1 of   2, 601 of 5488 nodes\n",
      "      8.70 seconds: SPR round   1 of   2, 701 of 5488 nodes\n",
      "      8.84 seconds: SPR round   1 of   2, 801 of 5488 nodes\n",
      "      8.97 seconds: SPR round   1 of   2, 901 of 5488 nodes\n",
      "      9.11 seconds: SPR round   1 of   2, 1001 of 5488 nodes\n",
      "      9.21 seconds: SPR round   1 of   2, 1101 of 5488 nodes\n",
      "      9.34 seconds: SPR round   1 of   2, 1201 of 5488 nodes\n",
      "      9.51 seconds: SPR round   1 of   2, 1301 of 5488 nodes\n",
      "      9.63 seconds: SPR round   1 of   2, 1401 of 5488 nodes\n",
      "      9.75 seconds: SPR round   1 of   2, 1501 of 5488 nodes\n",
      "      9.86 seconds: SPR round   1 of   2, 1601 of 5488 nodes\n",
      "      9.98 seconds: SPR round   1 of   2, 1701 of 5488 nodes\n",
      "     10.10 seconds: SPR round   1 of   2, 1801 of 5488 nodes\n",
      "     10.32 seconds: SPR round   1 of   2, 2001 of 5488 nodes\n",
      "     10.43 seconds: SPR round   1 of   2, 2101 of 5488 nodes\n",
      "     10.54 seconds: SPR round   1 of   2, 2201 of 5488 nodes\n",
      "     10.65 seconds: SPR round   1 of   2, 2301 of 5488 nodes\n",
      "     10.75 seconds: SPR round   1 of   2, 2401 of 5488 nodes\n",
      "     10.88 seconds: SPR round   1 of   2, 2501 of 5488 nodes\n",
      "     10.98 seconds: SPR round   1 of   2, 2601 of 5488 nodes\n",
      "     11.10 seconds: SPR round   1 of   2, 2701 of 5488 nodes\n",
      "     11.22 seconds: SPR round   1 of   2, 2801 of 5488 nodes\n",
      "     11.38 seconds: SPR round   1 of   2, 2901 of 5488 nodes\n",
      "     11.52 seconds: SPR round   1 of   2, 3001 of 5488 nodes\n",
      "     11.63 seconds: SPR round   1 of   2, 3101 of 5488 nodes\n",
      "     11.75 seconds: SPR round   1 of   2, 3201 of 5488 nodes\n",
      "     11.87 seconds: SPR round   1 of   2, 3301 of 5488 nodes\n",
      "     11.98 seconds: SPR round   1 of   2, 3401 of 5488 nodes\n",
      "     12.10 seconds: SPR round   1 of   2, 3501 of 5488 nodes\n",
      "     12.20 seconds: SPR round   1 of   2, 3601 of 5488 nodes\n",
      "     12.33 seconds: SPR round   1 of   2, 3701 of 5488 nodes\n",
      "     12.45 seconds: SPR round   1 of   2, 3801 of 5488 nodes\n",
      "     12.58 seconds: SPR round   1 of   2, 3901 of 5488 nodes\n",
      "     12.69 seconds: SPR round   1 of   2, 4001 of 5488 nodes\n",
      "     12.81 seconds: SPR round   1 of   2, 4101 of 5488 nodes\n",
      "     13.02 seconds: SPR round   1 of   2, 4301 of 5488 nodes\n",
      "     13.22 seconds: SPR round   1 of   2, 4501 of 5488 nodes\n",
      "     13.33 seconds: SPR round   1 of   2, 4601 of 5488 nodes\n",
      "     13.46 seconds: SPR round   1 of   2, 4701 of 5488 nodes\n",
      "     13.57 seconds: SPR round   1 of   2, 4801 of 5488 nodes\n",
      "     13.69 seconds: SPR round   1 of   2, 4901 of 5488 nodes\n",
      "     13.79 seconds: SPR round   1 of   2, 5001 of 5488 nodes\n",
      "     13.94 seconds: SPR round   1 of   2, 5101 of 5488 nodes\n",
      "     14.06 seconds: SPR round   1 of   2, 5201 of 5488 nodes\n",
      "     14.16 seconds: SPR round   1 of   2, 5301 of 5488 nodes\n",
      "     14.28 seconds: SPR round   1 of   2, 5401 of 5488 nodes\n",
      "     14.40 seconds: ME NNI round 16 of 46, 1 of 2743 splits\n",
      "     14.51 seconds: ME NNI round 16 of 46, 1501 of 2743 splits, 25 changes (max delta 0.054)\n",
      "     14.61 seconds: ME NNI round 17 of 46, 301 of 2743 splits, 3 changes (max delta 0.058)\n",
      "     14.71 seconds: ME NNI round 17 of 46, 1801 of 2743 splits, 18 changes (max delta 0.058)\n",
      "     14.82 seconds: ME NNI round 19 of 46, 101 of 2743 splits, 6 changes (max delta 0.018)\n",
      "     14.98 seconds: SPR round   2 of   2, 101 of 5488 nodes\n",
      "     15.10 seconds: SPR round   2 of   2, 201 of 5488 nodes\n",
      "     15.23 seconds: SPR round   2 of   2, 301 of 5488 nodes\n",
      "     15.44 seconds: SPR round   2 of   2, 501 of 5488 nodes\n",
      "     15.56 seconds: SPR round   2 of   2, 601 of 5488 nodes\n",
      "     15.70 seconds: SPR round   2 of   2, 701 of 5488 nodes\n",
      "     15.81 seconds: SPR round   2 of   2, 801 of 5488 nodes\n",
      "     15.93 seconds: SPR round   2 of   2, 901 of 5488 nodes\n",
      "     16.07 seconds: SPR round   2 of   2, 1001 of 5488 nodes\n",
      "     16.29 seconds: SPR round   2 of   2, 1201 of 5488 nodes\n",
      "     16.41 seconds: SPR round   2 of   2, 1301 of 5488 nodes\n",
      "     16.52 seconds: SPR round   2 of   2, 1401 of 5488 nodes\n",
      "     16.64 seconds: SPR round   2 of   2, 1501 of 5488 nodes\n",
      "     16.83 seconds: SPR round   2 of   2, 1701 of 5488 nodes\n",
      "     16.94 seconds: SPR round   2 of   2, 1801 of 5488 nodes\n",
      "     17.07 seconds: SPR round   2 of   2, 1901 of 5488 nodes\n",
      "     17.18 seconds: SPR round   2 of   2, 2001 of 5488 nodes\n",
      "     17.29 seconds: SPR round   2 of   2, 2101 of 5488 nodes\n",
      "     17.39 seconds: SPR round   2 of   2, 2201 of 5488 nodes\n",
      "     17.52 seconds: SPR round   2 of   2, 2301 of 5488 nodes\n",
      "     17.65 seconds: SPR round   2 of   2, 2401 of 5488 nodes\n",
      "     17.77 seconds: SPR round   2 of   2, 2501 of 5488 nodes\n",
      "     17.91 seconds: SPR round   2 of   2, 2601 of 5488 nodes\n",
      "     18.02 seconds: SPR round   2 of   2, 2701 of 5488 nodes\n",
      "     18.16 seconds: SPR round   2 of   2, 2801 of 5488 nodes\n",
      "     18.27 seconds: SPR round   2 of   2, 2901 of 5488 nodes\n",
      "     18.38 seconds: SPR round   2 of   2, 3001 of 5488 nodes\n",
      "     18.50 seconds: SPR round   2 of   2, 3101 of 5488 nodes\n",
      "     18.62 seconds: SPR round   2 of   2, 3201 of 5488 nodes\n",
      "     18.72 seconds: SPR round   2 of   2, 3301 of 5488 nodes\n",
      "     18.82 seconds: SPR round   2 of   2, 3401 of 5488 nodes\n",
      "     18.94 seconds: SPR round   2 of   2, 3501 of 5488 nodes\n",
      "     19.07 seconds: SPR round   2 of   2, 3601 of 5488 nodes\n",
      "     19.18 seconds: SPR round   2 of   2, 3701 of 5488 nodes\n",
      "     19.31 seconds: SPR round   2 of   2, 3801 of 5488 nodes\n",
      "     19.42 seconds: SPR round   2 of   2, 3901 of 5488 nodes\n",
      "     19.54 seconds: SPR round   2 of   2, 4001 of 5488 nodes\n",
      "     19.66 seconds: SPR round   2 of   2, 4101 of 5488 nodes\n",
      "     19.77 seconds: SPR round   2 of   2, 4201 of 5488 nodes\n",
      "     19.89 seconds: SPR round   2 of   2, 4301 of 5488 nodes\n",
      "     20.02 seconds: SPR round   2 of   2, 4401 of 5488 nodes\n",
      "     20.15 seconds: SPR round   2 of   2, 4501 of 5488 nodes\n",
      "     20.28 seconds: SPR round   2 of   2, 4601 of 5488 nodes\n",
      "     20.40 seconds: SPR round   2 of   2, 4701 of 5488 nodes\n",
      "     20.53 seconds: SPR round   2 of   2, 4801 of 5488 nodes\n",
      "     20.73 seconds: SPR round   2 of   2, 5001 of 5488 nodes\n",
      "     20.85 seconds: SPR round   2 of   2, 5101 of 5488 nodes\n",
      "     21.00 seconds: SPR round   2 of   2, 5201 of 5488 nodes\n",
      "     21.13 seconds: SPR round   2 of   2, 5301 of 5488 nodes\n",
      "     21.25 seconds: SPR round   2 of   2, 5401 of 5488 nodes\n",
      "     21.38 seconds: ME NNI round 31 of 46, 1 of 2743 splits\n",
      "     21.48 seconds: ME NNI round 31 of 46, 1501 of 2743 splits, 3 changes (max delta 0.014)\n",
      "     21.58 seconds: ME NNI round 32 of 46, 301 of 2743 splits, 0 changes\n",
      "     21.68 seconds: ME NNI round 32 of 46, 1801 of 2743 splits, 4 changes (max delta 0.017)\n",
      "     21.78 seconds: ME NNI round 45 of 46, 1 of 2743 splits\n",
      "Total branch-length 147.927 after 22.04 sec\n",
      "     22.08 seconds: ML Lengths 1 of 2743 splits\n",
      "     22.28 seconds: ML Lengths 201 of 2743 splits\n",
      "     22.45 seconds: ML Lengths 401 of 2743 splits\n",
      "     22.63 seconds: ML Lengths 601 of 2743 splits\n",
      "     22.81 seconds: ML Lengths 801 of 2743 splits\n",
      "     22.98 seconds: ML Lengths 1001 of 2743 splits\n",
      "     23.16 seconds: ML Lengths 1201 of 2743 splits\n",
      "     23.35 seconds: ML Lengths 1401 of 2743 splits\n",
      "     23.53 seconds: ML Lengths 1601 of 2743 splits\n",
      "     23.71 seconds: ML Lengths 1801 of 2743 splits\n",
      "     23.89 seconds: ML Lengths 2001 of 2743 splits\n",
      "     24.07 seconds: ML Lengths 2201 of 2743 splits\n",
      "     24.25 seconds: ML Lengths 2401 of 2743 splits\n",
      "     24.44 seconds: ML Lengths 2601 of 2743 splits\n",
      "     24.57 seconds: ML NNI round 1 of 23, 1 of 2743 splits\n",
      "     24.90 seconds: ML NNI round 1 of 23, 101 of 2743 splits, 13 changes (max delta 4.579)\n",
      "     25.25 seconds: ML NNI round 1 of 23, 201 of 2743 splits, 30 changes (max delta 4.579)\n",
      "     25.58 seconds: ML NNI round 1 of 23, 301 of 2743 splits, 47 changes (max delta 7.042)\n",
      "     25.94 seconds: ML NNI round 1 of 23, 401 of 2743 splits, 65 changes (max delta 16.928)\n",
      "     26.32 seconds: ML NNI round 1 of 23, 501 of 2743 splits, 80 changes (max delta 16.928)\n",
      "     26.67 seconds: ML NNI round 1 of 23, 601 of 2743 splits, 108 changes (max delta 16.928)\n",
      "     27.00 seconds: ML NNI round 1 of 23, 701 of 2743 splits, 121 changes (max delta 16.928)\n",
      "     27.32 seconds: ML NNI round 1 of 23, 801 of 2743 splits, 145 changes (max delta 16.928)\n",
      "     27.64 seconds: ML NNI round 1 of 23, 901 of 2743 splits, 157 changes (max delta 16.928)\n",
      "     27.98 seconds: ML NNI round 1 of 23, 1001 of 2743 splits, 172 changes (max delta 16.928)\n",
      "     28.32 seconds: ML NNI round 1 of 23, 1101 of 2743 splits, 189 changes (max delta 16.928)\n",
      "     28.66 seconds: ML NNI round 1 of 23, 1201 of 2743 splits, 209 changes (max delta 16.928)\n",
      "     29.00 seconds: ML NNI round 1 of 23, 1301 of 2743 splits, 238 changes (max delta 16.928)\n",
      "     29.32 seconds: ML NNI round 1 of 23, 1401 of 2743 splits, 254 changes (max delta 16.928)\n",
      "     29.65 seconds: ML NNI round 1 of 23, 1501 of 2743 splits, 277 changes (max delta 16.928)\n",
      "     29.99 seconds: ML NNI round 1 of 23, 1601 of 2743 splits, 295 changes (max delta 16.928)\n",
      "     30.32 seconds: ML NNI round 1 of 23, 1701 of 2743 splits, 315 changes (max delta 16.928)\n",
      "     30.64 seconds: ML NNI round 1 of 23, 1801 of 2743 splits, 331 changes (max delta 16.928)\n",
      "     30.98 seconds: ML NNI round 1 of 23, 1901 of 2743 splits, 348 changes (max delta 16.928)\n",
      "     31.30 seconds: ML NNI round 1 of 23, 2001 of 2743 splits, 366 changes (max delta 16.928)\n",
      "     31.65 seconds: ML NNI round 1 of 23, 2101 of 2743 splits, 388 changes (max delta 16.928)\n",
      "     32.01 seconds: ML NNI round 1 of 23, 2201 of 2743 splits, 403 changes (max delta 16.928)\n",
      "     32.36 seconds: ML NNI round 1 of 23, 2301 of 2743 splits, 423 changes (max delta 16.928)\n",
      "     32.69 seconds: ML NNI round 1 of 23, 2401 of 2743 splits, 444 changes (max delta 16.928)\n",
      "     33.00 seconds: ML NNI round 1 of 23, 2501 of 2743 splits, 466 changes (max delta 16.928)\n",
      "     33.34 seconds: ML NNI round 1 of 23, 2601 of 2743 splits, 500 changes (max delta 16.928)\n",
      "     33.67 seconds: ML NNI round 1 of 23, 2701 of 2743 splits, 517 changes (max delta 16.928)\n",
      "ML-NNI round 1: LogLk = -239733.201 NNIs 525 max delta 16.93 Time 33.86\n",
      "     33.96 seconds: Site likelihoods with rate category 1 of 20\n",
      "     34.06 seconds: Site likelihoods with rate category 2 of 20\n",
      "     34.18 seconds: Site likelihoods with rate category 3 of 20\n",
      "     34.28 seconds: Site likelihoods with rate category 4 of 20\n",
      "     34.46 seconds: Site likelihoods with rate category 6 of 20\n",
      "     34.65 seconds: Site likelihoods with rate category 8 of 20\n",
      "     34.83 seconds: Site likelihoods with rate category 10 of 20\n",
      "     35.01 seconds: Site likelihoods with rate category 12 of 20\n",
      "     35.20 seconds: Site likelihoods with rate category 14 of 20\n",
      "     35.38 seconds: Site likelihoods with rate category 16 of 20\n",
      "     35.57 seconds: Site likelihoods with rate category 18 of 20\n",
      "     35.75 seconds: Site likelihoods with rate category 20 of 20\n",
      "Switched to using 20 rate categories (CAT approximation)\n",
      "Rate categories were divided by 0.933 so that average rate = 1.0\n",
      "CAT-based log-likelihoods may not be comparable across runs\n",
      "Use -gamma for approximate but comparable Gamma(20) log-likelihoods\n",
      "     36.08 seconds: ML NNI round 2 of 23, 101 of 2743 splits, 10 changes (max delta 2.281)\n",
      "     36.29 seconds: ML NNI round 2 of 23, 201 of 2743 splits, 19 changes (max delta 3.071)\n",
      "     36.49 seconds: ML NNI round 2 of 23, 301 of 2743 splits, 22 changes (max delta 3.071)\n",
      "     36.71 seconds: ML NNI round 2 of 23, 401 of 2743 splits, 35 changes (max delta 11.222)\n",
      "     36.94 seconds: ML NNI round 2 of 23, 501 of 2743 splits, 47 changes (max delta 11.222)\n",
      "     37.21 seconds: ML NNI round 2 of 23, 601 of 2743 splits, 61 changes (max delta 11.222)\n",
      "     37.45 seconds: ML NNI round 2 of 23, 701 of 2743 splits, 70 changes (max delta 11.222)\n",
      "     37.67 seconds: ML NNI round 2 of 23, 801 of 2743 splits, 82 changes (max delta 11.222)\n",
      "     37.91 seconds: ML NNI round 2 of 23, 901 of 2743 splits, 91 changes (max delta 11.222)\n",
      "     38.17 seconds: ML NNI round 2 of 23, 1001 of 2743 splits, 101 changes (max delta 11.222)\n",
      "     38.38 seconds: ML NNI round 2 of 23, 1101 of 2743 splits, 110 changes (max delta 11.222)\n",
      "     38.61 seconds: ML NNI round 2 of 23, 1201 of 2743 splits, 117 changes (max delta 11.222)\n",
      "     38.84 seconds: ML NNI round 2 of 23, 1301 of 2743 splits, 126 changes (max delta 11.222)\n",
      "     39.08 seconds: ML NNI round 2 of 23, 1401 of 2743 splits, 139 changes (max delta 11.222)\n",
      "     39.32 seconds: ML NNI round 2 of 23, 1501 of 2743 splits, 152 changes (max delta 11.222)\n",
      "     39.55 seconds: ML NNI round 2 of 23, 1601 of 2743 splits, 166 changes (max delta 19.479)\n",
      "     39.79 seconds: ML NNI round 2 of 23, 1701 of 2743 splits, 174 changes (max delta 19.479)\n",
      "     40.04 seconds: ML NNI round 2 of 23, 1801 of 2743 splits, 185 changes (max delta 19.479)\n",
      "     40.27 seconds: ML NNI round 2 of 23, 1901 of 2743 splits, 197 changes (max delta 19.479)\n",
      "     40.47 seconds: ML NNI round 2 of 23, 2001 of 2743 splits, 204 changes (max delta 19.479)\n",
      "     40.69 seconds: ML NNI round 2 of 23, 2101 of 2743 splits, 211 changes (max delta 19.479)\n",
      "     40.92 seconds: ML NNI round 2 of 23, 2201 of 2743 splits, 223 changes (max delta 19.479)\n",
      "     41.16 seconds: ML NNI round 2 of 23, 2301 of 2743 splits, 229 changes (max delta 19.479)\n",
      "     41.37 seconds: ML NNI round 2 of 23, 2401 of 2743 splits, 240 changes (max delta 19.479)\n",
      "     41.58 seconds: ML NNI round 2 of 23, 2501 of 2743 splits, 251 changes (max delta 19.479)\n",
      "     41.83 seconds: ML NNI round 2 of 23, 2601 of 2743 splits, 263 changes (max delta 19.479)\n",
      "     42.05 seconds: ML NNI round 2 of 23, 2701 of 2743 splits, 272 changes (max delta 19.479)\n",
      "ML-NNI round 2: LogLk = -215520.611 NNIs 275 max delta 19.48 Time 42.21\n",
      "     42.20 seconds: ML NNI round 3 of 23, 1 of 2743 splits\n",
      "     42.43 seconds: ML NNI round 3 of 23, 101 of 2743 splits, 6 changes (max delta 4.038)\n",
      "     42.62 seconds: ML NNI round 3 of 23, 201 of 2743 splits, 12 changes (max delta 6.304)\n",
      "     42.83 seconds: ML NNI round 3 of 23, 301 of 2743 splits, 18 changes (max delta 6.304)\n",
      "     43.04 seconds: ML NNI round 3 of 23, 401 of 2743 splits, 26 changes (max delta 9.091)\n",
      "     43.24 seconds: ML NNI round 3 of 23, 501 of 2743 splits, 30 changes (max delta 9.091)\n",
      "     43.46 seconds: ML NNI round 3 of 23, 601 of 2743 splits, 36 changes (max delta 9.091)\n",
      "     43.66 seconds: ML NNI round 3 of 23, 701 of 2743 splits, 41 changes (max delta 9.091)\n",
      "     43.87 seconds: ML NNI round 3 of 23, 801 of 2743 splits, 49 changes (max delta 9.091)\n",
      "     44.08 seconds: ML NNI round 3 of 23, 901 of 2743 splits, 56 changes (max delta 9.091)\n",
      "     44.29 seconds: ML NNI round 3 of 23, 1001 of 2743 splits, 64 changes (max delta 9.091)\n",
      "     44.54 seconds: ML NNI round 3 of 23, 1101 of 2743 splits, 69 changes (max delta 9.091)\n",
      "     44.73 seconds: ML NNI round 3 of 23, 1201 of 2743 splits, 74 changes (max delta 9.091)\n",
      "     44.98 seconds: ML NNI round 3 of 23, 1301 of 2743 splits, 82 changes (max delta 9.091)\n",
      "     45.21 seconds: ML NNI round 3 of 23, 1401 of 2743 splits, 88 changes (max delta 9.091)\n",
      "     45.48 seconds: ML NNI round 3 of 23, 1501 of 2743 splits, 100 changes (max delta 9.091)\n",
      "     45.68 seconds: ML NNI round 3 of 23, 1601 of 2743 splits, 110 changes (max delta 9.091)\n",
      "     45.87 seconds: ML NNI round 3 of 23, 1701 of 2743 splits, 116 changes (max delta 9.091)\n",
      "     46.09 seconds: ML NNI round 3 of 23, 1801 of 2743 splits, 125 changes (max delta 9.091)\n",
      "     46.29 seconds: ML NNI round 3 of 23, 1901 of 2743 splits, 132 changes (max delta 9.091)\n",
      "ML-NNI round 3: LogLk = -215259.404 NNIs 143 max delta 9.09 Time 46.48\n",
      "     46.48 seconds: ML NNI round 4 of 23, 1 of 2743 splits\n",
      "     46.66 seconds: ML NNI round 4 of 23, 101 of 2743 splits, 2 changes (max delta 0.354)\n",
      "     46.82 seconds: ML NNI round 4 of 23, 201 of 2743 splits, 6 changes (max delta 4.897)\n",
      "     47.03 seconds: ML NNI round 4 of 23, 301 of 2743 splits, 11 changes (max delta 4.897)\n",
      "     47.23 seconds: ML NNI round 4 of 23, 401 of 2743 splits, 13 changes (max delta 4.897)\n",
      "     47.46 seconds: ML NNI round 4 of 23, 501 of 2743 splits, 20 changes (max delta 8.324)\n",
      "     47.67 seconds: ML NNI round 4 of 23, 601 of 2743 splits, 23 changes (max delta 8.324)\n",
      "     47.90 seconds: ML NNI round 4 of 23, 701 of 2743 splits, 28 changes (max delta 8.324)\n",
      "     48.10 seconds: ML NNI round 4 of 23, 801 of 2743 splits, 32 changes (max delta 8.324)\n",
      "     48.28 seconds: ML NNI round 4 of 23, 901 of 2743 splits, 35 changes (max delta 8.324)\n",
      "     48.50 seconds: ML NNI round 4 of 23, 1001 of 2743 splits, 45 changes (max delta 8.324)\n",
      "     48.69 seconds: ML NNI round 4 of 23, 1101 of 2743 splits, 47 changes (max delta 8.324)\n",
      "     48.86 seconds: ML NNI round 4 of 23, 1201 of 2743 splits, 48 changes (max delta 8.324)\n",
      "ML-NNI round 4: LogLk = -215144.632 NNIs 54 max delta 8.32 Time 49.03\n",
      "     49.03 seconds: ML NNI round 5 of 23, 1 of 2743 splits\n",
      "     49.22 seconds: ML NNI round 5 of 23, 101 of 2743 splits, 2 changes (max delta 0.000)\n",
      "     49.39 seconds: ML NNI round 5 of 23, 201 of 2743 splits, 4 changes (max delta 1.347)\n",
      "     49.63 seconds: ML NNI round 5 of 23, 301 of 2743 splits, 10 changes (max delta 1.347)\n",
      "     49.87 seconds: ML NNI round 5 of 23, 401 of 2743 splits, 14 changes (max delta 1.347)\n",
      "     50.05 seconds: ML NNI round 5 of 23, 501 of 2743 splits, 19 changes (max delta 3.228)\n",
      "     50.29 seconds: ML NNI round 5 of 23, 601 of 2743 splits, 29 changes (max delta 9.555)\n",
      "     50.45 seconds: ML NNI round 5 of 23, 701 of 2743 splits, 32 changes (max delta 9.555)\n",
      "ML-NNI round 5: LogLk = -215082.204 NNIs 34 max delta 9.56 Time 50.54\n",
      "     50.71 seconds: ML NNI round 6 of 23, 101 of 2743 splits, 1 changes (max delta 2.740)\n",
      "     50.95 seconds: ML NNI round 6 of 23, 201 of 2743 splits, 4 changes (max delta 2.740)\n",
      "     51.15 seconds: ML NNI round 6 of 23, 301 of 2743 splits, 14 changes (max delta 3.641)\n",
      "ML-NNI round 6: LogLk = -215055.198 NNIs 19 max delta 5.37 Time 51.41\n",
      "     51.40 seconds: ML NNI round 7 of 23, 1 of 2743 splits\n",
      "     51.63 seconds: ML NNI round 7 of 23, 101 of 2743 splits, 3 changes (max delta 0.868)\n",
      "     51.86 seconds: ML NNI round 7 of 23, 201 of 2743 splits, 11 changes (max delta 6.639)\n",
      "ML-NNI round 7: LogLk = -215040.601 NNIs 15 max delta 6.64 Time 52.00\n",
      "     51.99 seconds: ML NNI round 8 of 23, 1 of 2743 splits\n",
      "     52.25 seconds: ML NNI round 8 of 23, 101 of 2743 splits, 2 changes (max delta 1.115)\n",
      "ML-NNI round 8: LogLk = -215039.046 NNIs 3 max delta 1.11 Time 52.41\n",
      "     52.40 seconds: ML NNI round 9 of 23, 1 of 2743 splits\n",
      "ML-NNI round 9: LogLk = -215039.038 NNIs 0 max delta 0.00 Time 52.65\n",
      "Turning off heuristics for final round of ML NNIs (converged)\n",
      "     52.65 seconds: ML NNI round 10 of 23, 1 of 2743 splits\n",
      "     52.98 seconds: ML NNI round 10 of 23, 101 of 2743 splits, 0 changes\n",
      "     53.35 seconds: ML NNI round 10 of 23, 201 of 2743 splits, 0 changes\n",
      "     53.69 seconds: ML NNI round 10 of 23, 301 of 2743 splits, 4 changes (max delta 0.269)\n",
      "     54.04 seconds: ML NNI round 10 of 23, 401 of 2743 splits, 7 changes (max delta 2.008)\n",
      "     54.36 seconds: ML NNI round 10 of 23, 501 of 2743 splits, 10 changes (max delta 2.008)\n",
      "     54.70 seconds: ML NNI round 10 of 23, 601 of 2743 splits, 10 changes (max delta 2.008)\n",
      "     55.02 seconds: ML NNI round 10 of 23, 701 of 2743 splits, 10 changes (max delta 2.008)\n",
      "     55.35 seconds: ML NNI round 10 of 23, 801 of 2743 splits, 10 changes (max delta 2.008)\n",
      "     55.69 seconds: ML NNI round 10 of 23, 901 of 2743 splits, 11 changes (max delta 2.008)\n",
      "     56.04 seconds: ML NNI round 10 of 23, 1001 of 2743 splits, 12 changes (max delta 2.008)\n",
      "     56.38 seconds: ML NNI round 10 of 23, 1101 of 2743 splits, 14 changes (max delta 2.008)\n",
      "     56.73 seconds: ML NNI round 10 of 23, 1201 of 2743 splits, 16 changes (max delta 2.008)\n",
      "     57.10 seconds: ML NNI round 10 of 23, 1301 of 2743 splits, 16 changes (max delta 2.008)\n",
      "     57.43 seconds: ML NNI round 10 of 23, 1401 of 2743 splits, 17 changes (max delta 2.008)\n",
      "     57.76 seconds: ML NNI round 10 of 23, 1501 of 2743 splits, 17 changes (max delta 2.008)\n",
      "     58.08 seconds: ML NNI round 10 of 23, 1601 of 2743 splits, 19 changes (max delta 2.008)\n",
      "     58.43 seconds: ML NNI round 10 of 23, 1701 of 2743 splits, 20 changes (max delta 2.008)\n",
      "     58.74 seconds: ML NNI round 10 of 23, 1801 of 2743 splits, 20 changes (max delta 2.008)\n",
      "     59.06 seconds: ML NNI round 10 of 23, 1901 of 2743 splits, 21 changes (max delta 2.008)\n",
      "     59.39 seconds: ML NNI round 10 of 23, 2001 of 2743 splits, 22 changes (max delta 2.008)\n",
      "     59.71 seconds: ML NNI round 10 of 23, 2101 of 2743 splits, 22 changes (max delta 2.008)\n",
      "     60.06 seconds: ML NNI round 10 of 23, 2201 of 2743 splits, 24 changes (max delta 2.008)\n",
      "     60.39 seconds: ML NNI round 10 of 23, 2301 of 2743 splits, 24 changes (max delta 2.008)\n",
      "     60.80 seconds: ML NNI round 10 of 23, 2401 of 2743 splits, 28 changes (max delta 2.008)\n",
      "     61.16 seconds: ML NNI round 10 of 23, 2501 of 2743 splits, 30 changes (max delta 2.008)\n",
      "     61.52 seconds: ML NNI round 10 of 23, 2601 of 2743 splits, 32 changes (max delta 2.008)\n",
      "     61.89 seconds: ML NNI round 10 of 23, 2701 of 2743 splits, 37 changes (max delta 2.450)\n",
      "ML-NNI round 10: LogLk = -214863.619 NNIs 37 max delta 2.45 Time 62.10 (final)\n",
      "     62.10 seconds: ML Lengths 1 of 2743 splits\n",
      "     62.25 seconds: ML Lengths 201 of 2743 splits\n",
      "     62.41 seconds: ML Lengths 401 of 2743 splits\n",
      "     62.54 seconds: ML Lengths 601 of 2743 splits\n",
      "     62.68 seconds: ML Lengths 801 of 2743 splits\n",
      "     62.82 seconds: ML Lengths 1001 of 2743 splits\n",
      "     62.97 seconds: ML Lengths 1201 of 2743 splits\n",
      "     63.12 seconds: ML Lengths 1401 of 2743 splits\n",
      "     63.27 seconds: ML Lengths 1601 of 2743 splits\n",
      "     63.40 seconds: ML Lengths 1801 of 2743 splits\n",
      "     63.54 seconds: ML Lengths 2001 of 2743 splits\n",
      "     63.68 seconds: ML Lengths 2201 of 2743 splits\n",
      "     63.84 seconds: ML Lengths 2401 of 2743 splits\n",
      "     63.98 seconds: ML Lengths 2601 of 2743 splits\n",
      "Optimize all lengths: LogLk = -214853.279 Time 64.14\n",
      "     64.65 seconds: ML split tests for    100 of   2742 internal splits\n",
      "     65.16 seconds: ML split tests for    200 of   2742 internal splits\n",
      "     65.67 seconds: ML split tests for    300 of   2742 internal splits\n",
      "     66.18 seconds: ML split tests for    400 of   2742 internal splits\n",
      "     66.68 seconds: ML split tests for    500 of   2742 internal splits\n",
      "     67.20 seconds: ML split tests for    600 of   2742 internal splits\n",
      "     67.70 seconds: ML split tests for    700 of   2742 internal splits\n",
      "     68.23 seconds: ML split tests for    800 of   2742 internal splits\n",
      "     68.76 seconds: ML split tests for    900 of   2742 internal splits\n",
      "     69.27 seconds: ML split tests for   1000 of   2742 internal splits\n",
      "     69.77 seconds: ML split tests for   1100 of   2742 internal splits\n",
      "     70.27 seconds: ML split tests for   1200 of   2742 internal splits\n",
      "     70.78 seconds: ML split tests for   1300 of   2742 internal splits\n",
      "     71.30 seconds: ML split tests for   1400 of   2742 internal splits\n",
      "     71.84 seconds: ML split tests for   1500 of   2742 internal splits\n",
      "     72.37 seconds: ML split tests for   1600 of   2742 internal splits\n",
      "     72.88 seconds: ML split tests for   1700 of   2742 internal splits\n",
      "     73.39 seconds: ML split tests for   1800 of   2742 internal splits\n",
      "     73.90 seconds: ML split tests for   1900 of   2742 internal splits\n",
      "     74.41 seconds: ML split tests for   2000 of   2742 internal splits\n",
      "     74.91 seconds: ML split tests for   2100 of   2742 internal splits\n",
      "     75.42 seconds: ML split tests for   2200 of   2742 internal splits\n",
      "     75.93 seconds: ML split tests for   2300 of   2742 internal splits\n",
      "     76.43 seconds: ML split tests for   2400 of   2742 internal splits\n",
      "     76.93 seconds: ML split tests for   2500 of   2742 internal splits\n",
      "     77.42 seconds: ML split tests for   2600 of   2742 internal splits\n",
      "     77.96 seconds: ML split tests for   2700 of   2742 internal splits\n",
      "Total time: 78.19 seconds Unique: 2745/2747 Bad splits: 8/2742 Worst delta-LogLk 3.229\n"
     ]
    },
    {
     "data": {
      "text/plain": [
       "'../data/qiime/rooted_tree_99.qza'"
      ]
     },
     "execution_count": 65,
     "metadata": {},
     "output_type": "execute_result"
    }
   ],
   "source": [
    "# MSA\n",
    "mafft_alignment = alignment.methods.mafft(rep_seqs_99)\n",
    "# masked\n",
    "masked_mafft_alignment = alignment.methods.mask(mafft_alignment.alignment)\n",
    "# tree + root\n",
    "unrooted_tree = phylogeny.methods.fasttree(masked_mafft_alignment.masked_alignment)\n",
    "rooted_tree_99 = phylogeny.methods.midpoint_root(unrooted_tree.tree)\n",
    "# save \n",
    "rooted_tree_99.rooted_tree.save(os.path.join(datapath, 'qiime/rooted_tree_99.qza'))"
   ]
  },
  {
   "cell_type": "markdown",
   "metadata": {},
   "source": [
    "## Create a rarefied table "
   ]
  },
  {
   "cell_type": "code",
   "execution_count": 66,
   "metadata": {},
   "outputs": [],
   "source": [
    "mt_99 = Artifact.load(os.path.join(datapath, 'qiime', 'mt_99.qza'))\n",
    "rooted_tree_99=Artifact.load(os.path.join(datapath, 'qiime/rooted_tree_99.qza'))\n",
    "bombusMeta = Metadata.load(os.path.join(datapath, 'BombusMetadata.tsv'))"
   ]
  },
  {
   "cell_type": "code",
   "execution_count": 67,
   "metadata": {
    "collapsed": true,
    "jupyter": {
     "outputs_hidden": true
    }
   },
   "outputs": [
    {
     "name": "stdout",
     "output_type": "stream",
     "text": [
      "Running external command line application. This may print messages to stdout and/or stderr.\n",
      "The command being run is below. This command cannot be manually re-run as it will depend on temporary files that no longer exist.\n",
      "\n",
      "Command:\n",
      "\n",
      "faithpd -i /var/folders/hd/67t7954n4_bd9_fw90jxq_l00000gp/T/qiime2/youngm/data/78a6f7fe-9ee5-418c-8a58-b77e5f21fcb4/data/feature-table.biom -t /var/folders/hd/67t7954n4_bd9_fw90jxq_l00000gp/T/qiime2/youngm/data/70bd8655-124d-40a5-8aad-e3798a44d3c3/data/tree.nwk -o /var/folders/hd/67t7954n4_bd9_fw90jxq_l00000gp/T/q2-AlphaDiversityFormat-iigjbymp\n",
      "\n",
      "Running external command line application. This may print messages to stdout and/or stderr.\n",
      "The command being run is below. This command cannot be manually re-run as it will depend on temporary files that no longer exist.\n",
      "\n",
      "Command:\n",
      "\n",
      "faithpd -i /var/folders/hd/67t7954n4_bd9_fw90jxq_l00000gp/T/qiime2/youngm/data/85c90207-062c-4dd1-ae93-c739f147e492/data/feature-table.biom -t /var/folders/hd/67t7954n4_bd9_fw90jxq_l00000gp/T/qiime2/youngm/data/70bd8655-124d-40a5-8aad-e3798a44d3c3/data/tree.nwk -o /var/folders/hd/67t7954n4_bd9_fw90jxq_l00000gp/T/q2-AlphaDiversityFormat-dz5u_7y7\n",
      "\n",
      "Running external command line application. This may print messages to stdout and/or stderr.\n",
      "The command being run is below. This command cannot be manually re-run as it will depend on temporary files that no longer exist.\n",
      "\n",
      "Command:\n",
      "\n",
      "faithpd -i /var/folders/hd/67t7954n4_bd9_fw90jxq_l00000gp/T/qiime2/youngm/data/35610b23-750f-4779-be1a-0de29e0e9a01/data/feature-table.biom -t /var/folders/hd/67t7954n4_bd9_fw90jxq_l00000gp/T/qiime2/youngm/data/70bd8655-124d-40a5-8aad-e3798a44d3c3/data/tree.nwk -o /var/folders/hd/67t7954n4_bd9_fw90jxq_l00000gp/T/q2-AlphaDiversityFormat-l6nyxh0b\n",
      "\n",
      "Running external command line application. This may print messages to stdout and/or stderr.\n",
      "The command being run is below. This command cannot be manually re-run as it will depend on temporary files that no longer exist.\n",
      "\n",
      "Command:\n",
      "\n",
      "faithpd -i /var/folders/hd/67t7954n4_bd9_fw90jxq_l00000gp/T/qiime2/youngm/data/dfe63096-1e72-49f6-93bf-2a686dc272f5/data/feature-table.biom -t /var/folders/hd/67t7954n4_bd9_fw90jxq_l00000gp/T/qiime2/youngm/data/70bd8655-124d-40a5-8aad-e3798a44d3c3/data/tree.nwk -o /var/folders/hd/67t7954n4_bd9_fw90jxq_l00000gp/T/q2-AlphaDiversityFormat-xys7lro_\n",
      "\n",
      "Running external command line application. This may print messages to stdout and/or stderr.\n",
      "The command being run is below. This command cannot be manually re-run as it will depend on temporary files that no longer exist.\n",
      "\n",
      "Command:\n",
      "\n",
      "faithpd -i /var/folders/hd/67t7954n4_bd9_fw90jxq_l00000gp/T/qiime2/youngm/data/a0df6627-a1e7-4234-bbdc-c78663a0eb7f/data/feature-table.biom -t /var/folders/hd/67t7954n4_bd9_fw90jxq_l00000gp/T/qiime2/youngm/data/70bd8655-124d-40a5-8aad-e3798a44d3c3/data/tree.nwk -o /var/folders/hd/67t7954n4_bd9_fw90jxq_l00000gp/T/q2-AlphaDiversityFormat-873kawfe\n",
      "\n",
      "Running external command line application. This may print messages to stdout and/or stderr.\n",
      "The command being run is below. This command cannot be manually re-run as it will depend on temporary files that no longer exist.\n",
      "\n",
      "Command:\n",
      "\n",
      "faithpd -i /var/folders/hd/67t7954n4_bd9_fw90jxq_l00000gp/T/qiime2/youngm/data/939d7490-f927-4083-9f13-2cff3f5fc63a/data/feature-table.biom -t /var/folders/hd/67t7954n4_bd9_fw90jxq_l00000gp/T/qiime2/youngm/data/70bd8655-124d-40a5-8aad-e3798a44d3c3/data/tree.nwk -o /var/folders/hd/67t7954n4_bd9_fw90jxq_l00000gp/T/q2-AlphaDiversityFormat-an1s5cdp\n",
      "\n",
      "Running external command line application. This may print messages to stdout and/or stderr.\n",
      "The command being run is below. This command cannot be manually re-run as it will depend on temporary files that no longer exist.\n",
      "\n",
      "Command:\n",
      "\n",
      "faithpd -i /var/folders/hd/67t7954n4_bd9_fw90jxq_l00000gp/T/qiime2/youngm/data/73f10800-26f5-4f27-ba81-b126b6812477/data/feature-table.biom -t /var/folders/hd/67t7954n4_bd9_fw90jxq_l00000gp/T/qiime2/youngm/data/70bd8655-124d-40a5-8aad-e3798a44d3c3/data/tree.nwk -o /var/folders/hd/67t7954n4_bd9_fw90jxq_l00000gp/T/q2-AlphaDiversityFormat-pejt7nz1\n",
      "\n",
      "Running external command line application. This may print messages to stdout and/or stderr.\n",
      "The command being run is below. This command cannot be manually re-run as it will depend on temporary files that no longer exist.\n",
      "\n",
      "Command:\n",
      "\n",
      "faithpd -i /var/folders/hd/67t7954n4_bd9_fw90jxq_l00000gp/T/qiime2/youngm/data/9350aace-e2c5-49b9-bd1d-a74b52c15621/data/feature-table.biom -t /var/folders/hd/67t7954n4_bd9_fw90jxq_l00000gp/T/qiime2/youngm/data/70bd8655-124d-40a5-8aad-e3798a44d3c3/data/tree.nwk -o /var/folders/hd/67t7954n4_bd9_fw90jxq_l00000gp/T/q2-AlphaDiversityFormat-b9deuqea\n",
      "\n",
      "Running external command line application. This may print messages to stdout and/or stderr.\n",
      "The command being run is below. This command cannot be manually re-run as it will depend on temporary files that no longer exist.\n",
      "\n",
      "Command:\n",
      "\n",
      "faithpd -i /var/folders/hd/67t7954n4_bd9_fw90jxq_l00000gp/T/qiime2/youngm/data/022e1293-e4a9-4d70-b3ca-1adda9113730/data/feature-table.biom -t /var/folders/hd/67t7954n4_bd9_fw90jxq_l00000gp/T/qiime2/youngm/data/70bd8655-124d-40a5-8aad-e3798a44d3c3/data/tree.nwk -o /var/folders/hd/67t7954n4_bd9_fw90jxq_l00000gp/T/q2-AlphaDiversityFormat-8g4cgf_2\n",
      "\n",
      "Running external command line application. This may print messages to stdout and/or stderr.\n",
      "The command being run is below. This command cannot be manually re-run as it will depend on temporary files that no longer exist.\n",
      "\n",
      "Command:\n",
      "\n",
      "faithpd -i /var/folders/hd/67t7954n4_bd9_fw90jxq_l00000gp/T/qiime2/youngm/data/aca148b1-2bf9-4f5f-8dd9-23e2dfeb32fc/data/feature-table.biom -t /var/folders/hd/67t7954n4_bd9_fw90jxq_l00000gp/T/qiime2/youngm/data/70bd8655-124d-40a5-8aad-e3798a44d3c3/data/tree.nwk -o /var/folders/hd/67t7954n4_bd9_fw90jxq_l00000gp/T/q2-AlphaDiversityFormat-p1q8abib\n",
      "\n",
      "Running external command line application. This may print messages to stdout and/or stderr.\n",
      "The command being run is below. This command cannot be manually re-run as it will depend on temporary files that no longer exist.\n",
      "\n",
      "Command:\n",
      "\n",
      "faithpd -i /var/folders/hd/67t7954n4_bd9_fw90jxq_l00000gp/T/qiime2/youngm/data/6b557c28-1c4b-4ada-9505-98b7edf00d5a/data/feature-table.biom -t /var/folders/hd/67t7954n4_bd9_fw90jxq_l00000gp/T/qiime2/youngm/data/70bd8655-124d-40a5-8aad-e3798a44d3c3/data/tree.nwk -o /var/folders/hd/67t7954n4_bd9_fw90jxq_l00000gp/T/q2-AlphaDiversityFormat-ug754vte\n",
      "\n",
      "Running external command line application. This may print messages to stdout and/or stderr.\n",
      "The command being run is below. This command cannot be manually re-run as it will depend on temporary files that no longer exist.\n",
      "\n",
      "Command:\n",
      "\n",
      "faithpd -i /var/folders/hd/67t7954n4_bd9_fw90jxq_l00000gp/T/qiime2/youngm/data/933c7903-fd2e-4977-9b1f-42f06cccd8e4/data/feature-table.biom -t /var/folders/hd/67t7954n4_bd9_fw90jxq_l00000gp/T/qiime2/youngm/data/70bd8655-124d-40a5-8aad-e3798a44d3c3/data/tree.nwk -o /var/folders/hd/67t7954n4_bd9_fw90jxq_l00000gp/T/q2-AlphaDiversityFormat-ij3ihw9e\n",
      "\n",
      "Running external command line application. This may print messages to stdout and/or stderr.\n",
      "The command being run is below. This command cannot be manually re-run as it will depend on temporary files that no longer exist.\n",
      "\n",
      "Command:\n",
      "\n",
      "faithpd -i /var/folders/hd/67t7954n4_bd9_fw90jxq_l00000gp/T/qiime2/youngm/data/c4762a68-b0ba-43ec-9829-8d825b1344ab/data/feature-table.biom -t /var/folders/hd/67t7954n4_bd9_fw90jxq_l00000gp/T/qiime2/youngm/data/70bd8655-124d-40a5-8aad-e3798a44d3c3/data/tree.nwk -o /var/folders/hd/67t7954n4_bd9_fw90jxq_l00000gp/T/q2-AlphaDiversityFormat-9e7farqu\n",
      "\n",
      "Running external command line application. This may print messages to stdout and/or stderr.\n",
      "The command being run is below. This command cannot be manually re-run as it will depend on temporary files that no longer exist.\n",
      "\n",
      "Command:\n",
      "\n",
      "faithpd -i /var/folders/hd/67t7954n4_bd9_fw90jxq_l00000gp/T/qiime2/youngm/data/33068845-1048-4f33-9b7f-6b96f83d4144/data/feature-table.biom -t /var/folders/hd/67t7954n4_bd9_fw90jxq_l00000gp/T/qiime2/youngm/data/70bd8655-124d-40a5-8aad-e3798a44d3c3/data/tree.nwk -o /var/folders/hd/67t7954n4_bd9_fw90jxq_l00000gp/T/q2-AlphaDiversityFormat-g6iotr2e\n",
      "\n",
      "Running external command line application. This may print messages to stdout and/or stderr.\n",
      "The command being run is below. This command cannot be manually re-run as it will depend on temporary files that no longer exist.\n",
      "\n",
      "Command:\n",
      "\n",
      "faithpd -i /var/folders/hd/67t7954n4_bd9_fw90jxq_l00000gp/T/qiime2/youngm/data/8d7912e9-6fb7-4b09-8716-8b486b5f8cf3/data/feature-table.biom -t /var/folders/hd/67t7954n4_bd9_fw90jxq_l00000gp/T/qiime2/youngm/data/70bd8655-124d-40a5-8aad-e3798a44d3c3/data/tree.nwk -o /var/folders/hd/67t7954n4_bd9_fw90jxq_l00000gp/T/q2-AlphaDiversityFormat-62uzewb7\n",
      "\n",
      "Running external command line application. This may print messages to stdout and/or stderr.\n",
      "The command being run is below. This command cannot be manually re-run as it will depend on temporary files that no longer exist.\n",
      "\n",
      "Command:\n",
      "\n",
      "faithpd -i /var/folders/hd/67t7954n4_bd9_fw90jxq_l00000gp/T/qiime2/youngm/data/8cd69414-6e24-49bd-898e-78cecbfa313d/data/feature-table.biom -t /var/folders/hd/67t7954n4_bd9_fw90jxq_l00000gp/T/qiime2/youngm/data/70bd8655-124d-40a5-8aad-e3798a44d3c3/data/tree.nwk -o /var/folders/hd/67t7954n4_bd9_fw90jxq_l00000gp/T/q2-AlphaDiversityFormat-wormavbv\n",
      "\n",
      "Running external command line application. This may print messages to stdout and/or stderr.\n",
      "The command being run is below. This command cannot be manually re-run as it will depend on temporary files that no longer exist.\n",
      "\n",
      "Command:\n",
      "\n",
      "faithpd -i /var/folders/hd/67t7954n4_bd9_fw90jxq_l00000gp/T/qiime2/youngm/data/749f2d91-45ee-448a-9a13-8dbfe4b34621/data/feature-table.biom -t /var/folders/hd/67t7954n4_bd9_fw90jxq_l00000gp/T/qiime2/youngm/data/70bd8655-124d-40a5-8aad-e3798a44d3c3/data/tree.nwk -o /var/folders/hd/67t7954n4_bd9_fw90jxq_l00000gp/T/q2-AlphaDiversityFormat-nddceu9m\n",
      "\n",
      "Running external command line application. This may print messages to stdout and/or stderr.\n",
      "The command being run is below. This command cannot be manually re-run as it will depend on temporary files that no longer exist.\n",
      "\n",
      "Command:\n",
      "\n",
      "faithpd -i /var/folders/hd/67t7954n4_bd9_fw90jxq_l00000gp/T/qiime2/youngm/data/957236a1-0dbb-489c-a145-13510c79ff1a/data/feature-table.biom -t /var/folders/hd/67t7954n4_bd9_fw90jxq_l00000gp/T/qiime2/youngm/data/70bd8655-124d-40a5-8aad-e3798a44d3c3/data/tree.nwk -o /var/folders/hd/67t7954n4_bd9_fw90jxq_l00000gp/T/q2-AlphaDiversityFormat-hs4zvuew\n",
      "\n",
      "Running external command line application. This may print messages to stdout and/or stderr.\n",
      "The command being run is below. This command cannot be manually re-run as it will depend on temporary files that no longer exist.\n",
      "\n",
      "Command:\n",
      "\n",
      "faithpd -i /var/folders/hd/67t7954n4_bd9_fw90jxq_l00000gp/T/qiime2/youngm/data/a7c342a9-b809-4963-8147-abf7f7bcaa2e/data/feature-table.biom -t /var/folders/hd/67t7954n4_bd9_fw90jxq_l00000gp/T/qiime2/youngm/data/70bd8655-124d-40a5-8aad-e3798a44d3c3/data/tree.nwk -o /var/folders/hd/67t7954n4_bd9_fw90jxq_l00000gp/T/q2-AlphaDiversityFormat-4jt8x4i6\n",
      "\n",
      "Running external command line application. This may print messages to stdout and/or stderr.\n",
      "The command being run is below. This command cannot be manually re-run as it will depend on temporary files that no longer exist.\n",
      "\n",
      "Command:\n",
      "\n",
      "faithpd -i /var/folders/hd/67t7954n4_bd9_fw90jxq_l00000gp/T/qiime2/youngm/data/3e343c28-3abf-4d7c-914f-98b4d2b2db88/data/feature-table.biom -t /var/folders/hd/67t7954n4_bd9_fw90jxq_l00000gp/T/qiime2/youngm/data/70bd8655-124d-40a5-8aad-e3798a44d3c3/data/tree.nwk -o /var/folders/hd/67t7954n4_bd9_fw90jxq_l00000gp/T/q2-AlphaDiversityFormat-nltxcplv\n",
      "\n",
      "Running external command line application. This may print messages to stdout and/or stderr.\n",
      "The command being run is below. This command cannot be manually re-run as it will depend on temporary files that no longer exist.\n",
      "\n",
      "Command:\n",
      "\n",
      "faithpd -i /var/folders/hd/67t7954n4_bd9_fw90jxq_l00000gp/T/qiime2/youngm/data/5d8b46fc-9070-426a-9dc7-42e11a5c1f1b/data/feature-table.biom -t /var/folders/hd/67t7954n4_bd9_fw90jxq_l00000gp/T/qiime2/youngm/data/70bd8655-124d-40a5-8aad-e3798a44d3c3/data/tree.nwk -o /var/folders/hd/67t7954n4_bd9_fw90jxq_l00000gp/T/q2-AlphaDiversityFormat-5kf_gt30\n",
      "\n",
      "Running external command line application. This may print messages to stdout and/or stderr.\n",
      "The command being run is below. This command cannot be manually re-run as it will depend on temporary files that no longer exist.\n",
      "\n",
      "Command:\n",
      "\n",
      "faithpd -i /var/folders/hd/67t7954n4_bd9_fw90jxq_l00000gp/T/qiime2/youngm/data/195336c9-52b8-434c-8f9c-c5ae37e1735d/data/feature-table.biom -t /var/folders/hd/67t7954n4_bd9_fw90jxq_l00000gp/T/qiime2/youngm/data/70bd8655-124d-40a5-8aad-e3798a44d3c3/data/tree.nwk -o /var/folders/hd/67t7954n4_bd9_fw90jxq_l00000gp/T/q2-AlphaDiversityFormat-nvc9ne30\n",
      "\n",
      "Running external command line application. This may print messages to stdout and/or stderr.\n",
      "The command being run is below. This command cannot be manually re-run as it will depend on temporary files that no longer exist.\n",
      "\n",
      "Command:\n",
      "\n",
      "faithpd -i /var/folders/hd/67t7954n4_bd9_fw90jxq_l00000gp/T/qiime2/youngm/data/54db9c65-c06f-4f1d-826c-2c35780f3452/data/feature-table.biom -t /var/folders/hd/67t7954n4_bd9_fw90jxq_l00000gp/T/qiime2/youngm/data/70bd8655-124d-40a5-8aad-e3798a44d3c3/data/tree.nwk -o /var/folders/hd/67t7954n4_bd9_fw90jxq_l00000gp/T/q2-AlphaDiversityFormat-smsequ2c\n",
      "\n",
      "Running external command line application. This may print messages to stdout and/or stderr.\n",
      "The command being run is below. This command cannot be manually re-run as it will depend on temporary files that no longer exist.\n",
      "\n",
      "Command:\n",
      "\n",
      "faithpd -i /var/folders/hd/67t7954n4_bd9_fw90jxq_l00000gp/T/qiime2/youngm/data/b8711a7b-e853-473f-b4a1-bc04c1883032/data/feature-table.biom -t /var/folders/hd/67t7954n4_bd9_fw90jxq_l00000gp/T/qiime2/youngm/data/70bd8655-124d-40a5-8aad-e3798a44d3c3/data/tree.nwk -o /var/folders/hd/67t7954n4_bd9_fw90jxq_l00000gp/T/q2-AlphaDiversityFormat-ock_8cq6\n",
      "\n",
      "Running external command line application. This may print messages to stdout and/or stderr.\n",
      "The command being run is below. This command cannot be manually re-run as it will depend on temporary files that no longer exist.\n",
      "\n",
      "Command:\n",
      "\n",
      "faithpd -i /var/folders/hd/67t7954n4_bd9_fw90jxq_l00000gp/T/qiime2/youngm/data/20d8e471-6822-40ef-8176-d2e0d25ca14c/data/feature-table.biom -t /var/folders/hd/67t7954n4_bd9_fw90jxq_l00000gp/T/qiime2/youngm/data/70bd8655-124d-40a5-8aad-e3798a44d3c3/data/tree.nwk -o /var/folders/hd/67t7954n4_bd9_fw90jxq_l00000gp/T/q2-AlphaDiversityFormat-urcl2ka0\n",
      "\n",
      "Running external command line application. This may print messages to stdout and/or stderr.\n",
      "The command being run is below. This command cannot be manually re-run as it will depend on temporary files that no longer exist.\n",
      "\n",
      "Command:\n",
      "\n",
      "faithpd -i /var/folders/hd/67t7954n4_bd9_fw90jxq_l00000gp/T/qiime2/youngm/data/fc38897f-9be0-49cd-91e7-468e8ad2dd55/data/feature-table.biom -t /var/folders/hd/67t7954n4_bd9_fw90jxq_l00000gp/T/qiime2/youngm/data/70bd8655-124d-40a5-8aad-e3798a44d3c3/data/tree.nwk -o /var/folders/hd/67t7954n4_bd9_fw90jxq_l00000gp/T/q2-AlphaDiversityFormat-y2dhxb75\n",
      "\n",
      "Running external command line application. This may print messages to stdout and/or stderr.\n",
      "The command being run is below. This command cannot be manually re-run as it will depend on temporary files that no longer exist.\n",
      "\n",
      "Command:\n",
      "\n",
      "faithpd -i /var/folders/hd/67t7954n4_bd9_fw90jxq_l00000gp/T/qiime2/youngm/data/7b546ea6-5a60-4cf1-86a2-a9d6b9fc44cb/data/feature-table.biom -t /var/folders/hd/67t7954n4_bd9_fw90jxq_l00000gp/T/qiime2/youngm/data/70bd8655-124d-40a5-8aad-e3798a44d3c3/data/tree.nwk -o /var/folders/hd/67t7954n4_bd9_fw90jxq_l00000gp/T/q2-AlphaDiversityFormat-h5yt4hap\n",
      "\n",
      "Running external command line application. This may print messages to stdout and/or stderr.\n",
      "The command being run is below. This command cannot be manually re-run as it will depend on temporary files that no longer exist.\n",
      "\n",
      "Command:\n",
      "\n",
      "faithpd -i /var/folders/hd/67t7954n4_bd9_fw90jxq_l00000gp/T/qiime2/youngm/data/f73db32f-e30b-413a-8ad0-7c1271b946cc/data/feature-table.biom -t /var/folders/hd/67t7954n4_bd9_fw90jxq_l00000gp/T/qiime2/youngm/data/70bd8655-124d-40a5-8aad-e3798a44d3c3/data/tree.nwk -o /var/folders/hd/67t7954n4_bd9_fw90jxq_l00000gp/T/q2-AlphaDiversityFormat-lx43xqz3\n",
      "\n",
      "Running external command line application. This may print messages to stdout and/or stderr.\n",
      "The command being run is below. This command cannot be manually re-run as it will depend on temporary files that no longer exist.\n",
      "\n",
      "Command:\n",
      "\n",
      "faithpd -i /var/folders/hd/67t7954n4_bd9_fw90jxq_l00000gp/T/qiime2/youngm/data/985a668e-e36a-40f9-bbac-f21119ed5f50/data/feature-table.biom -t /var/folders/hd/67t7954n4_bd9_fw90jxq_l00000gp/T/qiime2/youngm/data/70bd8655-124d-40a5-8aad-e3798a44d3c3/data/tree.nwk -o /var/folders/hd/67t7954n4_bd9_fw90jxq_l00000gp/T/q2-AlphaDiversityFormat-y_64xp3s\n",
      "\n",
      "Running external command line application. This may print messages to stdout and/or stderr.\n",
      "The command being run is below. This command cannot be manually re-run as it will depend on temporary files that no longer exist.\n",
      "\n",
      "Command:\n",
      "\n",
      "faithpd -i /var/folders/hd/67t7954n4_bd9_fw90jxq_l00000gp/T/qiime2/youngm/data/14d31276-caee-42f7-a81d-20ce8942a711/data/feature-table.biom -t /var/folders/hd/67t7954n4_bd9_fw90jxq_l00000gp/T/qiime2/youngm/data/70bd8655-124d-40a5-8aad-e3798a44d3c3/data/tree.nwk -o /var/folders/hd/67t7954n4_bd9_fw90jxq_l00000gp/T/q2-AlphaDiversityFormat-cjwbc_hk\n",
      "\n",
      "Running external command line application. This may print messages to stdout and/or stderr.\n",
      "The command being run is below. This command cannot be manually re-run as it will depend on temporary files that no longer exist.\n",
      "\n",
      "Command:\n",
      "\n",
      "faithpd -i /var/folders/hd/67t7954n4_bd9_fw90jxq_l00000gp/T/qiime2/youngm/data/b7f69150-4956-4963-9315-1ff3721d4fcd/data/feature-table.biom -t /var/folders/hd/67t7954n4_bd9_fw90jxq_l00000gp/T/qiime2/youngm/data/70bd8655-124d-40a5-8aad-e3798a44d3c3/data/tree.nwk -o /var/folders/hd/67t7954n4_bd9_fw90jxq_l00000gp/T/q2-AlphaDiversityFormat-xifpcdpi\n",
      "\n",
      "Running external command line application. This may print messages to stdout and/or stderr.\n",
      "The command being run is below. This command cannot be manually re-run as it will depend on temporary files that no longer exist.\n",
      "\n",
      "Command:\n",
      "\n",
      "faithpd -i /var/folders/hd/67t7954n4_bd9_fw90jxq_l00000gp/T/qiime2/youngm/data/a8297db7-3946-40aa-959b-328f0694c3f7/data/feature-table.biom -t /var/folders/hd/67t7954n4_bd9_fw90jxq_l00000gp/T/qiime2/youngm/data/70bd8655-124d-40a5-8aad-e3798a44d3c3/data/tree.nwk -o /var/folders/hd/67t7954n4_bd9_fw90jxq_l00000gp/T/q2-AlphaDiversityFormat-dhhrfkiw\n",
      "\n",
      "Running external command line application. This may print messages to stdout and/or stderr.\n",
      "The command being run is below. This command cannot be manually re-run as it will depend on temporary files that no longer exist.\n",
      "\n",
      "Command:\n",
      "\n",
      "faithpd -i /var/folders/hd/67t7954n4_bd9_fw90jxq_l00000gp/T/qiime2/youngm/data/5a22ce24-610a-4b54-b7cd-cd0ec719d384/data/feature-table.biom -t /var/folders/hd/67t7954n4_bd9_fw90jxq_l00000gp/T/qiime2/youngm/data/70bd8655-124d-40a5-8aad-e3798a44d3c3/data/tree.nwk -o /var/folders/hd/67t7954n4_bd9_fw90jxq_l00000gp/T/q2-AlphaDiversityFormat-p6cam6gg\n",
      "\n",
      "Running external command line application. This may print messages to stdout and/or stderr.\n",
      "The command being run is below. This command cannot be manually re-run as it will depend on temporary files that no longer exist.\n",
      "\n",
      "Command:\n",
      "\n",
      "faithpd -i /var/folders/hd/67t7954n4_bd9_fw90jxq_l00000gp/T/qiime2/youngm/data/228f7f40-0c38-42e4-8141-3e5e532cb7fa/data/feature-table.biom -t /var/folders/hd/67t7954n4_bd9_fw90jxq_l00000gp/T/qiime2/youngm/data/70bd8655-124d-40a5-8aad-e3798a44d3c3/data/tree.nwk -o /var/folders/hd/67t7954n4_bd9_fw90jxq_l00000gp/T/q2-AlphaDiversityFormat-z8ggzwwl\n",
      "\n",
      "Running external command line application. This may print messages to stdout and/or stderr.\n",
      "The command being run is below. This command cannot be manually re-run as it will depend on temporary files that no longer exist.\n",
      "\n",
      "Command:\n",
      "\n",
      "faithpd -i /var/folders/hd/67t7954n4_bd9_fw90jxq_l00000gp/T/qiime2/youngm/data/be36bcbe-6e28-44e8-b5e4-a15eedcd3462/data/feature-table.biom -t /var/folders/hd/67t7954n4_bd9_fw90jxq_l00000gp/T/qiime2/youngm/data/70bd8655-124d-40a5-8aad-e3798a44d3c3/data/tree.nwk -o /var/folders/hd/67t7954n4_bd9_fw90jxq_l00000gp/T/q2-AlphaDiversityFormat-ng45fsjf\n",
      "\n",
      "Running external command line application. This may print messages to stdout and/or stderr.\n",
      "The command being run is below. This command cannot be manually re-run as it will depend on temporary files that no longer exist.\n",
      "\n",
      "Command:\n",
      "\n",
      "faithpd -i /var/folders/hd/67t7954n4_bd9_fw90jxq_l00000gp/T/qiime2/youngm/data/412ae79e-2fd3-4771-a449-119994b05fdb/data/feature-table.biom -t /var/folders/hd/67t7954n4_bd9_fw90jxq_l00000gp/T/qiime2/youngm/data/70bd8655-124d-40a5-8aad-e3798a44d3c3/data/tree.nwk -o /var/folders/hd/67t7954n4_bd9_fw90jxq_l00000gp/T/q2-AlphaDiversityFormat-8lqosaj0\n",
      "\n",
      "Running external command line application. This may print messages to stdout and/or stderr.\n",
      "The command being run is below. This command cannot be manually re-run as it will depend on temporary files that no longer exist.\n",
      "\n",
      "Command:\n",
      "\n",
      "faithpd -i /var/folders/hd/67t7954n4_bd9_fw90jxq_l00000gp/T/qiime2/youngm/data/726048e9-725b-4b9d-841a-a9543d840011/data/feature-table.biom -t /var/folders/hd/67t7954n4_bd9_fw90jxq_l00000gp/T/qiime2/youngm/data/70bd8655-124d-40a5-8aad-e3798a44d3c3/data/tree.nwk -o /var/folders/hd/67t7954n4_bd9_fw90jxq_l00000gp/T/q2-AlphaDiversityFormat-59elxbr9\n",
      "\n",
      "Running external command line application. This may print messages to stdout and/or stderr.\n",
      "The command being run is below. This command cannot be manually re-run as it will depend on temporary files that no longer exist.\n",
      "\n",
      "Command:\n",
      "\n",
      "faithpd -i /var/folders/hd/67t7954n4_bd9_fw90jxq_l00000gp/T/qiime2/youngm/data/3863ff23-f9f1-4fe9-ab9d-9656b09842f2/data/feature-table.biom -t /var/folders/hd/67t7954n4_bd9_fw90jxq_l00000gp/T/qiime2/youngm/data/70bd8655-124d-40a5-8aad-e3798a44d3c3/data/tree.nwk -o /var/folders/hd/67t7954n4_bd9_fw90jxq_l00000gp/T/q2-AlphaDiversityFormat-oe9tdwif\n",
      "\n",
      "Running external command line application. This may print messages to stdout and/or stderr.\n",
      "The command being run is below. This command cannot be manually re-run as it will depend on temporary files that no longer exist.\n",
      "\n",
      "Command:\n",
      "\n",
      "faithpd -i /var/folders/hd/67t7954n4_bd9_fw90jxq_l00000gp/T/qiime2/youngm/data/935c4e99-ef96-43f6-8d9a-644cc15a3faa/data/feature-table.biom -t /var/folders/hd/67t7954n4_bd9_fw90jxq_l00000gp/T/qiime2/youngm/data/70bd8655-124d-40a5-8aad-e3798a44d3c3/data/tree.nwk -o /var/folders/hd/67t7954n4_bd9_fw90jxq_l00000gp/T/q2-AlphaDiversityFormat-8lqw1m8v\n",
      "\n",
      "Running external command line application. This may print messages to stdout and/or stderr.\n",
      "The command being run is below. This command cannot be manually re-run as it will depend on temporary files that no longer exist.\n",
      "\n",
      "Command:\n",
      "\n",
      "faithpd -i /var/folders/hd/67t7954n4_bd9_fw90jxq_l00000gp/T/qiime2/youngm/data/ca40e93e-68fb-4e5f-af0a-55b7708f6a7f/data/feature-table.biom -t /var/folders/hd/67t7954n4_bd9_fw90jxq_l00000gp/T/qiime2/youngm/data/70bd8655-124d-40a5-8aad-e3798a44d3c3/data/tree.nwk -o /var/folders/hd/67t7954n4_bd9_fw90jxq_l00000gp/T/q2-AlphaDiversityFormat-7aff3lwv\n",
      "\n",
      "Running external command line application. This may print messages to stdout and/or stderr.\n",
      "The command being run is below. This command cannot be manually re-run as it will depend on temporary files that no longer exist.\n",
      "\n",
      "Command:\n",
      "\n",
      "faithpd -i /var/folders/hd/67t7954n4_bd9_fw90jxq_l00000gp/T/qiime2/youngm/data/0d20263b-56e4-49ac-8048-fde38d86d352/data/feature-table.biom -t /var/folders/hd/67t7954n4_bd9_fw90jxq_l00000gp/T/qiime2/youngm/data/70bd8655-124d-40a5-8aad-e3798a44d3c3/data/tree.nwk -o /var/folders/hd/67t7954n4_bd9_fw90jxq_l00000gp/T/q2-AlphaDiversityFormat-3c1511bp\n",
      "\n",
      "Running external command line application. This may print messages to stdout and/or stderr.\n",
      "The command being run is below. This command cannot be manually re-run as it will depend on temporary files that no longer exist.\n",
      "\n",
      "Command:\n",
      "\n",
      "faithpd -i /var/folders/hd/67t7954n4_bd9_fw90jxq_l00000gp/T/qiime2/youngm/data/7a468a53-d258-40e7-bca2-b854a4b855cc/data/feature-table.biom -t /var/folders/hd/67t7954n4_bd9_fw90jxq_l00000gp/T/qiime2/youngm/data/70bd8655-124d-40a5-8aad-e3798a44d3c3/data/tree.nwk -o /var/folders/hd/67t7954n4_bd9_fw90jxq_l00000gp/T/q2-AlphaDiversityFormat-f9bfl7ja\n",
      "\n",
      "Running external command line application. This may print messages to stdout and/or stderr.\n",
      "The command being run is below. This command cannot be manually re-run as it will depend on temporary files that no longer exist.\n",
      "\n",
      "Command:\n",
      "\n",
      "faithpd -i /var/folders/hd/67t7954n4_bd9_fw90jxq_l00000gp/T/qiime2/youngm/data/a4341176-b1f5-436e-a6e1-d783460ae5b5/data/feature-table.biom -t /var/folders/hd/67t7954n4_bd9_fw90jxq_l00000gp/T/qiime2/youngm/data/70bd8655-124d-40a5-8aad-e3798a44d3c3/data/tree.nwk -o /var/folders/hd/67t7954n4_bd9_fw90jxq_l00000gp/T/q2-AlphaDiversityFormat-wyjopx_h\n",
      "\n",
      "Running external command line application. This may print messages to stdout and/or stderr.\n",
      "The command being run is below. This command cannot be manually re-run as it will depend on temporary files that no longer exist.\n",
      "\n",
      "Command:\n",
      "\n",
      "faithpd -i /var/folders/hd/67t7954n4_bd9_fw90jxq_l00000gp/T/qiime2/youngm/data/b409c62c-ad31-423c-8a19-1b62f96b4c56/data/feature-table.biom -t /var/folders/hd/67t7954n4_bd9_fw90jxq_l00000gp/T/qiime2/youngm/data/70bd8655-124d-40a5-8aad-e3798a44d3c3/data/tree.nwk -o /var/folders/hd/67t7954n4_bd9_fw90jxq_l00000gp/T/q2-AlphaDiversityFormat-jbumaahz\n",
      "\n",
      "Running external command line application. This may print messages to stdout and/or stderr.\n",
      "The command being run is below. This command cannot be manually re-run as it will depend on temporary files that no longer exist.\n",
      "\n",
      "Command:\n",
      "\n",
      "faithpd -i /var/folders/hd/67t7954n4_bd9_fw90jxq_l00000gp/T/qiime2/youngm/data/ab9b18b6-7dcb-4848-adf2-fa98bbc17964/data/feature-table.biom -t /var/folders/hd/67t7954n4_bd9_fw90jxq_l00000gp/T/qiime2/youngm/data/70bd8655-124d-40a5-8aad-e3798a44d3c3/data/tree.nwk -o /var/folders/hd/67t7954n4_bd9_fw90jxq_l00000gp/T/q2-AlphaDiversityFormat-2rfkbzau\n",
      "\n",
      "Running external command line application. This may print messages to stdout and/or stderr.\n",
      "The command being run is below. This command cannot be manually re-run as it will depend on temporary files that no longer exist.\n",
      "\n",
      "Command:\n",
      "\n",
      "faithpd -i /var/folders/hd/67t7954n4_bd9_fw90jxq_l00000gp/T/qiime2/youngm/data/90dd2069-5bbb-4cd0-9dde-4708fbf8683c/data/feature-table.biom -t /var/folders/hd/67t7954n4_bd9_fw90jxq_l00000gp/T/qiime2/youngm/data/70bd8655-124d-40a5-8aad-e3798a44d3c3/data/tree.nwk -o /var/folders/hd/67t7954n4_bd9_fw90jxq_l00000gp/T/q2-AlphaDiversityFormat-q8g2w901\n",
      "\n",
      "Running external command line application. This may print messages to stdout and/or stderr.\n",
      "The command being run is below. This command cannot be manually re-run as it will depend on temporary files that no longer exist.\n",
      "\n",
      "Command:\n",
      "\n",
      "faithpd -i /var/folders/hd/67t7954n4_bd9_fw90jxq_l00000gp/T/qiime2/youngm/data/df47b5f8-ab55-4a67-ada5-0bca290e5407/data/feature-table.biom -t /var/folders/hd/67t7954n4_bd9_fw90jxq_l00000gp/T/qiime2/youngm/data/70bd8655-124d-40a5-8aad-e3798a44d3c3/data/tree.nwk -o /var/folders/hd/67t7954n4_bd9_fw90jxq_l00000gp/T/q2-AlphaDiversityFormat-o5hfc9ig\n",
      "\n",
      "Running external command line application. This may print messages to stdout and/or stderr.\n",
      "The command being run is below. This command cannot be manually re-run as it will depend on temporary files that no longer exist.\n",
      "\n",
      "Command:\n",
      "\n",
      "faithpd -i /var/folders/hd/67t7954n4_bd9_fw90jxq_l00000gp/T/qiime2/youngm/data/b52707d0-ee97-49a1-8610-d969b3058535/data/feature-table.biom -t /var/folders/hd/67t7954n4_bd9_fw90jxq_l00000gp/T/qiime2/youngm/data/70bd8655-124d-40a5-8aad-e3798a44d3c3/data/tree.nwk -o /var/folders/hd/67t7954n4_bd9_fw90jxq_l00000gp/T/q2-AlphaDiversityFormat-bnuwlpo1\n",
      "\n",
      "Running external command line application. This may print messages to stdout and/or stderr.\n",
      "The command being run is below. This command cannot be manually re-run as it will depend on temporary files that no longer exist.\n",
      "\n",
      "Command:\n",
      "\n",
      "faithpd -i /var/folders/hd/67t7954n4_bd9_fw90jxq_l00000gp/T/qiime2/youngm/data/8c3948bf-256a-4ae9-a768-e6f9269729b6/data/feature-table.biom -t /var/folders/hd/67t7954n4_bd9_fw90jxq_l00000gp/T/qiime2/youngm/data/70bd8655-124d-40a5-8aad-e3798a44d3c3/data/tree.nwk -o /var/folders/hd/67t7954n4_bd9_fw90jxq_l00000gp/T/q2-AlphaDiversityFormat-u522o5ei\n",
      "\n",
      "Running external command line application. This may print messages to stdout and/or stderr.\n",
      "The command being run is below. This command cannot be manually re-run as it will depend on temporary files that no longer exist.\n",
      "\n",
      "Command:\n",
      "\n",
      "faithpd -i /var/folders/hd/67t7954n4_bd9_fw90jxq_l00000gp/T/qiime2/youngm/data/1c73ec5b-f9e2-413e-8ecc-8ab66d426963/data/feature-table.biom -t /var/folders/hd/67t7954n4_bd9_fw90jxq_l00000gp/T/qiime2/youngm/data/70bd8655-124d-40a5-8aad-e3798a44d3c3/data/tree.nwk -o /var/folders/hd/67t7954n4_bd9_fw90jxq_l00000gp/T/q2-AlphaDiversityFormat-8_oxc9e3\n",
      "\n",
      "Running external command line application. This may print messages to stdout and/or stderr.\n",
      "The command being run is below. This command cannot be manually re-run as it will depend on temporary files that no longer exist.\n",
      "\n",
      "Command:\n",
      "\n",
      "faithpd -i /var/folders/hd/67t7954n4_bd9_fw90jxq_l00000gp/T/qiime2/youngm/data/1769ea2e-4288-4554-aa31-06282de4e0e9/data/feature-table.biom -t /var/folders/hd/67t7954n4_bd9_fw90jxq_l00000gp/T/qiime2/youngm/data/70bd8655-124d-40a5-8aad-e3798a44d3c3/data/tree.nwk -o /var/folders/hd/67t7954n4_bd9_fw90jxq_l00000gp/T/q2-AlphaDiversityFormat-_2z7dpo4\n",
      "\n",
      "Running external command line application. This may print messages to stdout and/or stderr.\n",
      "The command being run is below. This command cannot be manually re-run as it will depend on temporary files that no longer exist.\n",
      "\n",
      "Command:\n",
      "\n",
      "faithpd -i /var/folders/hd/67t7954n4_bd9_fw90jxq_l00000gp/T/qiime2/youngm/data/224551e5-ee00-4c4f-aae9-86cb83efa2cc/data/feature-table.biom -t /var/folders/hd/67t7954n4_bd9_fw90jxq_l00000gp/T/qiime2/youngm/data/70bd8655-124d-40a5-8aad-e3798a44d3c3/data/tree.nwk -o /var/folders/hd/67t7954n4_bd9_fw90jxq_l00000gp/T/q2-AlphaDiversityFormat-t8m9ze3u\n",
      "\n",
      "Running external command line application. This may print messages to stdout and/or stderr.\n",
      "The command being run is below. This command cannot be manually re-run as it will depend on temporary files that no longer exist.\n",
      "\n",
      "Command:\n",
      "\n",
      "faithpd -i /var/folders/hd/67t7954n4_bd9_fw90jxq_l00000gp/T/qiime2/youngm/data/cb5784df-ba7d-4e10-9c09-a3c1ca2088e7/data/feature-table.biom -t /var/folders/hd/67t7954n4_bd9_fw90jxq_l00000gp/T/qiime2/youngm/data/70bd8655-124d-40a5-8aad-e3798a44d3c3/data/tree.nwk -o /var/folders/hd/67t7954n4_bd9_fw90jxq_l00000gp/T/q2-AlphaDiversityFormat-l21gircw\n",
      "\n",
      "Running external command line application. This may print messages to stdout and/or stderr.\n",
      "The command being run is below. This command cannot be manually re-run as it will depend on temporary files that no longer exist.\n",
      "\n",
      "Command:\n",
      "\n",
      "faithpd -i /var/folders/hd/67t7954n4_bd9_fw90jxq_l00000gp/T/qiime2/youngm/data/38260c21-c627-42ac-938f-80006973e2f9/data/feature-table.biom -t /var/folders/hd/67t7954n4_bd9_fw90jxq_l00000gp/T/qiime2/youngm/data/70bd8655-124d-40a5-8aad-e3798a44d3c3/data/tree.nwk -o /var/folders/hd/67t7954n4_bd9_fw90jxq_l00000gp/T/q2-AlphaDiversityFormat-5lywdr5o\n",
      "\n",
      "Running external command line application. This may print messages to stdout and/or stderr.\n",
      "The command being run is below. This command cannot be manually re-run as it will depend on temporary files that no longer exist.\n",
      "\n",
      "Command:\n",
      "\n",
      "faithpd -i /var/folders/hd/67t7954n4_bd9_fw90jxq_l00000gp/T/qiime2/youngm/data/764aa57f-c526-4fb2-a0e6-27745dd020ee/data/feature-table.biom -t /var/folders/hd/67t7954n4_bd9_fw90jxq_l00000gp/T/qiime2/youngm/data/70bd8655-124d-40a5-8aad-e3798a44d3c3/data/tree.nwk -o /var/folders/hd/67t7954n4_bd9_fw90jxq_l00000gp/T/q2-AlphaDiversityFormat-pdj1ted2\n",
      "\n",
      "Running external command line application. This may print messages to stdout and/or stderr.\n",
      "The command being run is below. This command cannot be manually re-run as it will depend on temporary files that no longer exist.\n",
      "\n",
      "Command:\n",
      "\n",
      "faithpd -i /var/folders/hd/67t7954n4_bd9_fw90jxq_l00000gp/T/qiime2/youngm/data/ad48026e-b78b-4c42-98ae-165f867308af/data/feature-table.biom -t /var/folders/hd/67t7954n4_bd9_fw90jxq_l00000gp/T/qiime2/youngm/data/70bd8655-124d-40a5-8aad-e3798a44d3c3/data/tree.nwk -o /var/folders/hd/67t7954n4_bd9_fw90jxq_l00000gp/T/q2-AlphaDiversityFormat-omtq5rp9\n",
      "\n",
      "Running external command line application. This may print messages to stdout and/or stderr.\n",
      "The command being run is below. This command cannot be manually re-run as it will depend on temporary files that no longer exist.\n",
      "\n",
      "Command:\n",
      "\n",
      "faithpd -i /var/folders/hd/67t7954n4_bd9_fw90jxq_l00000gp/T/qiime2/youngm/data/057c4ecb-5e5e-4500-8416-c4cd29f8e24c/data/feature-table.biom -t /var/folders/hd/67t7954n4_bd9_fw90jxq_l00000gp/T/qiime2/youngm/data/70bd8655-124d-40a5-8aad-e3798a44d3c3/data/tree.nwk -o /var/folders/hd/67t7954n4_bd9_fw90jxq_l00000gp/T/q2-AlphaDiversityFormat-pzvol40e\n",
      "\n",
      "Running external command line application. This may print messages to stdout and/or stderr.\n",
      "The command being run is below. This command cannot be manually re-run as it will depend on temporary files that no longer exist.\n",
      "\n",
      "Command:\n",
      "\n",
      "faithpd -i /var/folders/hd/67t7954n4_bd9_fw90jxq_l00000gp/T/qiime2/youngm/data/b67107a1-f82b-4e09-949d-40ad62fd9596/data/feature-table.biom -t /var/folders/hd/67t7954n4_bd9_fw90jxq_l00000gp/T/qiime2/youngm/data/70bd8655-124d-40a5-8aad-e3798a44d3c3/data/tree.nwk -o /var/folders/hd/67t7954n4_bd9_fw90jxq_l00000gp/T/q2-AlphaDiversityFormat-9o7k8q9l\n",
      "\n",
      "Running external command line application. This may print messages to stdout and/or stderr.\n",
      "The command being run is below. This command cannot be manually re-run as it will depend on temporary files that no longer exist.\n",
      "\n",
      "Command:\n",
      "\n",
      "faithpd -i /var/folders/hd/67t7954n4_bd9_fw90jxq_l00000gp/T/qiime2/youngm/data/e8a07f60-7af3-4685-844a-fad2a965c7df/data/feature-table.biom -t /var/folders/hd/67t7954n4_bd9_fw90jxq_l00000gp/T/qiime2/youngm/data/70bd8655-124d-40a5-8aad-e3798a44d3c3/data/tree.nwk -o /var/folders/hd/67t7954n4_bd9_fw90jxq_l00000gp/T/q2-AlphaDiversityFormat-eiy62z80\n",
      "\n",
      "Running external command line application. This may print messages to stdout and/or stderr.\n",
      "The command being run is below. This command cannot be manually re-run as it will depend on temporary files that no longer exist.\n",
      "\n",
      "Command:\n",
      "\n",
      "faithpd -i /var/folders/hd/67t7954n4_bd9_fw90jxq_l00000gp/T/qiime2/youngm/data/c6dcc88d-9322-43bb-a439-4b58667d76a5/data/feature-table.biom -t /var/folders/hd/67t7954n4_bd9_fw90jxq_l00000gp/T/qiime2/youngm/data/70bd8655-124d-40a5-8aad-e3798a44d3c3/data/tree.nwk -o /var/folders/hd/67t7954n4_bd9_fw90jxq_l00000gp/T/q2-AlphaDiversityFormat-wd3onumi\n",
      "\n",
      "Running external command line application. This may print messages to stdout and/or stderr.\n",
      "The command being run is below. This command cannot be manually re-run as it will depend on temporary files that no longer exist.\n",
      "\n",
      "Command:\n",
      "\n",
      "faithpd -i /var/folders/hd/67t7954n4_bd9_fw90jxq_l00000gp/T/qiime2/youngm/data/74296491-7991-4c8f-a915-666754c6c27e/data/feature-table.biom -t /var/folders/hd/67t7954n4_bd9_fw90jxq_l00000gp/T/qiime2/youngm/data/70bd8655-124d-40a5-8aad-e3798a44d3c3/data/tree.nwk -o /var/folders/hd/67t7954n4_bd9_fw90jxq_l00000gp/T/q2-AlphaDiversityFormat-ehrxyzdq\n",
      "\n",
      "Running external command line application. This may print messages to stdout and/or stderr.\n",
      "The command being run is below. This command cannot be manually re-run as it will depend on temporary files that no longer exist.\n",
      "\n",
      "Command:\n",
      "\n",
      "faithpd -i /var/folders/hd/67t7954n4_bd9_fw90jxq_l00000gp/T/qiime2/youngm/data/47ed195b-fc4a-4cdf-8fbb-bc1690d157b0/data/feature-table.biom -t /var/folders/hd/67t7954n4_bd9_fw90jxq_l00000gp/T/qiime2/youngm/data/70bd8655-124d-40a5-8aad-e3798a44d3c3/data/tree.nwk -o /var/folders/hd/67t7954n4_bd9_fw90jxq_l00000gp/T/q2-AlphaDiversityFormat-xkkirmhb\n",
      "\n",
      "Running external command line application. This may print messages to stdout and/or stderr.\n",
      "The command being run is below. This command cannot be manually re-run as it will depend on temporary files that no longer exist.\n",
      "\n",
      "Command:\n",
      "\n",
      "faithpd -i /var/folders/hd/67t7954n4_bd9_fw90jxq_l00000gp/T/qiime2/youngm/data/f380bed3-c22c-4eab-bcf0-f94c8a92116e/data/feature-table.biom -t /var/folders/hd/67t7954n4_bd9_fw90jxq_l00000gp/T/qiime2/youngm/data/70bd8655-124d-40a5-8aad-e3798a44d3c3/data/tree.nwk -o /var/folders/hd/67t7954n4_bd9_fw90jxq_l00000gp/T/q2-AlphaDiversityFormat-s35rlejo\n",
      "\n",
      "Running external command line application. This may print messages to stdout and/or stderr.\n",
      "The command being run is below. This command cannot be manually re-run as it will depend on temporary files that no longer exist.\n",
      "\n",
      "Command:\n",
      "\n",
      "faithpd -i /var/folders/hd/67t7954n4_bd9_fw90jxq_l00000gp/T/qiime2/youngm/data/83365db1-76fc-4689-8bdf-93299b275cc3/data/feature-table.biom -t /var/folders/hd/67t7954n4_bd9_fw90jxq_l00000gp/T/qiime2/youngm/data/70bd8655-124d-40a5-8aad-e3798a44d3c3/data/tree.nwk -o /var/folders/hd/67t7954n4_bd9_fw90jxq_l00000gp/T/q2-AlphaDiversityFormat-xwumev5r\n",
      "\n",
      "Running external command line application. This may print messages to stdout and/or stderr.\n",
      "The command being run is below. This command cannot be manually re-run as it will depend on temporary files that no longer exist.\n",
      "\n",
      "Command:\n",
      "\n",
      "faithpd -i /var/folders/hd/67t7954n4_bd9_fw90jxq_l00000gp/T/qiime2/youngm/data/6d614a8f-8aef-4863-8ac3-694acbba340f/data/feature-table.biom -t /var/folders/hd/67t7954n4_bd9_fw90jxq_l00000gp/T/qiime2/youngm/data/70bd8655-124d-40a5-8aad-e3798a44d3c3/data/tree.nwk -o /var/folders/hd/67t7954n4_bd9_fw90jxq_l00000gp/T/q2-AlphaDiversityFormat-17hh61zy\n",
      "\n",
      "Running external command line application. This may print messages to stdout and/or stderr.\n",
      "The command being run is below. This command cannot be manually re-run as it will depend on temporary files that no longer exist.\n",
      "\n",
      "Command:\n",
      "\n",
      "faithpd -i /var/folders/hd/67t7954n4_bd9_fw90jxq_l00000gp/T/qiime2/youngm/data/2b58bcdd-98d4-41af-9fd1-dcebb71744b9/data/feature-table.biom -t /var/folders/hd/67t7954n4_bd9_fw90jxq_l00000gp/T/qiime2/youngm/data/70bd8655-124d-40a5-8aad-e3798a44d3c3/data/tree.nwk -o /var/folders/hd/67t7954n4_bd9_fw90jxq_l00000gp/T/q2-AlphaDiversityFormat-1586zh3z\n",
      "\n",
      "Running external command line application. This may print messages to stdout and/or stderr.\n",
      "The command being run is below. This command cannot be manually re-run as it will depend on temporary files that no longer exist.\n",
      "\n",
      "Command:\n",
      "\n",
      "faithpd -i /var/folders/hd/67t7954n4_bd9_fw90jxq_l00000gp/T/qiime2/youngm/data/55c5fdf0-5c04-437a-8544-1bcf9a0ccc2b/data/feature-table.biom -t /var/folders/hd/67t7954n4_bd9_fw90jxq_l00000gp/T/qiime2/youngm/data/70bd8655-124d-40a5-8aad-e3798a44d3c3/data/tree.nwk -o /var/folders/hd/67t7954n4_bd9_fw90jxq_l00000gp/T/q2-AlphaDiversityFormat-7cr_g8_s\n",
      "\n",
      "Running external command line application. This may print messages to stdout and/or stderr.\n",
      "The command being run is below. This command cannot be manually re-run as it will depend on temporary files that no longer exist.\n",
      "\n",
      "Command:\n",
      "\n",
      "faithpd -i /var/folders/hd/67t7954n4_bd9_fw90jxq_l00000gp/T/qiime2/youngm/data/45e34fb2-27e1-4664-8fd1-04c0702b50fb/data/feature-table.biom -t /var/folders/hd/67t7954n4_bd9_fw90jxq_l00000gp/T/qiime2/youngm/data/70bd8655-124d-40a5-8aad-e3798a44d3c3/data/tree.nwk -o /var/folders/hd/67t7954n4_bd9_fw90jxq_l00000gp/T/q2-AlphaDiversityFormat-n6wkv8q4\n",
      "\n",
      "Running external command line application. This may print messages to stdout and/or stderr.\n",
      "The command being run is below. This command cannot be manually re-run as it will depend on temporary files that no longer exist.\n",
      "\n",
      "Command:\n",
      "\n",
      "faithpd -i /var/folders/hd/67t7954n4_bd9_fw90jxq_l00000gp/T/qiime2/youngm/data/150ba59b-8de4-40fb-8db5-80f81ce25944/data/feature-table.biom -t /var/folders/hd/67t7954n4_bd9_fw90jxq_l00000gp/T/qiime2/youngm/data/70bd8655-124d-40a5-8aad-e3798a44d3c3/data/tree.nwk -o /var/folders/hd/67t7954n4_bd9_fw90jxq_l00000gp/T/q2-AlphaDiversityFormat-447e6cu7\n",
      "\n",
      "Running external command line application. This may print messages to stdout and/or stderr.\n",
      "The command being run is below. This command cannot be manually re-run as it will depend on temporary files that no longer exist.\n",
      "\n",
      "Command:\n",
      "\n",
      "faithpd -i /var/folders/hd/67t7954n4_bd9_fw90jxq_l00000gp/T/qiime2/youngm/data/853777b0-853c-4737-b394-c1c71132e86f/data/feature-table.biom -t /var/folders/hd/67t7954n4_bd9_fw90jxq_l00000gp/T/qiime2/youngm/data/70bd8655-124d-40a5-8aad-e3798a44d3c3/data/tree.nwk -o /var/folders/hd/67t7954n4_bd9_fw90jxq_l00000gp/T/q2-AlphaDiversityFormat-h81z3iss\n",
      "\n",
      "Running external command line application. This may print messages to stdout and/or stderr.\n",
      "The command being run is below. This command cannot be manually re-run as it will depend on temporary files that no longer exist.\n",
      "\n",
      "Command:\n",
      "\n",
      "faithpd -i /var/folders/hd/67t7954n4_bd9_fw90jxq_l00000gp/T/qiime2/youngm/data/6e220813-2ee7-4852-8cf7-38a265cec1d5/data/feature-table.biom -t /var/folders/hd/67t7954n4_bd9_fw90jxq_l00000gp/T/qiime2/youngm/data/70bd8655-124d-40a5-8aad-e3798a44d3c3/data/tree.nwk -o /var/folders/hd/67t7954n4_bd9_fw90jxq_l00000gp/T/q2-AlphaDiversityFormat-4rcnqzpy\n",
      "\n",
      "Running external command line application. This may print messages to stdout and/or stderr.\n",
      "The command being run is below. This command cannot be manually re-run as it will depend on temporary files that no longer exist.\n",
      "\n",
      "Command:\n",
      "\n",
      "faithpd -i /var/folders/hd/67t7954n4_bd9_fw90jxq_l00000gp/T/qiime2/youngm/data/b1bd7256-3b0a-42c6-a0aa-ec7d2cdb33bd/data/feature-table.biom -t /var/folders/hd/67t7954n4_bd9_fw90jxq_l00000gp/T/qiime2/youngm/data/70bd8655-124d-40a5-8aad-e3798a44d3c3/data/tree.nwk -o /var/folders/hd/67t7954n4_bd9_fw90jxq_l00000gp/T/q2-AlphaDiversityFormat-laus35zf\n",
      "\n",
      "Running external command line application. This may print messages to stdout and/or stderr.\n",
      "The command being run is below. This command cannot be manually re-run as it will depend on temporary files that no longer exist.\n",
      "\n",
      "Command:\n",
      "\n",
      "faithpd -i /var/folders/hd/67t7954n4_bd9_fw90jxq_l00000gp/T/qiime2/youngm/data/fa47d12f-a506-4e7e-85fd-c1f7cbbcb17e/data/feature-table.biom -t /var/folders/hd/67t7954n4_bd9_fw90jxq_l00000gp/T/qiime2/youngm/data/70bd8655-124d-40a5-8aad-e3798a44d3c3/data/tree.nwk -o /var/folders/hd/67t7954n4_bd9_fw90jxq_l00000gp/T/q2-AlphaDiversityFormat-7849dqzz\n",
      "\n",
      "Running external command line application. This may print messages to stdout and/or stderr.\n",
      "The command being run is below. This command cannot be manually re-run as it will depend on temporary files that no longer exist.\n",
      "\n",
      "Command:\n",
      "\n",
      "faithpd -i /var/folders/hd/67t7954n4_bd9_fw90jxq_l00000gp/T/qiime2/youngm/data/d8d1f226-1c2f-4732-a407-06372211f9ca/data/feature-table.biom -t /var/folders/hd/67t7954n4_bd9_fw90jxq_l00000gp/T/qiime2/youngm/data/70bd8655-124d-40a5-8aad-e3798a44d3c3/data/tree.nwk -o /var/folders/hd/67t7954n4_bd9_fw90jxq_l00000gp/T/q2-AlphaDiversityFormat-mp38kstx\n",
      "\n",
      "Running external command line application. This may print messages to stdout and/or stderr.\n",
      "The command being run is below. This command cannot be manually re-run as it will depend on temporary files that no longer exist.\n",
      "\n",
      "Command:\n",
      "\n",
      "faithpd -i /var/folders/hd/67t7954n4_bd9_fw90jxq_l00000gp/T/qiime2/youngm/data/84e4f2ea-be3c-45ec-8d4e-455a0229353b/data/feature-table.biom -t /var/folders/hd/67t7954n4_bd9_fw90jxq_l00000gp/T/qiime2/youngm/data/70bd8655-124d-40a5-8aad-e3798a44d3c3/data/tree.nwk -o /var/folders/hd/67t7954n4_bd9_fw90jxq_l00000gp/T/q2-AlphaDiversityFormat-2rri56pc\n",
      "\n",
      "Running external command line application. This may print messages to stdout and/or stderr.\n",
      "The command being run is below. This command cannot be manually re-run as it will depend on temporary files that no longer exist.\n",
      "\n",
      "Command:\n",
      "\n",
      "faithpd -i /var/folders/hd/67t7954n4_bd9_fw90jxq_l00000gp/T/qiime2/youngm/data/00b1900c-1161-439f-9014-ac0904079ee2/data/feature-table.biom -t /var/folders/hd/67t7954n4_bd9_fw90jxq_l00000gp/T/qiime2/youngm/data/70bd8655-124d-40a5-8aad-e3798a44d3c3/data/tree.nwk -o /var/folders/hd/67t7954n4_bd9_fw90jxq_l00000gp/T/q2-AlphaDiversityFormat-p5xpbe4c\n",
      "\n",
      "Running external command line application. This may print messages to stdout and/or stderr.\n",
      "The command being run is below. This command cannot be manually re-run as it will depend on temporary files that no longer exist.\n",
      "\n",
      "Command:\n",
      "\n",
      "faithpd -i /var/folders/hd/67t7954n4_bd9_fw90jxq_l00000gp/T/qiime2/youngm/data/9edea149-6c1b-4729-bd56-c2141c81dfef/data/feature-table.biom -t /var/folders/hd/67t7954n4_bd9_fw90jxq_l00000gp/T/qiime2/youngm/data/70bd8655-124d-40a5-8aad-e3798a44d3c3/data/tree.nwk -o /var/folders/hd/67t7954n4_bd9_fw90jxq_l00000gp/T/q2-AlphaDiversityFormat-nb6ck7yk\n",
      "\n",
      "Running external command line application. This may print messages to stdout and/or stderr.\n",
      "The command being run is below. This command cannot be manually re-run as it will depend on temporary files that no longer exist.\n",
      "\n",
      "Command:\n",
      "\n",
      "faithpd -i /var/folders/hd/67t7954n4_bd9_fw90jxq_l00000gp/T/qiime2/youngm/data/ae79b661-27fb-4ae0-9232-bb984feee201/data/feature-table.biom -t /var/folders/hd/67t7954n4_bd9_fw90jxq_l00000gp/T/qiime2/youngm/data/70bd8655-124d-40a5-8aad-e3798a44d3c3/data/tree.nwk -o /var/folders/hd/67t7954n4_bd9_fw90jxq_l00000gp/T/q2-AlphaDiversityFormat-7u1xz6oh\n",
      "\n",
      "Running external command line application. This may print messages to stdout and/or stderr.\n",
      "The command being run is below. This command cannot be manually re-run as it will depend on temporary files that no longer exist.\n",
      "\n",
      "Command:\n",
      "\n",
      "faithpd -i /var/folders/hd/67t7954n4_bd9_fw90jxq_l00000gp/T/qiime2/youngm/data/4e19933d-ef0a-45b7-950d-efb65805633b/data/feature-table.biom -t /var/folders/hd/67t7954n4_bd9_fw90jxq_l00000gp/T/qiime2/youngm/data/70bd8655-124d-40a5-8aad-e3798a44d3c3/data/tree.nwk -o /var/folders/hd/67t7954n4_bd9_fw90jxq_l00000gp/T/q2-AlphaDiversityFormat-v854r1as\n",
      "\n",
      "Running external command line application. This may print messages to stdout and/or stderr.\n",
      "The command being run is below. This command cannot be manually re-run as it will depend on temporary files that no longer exist.\n",
      "\n",
      "Command:\n",
      "\n",
      "faithpd -i /var/folders/hd/67t7954n4_bd9_fw90jxq_l00000gp/T/qiime2/youngm/data/e543f8ce-f46a-46ee-9c7f-5a5814ee7cdd/data/feature-table.biom -t /var/folders/hd/67t7954n4_bd9_fw90jxq_l00000gp/T/qiime2/youngm/data/70bd8655-124d-40a5-8aad-e3798a44d3c3/data/tree.nwk -o /var/folders/hd/67t7954n4_bd9_fw90jxq_l00000gp/T/q2-AlphaDiversityFormat-l9m8gk6t\n",
      "\n",
      "Running external command line application. This may print messages to stdout and/or stderr.\n",
      "The command being run is below. This command cannot be manually re-run as it will depend on temporary files that no longer exist.\n",
      "\n",
      "Command:\n",
      "\n",
      "faithpd -i /var/folders/hd/67t7954n4_bd9_fw90jxq_l00000gp/T/qiime2/youngm/data/7647687f-2648-4fc4-b246-3885b5894a68/data/feature-table.biom -t /var/folders/hd/67t7954n4_bd9_fw90jxq_l00000gp/T/qiime2/youngm/data/70bd8655-124d-40a5-8aad-e3798a44d3c3/data/tree.nwk -o /var/folders/hd/67t7954n4_bd9_fw90jxq_l00000gp/T/q2-AlphaDiversityFormat-kji5ss26\n",
      "\n",
      "Running external command line application. This may print messages to stdout and/or stderr.\n",
      "The command being run is below. This command cannot be manually re-run as it will depend on temporary files that no longer exist.\n",
      "\n",
      "Command:\n",
      "\n",
      "faithpd -i /var/folders/hd/67t7954n4_bd9_fw90jxq_l00000gp/T/qiime2/youngm/data/328d6b0a-2bc7-4873-8c1d-b9919e96712a/data/feature-table.biom -t /var/folders/hd/67t7954n4_bd9_fw90jxq_l00000gp/T/qiime2/youngm/data/70bd8655-124d-40a5-8aad-e3798a44d3c3/data/tree.nwk -o /var/folders/hd/67t7954n4_bd9_fw90jxq_l00000gp/T/q2-AlphaDiversityFormat-5p1jrpy2\n",
      "\n",
      "Running external command line application. This may print messages to stdout and/or stderr.\n",
      "The command being run is below. This command cannot be manually re-run as it will depend on temporary files that no longer exist.\n",
      "\n",
      "Command:\n",
      "\n",
      "faithpd -i /var/folders/hd/67t7954n4_bd9_fw90jxq_l00000gp/T/qiime2/youngm/data/229c1618-7ab8-46c0-b0e7-7457766eeef0/data/feature-table.biom -t /var/folders/hd/67t7954n4_bd9_fw90jxq_l00000gp/T/qiime2/youngm/data/70bd8655-124d-40a5-8aad-e3798a44d3c3/data/tree.nwk -o /var/folders/hd/67t7954n4_bd9_fw90jxq_l00000gp/T/q2-AlphaDiversityFormat-9s1uibej\n",
      "\n",
      "Running external command line application. This may print messages to stdout and/or stderr.\n",
      "The command being run is below. This command cannot be manually re-run as it will depend on temporary files that no longer exist.\n",
      "\n",
      "Command:\n",
      "\n",
      "faithpd -i /var/folders/hd/67t7954n4_bd9_fw90jxq_l00000gp/T/qiime2/youngm/data/cb480b95-4ad5-49ed-9198-e2d4237b82ea/data/feature-table.biom -t /var/folders/hd/67t7954n4_bd9_fw90jxq_l00000gp/T/qiime2/youngm/data/70bd8655-124d-40a5-8aad-e3798a44d3c3/data/tree.nwk -o /var/folders/hd/67t7954n4_bd9_fw90jxq_l00000gp/T/q2-AlphaDiversityFormat-ecdc3csa\n",
      "\n",
      "Running external command line application. This may print messages to stdout and/or stderr.\n",
      "The command being run is below. This command cannot be manually re-run as it will depend on temporary files that no longer exist.\n",
      "\n",
      "Command:\n",
      "\n",
      "faithpd -i /var/folders/hd/67t7954n4_bd9_fw90jxq_l00000gp/T/qiime2/youngm/data/df57b9fa-9683-4780-859f-a4f972eb7320/data/feature-table.biom -t /var/folders/hd/67t7954n4_bd9_fw90jxq_l00000gp/T/qiime2/youngm/data/70bd8655-124d-40a5-8aad-e3798a44d3c3/data/tree.nwk -o /var/folders/hd/67t7954n4_bd9_fw90jxq_l00000gp/T/q2-AlphaDiversityFormat-dtx3nhhz\n",
      "\n",
      "Running external command line application. This may print messages to stdout and/or stderr.\n",
      "The command being run is below. This command cannot be manually re-run as it will depend on temporary files that no longer exist.\n",
      "\n",
      "Command:\n",
      "\n",
      "faithpd -i /var/folders/hd/67t7954n4_bd9_fw90jxq_l00000gp/T/qiime2/youngm/data/21bf494f-da67-4385-8585-29d49ed7852d/data/feature-table.biom -t /var/folders/hd/67t7954n4_bd9_fw90jxq_l00000gp/T/qiime2/youngm/data/70bd8655-124d-40a5-8aad-e3798a44d3c3/data/tree.nwk -o /var/folders/hd/67t7954n4_bd9_fw90jxq_l00000gp/T/q2-AlphaDiversityFormat-zj6mafwk\n",
      "\n",
      "Running external command line application. This may print messages to stdout and/or stderr.\n",
      "The command being run is below. This command cannot be manually re-run as it will depend on temporary files that no longer exist.\n",
      "\n",
      "Command:\n",
      "\n",
      "faithpd -i /var/folders/hd/67t7954n4_bd9_fw90jxq_l00000gp/T/qiime2/youngm/data/1e906049-fb11-495c-b375-a002f9d66aed/data/feature-table.biom -t /var/folders/hd/67t7954n4_bd9_fw90jxq_l00000gp/T/qiime2/youngm/data/70bd8655-124d-40a5-8aad-e3798a44d3c3/data/tree.nwk -o /var/folders/hd/67t7954n4_bd9_fw90jxq_l00000gp/T/q2-AlphaDiversityFormat-0_s2oqs4\n",
      "\n",
      "Running external command line application. This may print messages to stdout and/or stderr.\n",
      "The command being run is below. This command cannot be manually re-run as it will depend on temporary files that no longer exist.\n",
      "\n",
      "Command:\n",
      "\n",
      "faithpd -i /var/folders/hd/67t7954n4_bd9_fw90jxq_l00000gp/T/qiime2/youngm/data/acc5b0eb-6738-450a-9954-cae7dca52023/data/feature-table.biom -t /var/folders/hd/67t7954n4_bd9_fw90jxq_l00000gp/T/qiime2/youngm/data/70bd8655-124d-40a5-8aad-e3798a44d3c3/data/tree.nwk -o /var/folders/hd/67t7954n4_bd9_fw90jxq_l00000gp/T/q2-AlphaDiversityFormat-5k0mkp7w\n",
      "\n",
      "Running external command line application. This may print messages to stdout and/or stderr.\n",
      "The command being run is below. This command cannot be manually re-run as it will depend on temporary files that no longer exist.\n",
      "\n",
      "Command:\n",
      "\n",
      "faithpd -i /var/folders/hd/67t7954n4_bd9_fw90jxq_l00000gp/T/qiime2/youngm/data/32250469-b6c5-4f5c-82b5-d423381fd8ff/data/feature-table.biom -t /var/folders/hd/67t7954n4_bd9_fw90jxq_l00000gp/T/qiime2/youngm/data/70bd8655-124d-40a5-8aad-e3798a44d3c3/data/tree.nwk -o /var/folders/hd/67t7954n4_bd9_fw90jxq_l00000gp/T/q2-AlphaDiversityFormat-2tdcza8g\n",
      "\n",
      "Running external command line application. This may print messages to stdout and/or stderr.\n",
      "The command being run is below. This command cannot be manually re-run as it will depend on temporary files that no longer exist.\n",
      "\n",
      "Command:\n",
      "\n",
      "faithpd -i /var/folders/hd/67t7954n4_bd9_fw90jxq_l00000gp/T/qiime2/youngm/data/80d53edd-028d-4e4f-ae5d-ea74505e6aba/data/feature-table.biom -t /var/folders/hd/67t7954n4_bd9_fw90jxq_l00000gp/T/qiime2/youngm/data/70bd8655-124d-40a5-8aad-e3798a44d3c3/data/tree.nwk -o /var/folders/hd/67t7954n4_bd9_fw90jxq_l00000gp/T/q2-AlphaDiversityFormat-hv53q_l4\n",
      "\n",
      "Running external command line application. This may print messages to stdout and/or stderr.\n",
      "The command being run is below. This command cannot be manually re-run as it will depend on temporary files that no longer exist.\n",
      "\n",
      "Command:\n",
      "\n",
      "faithpd -i /var/folders/hd/67t7954n4_bd9_fw90jxq_l00000gp/T/qiime2/youngm/data/9099309a-e6b8-4756-b058-69a3f23e7370/data/feature-table.biom -t /var/folders/hd/67t7954n4_bd9_fw90jxq_l00000gp/T/qiime2/youngm/data/70bd8655-124d-40a5-8aad-e3798a44d3c3/data/tree.nwk -o /var/folders/hd/67t7954n4_bd9_fw90jxq_l00000gp/T/q2-AlphaDiversityFormat-bh404ym0\n",
      "\n",
      "Running external command line application. This may print messages to stdout and/or stderr.\n",
      "The command being run is below. This command cannot be manually re-run as it will depend on temporary files that no longer exist.\n",
      "\n",
      "Command:\n",
      "\n",
      "faithpd -i /var/folders/hd/67t7954n4_bd9_fw90jxq_l00000gp/T/qiime2/youngm/data/35876fa9-4b20-4259-a0a0-7e6647f1fcec/data/feature-table.biom -t /var/folders/hd/67t7954n4_bd9_fw90jxq_l00000gp/T/qiime2/youngm/data/70bd8655-124d-40a5-8aad-e3798a44d3c3/data/tree.nwk -o /var/folders/hd/67t7954n4_bd9_fw90jxq_l00000gp/T/q2-AlphaDiversityFormat-q16uq_wq\n",
      "\n",
      "Running external command line application. This may print messages to stdout and/or stderr.\n",
      "The command being run is below. This command cannot be manually re-run as it will depend on temporary files that no longer exist.\n",
      "\n",
      "Command:\n",
      "\n",
      "faithpd -i /var/folders/hd/67t7954n4_bd9_fw90jxq_l00000gp/T/qiime2/youngm/data/1ac1b024-297a-4096-857a-6f44e5c9d412/data/feature-table.biom -t /var/folders/hd/67t7954n4_bd9_fw90jxq_l00000gp/T/qiime2/youngm/data/70bd8655-124d-40a5-8aad-e3798a44d3c3/data/tree.nwk -o /var/folders/hd/67t7954n4_bd9_fw90jxq_l00000gp/T/q2-AlphaDiversityFormat-syaslpel\n",
      "\n",
      "Running external command line application. This may print messages to stdout and/or stderr.\n",
      "The command being run is below. This command cannot be manually re-run as it will depend on temporary files that no longer exist.\n",
      "\n",
      "Command:\n",
      "\n",
      "faithpd -i /var/folders/hd/67t7954n4_bd9_fw90jxq_l00000gp/T/qiime2/youngm/data/66d9e1e9-9363-4440-ad8b-06a8b7b0ed88/data/feature-table.biom -t /var/folders/hd/67t7954n4_bd9_fw90jxq_l00000gp/T/qiime2/youngm/data/70bd8655-124d-40a5-8aad-e3798a44d3c3/data/tree.nwk -o /var/folders/hd/67t7954n4_bd9_fw90jxq_l00000gp/T/q2-AlphaDiversityFormat-6m_ogz2z\n",
      "\n",
      "Running external command line application. This may print messages to stdout and/or stderr.\n",
      "The command being run is below. This command cannot be manually re-run as it will depend on temporary files that no longer exist.\n",
      "\n",
      "Command:\n",
      "\n",
      "faithpd -i /var/folders/hd/67t7954n4_bd9_fw90jxq_l00000gp/T/qiime2/youngm/data/1b0981ad-473f-4fbe-8ed1-7ed54c541d05/data/feature-table.biom -t /var/folders/hd/67t7954n4_bd9_fw90jxq_l00000gp/T/qiime2/youngm/data/70bd8655-124d-40a5-8aad-e3798a44d3c3/data/tree.nwk -o /var/folders/hd/67t7954n4_bd9_fw90jxq_l00000gp/T/q2-AlphaDiversityFormat-88ct9npe\n",
      "\n",
      "Running external command line application. This may print messages to stdout and/or stderr.\n",
      "The command being run is below. This command cannot be manually re-run as it will depend on temporary files that no longer exist.\n",
      "\n",
      "Command:\n",
      "\n",
      "faithpd -i /var/folders/hd/67t7954n4_bd9_fw90jxq_l00000gp/T/qiime2/youngm/data/7347123a-4857-4fe2-b99f-72fd418dd8b8/data/feature-table.biom -t /var/folders/hd/67t7954n4_bd9_fw90jxq_l00000gp/T/qiime2/youngm/data/70bd8655-124d-40a5-8aad-e3798a44d3c3/data/tree.nwk -o /var/folders/hd/67t7954n4_bd9_fw90jxq_l00000gp/T/q2-AlphaDiversityFormat-sq_x6lmt\n",
      "\n",
      "Running external command line application. This may print messages to stdout and/or stderr.\n",
      "The command being run is below. This command cannot be manually re-run as it will depend on temporary files that no longer exist.\n",
      "\n",
      "Command:\n",
      "\n",
      "faithpd -i /var/folders/hd/67t7954n4_bd9_fw90jxq_l00000gp/T/qiime2/youngm/data/9d768613-964a-4cfe-aa77-32f6ab06fc8f/data/feature-table.biom -t /var/folders/hd/67t7954n4_bd9_fw90jxq_l00000gp/T/qiime2/youngm/data/70bd8655-124d-40a5-8aad-e3798a44d3c3/data/tree.nwk -o /var/folders/hd/67t7954n4_bd9_fw90jxq_l00000gp/T/q2-AlphaDiversityFormat-3784ll88\n",
      "\n",
      "Running external command line application. This may print messages to stdout and/or stderr.\n",
      "The command being run is below. This command cannot be manually re-run as it will depend on temporary files that no longer exist.\n",
      "\n",
      "Command:\n",
      "\n",
      "faithpd -i /var/folders/hd/67t7954n4_bd9_fw90jxq_l00000gp/T/qiime2/youngm/data/8984dc45-2726-46d7-97f1-134c525729b5/data/feature-table.biom -t /var/folders/hd/67t7954n4_bd9_fw90jxq_l00000gp/T/qiime2/youngm/data/70bd8655-124d-40a5-8aad-e3798a44d3c3/data/tree.nwk -o /var/folders/hd/67t7954n4_bd9_fw90jxq_l00000gp/T/q2-AlphaDiversityFormat-5nihlgmt\n",
      "\n",
      "Running external command line application. This may print messages to stdout and/or stderr.\n",
      "The command being run is below. This command cannot be manually re-run as it will depend on temporary files that no longer exist.\n",
      "\n",
      "Command:\n",
      "\n",
      "faithpd -i /var/folders/hd/67t7954n4_bd9_fw90jxq_l00000gp/T/qiime2/youngm/data/e8304840-9c41-426a-881e-601e7d35eedf/data/feature-table.biom -t /var/folders/hd/67t7954n4_bd9_fw90jxq_l00000gp/T/qiime2/youngm/data/70bd8655-124d-40a5-8aad-e3798a44d3c3/data/tree.nwk -o /var/folders/hd/67t7954n4_bd9_fw90jxq_l00000gp/T/q2-AlphaDiversityFormat-pmw0lc7f\n",
      "\n",
      "Running external command line application. This may print messages to stdout and/or stderr.\n",
      "The command being run is below. This command cannot be manually re-run as it will depend on temporary files that no longer exist.\n",
      "\n",
      "Command:\n",
      "\n",
      "faithpd -i /var/folders/hd/67t7954n4_bd9_fw90jxq_l00000gp/T/qiime2/youngm/data/2d2d5ce3-3ece-484f-ab9a-dc23714d842d/data/feature-table.biom -t /var/folders/hd/67t7954n4_bd9_fw90jxq_l00000gp/T/qiime2/youngm/data/70bd8655-124d-40a5-8aad-e3798a44d3c3/data/tree.nwk -o /var/folders/hd/67t7954n4_bd9_fw90jxq_l00000gp/T/q2-AlphaDiversityFormat-6g5i779i\n",
      "\n"
     ]
    },
    {
     "name": "stderr",
     "output_type": "stream",
     "text": [
      "/Users/youngm/mambaforge/envs/qiime2/lib/python3.8/site-packages/q2_diversity/_alpha/_visualizer.py:245: FutureWarning: The default value of numeric_only in DataFrameGroupBy.median is deprecated. In a future version, numeric_only will default to False. Either specify numeric_only or select only columns which should be valid for the function.\n",
      "  median_ = grouped.median()\n",
      "/Users/youngm/mambaforge/envs/qiime2/lib/python3.8/site-packages/q2_diversity/_alpha/_visualizer.py:245: FutureWarning: The default value of numeric_only in DataFrameGroupBy.median is deprecated. In a future version, numeric_only will default to False. Either specify numeric_only or select only columns which should be valid for the function.\n",
      "  median_ = grouped.median()\n",
      "/Users/youngm/mambaforge/envs/qiime2/lib/python3.8/site-packages/q2_diversity/_alpha/_visualizer.py:245: FutureWarning: The default value of numeric_only in DataFrameGroupBy.median is deprecated. In a future version, numeric_only will default to False. Either specify numeric_only or select only columns which should be valid for the function.\n",
      "  median_ = grouped.median()\n",
      "/Users/youngm/mambaforge/envs/qiime2/lib/python3.8/site-packages/q2_diversity/_alpha/_visualizer.py:245: FutureWarning: The default value of numeric_only in DataFrameGroupBy.median is deprecated. In a future version, numeric_only will default to False. Either specify numeric_only or select only columns which should be valid for the function.\n",
      "  median_ = grouped.median()\n",
      "/Users/youngm/mambaforge/envs/qiime2/lib/python3.8/site-packages/q2_diversity/_alpha/_visualizer.py:245: FutureWarning: The default value of numeric_only in DataFrameGroupBy.median is deprecated. In a future version, numeric_only will default to False. Either specify numeric_only or select only columns which should be valid for the function.\n",
      "  median_ = grouped.median()\n",
      "/Users/youngm/mambaforge/envs/qiime2/lib/python3.8/site-packages/q2_diversity/_alpha/_visualizer.py:245: FutureWarning: The default value of numeric_only in DataFrameGroupBy.median is deprecated. In a future version, numeric_only will default to False. Either specify numeric_only or select only columns which should be valid for the function.\n",
      "  median_ = grouped.median()\n",
      "/Users/youngm/mambaforge/envs/qiime2/lib/python3.8/site-packages/q2_diversity/_alpha/_visualizer.py:245: FutureWarning: The default value of numeric_only in DataFrameGroupBy.median is deprecated. In a future version, numeric_only will default to False. Either specify numeric_only or select only columns which should be valid for the function.\n",
      "  median_ = grouped.median()\n",
      "/Users/youngm/mambaforge/envs/qiime2/lib/python3.8/site-packages/q2_diversity/_alpha/_visualizer.py:245: FutureWarning: The default value of numeric_only in DataFrameGroupBy.median is deprecated. In a future version, numeric_only will default to False. Either specify numeric_only or select only columns which should be valid for the function.\n",
      "  median_ = grouped.median()\n",
      "/Users/youngm/mambaforge/envs/qiime2/lib/python3.8/site-packages/q2_diversity/_alpha/_visualizer.py:245: FutureWarning: The default value of numeric_only in DataFrameGroupBy.median is deprecated. In a future version, numeric_only will default to False. Either specify numeric_only or select only columns which should be valid for the function.\n",
      "  median_ = grouped.median()\n",
      "/Users/youngm/mambaforge/envs/qiime2/lib/python3.8/site-packages/q2_diversity/_alpha/_visualizer.py:245: FutureWarning: The default value of numeric_only in DataFrameGroupBy.median is deprecated. In a future version, numeric_only will default to False. Either specify numeric_only or select only columns which should be valid for the function.\n",
      "  median_ = grouped.median()\n",
      "/Users/youngm/mambaforge/envs/qiime2/lib/python3.8/site-packages/q2_diversity/_alpha/_visualizer.py:245: FutureWarning: The default value of numeric_only in DataFrameGroupBy.median is deprecated. In a future version, numeric_only will default to False. Either specify numeric_only or select only columns which should be valid for the function.\n",
      "  median_ = grouped.median()\n",
      "/Users/youngm/mambaforge/envs/qiime2/lib/python3.8/site-packages/q2_diversity/_alpha/_visualizer.py:245: FutureWarning: The default value of numeric_only in DataFrameGroupBy.median is deprecated. In a future version, numeric_only will default to False. Either specify numeric_only or select only columns which should be valid for the function.\n",
      "  median_ = grouped.median()\n",
      "/Users/youngm/mambaforge/envs/qiime2/lib/python3.8/site-packages/q2_diversity/_alpha/_visualizer.py:245: FutureWarning: The default value of numeric_only in DataFrameGroupBy.median is deprecated. In a future version, numeric_only will default to False. Either specify numeric_only or select only columns which should be valid for the function.\n",
      "  median_ = grouped.median()\n",
      "/Users/youngm/mambaforge/envs/qiime2/lib/python3.8/site-packages/q2_diversity/_alpha/_visualizer.py:245: FutureWarning: The default value of numeric_only in DataFrameGroupBy.median is deprecated. In a future version, numeric_only will default to False. Either specify numeric_only or select only columns which should be valid for the function.\n",
      "  median_ = grouped.median()\n",
      "/Users/youngm/mambaforge/envs/qiime2/lib/python3.8/site-packages/q2_diversity/_alpha/_visualizer.py:245: FutureWarning: The default value of numeric_only in DataFrameGroupBy.median is deprecated. In a future version, numeric_only will default to False. Either specify numeric_only or select only columns which should be valid for the function.\n",
      "  median_ = grouped.median()\n",
      "/Users/youngm/mambaforge/envs/qiime2/lib/python3.8/site-packages/q2_diversity/_alpha/_visualizer.py:245: FutureWarning: The default value of numeric_only in DataFrameGroupBy.median is deprecated. In a future version, numeric_only will default to False. Either specify numeric_only or select only columns which should be valid for the function.\n",
      "  median_ = grouped.median()\n",
      "/Users/youngm/mambaforge/envs/qiime2/lib/python3.8/site-packages/q2_diversity/_alpha/_visualizer.py:245: FutureWarning: The default value of numeric_only in DataFrameGroupBy.median is deprecated. In a future version, numeric_only will default to False. Either specify numeric_only or select only columns which should be valid for the function.\n",
      "  median_ = grouped.median()\n",
      "/Users/youngm/mambaforge/envs/qiime2/lib/python3.8/site-packages/q2_diversity/_alpha/_visualizer.py:245: FutureWarning: The default value of numeric_only in DataFrameGroupBy.median is deprecated. In a future version, numeric_only will default to False. Either specify numeric_only or select only columns which should be valid for the function.\n",
      "  median_ = grouped.median()\n",
      "/Users/youngm/mambaforge/envs/qiime2/lib/python3.8/site-packages/q2_diversity/_alpha/_visualizer.py:245: FutureWarning: The default value of numeric_only in DataFrameGroupBy.median is deprecated. In a future version, numeric_only will default to False. Either specify numeric_only or select only columns which should be valid for the function.\n",
      "  median_ = grouped.median()\n",
      "/Users/youngm/mambaforge/envs/qiime2/lib/python3.8/site-packages/q2_diversity/_alpha/_visualizer.py:245: FutureWarning: The default value of numeric_only in DataFrameGroupBy.median is deprecated. In a future version, numeric_only will default to False. Either specify numeric_only or select only columns which should be valid for the function.\n",
      "  median_ = grouped.median()\n",
      "/Users/youngm/mambaforge/envs/qiime2/lib/python3.8/site-packages/q2_diversity/_alpha/_visualizer.py:245: FutureWarning: The default value of numeric_only in DataFrameGroupBy.median is deprecated. In a future version, numeric_only will default to False. Either specify numeric_only or select only columns which should be valid for the function.\n",
      "  median_ = grouped.median()\n",
      "/Users/youngm/mambaforge/envs/qiime2/lib/python3.8/site-packages/q2_diversity/_alpha/_visualizer.py:245: FutureWarning: The default value of numeric_only in DataFrameGroupBy.median is deprecated. In a future version, numeric_only will default to False. Either specify numeric_only or select only columns which should be valid for the function.\n",
      "  median_ = grouped.median()\n",
      "/Users/youngm/mambaforge/envs/qiime2/lib/python3.8/site-packages/q2_diversity/_alpha/_visualizer.py:245: FutureWarning: The default value of numeric_only in DataFrameGroupBy.median is deprecated. In a future version, numeric_only will default to False. Either specify numeric_only or select only columns which should be valid for the function.\n",
      "  median_ = grouped.median()\n",
      "/Users/youngm/mambaforge/envs/qiime2/lib/python3.8/site-packages/q2_diversity/_alpha/_visualizer.py:245: FutureWarning: The default value of numeric_only in DataFrameGroupBy.median is deprecated. In a future version, numeric_only will default to False. Either specify numeric_only or select only columns which should be valid for the function.\n",
      "  median_ = grouped.median()\n",
      "/Users/youngm/mambaforge/envs/qiime2/lib/python3.8/site-packages/q2_diversity/_alpha/_visualizer.py:245: FutureWarning: The default value of numeric_only in DataFrameGroupBy.median is deprecated. In a future version, numeric_only will default to False. Either specify numeric_only or select only columns which should be valid for the function.\n",
      "  median_ = grouped.median()\n",
      "/Users/youngm/mambaforge/envs/qiime2/lib/python3.8/site-packages/q2_diversity/_alpha/_visualizer.py:245: FutureWarning: The default value of numeric_only in DataFrameGroupBy.median is deprecated. In a future version, numeric_only will default to False. Either specify numeric_only or select only columns which should be valid for the function.\n",
      "  median_ = grouped.median()\n",
      "/Users/youngm/mambaforge/envs/qiime2/lib/python3.8/site-packages/q2_diversity/_alpha/_visualizer.py:245: FutureWarning: The default value of numeric_only in DataFrameGroupBy.median is deprecated. In a future version, numeric_only will default to False. Either specify numeric_only or select only columns which should be valid for the function.\n",
      "  median_ = grouped.median()\n",
      "/Users/youngm/mambaforge/envs/qiime2/lib/python3.8/site-packages/q2_diversity/_alpha/_visualizer.py:245: FutureWarning: The default value of numeric_only in DataFrameGroupBy.median is deprecated. In a future version, numeric_only will default to False. Either specify numeric_only or select only columns which should be valid for the function.\n",
      "  median_ = grouped.median()\n",
      "/Users/youngm/mambaforge/envs/qiime2/lib/python3.8/site-packages/q2_diversity/_alpha/_visualizer.py:245: FutureWarning: The default value of numeric_only in DataFrameGroupBy.median is deprecated. In a future version, numeric_only will default to False. Either specify numeric_only or select only columns which should be valid for the function.\n",
      "  median_ = grouped.median()\n",
      "/Users/youngm/mambaforge/envs/qiime2/lib/python3.8/site-packages/q2_diversity/_alpha/_visualizer.py:245: FutureWarning: The default value of numeric_only in DataFrameGroupBy.median is deprecated. In a future version, numeric_only will default to False. Either specify numeric_only or select only columns which should be valid for the function.\n",
      "  median_ = grouped.median()\n",
      "/Users/youngm/mambaforge/envs/qiime2/lib/python3.8/site-packages/q2_diversity/_alpha/_visualizer.py:245: FutureWarning: The default value of numeric_only in DataFrameGroupBy.median is deprecated. In a future version, numeric_only will default to False. Either specify numeric_only or select only columns which should be valid for the function.\n",
      "  median_ = grouped.median()\n",
      "/Users/youngm/mambaforge/envs/qiime2/lib/python3.8/site-packages/q2_diversity/_alpha/_visualizer.py:245: FutureWarning: The default value of numeric_only in DataFrameGroupBy.median is deprecated. In a future version, numeric_only will default to False. Either specify numeric_only or select only columns which should be valid for the function.\n",
      "  median_ = grouped.median()\n",
      "/Users/youngm/mambaforge/envs/qiime2/lib/python3.8/site-packages/q2_diversity/_alpha/_visualizer.py:245: FutureWarning: The default value of numeric_only in DataFrameGroupBy.median is deprecated. In a future version, numeric_only will default to False. Either specify numeric_only or select only columns which should be valid for the function.\n",
      "  median_ = grouped.median()\n",
      "/Users/youngm/mambaforge/envs/qiime2/lib/python3.8/site-packages/q2_diversity/_alpha/_visualizer.py:245: FutureWarning: The default value of numeric_only in DataFrameGroupBy.median is deprecated. In a future version, numeric_only will default to False. Either specify numeric_only or select only columns which should be valid for the function.\n",
      "  median_ = grouped.median()\n",
      "/Users/youngm/mambaforge/envs/qiime2/lib/python3.8/site-packages/q2_diversity/_alpha/_visualizer.py:245: FutureWarning: The default value of numeric_only in DataFrameGroupBy.median is deprecated. In a future version, numeric_only will default to False. Either specify numeric_only or select only columns which should be valid for the function.\n",
      "  median_ = grouped.median()\n",
      "/Users/youngm/mambaforge/envs/qiime2/lib/python3.8/site-packages/q2_diversity/_alpha/_visualizer.py:245: FutureWarning: The default value of numeric_only in DataFrameGroupBy.median is deprecated. In a future version, numeric_only will default to False. Either specify numeric_only or select only columns which should be valid for the function.\n",
      "  median_ = grouped.median()\n",
      "/Users/youngm/mambaforge/envs/qiime2/lib/python3.8/site-packages/q2_diversity/_alpha/_visualizer.py:245: FutureWarning: The default value of numeric_only in DataFrameGroupBy.median is deprecated. In a future version, numeric_only will default to False. Either specify numeric_only or select only columns which should be valid for the function.\n",
      "  median_ = grouped.median()\n",
      "/Users/youngm/mambaforge/envs/qiime2/lib/python3.8/site-packages/q2_diversity/_alpha/_visualizer.py:245: FutureWarning: The default value of numeric_only in DataFrameGroupBy.median is deprecated. In a future version, numeric_only will default to False. Either specify numeric_only or select only columns which should be valid for the function.\n",
      "  median_ = grouped.median()\n",
      "/Users/youngm/mambaforge/envs/qiime2/lib/python3.8/site-packages/q2_diversity/_alpha/_visualizer.py:245: FutureWarning: The default value of numeric_only in DataFrameGroupBy.median is deprecated. In a future version, numeric_only will default to False. Either specify numeric_only or select only columns which should be valid for the function.\n",
      "  median_ = grouped.median()\n",
      "/Users/youngm/mambaforge/envs/qiime2/lib/python3.8/site-packages/q2_diversity/_alpha/_visualizer.py:245: FutureWarning: The default value of numeric_only in DataFrameGroupBy.median is deprecated. In a future version, numeric_only will default to False. Either specify numeric_only or select only columns which should be valid for the function.\n",
      "  median_ = grouped.median()\n",
      "/Users/youngm/mambaforge/envs/qiime2/lib/python3.8/site-packages/q2_diversity/_alpha/_visualizer.py:245: FutureWarning: The default value of numeric_only in DataFrameGroupBy.median is deprecated. In a future version, numeric_only will default to False. Either specify numeric_only or select only columns which should be valid for the function.\n",
      "  median_ = grouped.median()\n",
      "/Users/youngm/mambaforge/envs/qiime2/lib/python3.8/site-packages/q2_diversity/_alpha/_visualizer.py:245: FutureWarning: The default value of numeric_only in DataFrameGroupBy.median is deprecated. In a future version, numeric_only will default to False. Either specify numeric_only or select only columns which should be valid for the function.\n",
      "  median_ = grouped.median()\n"
     ]
    }
   ],
   "source": [
    "rarefaction = diversity.actions.alpha_rarefaction(table = mt_99,\n",
    "                                                 max_depth = 15000,\n",
    "                                                 phylogeny = rooted_tree_99,\n",
    "                                                 metadata = bombusMeta)\n",
    "rarefaction.visualization.save(os.path.join(datapath, 'qiime/rarefaction.qzv'))\n",
    "rarefaction = Visualization.load(os.path.join(datapath, 'qiime/rarefaction.qzv'))"
   ]
  },
  {
   "cell_type": "markdown",
   "metadata": {},
   "source": [
    "**4k looks good**\n",
    "- shannon plateaus, total features still increases for a bit, but assuming that theyre fringe otus"
   ]
  },
  {
   "cell_type": "code",
   "execution_count": 3,
   "metadata": {},
   "outputs": [
    {
     "data": {
      "text/html": [
       "<div><img onload=\"(function(div, url){\n",
       "if (typeof require !== 'undefined') {\n",
       "    var baseURL = require.toUrl('').split('/').slice(0, -2).join('/');\n",
       "} else {\n",
       "    var baseURL = JSON.parse(\n",
       "        document.getElementById('jupyter-config-data').innerHTML\n",
       "    ).baseUrl.slice(0, -1);\n",
       "}\n",
       "url = baseURL + url;\n",
       "fetch(url).then(function(res) {\n",
       "    if (res.status === 404) {\n",
       "        div.innerHTML = 'Install QIIME 2 Jupyter extension with:<br />' +\n",
       "                        '<code>jupyter serverextension enable --py qiime2' +\n",
       "                        ' --sys-prefix</code><br />then restart your server.' +\n",
       "                        '<br /><br />(Interactive output not available on ' +\n",
       "                        'static notebook viewer services like nbviewer.)';\n",
       "    } else if (res.status === 409) {\n",
       "        div.innerHTML = 'Visualization no longer in scope. Re-run this cell' +\n",
       "                        ' to see the visualization.';\n",
       "    } else if (res.ok) {\n",
       "        url = res.url;\n",
       "        div.innerHTML = '<iframe src=\\'' + url + '\\' style=\\'' +\n",
       "                        'width: 100%; height: 700px; border: 0;\\'>' +\n",
       "                        '</iframe><hr />Open in a: <a href=\\'' + url + '\\'' +\n",
       "                        ' target=\\'_blank\\'>new window</a>'\n",
       "    } else {\n",
       "        div.innerHTML = 'Something has gone wrong. Check notebook server for' +\n",
       "                        ' errors.';\n",
       "    }\n",
       "});\n",
       "})(this.parentElement, '/qiime2/redirect?location=/var/folders/hd/67t7954n4_bd9_fw90jxq_l00000gp/T/qiime2/youngm/data/d72122ef-b975-4936-a397-fa2929ddb3da')\" src=\"data:image/gif;base64,R0lGODlhAQABAIAAAP///wAAACH5BAEAAAAALAAAAAABAAEAAAICRAEAOw==\" /></div>"
      ],
      "text/plain": [
       "<visualization: Visualization uuid: d72122ef-b975-4936-a397-fa2929ddb3da>"
      ]
     },
     "execution_count": 3,
     "metadata": {},
     "output_type": "execute_result"
    }
   ],
   "source": [
    "rarefaction"
   ]
  },
  {
   "cell_type": "code",
   "execution_count": 68,
   "metadata": {},
   "outputs": [],
   "source": [
    "mt_99_rare = feature_table.methods.rarefy(table = mt_99,\n",
    "                                          sampling_depth = 4000)"
   ]
  },
  {
   "cell_type": "code",
   "execution_count": 70,
   "metadata": {},
   "outputs": [
    {
     "data": {
      "text/plain": [
       "(631, 1514)"
      ]
     },
     "execution_count": 70,
     "metadata": {},
     "output_type": "execute_result"
    }
   ],
   "source": [
    "mt_99_rare.rarefied_table.view(pd.DataFrame).shape"
   ]
  },
  {
   "cell_type": "code",
   "execution_count": 71,
   "metadata": {},
   "outputs": [
    {
     "data": {
      "text/plain": [
       "(638, 2388)"
      ]
     },
     "execution_count": 71,
     "metadata": {},
     "output_type": "execute_result"
    }
   ],
   "source": [
    "mt_99.view(pd.DataFrame).shape"
   ]
  },
  {
   "cell_type": "code",
   "execution_count": 72,
   "metadata": {},
   "outputs": [
    {
     "data": {
      "text/plain": [
       "'../data/qiime/mt_99_rare.qza'"
      ]
     },
     "execution_count": 72,
     "metadata": {},
     "output_type": "execute_result"
    }
   ],
   "source": [
    "mt_99_rare.rarefied_table.save(os.path.join(datapath, 'qiime', 'mt_99_rare.qza'))"
   ]
  },
  {
   "cell_type": "markdown",
   "metadata": {},
   "source": [
    "## Create level-6 and level-3 taxonomy tables\n",
    "\n",
    "for genus and class-level DA testing later on"
   ]
  },
  {
   "cell_type": "code",
   "execution_count": 5,
   "metadata": {},
   "outputs": [],
   "source": [
    "mt_99 = Artifact.load(os.path.join(datapath, 'qiime', 'mt_99.qza'))\n",
    "taxa_99 = Artifact.load(os.path.join(datapath, 'qiime', 'taxonomy_99.qza'))\n"
   ]
  },
  {
   "cell_type": "code",
   "execution_count": 6,
   "metadata": {},
   "outputs": [
    {
     "data": {
      "text/plain": [
       "'../data/qiime/mt_99_c3.qza'"
      ]
     },
     "execution_count": 6,
     "metadata": {},
     "output_type": "execute_result"
    }
   ],
   "source": [
    "mt_99_c6 = collapse(mt_99, taxa_99, 6).collapsed_table\n",
    "mt_99_c6.save(os.path.join(datapath, 'qiime', 'mt_99_c6.qza'))\n",
    "\n",
    "mt_99_c3 = collapse(mt_99, taxa_99, 3).collapsed_table\n",
    "mt_99_c3.save(os.path.join(datapath, 'qiime', 'mt_99_c3.qza'))"
   ]
  }
 ],
 "metadata": {
  "kernelspec": {
   "display_name": "Python 3 (ipykernel)",
   "language": "python",
   "name": "python3"
  },
  "language_info": {
   "codemirror_mode": {
    "name": "ipython",
    "version": 3
   },
   "file_extension": ".py",
   "mimetype": "text/x-python",
   "name": "python",
   "nbconvert_exporter": "python",
   "pygments_lexer": "ipython3",
   "version": "3.8.17"
  },
  "toc": {
   "base_numbering": 1,
   "nav_menu": {},
   "number_sections": true,
   "sideBar": true,
   "skip_h1_title": false,
   "title_cell": "Table of Contents",
   "title_sidebar": "Contents",
   "toc_cell": true,
   "toc_position": {},
   "toc_section_display": true,
   "toc_window_display": false
  },
  "varInspector": {
   "cols": {
    "lenName": 16,
    "lenType": 16,
    "lenVar": 40
   },
   "kernels_config": {
    "python": {
     "delete_cmd_postfix": "",
     "delete_cmd_prefix": "del ",
     "library": "var_list.py",
     "varRefreshCmd": "print(var_dic_list())"
    },
    "r": {
     "delete_cmd_postfix": ") ",
     "delete_cmd_prefix": "rm(",
     "library": "var_list.r",
     "varRefreshCmd": "cat(var_dic_list()) "
    }
   },
   "types_to_exclude": [
    "module",
    "function",
    "builtin_function_or_method",
    "instance",
    "_Feature"
   ],
   "window_display": false
  }
 },
 "nbformat": 4,
 "nbformat_minor": 4
}
